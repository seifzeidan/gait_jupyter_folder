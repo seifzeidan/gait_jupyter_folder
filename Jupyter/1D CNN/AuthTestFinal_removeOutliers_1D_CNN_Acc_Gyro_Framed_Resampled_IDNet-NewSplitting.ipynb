{
 "cells": [
  {
   "cell_type": "code",
   "execution_count": 1,
   "id": "44faa98a",
   "metadata": {},
   "outputs": [
    {
     "name": "stdout",
     "output_type": "stream",
     "text": [
      "2.12.0\n"
     ]
    }
   ],
   "source": [
    "import tensorflow as tf\n",
    "from tensorflow.keras import Sequential\n",
    "from tensorflow.keras.layers import Flatten, Dense, Dropout, BatchNormalization\n",
    "from tensorflow.keras.layers import Conv1D, MaxPooling1D\n",
    "from tensorflow.keras.optimizers import Adam\n",
    "print(tf.__version__)"
   ]
  },
  {
   "cell_type": "code",
   "execution_count": 2,
   "id": "1c3f367f",
   "metadata": {},
   "outputs": [],
   "source": [
    "import pandas as pd\n",
    "import numpy as np\n",
    "import os\n",
    "import math\n",
    "import matplotlib.pyplot as plt\n",
    "from sklearn.model_selection import train_test_split\n",
    "from sklearn.preprocessing import StandardScaler, LabelEncoder"
   ]
  },
  {
   "cell_type": "code",
   "execution_count": 3,
   "id": "ae91323c",
   "metadata": {},
   "outputs": [],
   "source": [
    "from sklearn.svm import OneClassSVM"
   ]
  },
  {
   "cell_type": "code",
   "execution_count": 4,
   "id": "9e899298",
   "metadata": {},
   "outputs": [],
   "source": [
    "# filepath = \"merged_u1-50_w001_resampled.csv\"\n",
    "filepath = \"D:/online dataset csv files preprocessing/merged_u1-50_w001_resampled.csv\"\n",
    "\n",
    "df_original = pd.read_csv(filepath)"
   ]
  },
  {
   "cell_type": "code",
   "execution_count": 5,
   "id": "bcd5954e",
   "metadata": {},
   "outputs": [
    {
     "data": {
      "text/html": [
       "<div>\n",
       "<style scoped>\n",
       "    .dataframe tbody tr th:only-of-type {\n",
       "        vertical-align: middle;\n",
       "    }\n",
       "\n",
       "    .dataframe tbody tr th {\n",
       "        vertical-align: top;\n",
       "    }\n",
       "\n",
       "    .dataframe thead th {\n",
       "        text-align: right;\n",
       "    }\n",
       "</style>\n",
       "<table border=\"1\" class=\"dataframe\">\n",
       "  <thead>\n",
       "    <tr style=\"text-align: right;\">\n",
       "      <th></th>\n",
       "      <th>timestamp</th>\n",
       "      <th>LAx</th>\n",
       "      <th>LAy</th>\n",
       "      <th>LAz</th>\n",
       "      <th>GYx</th>\n",
       "      <th>GYy</th>\n",
       "      <th>GYz</th>\n",
       "      <th>name</th>\n",
       "    </tr>\n",
       "  </thead>\n",
       "  <tbody>\n",
       "    <tr>\n",
       "      <th>0</th>\n",
       "      <td>924313410000000</td>\n",
       "      <td>1.242813</td>\n",
       "      <td>-0.160181</td>\n",
       "      <td>-0.900440</td>\n",
       "      <td>0.194931</td>\n",
       "      <td>-0.004242</td>\n",
       "      <td>0.163818</td>\n",
       "      <td>1</td>\n",
       "    </tr>\n",
       "    <tr>\n",
       "      <th>1</th>\n",
       "      <td>924313420000000</td>\n",
       "      <td>1.117246</td>\n",
       "      <td>-0.187921</td>\n",
       "      <td>-1.529893</td>\n",
       "      <td>0.236458</td>\n",
       "      <td>0.076378</td>\n",
       "      <td>0.133293</td>\n",
       "      <td>1</td>\n",
       "    </tr>\n",
       "    <tr>\n",
       "      <th>2</th>\n",
       "      <td>924313430000000</td>\n",
       "      <td>0.912846</td>\n",
       "      <td>-0.192566</td>\n",
       "      <td>-1.570929</td>\n",
       "      <td>0.226074</td>\n",
       "      <td>0.012253</td>\n",
       "      <td>0.108246</td>\n",
       "      <td>1</td>\n",
       "    </tr>\n",
       "    <tr>\n",
       "      <th>3</th>\n",
       "      <td>924313440000000</td>\n",
       "      <td>0.874858</td>\n",
       "      <td>-0.227208</td>\n",
       "      <td>-1.453511</td>\n",
       "      <td>0.139336</td>\n",
       "      <td>-0.050667</td>\n",
       "      <td>0.085030</td>\n",
       "      <td>1</td>\n",
       "    </tr>\n",
       "    <tr>\n",
       "      <th>4</th>\n",
       "      <td>924313450000000</td>\n",
       "      <td>0.834022</td>\n",
       "      <td>-0.282976</td>\n",
       "      <td>-1.292671</td>\n",
       "      <td>-0.013374</td>\n",
       "      <td>-0.109314</td>\n",
       "      <td>0.078308</td>\n",
       "      <td>1</td>\n",
       "    </tr>\n",
       "    <tr>\n",
       "      <th>...</th>\n",
       "      <td>...</td>\n",
       "      <td>...</td>\n",
       "      <td>...</td>\n",
       "      <td>...</td>\n",
       "      <td>...</td>\n",
       "      <td>...</td>\n",
       "      <td>...</td>\n",
       "      <td>...</td>\n",
       "    </tr>\n",
       "    <tr>\n",
       "      <th>2055043</th>\n",
       "      <td>1368327120000000</td>\n",
       "      <td>-9.502644</td>\n",
       "      <td>-7.178468</td>\n",
       "      <td>4.246279</td>\n",
       "      <td>-2.834417</td>\n",
       "      <td>-0.120428</td>\n",
       "      <td>-0.987857</td>\n",
       "      <td>50</td>\n",
       "    </tr>\n",
       "    <tr>\n",
       "      <th>2055044</th>\n",
       "      <td>1368327130000000</td>\n",
       "      <td>-9.443804</td>\n",
       "      <td>-7.698220</td>\n",
       "      <td>3.059675</td>\n",
       "      <td>-2.638940</td>\n",
       "      <td>0.561997</td>\n",
       "      <td>-0.947715</td>\n",
       "      <td>50</td>\n",
       "    </tr>\n",
       "    <tr>\n",
       "      <th>2055045</th>\n",
       "      <td>1368327140000000</td>\n",
       "      <td>-8.345459</td>\n",
       "      <td>-6.805815</td>\n",
       "      <td>1.853457</td>\n",
       "      <td>-2.483606</td>\n",
       "      <td>1.225222</td>\n",
       "      <td>-0.954696</td>\n",
       "      <td>50</td>\n",
       "    </tr>\n",
       "    <tr>\n",
       "      <th>2055046</th>\n",
       "      <td>1368327150000000</td>\n",
       "      <td>-7.580540</td>\n",
       "      <td>-5.629017</td>\n",
       "      <td>1.559257</td>\n",
       "      <td>-2.429500</td>\n",
       "      <td>1.769765</td>\n",
       "      <td>-1.003565</td>\n",
       "      <td>50</td>\n",
       "    </tr>\n",
       "    <tr>\n",
       "      <th>2055047</th>\n",
       "      <td>1368327160000000</td>\n",
       "      <td>-6.952915</td>\n",
       "      <td>-4.589512</td>\n",
       "      <td>1.755390</td>\n",
       "      <td>-2.426010</td>\n",
       "      <td>2.099633</td>\n",
       "      <td>-0.980876</td>\n",
       "      <td>50</td>\n",
       "    </tr>\n",
       "  </tbody>\n",
       "</table>\n",
       "<p>2055048 rows × 8 columns</p>\n",
       "</div>"
      ],
      "text/plain": [
       "                timestamp       LAx       LAy       LAz       GYx       GYy  \\\n",
       "0         924313410000000  1.242813 -0.160181 -0.900440  0.194931 -0.004242   \n",
       "1         924313420000000  1.117246 -0.187921 -1.529893  0.236458  0.076378   \n",
       "2         924313430000000  0.912846 -0.192566 -1.570929  0.226074  0.012253   \n",
       "3         924313440000000  0.874858 -0.227208 -1.453511  0.139336 -0.050667   \n",
       "4         924313450000000  0.834022 -0.282976 -1.292671 -0.013374 -0.109314   \n",
       "...                   ...       ...       ...       ...       ...       ...   \n",
       "2055043  1368327120000000 -9.502644 -7.178468  4.246279 -2.834417 -0.120428   \n",
       "2055044  1368327130000000 -9.443804 -7.698220  3.059675 -2.638940  0.561997   \n",
       "2055045  1368327140000000 -8.345459 -6.805815  1.853457 -2.483606  1.225222   \n",
       "2055046  1368327150000000 -7.580540 -5.629017  1.559257 -2.429500  1.769765   \n",
       "2055047  1368327160000000 -6.952915 -4.589512  1.755390 -2.426010  2.099633   \n",
       "\n",
       "              GYz  name  \n",
       "0        0.163818     1  \n",
       "1        0.133293     1  \n",
       "2        0.108246     1  \n",
       "3        0.085030     1  \n",
       "4        0.078308     1  \n",
       "...           ...   ...  \n",
       "2055043 -0.987857    50  \n",
       "2055044 -0.947715    50  \n",
       "2055045 -0.954696    50  \n",
       "2055046 -1.003565    50  \n",
       "2055047 -0.980876    50  \n",
       "\n",
       "[2055048 rows x 8 columns]"
      ]
     },
     "execution_count": 5,
     "metadata": {},
     "output_type": "execute_result"
    }
   ],
   "source": [
    "df_original"
   ]
  },
  {
   "cell_type": "code",
   "execution_count": 6,
   "id": "1a2e9931",
   "metadata": {},
   "outputs": [
    {
     "data": {
      "text/html": [
       "<div>\n",
       "<style scoped>\n",
       "    .dataframe tbody tr th:only-of-type {\n",
       "        vertical-align: middle;\n",
       "    }\n",
       "\n",
       "    .dataframe tbody tr th {\n",
       "        vertical-align: top;\n",
       "    }\n",
       "\n",
       "    .dataframe thead th {\n",
       "        text-align: right;\n",
       "    }\n",
       "</style>\n",
       "<table border=\"1\" class=\"dataframe\">\n",
       "  <thead>\n",
       "    <tr style=\"text-align: right;\">\n",
       "      <th></th>\n",
       "      <th>timestamp</th>\n",
       "      <th>LAx</th>\n",
       "      <th>LAy</th>\n",
       "      <th>LAz</th>\n",
       "      <th>GYx</th>\n",
       "      <th>GYy</th>\n",
       "      <th>GYz</th>\n",
       "      <th>name</th>\n",
       "    </tr>\n",
       "  </thead>\n",
       "  <tbody>\n",
       "    <tr>\n",
       "      <th>0</th>\n",
       "      <td>924313410000000</td>\n",
       "      <td>1.242813</td>\n",
       "      <td>-0.160181</td>\n",
       "      <td>-0.900440</td>\n",
       "      <td>0.194931</td>\n",
       "      <td>-0.004242</td>\n",
       "      <td>0.163818</td>\n",
       "      <td>1</td>\n",
       "    </tr>\n",
       "    <tr>\n",
       "      <th>1</th>\n",
       "      <td>924313420000000</td>\n",
       "      <td>1.117246</td>\n",
       "      <td>-0.187921</td>\n",
       "      <td>-1.529893</td>\n",
       "      <td>0.236458</td>\n",
       "      <td>0.076378</td>\n",
       "      <td>0.133293</td>\n",
       "      <td>1</td>\n",
       "    </tr>\n",
       "    <tr>\n",
       "      <th>2</th>\n",
       "      <td>924313430000000</td>\n",
       "      <td>0.912846</td>\n",
       "      <td>-0.192566</td>\n",
       "      <td>-1.570929</td>\n",
       "      <td>0.226074</td>\n",
       "      <td>0.012253</td>\n",
       "      <td>0.108246</td>\n",
       "      <td>1</td>\n",
       "    </tr>\n",
       "    <tr>\n",
       "      <th>3</th>\n",
       "      <td>924313440000000</td>\n",
       "      <td>0.874858</td>\n",
       "      <td>-0.227208</td>\n",
       "      <td>-1.453511</td>\n",
       "      <td>0.139336</td>\n",
       "      <td>-0.050667</td>\n",
       "      <td>0.085030</td>\n",
       "      <td>1</td>\n",
       "    </tr>\n",
       "    <tr>\n",
       "      <th>4</th>\n",
       "      <td>924313450000000</td>\n",
       "      <td>0.834022</td>\n",
       "      <td>-0.282976</td>\n",
       "      <td>-1.292671</td>\n",
       "      <td>-0.013374</td>\n",
       "      <td>-0.109314</td>\n",
       "      <td>0.078308</td>\n",
       "      <td>1</td>\n",
       "    </tr>\n",
       "    <tr>\n",
       "      <th>...</th>\n",
       "      <td>...</td>\n",
       "      <td>...</td>\n",
       "      <td>...</td>\n",
       "      <td>...</td>\n",
       "      <td>...</td>\n",
       "      <td>...</td>\n",
       "      <td>...</td>\n",
       "      <td>...</td>\n",
       "    </tr>\n",
       "    <tr>\n",
       "      <th>2055043</th>\n",
       "      <td>1368327120000000</td>\n",
       "      <td>-9.502644</td>\n",
       "      <td>-7.178468</td>\n",
       "      <td>4.246279</td>\n",
       "      <td>-2.834417</td>\n",
       "      <td>-0.120428</td>\n",
       "      <td>-0.987857</td>\n",
       "      <td>50</td>\n",
       "    </tr>\n",
       "    <tr>\n",
       "      <th>2055044</th>\n",
       "      <td>1368327130000000</td>\n",
       "      <td>-9.443804</td>\n",
       "      <td>-7.698220</td>\n",
       "      <td>3.059675</td>\n",
       "      <td>-2.638940</td>\n",
       "      <td>0.561997</td>\n",
       "      <td>-0.947715</td>\n",
       "      <td>50</td>\n",
       "    </tr>\n",
       "    <tr>\n",
       "      <th>2055045</th>\n",
       "      <td>1368327140000000</td>\n",
       "      <td>-8.345459</td>\n",
       "      <td>-6.805815</td>\n",
       "      <td>1.853457</td>\n",
       "      <td>-2.483606</td>\n",
       "      <td>1.225222</td>\n",
       "      <td>-0.954696</td>\n",
       "      <td>50</td>\n",
       "    </tr>\n",
       "    <tr>\n",
       "      <th>2055046</th>\n",
       "      <td>1368327150000000</td>\n",
       "      <td>-7.580540</td>\n",
       "      <td>-5.629017</td>\n",
       "      <td>1.559257</td>\n",
       "      <td>-2.429500</td>\n",
       "      <td>1.769765</td>\n",
       "      <td>-1.003565</td>\n",
       "      <td>50</td>\n",
       "    </tr>\n",
       "    <tr>\n",
       "      <th>2055047</th>\n",
       "      <td>1368327160000000</td>\n",
       "      <td>-6.952915</td>\n",
       "      <td>-4.589512</td>\n",
       "      <td>1.755390</td>\n",
       "      <td>-2.426010</td>\n",
       "      <td>2.099633</td>\n",
       "      <td>-0.980876</td>\n",
       "      <td>50</td>\n",
       "    </tr>\n",
       "  </tbody>\n",
       "</table>\n",
       "<p>1875205 rows × 8 columns</p>\n",
       "</div>"
      ],
      "text/plain": [
       "                timestamp       LAx       LAy       LAz       GYx       GYy  \\\n",
       "0         924313410000000  1.242813 -0.160181 -0.900440  0.194931 -0.004242   \n",
       "1         924313420000000  1.117246 -0.187921 -1.529893  0.236458  0.076378   \n",
       "2         924313430000000  0.912846 -0.192566 -1.570929  0.226074  0.012253   \n",
       "3         924313440000000  0.874858 -0.227208 -1.453511  0.139336 -0.050667   \n",
       "4         924313450000000  0.834022 -0.282976 -1.292671 -0.013374 -0.109314   \n",
       "...                   ...       ...       ...       ...       ...       ...   \n",
       "2055043  1368327120000000 -9.502644 -7.178468  4.246279 -2.834417 -0.120428   \n",
       "2055044  1368327130000000 -9.443804 -7.698220  3.059675 -2.638940  0.561997   \n",
       "2055045  1368327140000000 -8.345459 -6.805815  1.853457 -2.483606  1.225222   \n",
       "2055046  1368327150000000 -7.580540 -5.629017  1.559257 -2.429500  1.769765   \n",
       "2055047  1368327160000000 -6.952915 -4.589512  1.755390 -2.426010  2.099633   \n",
       "\n",
       "              GYz  name  \n",
       "0        0.163818     1  \n",
       "1        0.133293     1  \n",
       "2        0.108246     1  \n",
       "3        0.085030     1  \n",
       "4        0.078308     1  \n",
       "...           ...   ...  \n",
       "2055043 -0.987857    50  \n",
       "2055044 -0.947715    50  \n",
       "2055045 -0.954696    50  \n",
       "2055046 -1.003565    50  \n",
       "2055047 -0.980876    50  \n",
       "\n",
       "[1875205 rows x 8 columns]"
      ]
     },
     "execution_count": 6,
     "metadata": {},
     "output_type": "execute_result"
    }
   ],
   "source": [
    "drop_values = [6, 31, 33, 42]\n",
    "\n",
    "# Drop rows based on conditions in the \"name\" column\n",
    "df_original = df_original[~df_original['name'].isin(drop_values)]\n",
    "df_original"
   ]
  },
  {
   "cell_type": "code",
   "execution_count": 7,
   "id": "d4417b87",
   "metadata": {},
   "outputs": [
    {
     "name": "stderr",
     "output_type": "stream",
     "text": [
      "C:\\Users\\szizo\\AppData\\Local\\Temp\\ipykernel_25756\\1130618396.py:2: SettingWithCopyWarning: \n",
      "A value is trying to be set on a copy of a slice from a DataFrame.\n",
      "Try using .loc[row_indexer,col_indexer] = value instead\n",
      "\n",
      "See the caveats in the documentation: https://pandas.pydata.org/pandas-docs/stable/user_guide/indexing.html#returning-a-view-versus-a-copy\n",
      "  df_original['name'] = label.fit_transform(df_original['name']).copy()\n"
     ]
    },
    {
     "data": {
      "text/html": [
       "<div>\n",
       "<style scoped>\n",
       "    .dataframe tbody tr th:only-of-type {\n",
       "        vertical-align: middle;\n",
       "    }\n",
       "\n",
       "    .dataframe tbody tr th {\n",
       "        vertical-align: top;\n",
       "    }\n",
       "\n",
       "    .dataframe thead th {\n",
       "        text-align: right;\n",
       "    }\n",
       "</style>\n",
       "<table border=\"1\" class=\"dataframe\">\n",
       "  <thead>\n",
       "    <tr style=\"text-align: right;\">\n",
       "      <th></th>\n",
       "      <th>timestamp</th>\n",
       "      <th>LAx</th>\n",
       "      <th>LAy</th>\n",
       "      <th>LAz</th>\n",
       "      <th>GYx</th>\n",
       "      <th>GYy</th>\n",
       "      <th>GYz</th>\n",
       "      <th>name</th>\n",
       "    </tr>\n",
       "  </thead>\n",
       "  <tbody>\n",
       "    <tr>\n",
       "      <th>0</th>\n",
       "      <td>924313410000000</td>\n",
       "      <td>1.242813</td>\n",
       "      <td>-0.160181</td>\n",
       "      <td>-0.900440</td>\n",
       "      <td>0.194931</td>\n",
       "      <td>-0.004242</td>\n",
       "      <td>0.163818</td>\n",
       "      <td>0</td>\n",
       "    </tr>\n",
       "    <tr>\n",
       "      <th>1</th>\n",
       "      <td>924313420000000</td>\n",
       "      <td>1.117246</td>\n",
       "      <td>-0.187921</td>\n",
       "      <td>-1.529893</td>\n",
       "      <td>0.236458</td>\n",
       "      <td>0.076378</td>\n",
       "      <td>0.133293</td>\n",
       "      <td>0</td>\n",
       "    </tr>\n",
       "    <tr>\n",
       "      <th>2</th>\n",
       "      <td>924313430000000</td>\n",
       "      <td>0.912846</td>\n",
       "      <td>-0.192566</td>\n",
       "      <td>-1.570929</td>\n",
       "      <td>0.226074</td>\n",
       "      <td>0.012253</td>\n",
       "      <td>0.108246</td>\n",
       "      <td>0</td>\n",
       "    </tr>\n",
       "    <tr>\n",
       "      <th>3</th>\n",
       "      <td>924313440000000</td>\n",
       "      <td>0.874858</td>\n",
       "      <td>-0.227208</td>\n",
       "      <td>-1.453511</td>\n",
       "      <td>0.139336</td>\n",
       "      <td>-0.050667</td>\n",
       "      <td>0.085030</td>\n",
       "      <td>0</td>\n",
       "    </tr>\n",
       "    <tr>\n",
       "      <th>4</th>\n",
       "      <td>924313450000000</td>\n",
       "      <td>0.834022</td>\n",
       "      <td>-0.282976</td>\n",
       "      <td>-1.292671</td>\n",
       "      <td>-0.013374</td>\n",
       "      <td>-0.109314</td>\n",
       "      <td>0.078308</td>\n",
       "      <td>0</td>\n",
       "    </tr>\n",
       "    <tr>\n",
       "      <th>...</th>\n",
       "      <td>...</td>\n",
       "      <td>...</td>\n",
       "      <td>...</td>\n",
       "      <td>...</td>\n",
       "      <td>...</td>\n",
       "      <td>...</td>\n",
       "      <td>...</td>\n",
       "      <td>...</td>\n",
       "    </tr>\n",
       "    <tr>\n",
       "      <th>2055043</th>\n",
       "      <td>1368327120000000</td>\n",
       "      <td>-9.502644</td>\n",
       "      <td>-7.178468</td>\n",
       "      <td>4.246279</td>\n",
       "      <td>-2.834417</td>\n",
       "      <td>-0.120428</td>\n",
       "      <td>-0.987857</td>\n",
       "      <td>45</td>\n",
       "    </tr>\n",
       "    <tr>\n",
       "      <th>2055044</th>\n",
       "      <td>1368327130000000</td>\n",
       "      <td>-9.443804</td>\n",
       "      <td>-7.698220</td>\n",
       "      <td>3.059675</td>\n",
       "      <td>-2.638940</td>\n",
       "      <td>0.561997</td>\n",
       "      <td>-0.947715</td>\n",
       "      <td>45</td>\n",
       "    </tr>\n",
       "    <tr>\n",
       "      <th>2055045</th>\n",
       "      <td>1368327140000000</td>\n",
       "      <td>-8.345459</td>\n",
       "      <td>-6.805815</td>\n",
       "      <td>1.853457</td>\n",
       "      <td>-2.483606</td>\n",
       "      <td>1.225222</td>\n",
       "      <td>-0.954696</td>\n",
       "      <td>45</td>\n",
       "    </tr>\n",
       "    <tr>\n",
       "      <th>2055046</th>\n",
       "      <td>1368327150000000</td>\n",
       "      <td>-7.580540</td>\n",
       "      <td>-5.629017</td>\n",
       "      <td>1.559257</td>\n",
       "      <td>-2.429500</td>\n",
       "      <td>1.769765</td>\n",
       "      <td>-1.003565</td>\n",
       "      <td>45</td>\n",
       "    </tr>\n",
       "    <tr>\n",
       "      <th>2055047</th>\n",
       "      <td>1368327160000000</td>\n",
       "      <td>-6.952915</td>\n",
       "      <td>-4.589512</td>\n",
       "      <td>1.755390</td>\n",
       "      <td>-2.426010</td>\n",
       "      <td>2.099633</td>\n",
       "      <td>-0.980876</td>\n",
       "      <td>45</td>\n",
       "    </tr>\n",
       "  </tbody>\n",
       "</table>\n",
       "<p>1875205 rows × 8 columns</p>\n",
       "</div>"
      ],
      "text/plain": [
       "                timestamp       LAx       LAy       LAz       GYx       GYy  \\\n",
       "0         924313410000000  1.242813 -0.160181 -0.900440  0.194931 -0.004242   \n",
       "1         924313420000000  1.117246 -0.187921 -1.529893  0.236458  0.076378   \n",
       "2         924313430000000  0.912846 -0.192566 -1.570929  0.226074  0.012253   \n",
       "3         924313440000000  0.874858 -0.227208 -1.453511  0.139336 -0.050667   \n",
       "4         924313450000000  0.834022 -0.282976 -1.292671 -0.013374 -0.109314   \n",
       "...                   ...       ...       ...       ...       ...       ...   \n",
       "2055043  1368327120000000 -9.502644 -7.178468  4.246279 -2.834417 -0.120428   \n",
       "2055044  1368327130000000 -9.443804 -7.698220  3.059675 -2.638940  0.561997   \n",
       "2055045  1368327140000000 -8.345459 -6.805815  1.853457 -2.483606  1.225222   \n",
       "2055046  1368327150000000 -7.580540 -5.629017  1.559257 -2.429500  1.769765   \n",
       "2055047  1368327160000000 -6.952915 -4.589512  1.755390 -2.426010  2.099633   \n",
       "\n",
       "              GYz  name  \n",
       "0        0.163818     0  \n",
       "1        0.133293     0  \n",
       "2        0.108246     0  \n",
       "3        0.085030     0  \n",
       "4        0.078308     0  \n",
       "...           ...   ...  \n",
       "2055043 -0.987857    45  \n",
       "2055044 -0.947715    45  \n",
       "2055045 -0.954696    45  \n",
       "2055046 -1.003565    45  \n",
       "2055047 -0.980876    45  \n",
       "\n",
       "[1875205 rows x 8 columns]"
      ]
     },
     "execution_count": 7,
     "metadata": {},
     "output_type": "execute_result"
    }
   ],
   "source": [
    "label = LabelEncoder()\n",
    "df_original['name'] = label.fit_transform(df_original['name']).copy()\n",
    "df_original"
   ]
  },
  {
   "cell_type": "code",
   "execution_count": 8,
   "id": "e8304b53",
   "metadata": {},
   "outputs": [
    {
     "data": {
      "text/plain": [
       "46"
      ]
     },
     "execution_count": 8,
     "metadata": {},
     "output_type": "execute_result"
    }
   ],
   "source": [
    "num_classes_both = df_original['name'].nunique()\n",
    "num_classes_both"
   ]
  },
  {
   "cell_type": "code",
   "execution_count": 9,
   "id": "44374d55",
   "metadata": {
    "scrolled": false
   },
   "outputs": [
    {
     "data": {
      "text/plain": [
       "timestamp    0\n",
       "LAx          0\n",
       "LAy          0\n",
       "LAz          0\n",
       "GYx          0\n",
       "GYy          0\n",
       "GYz          0\n",
       "name         0\n",
       "dtype: int64"
      ]
     },
     "execution_count": 9,
     "metadata": {},
     "output_type": "execute_result"
    }
   ],
   "source": [
    "df_original.isnull().sum()"
   ]
  },
  {
   "cell_type": "code",
   "execution_count": 10,
   "id": "eda07b86",
   "metadata": {},
   "outputs": [
    {
     "name": "stdout",
     "output_type": "stream",
     "text": [
      "<class 'pandas.core.frame.DataFrame'>\n",
      "Int64Index: 1875205 entries, 0 to 2055047\n",
      "Data columns (total 8 columns):\n",
      " #   Column     Dtype  \n",
      "---  ------     -----  \n",
      " 0   timestamp  int64  \n",
      " 1   LAx        float64\n",
      " 2   LAy        float64\n",
      " 3   LAz        float64\n",
      " 4   GYx        float64\n",
      " 5   GYy        float64\n",
      " 6   GYz        float64\n",
      " 7   name       int64  \n",
      "dtypes: float64(6), int64(2)\n",
      "memory usage: 128.8 MB\n"
     ]
    }
   ],
   "source": [
    "df_original.info()"
   ]
  },
  {
   "cell_type": "code",
   "execution_count": 11,
   "id": "54b2a1e4",
   "metadata": {},
   "outputs": [
    {
     "data": {
      "text/plain": [
       "16    82714\n",
       "42    65984\n",
       "27    60052\n",
       "6     60036\n",
       "7     59986\n",
       "11    59984\n",
       "37    59984\n",
       "2     59958\n",
       "35    59958\n",
       "33    55050\n",
       "29    52339\n",
       "10    51686\n",
       "1     48001\n",
       "5     47947\n",
       "9     47946\n",
       "30    47824\n",
       "44    47614\n",
       "36    41946\n",
       "17    41946\n",
       "31    41945\n",
       "25    41535\n",
       "28    40959\n",
       "22    35980\n",
       "14    35974\n",
       "18    35948\n",
       "26    35947\n",
       "3     35946\n",
       "21    34545\n",
       "34    32186\n",
       "39    31414\n",
       "38    30100\n",
       "15    29997\n",
       "43    29990\n",
       "45    29988\n",
       "12    29950\n",
       "41    29945\n",
       "8     28892\n",
       "0     26790\n",
       "40    26022\n",
       "23    25926\n",
       "4     25792\n",
       "20    25598\n",
       "32    25173\n",
       "24    23949\n",
       "13    17985\n",
       "19    15774\n",
       "Name: name, dtype: int64"
      ]
     },
     "execution_count": 11,
     "metadata": {},
     "output_type": "execute_result"
    }
   ],
   "source": [
    "df_original['name'].value_counts()"
   ]
  },
  {
   "cell_type": "code",
   "execution_count": 12,
   "id": "bdac5aae",
   "metadata": {},
   "outputs": [
    {
     "data": {
      "text/plain": [
       "(1875205, 7)"
      ]
     },
     "execution_count": 12,
     "metadata": {},
     "output_type": "execute_result"
    }
   ],
   "source": [
    "df_Xtime = df_original.copy()\n",
    "df_Xtime = df_Xtime.drop(['timestamp'], axis = 1).copy()\n",
    "df_Xtime.shape"
   ]
  },
  {
   "cell_type": "code",
   "execution_count": 13,
   "id": "aca50c9c",
   "metadata": {},
   "outputs": [
    {
     "data": {
      "text/html": [
       "<div>\n",
       "<style scoped>\n",
       "    .dataframe tbody tr th:only-of-type {\n",
       "        vertical-align: middle;\n",
       "    }\n",
       "\n",
       "    .dataframe tbody tr th {\n",
       "        vertical-align: top;\n",
       "    }\n",
       "\n",
       "    .dataframe thead th {\n",
       "        text-align: right;\n",
       "    }\n",
       "</style>\n",
       "<table border=\"1\" class=\"dataframe\">\n",
       "  <thead>\n",
       "    <tr style=\"text-align: right;\">\n",
       "      <th></th>\n",
       "      <th>LAx</th>\n",
       "      <th>LAy</th>\n",
       "      <th>LAz</th>\n",
       "      <th>GYx</th>\n",
       "      <th>GYy</th>\n",
       "      <th>GYz</th>\n",
       "      <th>name</th>\n",
       "    </tr>\n",
       "  </thead>\n",
       "  <tbody>\n",
       "    <tr>\n",
       "      <th>0</th>\n",
       "      <td>1.242813</td>\n",
       "      <td>-0.160181</td>\n",
       "      <td>-0.900440</td>\n",
       "      <td>0.194931</td>\n",
       "      <td>-0.004242</td>\n",
       "      <td>0.163818</td>\n",
       "      <td>0</td>\n",
       "    </tr>\n",
       "    <tr>\n",
       "      <th>1</th>\n",
       "      <td>1.117246</td>\n",
       "      <td>-0.187921</td>\n",
       "      <td>-1.529893</td>\n",
       "      <td>0.236458</td>\n",
       "      <td>0.076378</td>\n",
       "      <td>0.133293</td>\n",
       "      <td>0</td>\n",
       "    </tr>\n",
       "    <tr>\n",
       "      <th>2</th>\n",
       "      <td>0.912846</td>\n",
       "      <td>-0.192566</td>\n",
       "      <td>-1.570929</td>\n",
       "      <td>0.226074</td>\n",
       "      <td>0.012253</td>\n",
       "      <td>0.108246</td>\n",
       "      <td>0</td>\n",
       "    </tr>\n",
       "    <tr>\n",
       "      <th>3</th>\n",
       "      <td>0.874858</td>\n",
       "      <td>-0.227208</td>\n",
       "      <td>-1.453511</td>\n",
       "      <td>0.139336</td>\n",
       "      <td>-0.050667</td>\n",
       "      <td>0.085030</td>\n",
       "      <td>0</td>\n",
       "    </tr>\n",
       "    <tr>\n",
       "      <th>4</th>\n",
       "      <td>0.834022</td>\n",
       "      <td>-0.282976</td>\n",
       "      <td>-1.292671</td>\n",
       "      <td>-0.013374</td>\n",
       "      <td>-0.109314</td>\n",
       "      <td>0.078308</td>\n",
       "      <td>0</td>\n",
       "    </tr>\n",
       "    <tr>\n",
       "      <th>...</th>\n",
       "      <td>...</td>\n",
       "      <td>...</td>\n",
       "      <td>...</td>\n",
       "      <td>...</td>\n",
       "      <td>...</td>\n",
       "      <td>...</td>\n",
       "      <td>...</td>\n",
       "    </tr>\n",
       "    <tr>\n",
       "      <th>2055043</th>\n",
       "      <td>-9.502644</td>\n",
       "      <td>-7.178468</td>\n",
       "      <td>4.246279</td>\n",
       "      <td>-2.834417</td>\n",
       "      <td>-0.120428</td>\n",
       "      <td>-0.987857</td>\n",
       "      <td>45</td>\n",
       "    </tr>\n",
       "    <tr>\n",
       "      <th>2055044</th>\n",
       "      <td>-9.443804</td>\n",
       "      <td>-7.698220</td>\n",
       "      <td>3.059675</td>\n",
       "      <td>-2.638940</td>\n",
       "      <td>0.561997</td>\n",
       "      <td>-0.947715</td>\n",
       "      <td>45</td>\n",
       "    </tr>\n",
       "    <tr>\n",
       "      <th>2055045</th>\n",
       "      <td>-8.345459</td>\n",
       "      <td>-6.805815</td>\n",
       "      <td>1.853457</td>\n",
       "      <td>-2.483606</td>\n",
       "      <td>1.225222</td>\n",
       "      <td>-0.954696</td>\n",
       "      <td>45</td>\n",
       "    </tr>\n",
       "    <tr>\n",
       "      <th>2055046</th>\n",
       "      <td>-7.580540</td>\n",
       "      <td>-5.629017</td>\n",
       "      <td>1.559257</td>\n",
       "      <td>-2.429500</td>\n",
       "      <td>1.769765</td>\n",
       "      <td>-1.003565</td>\n",
       "      <td>45</td>\n",
       "    </tr>\n",
       "    <tr>\n",
       "      <th>2055047</th>\n",
       "      <td>-6.952915</td>\n",
       "      <td>-4.589512</td>\n",
       "      <td>1.755390</td>\n",
       "      <td>-2.426010</td>\n",
       "      <td>2.099633</td>\n",
       "      <td>-0.980876</td>\n",
       "      <td>45</td>\n",
       "    </tr>\n",
       "  </tbody>\n",
       "</table>\n",
       "<p>1875205 rows × 7 columns</p>\n",
       "</div>"
      ],
      "text/plain": [
       "              LAx       LAy       LAz       GYx       GYy       GYz  name\n",
       "0        1.242813 -0.160181 -0.900440  0.194931 -0.004242  0.163818     0\n",
       "1        1.117246 -0.187921 -1.529893  0.236458  0.076378  0.133293     0\n",
       "2        0.912846 -0.192566 -1.570929  0.226074  0.012253  0.108246     0\n",
       "3        0.874858 -0.227208 -1.453511  0.139336 -0.050667  0.085030     0\n",
       "4        0.834022 -0.282976 -1.292671 -0.013374 -0.109314  0.078308     0\n",
       "...           ...       ...       ...       ...       ...       ...   ...\n",
       "2055043 -9.502644 -7.178468  4.246279 -2.834417 -0.120428 -0.987857    45\n",
       "2055044 -9.443804 -7.698220  3.059675 -2.638940  0.561997 -0.947715    45\n",
       "2055045 -8.345459 -6.805815  1.853457 -2.483606  1.225222 -0.954696    45\n",
       "2055046 -7.580540 -5.629017  1.559257 -2.429500  1.769765 -1.003565    45\n",
       "2055047 -6.952915 -4.589512  1.755390 -2.426010  2.099633 -0.980876    45\n",
       "\n",
       "[1875205 rows x 7 columns]"
      ]
     },
     "execution_count": 13,
     "metadata": {},
     "output_type": "execute_result"
    }
   ],
   "source": [
    "df_Xtime"
   ]
  },
  {
   "cell_type": "code",
   "execution_count": 14,
   "id": "10931f68",
   "metadata": {},
   "outputs": [],
   "source": [
    "X = df_Xtime[['LAx', 'LAy', 'LAz','GYx', 'GYy', 'GYz']].copy()\n",
    "y = df_Xtime['name'].copy()"
   ]
  },
  {
   "cell_type": "code",
   "execution_count": 15,
   "id": "a22de21d",
   "metadata": {},
   "outputs": [
    {
     "data": {
      "text/html": [
       "<div>\n",
       "<style scoped>\n",
       "    .dataframe tbody tr th:only-of-type {\n",
       "        vertical-align: middle;\n",
       "    }\n",
       "\n",
       "    .dataframe tbody tr th {\n",
       "        vertical-align: top;\n",
       "    }\n",
       "\n",
       "    .dataframe thead th {\n",
       "        text-align: right;\n",
       "    }\n",
       "</style>\n",
       "<table border=\"1\" class=\"dataframe\">\n",
       "  <thead>\n",
       "    <tr style=\"text-align: right;\">\n",
       "      <th></th>\n",
       "      <th>LAx</th>\n",
       "      <th>LAy</th>\n",
       "      <th>LAz</th>\n",
       "      <th>GYx</th>\n",
       "      <th>GYy</th>\n",
       "      <th>GYz</th>\n",
       "      <th>label</th>\n",
       "    </tr>\n",
       "  </thead>\n",
       "  <tbody>\n",
       "    <tr>\n",
       "      <th>0</th>\n",
       "      <td>1.242813</td>\n",
       "      <td>-0.160181</td>\n",
       "      <td>-0.900440</td>\n",
       "      <td>0.194931</td>\n",
       "      <td>-0.004242</td>\n",
       "      <td>0.163818</td>\n",
       "      <td>0</td>\n",
       "    </tr>\n",
       "    <tr>\n",
       "      <th>1</th>\n",
       "      <td>1.117246</td>\n",
       "      <td>-0.187921</td>\n",
       "      <td>-1.529893</td>\n",
       "      <td>0.236458</td>\n",
       "      <td>0.076378</td>\n",
       "      <td>0.133293</td>\n",
       "      <td>0</td>\n",
       "    </tr>\n",
       "    <tr>\n",
       "      <th>2</th>\n",
       "      <td>0.912846</td>\n",
       "      <td>-0.192566</td>\n",
       "      <td>-1.570929</td>\n",
       "      <td>0.226074</td>\n",
       "      <td>0.012253</td>\n",
       "      <td>0.108246</td>\n",
       "      <td>0</td>\n",
       "    </tr>\n",
       "    <tr>\n",
       "      <th>3</th>\n",
       "      <td>0.874858</td>\n",
       "      <td>-0.227208</td>\n",
       "      <td>-1.453511</td>\n",
       "      <td>0.139336</td>\n",
       "      <td>-0.050667</td>\n",
       "      <td>0.085030</td>\n",
       "      <td>0</td>\n",
       "    </tr>\n",
       "    <tr>\n",
       "      <th>4</th>\n",
       "      <td>0.834022</td>\n",
       "      <td>-0.282976</td>\n",
       "      <td>-1.292671</td>\n",
       "      <td>-0.013374</td>\n",
       "      <td>-0.109314</td>\n",
       "      <td>0.078308</td>\n",
       "      <td>0</td>\n",
       "    </tr>\n",
       "    <tr>\n",
       "      <th>...</th>\n",
       "      <td>...</td>\n",
       "      <td>...</td>\n",
       "      <td>...</td>\n",
       "      <td>...</td>\n",
       "      <td>...</td>\n",
       "      <td>...</td>\n",
       "      <td>...</td>\n",
       "    </tr>\n",
       "    <tr>\n",
       "      <th>2055043</th>\n",
       "      <td>-9.502644</td>\n",
       "      <td>-7.178468</td>\n",
       "      <td>4.246279</td>\n",
       "      <td>-2.834417</td>\n",
       "      <td>-0.120428</td>\n",
       "      <td>-0.987857</td>\n",
       "      <td>45</td>\n",
       "    </tr>\n",
       "    <tr>\n",
       "      <th>2055044</th>\n",
       "      <td>-9.443804</td>\n",
       "      <td>-7.698220</td>\n",
       "      <td>3.059675</td>\n",
       "      <td>-2.638940</td>\n",
       "      <td>0.561997</td>\n",
       "      <td>-0.947715</td>\n",
       "      <td>45</td>\n",
       "    </tr>\n",
       "    <tr>\n",
       "      <th>2055045</th>\n",
       "      <td>-8.345459</td>\n",
       "      <td>-6.805815</td>\n",
       "      <td>1.853457</td>\n",
       "      <td>-2.483606</td>\n",
       "      <td>1.225222</td>\n",
       "      <td>-0.954696</td>\n",
       "      <td>45</td>\n",
       "    </tr>\n",
       "    <tr>\n",
       "      <th>2055046</th>\n",
       "      <td>-7.580540</td>\n",
       "      <td>-5.629017</td>\n",
       "      <td>1.559257</td>\n",
       "      <td>-2.429500</td>\n",
       "      <td>1.769765</td>\n",
       "      <td>-1.003565</td>\n",
       "      <td>45</td>\n",
       "    </tr>\n",
       "    <tr>\n",
       "      <th>2055047</th>\n",
       "      <td>-6.952915</td>\n",
       "      <td>-4.589512</td>\n",
       "      <td>1.755390</td>\n",
       "      <td>-2.426010</td>\n",
       "      <td>2.099633</td>\n",
       "      <td>-0.980876</td>\n",
       "      <td>45</td>\n",
       "    </tr>\n",
       "  </tbody>\n",
       "</table>\n",
       "<p>1875205 rows × 7 columns</p>\n",
       "</div>"
      ],
      "text/plain": [
       "              LAx       LAy       LAz       GYx       GYy       GYz  label\n",
       "0        1.242813 -0.160181 -0.900440  0.194931 -0.004242  0.163818      0\n",
       "1        1.117246 -0.187921 -1.529893  0.236458  0.076378  0.133293      0\n",
       "2        0.912846 -0.192566 -1.570929  0.226074  0.012253  0.108246      0\n",
       "3        0.874858 -0.227208 -1.453511  0.139336 -0.050667  0.085030      0\n",
       "4        0.834022 -0.282976 -1.292671 -0.013374 -0.109314  0.078308      0\n",
       "...           ...       ...       ...       ...       ...       ...    ...\n",
       "2055043 -9.502644 -7.178468  4.246279 -2.834417 -0.120428 -0.987857     45\n",
       "2055044 -9.443804 -7.698220  3.059675 -2.638940  0.561997 -0.947715     45\n",
       "2055045 -8.345459 -6.805815  1.853457 -2.483606  1.225222 -0.954696     45\n",
       "2055046 -7.580540 -5.629017  1.559257 -2.429500  1.769765 -1.003565     45\n",
       "2055047 -6.952915 -4.589512  1.755390 -2.426010  2.099633 -0.980876     45\n",
       "\n",
       "[1875205 rows x 7 columns]"
      ]
     },
     "execution_count": 15,
     "metadata": {},
     "output_type": "execute_result"
    }
   ],
   "source": [
    "scaler = StandardScaler()\n",
    "X_transformed = X.copy()\n",
    "# X_transformed = scaler.fit_transform(X_transformed) #No_scalling\n",
    "\n",
    "scaled_X = pd.DataFrame(data = X_transformed, columns = ['LAx', 'LAy', 'LAz','GYx', 'GYy', 'GYz'])\n",
    "scaled_X['label'] = y.values\n",
    "\n",
    "scaled_X"
   ]
  },
  {
   "cell_type": "code",
   "execution_count": 16,
   "id": "15865b59",
   "metadata": {},
   "outputs": [
    {
     "data": {
      "text/plain": [
       "((318894, 7), (1556311, 7))"
      ]
     },
     "execution_count": 16,
     "metadata": {},
     "output_type": "execute_result"
    }
   ],
   "source": [
    "df_unk = scaled_X[scaled_X['label'].isin([1,12,24,33,42,14,7])]\n",
    "scaled_X_known = scaled_X[~scaled_X['label'].isin([1,12,24,33,42,14,7])]\n",
    "df_unk.shape, scaled_X_known.shape"
   ]
  },
  {
   "cell_type": "code",
   "execution_count": 17,
   "id": "a3c3f772",
   "metadata": {},
   "outputs": [
    {
     "data": {
      "text/plain": [
       "array([ 0,  2,  3,  4,  5,  6,  8,  9, 10, 11, 13, 15, 16, 17, 18, 19, 20,\n",
       "       21, 22, 23, 25, 26, 27, 28, 29, 30, 31, 32, 34, 35, 36, 37, 38, 39,\n",
       "       40, 41, 43, 44, 45], dtype=int64)"
      ]
     },
     "execution_count": 17,
     "metadata": {},
     "output_type": "execute_result"
    }
   ],
   "source": [
    "scaled_X_known['label'].unique()"
   ]
  },
  {
   "cell_type": "code",
   "execution_count": 18,
   "id": "1422ea62",
   "metadata": {},
   "outputs": [
    {
     "data": {
      "text/html": [
       "<div>\n",
       "<style scoped>\n",
       "    .dataframe tbody tr th:only-of-type {\n",
       "        vertical-align: middle;\n",
       "    }\n",
       "\n",
       "    .dataframe tbody tr th {\n",
       "        vertical-align: top;\n",
       "    }\n",
       "\n",
       "    .dataframe thead th {\n",
       "        text-align: right;\n",
       "    }\n",
       "</style>\n",
       "<table border=\"1\" class=\"dataframe\">\n",
       "  <thead>\n",
       "    <tr style=\"text-align: right;\">\n",
       "      <th></th>\n",
       "      <th>LAx</th>\n",
       "      <th>LAy</th>\n",
       "      <th>LAz</th>\n",
       "      <th>GYx</th>\n",
       "      <th>GYy</th>\n",
       "      <th>GYz</th>\n",
       "      <th>label</th>\n",
       "    </tr>\n",
       "  </thead>\n",
       "  <tbody>\n",
       "    <tr>\n",
       "      <th>26790</th>\n",
       "      <td>0.125257</td>\n",
       "      <td>1.957727</td>\n",
       "      <td>-5.775075</td>\n",
       "      <td>1.014694</td>\n",
       "      <td>-0.602997</td>\n",
       "      <td>-0.449493</td>\n",
       "      <td>1</td>\n",
       "    </tr>\n",
       "    <tr>\n",
       "      <th>26791</th>\n",
       "      <td>0.167732</td>\n",
       "      <td>1.815942</td>\n",
       "      <td>-5.286167</td>\n",
       "      <td>1.031807</td>\n",
       "      <td>-0.515022</td>\n",
       "      <td>-0.528915</td>\n",
       "      <td>1</td>\n",
       "    </tr>\n",
       "    <tr>\n",
       "      <th>26792</th>\n",
       "      <td>0.480174</td>\n",
       "      <td>1.606921</td>\n",
       "      <td>-5.489661</td>\n",
       "      <td>1.060516</td>\n",
       "      <td>-0.441719</td>\n",
       "      <td>-0.629715</td>\n",
       "      <td>1</td>\n",
       "    </tr>\n",
       "    <tr>\n",
       "      <th>26793</th>\n",
       "      <td>1.004947</td>\n",
       "      <td>1.458322</td>\n",
       "      <td>-6.301949</td>\n",
       "      <td>1.083725</td>\n",
       "      <td>-0.450279</td>\n",
       "      <td>-0.702393</td>\n",
       "      <td>1</td>\n",
       "    </tr>\n",
       "    <tr>\n",
       "      <th>26794</th>\n",
       "      <td>1.282830</td>\n",
       "      <td>1.430590</td>\n",
       "      <td>-6.711755</td>\n",
       "      <td>1.077011</td>\n",
       "      <td>-0.533348</td>\n",
       "      <td>-0.731720</td>\n",
       "      <td>1</td>\n",
       "    </tr>\n",
       "    <tr>\n",
       "      <th>...</th>\n",
       "      <td>...</td>\n",
       "      <td>...</td>\n",
       "      <td>...</td>\n",
       "      <td>...</td>\n",
       "      <td>...</td>\n",
       "      <td>...</td>\n",
       "      <td>...</td>\n",
       "    </tr>\n",
       "    <tr>\n",
       "      <th>1947451</th>\n",
       "      <td>-0.764909</td>\n",
       "      <td>-0.013322</td>\n",
       "      <td>-1.012644</td>\n",
       "      <td>-1.002965</td>\n",
       "      <td>0.139626</td>\n",
       "      <td>0.274989</td>\n",
       "      <td>42</td>\n",
       "    </tr>\n",
       "    <tr>\n",
       "      <th>1947452</th>\n",
       "      <td>-0.867745</td>\n",
       "      <td>0.042661</td>\n",
       "      <td>-0.761317</td>\n",
       "      <td>-1.120209</td>\n",
       "      <td>0.327216</td>\n",
       "      <td>0.265396</td>\n",
       "      <td>42</td>\n",
       "    </tr>\n",
       "    <tr>\n",
       "      <th>1947453</th>\n",
       "      <td>-0.908311</td>\n",
       "      <td>0.093705</td>\n",
       "      <td>-1.217119</td>\n",
       "      <td>-1.229991</td>\n",
       "      <td>0.506278</td>\n",
       "      <td>0.285647</td>\n",
       "      <td>42</td>\n",
       "    </tr>\n",
       "    <tr>\n",
       "      <th>1947454</th>\n",
       "      <td>-0.946631</td>\n",
       "      <td>0.185764</td>\n",
       "      <td>-1.063538</td>\n",
       "      <td>-1.282218</td>\n",
       "      <td>0.740765</td>\n",
       "      <td>0.333611</td>\n",
       "      <td>42</td>\n",
       "    </tr>\n",
       "    <tr>\n",
       "      <th>1947455</th>\n",
       "      <td>-1.048719</td>\n",
       "      <td>0.008233</td>\n",
       "      <td>-1.694177</td>\n",
       "      <td>-1.219333</td>\n",
       "      <td>1.137262</td>\n",
       "      <td>0.390101</td>\n",
       "      <td>42</td>\n",
       "    </tr>\n",
       "  </tbody>\n",
       "</table>\n",
       "<p>318894 rows × 7 columns</p>\n",
       "</div>"
      ],
      "text/plain": [
       "              LAx       LAy       LAz       GYx       GYy       GYz  label\n",
       "26790    0.125257  1.957727 -5.775075  1.014694 -0.602997 -0.449493      1\n",
       "26791    0.167732  1.815942 -5.286167  1.031807 -0.515022 -0.528915      1\n",
       "26792    0.480174  1.606921 -5.489661  1.060516 -0.441719 -0.629715      1\n",
       "26793    1.004947  1.458322 -6.301949  1.083725 -0.450279 -0.702393      1\n",
       "26794    1.282830  1.430590 -6.711755  1.077011 -0.533348 -0.731720      1\n",
       "...           ...       ...       ...       ...       ...       ...    ...\n",
       "1947451 -0.764909 -0.013322 -1.012644 -1.002965  0.139626  0.274989     42\n",
       "1947452 -0.867745  0.042661 -0.761317 -1.120209  0.327216  0.265396     42\n",
       "1947453 -0.908311  0.093705 -1.217119 -1.229991  0.506278  0.285647     42\n",
       "1947454 -0.946631  0.185764 -1.063538 -1.282218  0.740765  0.333611     42\n",
       "1947455 -1.048719  0.008233 -1.694177 -1.219333  1.137262  0.390101     42\n",
       "\n",
       "[318894 rows x 7 columns]"
      ]
     },
     "execution_count": 18,
     "metadata": {},
     "output_type": "execute_result"
    }
   ],
   "source": [
    "df_unk"
   ]
  },
  {
   "cell_type": "code",
   "execution_count": 19,
   "id": "b5bafa08",
   "metadata": {
    "scrolled": false
   },
   "outputs": [
    {
     "data": {
      "text/html": [
       "<div>\n",
       "<style scoped>\n",
       "    .dataframe tbody tr th:only-of-type {\n",
       "        vertical-align: middle;\n",
       "    }\n",
       "\n",
       "    .dataframe tbody tr th {\n",
       "        vertical-align: top;\n",
       "    }\n",
       "\n",
       "    .dataframe thead th {\n",
       "        text-align: right;\n",
       "    }\n",
       "</style>\n",
       "<table border=\"1\" class=\"dataframe\">\n",
       "  <thead>\n",
       "    <tr style=\"text-align: right;\">\n",
       "      <th></th>\n",
       "      <th>LAx</th>\n",
       "      <th>LAy</th>\n",
       "      <th>LAz</th>\n",
       "      <th>GYx</th>\n",
       "      <th>GYy</th>\n",
       "      <th>GYz</th>\n",
       "      <th>label</th>\n",
       "    </tr>\n",
       "  </thead>\n",
       "  <tbody>\n",
       "    <tr>\n",
       "      <th>0</th>\n",
       "      <td>1.242813</td>\n",
       "      <td>-0.160181</td>\n",
       "      <td>-0.900440</td>\n",
       "      <td>0.194931</td>\n",
       "      <td>-0.004242</td>\n",
       "      <td>0.163818</td>\n",
       "      <td>0</td>\n",
       "    </tr>\n",
       "    <tr>\n",
       "      <th>1</th>\n",
       "      <td>1.117246</td>\n",
       "      <td>-0.187921</td>\n",
       "      <td>-1.529893</td>\n",
       "      <td>0.236458</td>\n",
       "      <td>0.076378</td>\n",
       "      <td>0.133293</td>\n",
       "      <td>0</td>\n",
       "    </tr>\n",
       "    <tr>\n",
       "      <th>2</th>\n",
       "      <td>0.912846</td>\n",
       "      <td>-0.192566</td>\n",
       "      <td>-1.570929</td>\n",
       "      <td>0.226074</td>\n",
       "      <td>0.012253</td>\n",
       "      <td>0.108246</td>\n",
       "      <td>0</td>\n",
       "    </tr>\n",
       "    <tr>\n",
       "      <th>3</th>\n",
       "      <td>0.874858</td>\n",
       "      <td>-0.227208</td>\n",
       "      <td>-1.453511</td>\n",
       "      <td>0.139336</td>\n",
       "      <td>-0.050667</td>\n",
       "      <td>0.085030</td>\n",
       "      <td>0</td>\n",
       "    </tr>\n",
       "    <tr>\n",
       "      <th>4</th>\n",
       "      <td>0.834022</td>\n",
       "      <td>-0.282976</td>\n",
       "      <td>-1.292671</td>\n",
       "      <td>-0.013374</td>\n",
       "      <td>-0.109314</td>\n",
       "      <td>0.078308</td>\n",
       "      <td>0</td>\n",
       "    </tr>\n",
       "    <tr>\n",
       "      <th>...</th>\n",
       "      <td>...</td>\n",
       "      <td>...</td>\n",
       "      <td>...</td>\n",
       "      <td>...</td>\n",
       "      <td>...</td>\n",
       "      <td>...</td>\n",
       "      <td>...</td>\n",
       "    </tr>\n",
       "    <tr>\n",
       "      <th>2055043</th>\n",
       "      <td>-9.502644</td>\n",
       "      <td>-7.178468</td>\n",
       "      <td>4.246279</td>\n",
       "      <td>-2.834417</td>\n",
       "      <td>-0.120428</td>\n",
       "      <td>-0.987857</td>\n",
       "      <td>45</td>\n",
       "    </tr>\n",
       "    <tr>\n",
       "      <th>2055044</th>\n",
       "      <td>-9.443804</td>\n",
       "      <td>-7.698220</td>\n",
       "      <td>3.059675</td>\n",
       "      <td>-2.638940</td>\n",
       "      <td>0.561997</td>\n",
       "      <td>-0.947715</td>\n",
       "      <td>45</td>\n",
       "    </tr>\n",
       "    <tr>\n",
       "      <th>2055045</th>\n",
       "      <td>-8.345459</td>\n",
       "      <td>-6.805815</td>\n",
       "      <td>1.853457</td>\n",
       "      <td>-2.483606</td>\n",
       "      <td>1.225222</td>\n",
       "      <td>-0.954696</td>\n",
       "      <td>45</td>\n",
       "    </tr>\n",
       "    <tr>\n",
       "      <th>2055046</th>\n",
       "      <td>-7.580540</td>\n",
       "      <td>-5.629017</td>\n",
       "      <td>1.559257</td>\n",
       "      <td>-2.429500</td>\n",
       "      <td>1.769765</td>\n",
       "      <td>-1.003565</td>\n",
       "      <td>45</td>\n",
       "    </tr>\n",
       "    <tr>\n",
       "      <th>2055047</th>\n",
       "      <td>-6.952915</td>\n",
       "      <td>-4.589512</td>\n",
       "      <td>1.755390</td>\n",
       "      <td>-2.426010</td>\n",
       "      <td>2.099633</td>\n",
       "      <td>-0.980876</td>\n",
       "      <td>45</td>\n",
       "    </tr>\n",
       "  </tbody>\n",
       "</table>\n",
       "<p>1556311 rows × 7 columns</p>\n",
       "</div>"
      ],
      "text/plain": [
       "              LAx       LAy       LAz       GYx       GYy       GYz  label\n",
       "0        1.242813 -0.160181 -0.900440  0.194931 -0.004242  0.163818      0\n",
       "1        1.117246 -0.187921 -1.529893  0.236458  0.076378  0.133293      0\n",
       "2        0.912846 -0.192566 -1.570929  0.226074  0.012253  0.108246      0\n",
       "3        0.874858 -0.227208 -1.453511  0.139336 -0.050667  0.085030      0\n",
       "4        0.834022 -0.282976 -1.292671 -0.013374 -0.109314  0.078308      0\n",
       "...           ...       ...       ...       ...       ...       ...    ...\n",
       "2055043 -9.502644 -7.178468  4.246279 -2.834417 -0.120428 -0.987857     45\n",
       "2055044 -9.443804 -7.698220  3.059675 -2.638940  0.561997 -0.947715     45\n",
       "2055045 -8.345459 -6.805815  1.853457 -2.483606  1.225222 -0.954696     45\n",
       "2055046 -7.580540 -5.629017  1.559257 -2.429500  1.769765 -1.003565     45\n",
       "2055047 -6.952915 -4.589512  1.755390 -2.426010  2.099633 -0.980876     45\n",
       "\n",
       "[1556311 rows x 7 columns]"
      ]
     },
     "execution_count": 19,
     "metadata": {},
     "output_type": "execute_result"
    }
   ],
   "source": [
    "scaled_X_known"
   ]
  },
  {
   "cell_type": "code",
   "execution_count": 20,
   "id": "091232c8",
   "metadata": {},
   "outputs": [
    {
     "name": "stderr",
     "output_type": "stream",
     "text": [
      "C:\\Users\\szizo\\AppData\\Local\\Temp\\ipykernel_25756\\3690900224.py:12: FutureWarning: The frame.append method is deprecated and will be removed from pandas in a future version. Use pandas.concat instead.\n",
      "  df_train = df_train.append(train_row, ignore_index=True)\n",
      "C:\\Users\\szizo\\AppData\\Local\\Temp\\ipykernel_25756\\3690900224.py:13: FutureWarning: The frame.append method is deprecated and will be removed from pandas in a future version. Use pandas.concat instead.\n",
      "  df_test = df_test.append(test_row, ignore_index=True)\n"
     ]
    },
    {
     "data": {
      "text/plain": [
       "((1089400, 7), (466911, 7))"
      ]
     },
     "execution_count": 20,
     "metadata": {},
     "output_type": "execute_result"
    }
   ],
   "source": [
    "df_test = pd.DataFrame(columns=['LAx','LAy','LAz','GYx','GYy','GYz','label'])\n",
    "df_train = pd.DataFrame(columns=['LAx','LAy','LAz','GYx','GYy','GYz','label'])\n",
    "\n",
    "for i in range(0,51):\n",
    "    df_original_i = scaled_X_known[scaled_X_known['label'] == i]\n",
    "    length = len(df_original_i)\n",
    "    num_rows_70 = int(length*0.7)\n",
    "    \n",
    "    train_row = df_original_i[:num_rows_70]\n",
    "    test_row = df_original_i[num_rows_70:]\n",
    "    \n",
    "    df_train = df_train.append(train_row, ignore_index=True)\n",
    "    df_test = df_test.append(test_row, ignore_index=True)\n",
    "\n",
    "df_train.shape, df_test.shape"
   ]
  },
  {
   "cell_type": "code",
   "execution_count": 21,
   "id": "019df13a",
   "metadata": {},
   "outputs": [],
   "source": [
    "import scipy.stats as stats\n",
    "\n",
    "Fs = 100\n",
    "frame_size = Fs*6 \n",
    "hop_size = Fs*2"
   ]
  },
  {
   "cell_type": "code",
   "execution_count": 22,
   "id": "4cb22659",
   "metadata": {},
   "outputs": [],
   "source": [
    "def get_frames(df, frame_size, hop_size):\n",
    "    N_FEATURES = 6\n",
    "\n",
    "    frames = []\n",
    "    labels = []\n",
    "    \n",
    "    last_value = df['label'].iloc[-1]\n",
    "    for j in range (0,last_value+1): \n",
    "        filtered_df = df[df['label'] == j]\n",
    "        filtered_df = filtered_df.drop('label', axis = 1)\n",
    "        for i in range(0, len(filtered_df) - frame_size, hop_size):\n",
    "            LAx = filtered_df['LAx'].values[i: i + frame_size]\n",
    "            LAy = filtered_df['LAy'].values[i: i + frame_size]\n",
    "            LAz = filtered_df['LAz'].values[i: i + frame_size]\n",
    "            GYx = filtered_df['GYx'].values[i: i + frame_size]\n",
    "            GYy = filtered_df['GYy'].values[i: i + frame_size]\n",
    "            GYz = filtered_df['GYz'].values[i: i + frame_size]\n",
    "            \n",
    "\n",
    "            label = j\n",
    "\n",
    "            frames.append([LAx, LAy, LAz, GYx, GYy , GYz])\n",
    "            labels.append(label)\n",
    "\n",
    "    frames = np.asarray(frames).reshape(-1, frame_size, N_FEATURES)\n",
    "    labels = np.asarray(labels)\n",
    "    \n",
    "    return frames, labels"
   ]
  },
  {
   "cell_type": "code",
   "execution_count": 23,
   "id": "2f413414",
   "metadata": {},
   "outputs": [],
   "source": [
    "# X, y = get_frames(scaled_X,frame_size, hop_size)\n",
    "# X.shape, y.shape"
   ]
  },
  {
   "cell_type": "code",
   "execution_count": 24,
   "id": "083b9349",
   "metadata": {
    "scrolled": true
   },
   "outputs": [
    {
     "data": {
      "text/plain": [
       "39"
      ]
     },
     "execution_count": 24,
     "metadata": {},
     "output_type": "execute_result"
    }
   ],
   "source": [
    "df_train['label'].nunique()"
   ]
  },
  {
   "cell_type": "code",
   "execution_count": 25,
   "id": "bfad2ee1",
   "metadata": {},
   "outputs": [
    {
     "data": {
      "text/plain": [
       "0"
      ]
     },
     "execution_count": 25,
     "metadata": {},
     "output_type": "execute_result"
    }
   ],
   "source": [
    "len(df_train[df_train['label'] == 1])"
   ]
  },
  {
   "cell_type": "code",
   "execution_count": 26,
   "id": "0b04449b",
   "metadata": {},
   "outputs": [
    {
     "data": {
      "text/plain": [
       "((5344, 600, 6), (2231, 600, 6), (5344,), (2231,))"
      ]
     },
     "execution_count": 26,
     "metadata": {},
     "output_type": "execute_result"
    }
   ],
   "source": [
    "X_train_Unshuffeled,y_train_Unshuffeled = get_frames(df_train,frame_size,hop_size)\n",
    "X_test, y_test = get_frames(df_test,frame_size,hop_size)\n",
    "X_train_Unshuffeled.shape, X_test.shape, y_train_Unshuffeled.shape, y_test.shape"
   ]
  },
  {
   "cell_type": "code",
   "execution_count": null,
   "id": "abddbbfd",
   "metadata": {},
   "outputs": [],
   "source": []
  },
  {
   "cell_type": "code",
   "execution_count": 27,
   "id": "108951c0",
   "metadata": {},
   "outputs": [
    {
     "data": {
      "text/plain": [
       "((4809, 600, 6), (2231, 600, 6), (535, 600, 6))"
      ]
     },
     "execution_count": 27,
     "metadata": {},
     "output_type": "execute_result"
    }
   ],
   "source": [
    "# X_train_val, X_test, y_train_val, y_test = train_test_split(X, y, test_size = 0.3, random_state = 0, stratify = y)\n",
    "\n",
    "X_train, X_validation, y_train, y_validation = train_test_split(X_train_Unshuffeled, y_train_Unshuffeled, test_size = 0.1, random_state = 0, stratify = y_train_Unshuffeled)\n",
    "X_train.shape, X_test.shape, X_validation.shape"
   ]
  },
  {
   "cell_type": "code",
   "execution_count": 28,
   "id": "6a5c082c",
   "metadata": {},
   "outputs": [
    {
     "data": {
      "text/plain": [
       "((600, 6), (600, 6), (600, 6))"
      ]
     },
     "execution_count": 28,
     "metadata": {},
     "output_type": "execute_result"
    }
   ],
   "source": [
    "X_train[0].shape, X_test[0].shape, X_validation[0].shape"
   ]
  },
  {
   "cell_type": "code",
   "execution_count": 29,
   "id": "51c0e384",
   "metadata": {},
   "outputs": [
    {
     "data": {
      "text/plain": [
       "45"
      ]
     },
     "execution_count": 29,
     "metadata": {},
     "output_type": "execute_result"
    }
   ],
   "source": [
    "num = df_original['name'].iloc[-1]\n",
    "num "
   ]
  },
  {
   "cell_type": "code",
   "execution_count": 30,
   "id": "3cf0350d",
   "metadata": {},
   "outputs": [],
   "source": [
    "# # Subtract 1 from each label in y_train\n",
    "# y_train = np.array(y_train) - 1\n",
    "# y_test = np.array(y_test) - 1\n",
    "# y_validation = np.array(y_validation) - 1"
   ]
  },
  {
   "cell_type": "code",
   "execution_count": 31,
   "id": "29b2a405",
   "metadata": {},
   "outputs": [
    {
     "data": {
      "text/plain": [
       "((4809,), (2231,), (535,))"
      ]
     },
     "execution_count": 31,
     "metadata": {},
     "output_type": "execute_result"
    }
   ],
   "source": [
    "y_train.shape, y_test.shape, y_validation.shape"
   ]
  },
  {
   "cell_type": "code",
   "execution_count": 32,
   "id": "9afa305f",
   "metadata": {},
   "outputs": [],
   "source": [
    "# y_train_o = np.eye(50)[y_train]\n",
    "# y_test_o = np.eye(50)[y_test]\n",
    "# y_validation_o = np.eye(50)[y_validation]"
   ]
  },
  {
   "cell_type": "code",
   "execution_count": 33,
   "id": "d6cf3a75",
   "metadata": {},
   "outputs": [],
   "source": [
    "# y_train_o.shape, y_validation_o.shape, y_validation_o.shape"
   ]
  },
  {
   "cell_type": "code",
   "execution_count": 34,
   "id": "d1ef3d9f",
   "metadata": {},
   "outputs": [],
   "source": [
    "# tut\n",
    "# model = Sequential()\n",
    "# model.add(Conv1D(filters=64, kernel_size=3, activation='relu', input_shape=X_train[0].shape))\n",
    "# model.add(Conv1D(filters=64, kernel_size=3, activation='relu'))\n",
    "# model.add(Dropout(0.5))\n",
    "# model.add(MaxPooling1D(pool_size=2))\n",
    "# model.add(Flatten())\n",
    "# model.add(Dense(100, activation='relu'))\n",
    "# model.add(Dense(50, activation='softmax'))\n"
   ]
  },
  {
   "cell_type": "code",
   "execution_count": 35,
   "id": "0ad93d03",
   "metadata": {},
   "outputs": [],
   "source": [
    "# num_classes = 51  # Including the unknown class\n",
    "\n",
    "# # Convert your labels to include the unknown class\n",
    "# y_train_with_unknown = y_train.copy()  # Make a copy of the original labels\n",
    "# y_train_with_unknown[y_train_with_unknown > num_classes-2] = num_classes-1  # Set labels above num_classes-2 to the unknown class label"
   ]
  },
  {
   "cell_type": "code",
   "execution_count": 36,
   "id": "9d26f441",
   "metadata": {},
   "outputs": [
    {
     "data": {
      "text/plain": [
       "39"
      ]
     },
     "execution_count": 36,
     "metadata": {},
     "output_type": "execute_result"
    }
   ],
   "source": [
    "num_classes_known = len(np.unique(y_train))\n",
    "num_classes_known"
   ]
  },
  {
   "cell_type": "code",
   "execution_count": 37,
   "id": "b38f479a",
   "metadata": {},
   "outputs": [],
   "source": [
    "# chatgpt\n",
    "model = Sequential()\n",
    "model.add(Conv1D(filters=32, kernel_size=3, activation='relu', input_shape=X_train[0].shape))\n",
    "model.add(MaxPooling1D(pool_size=2))\n",
    "model.add(Conv1D(filters=64, kernel_size=3, activation='relu'))\n",
    "model.add(MaxPooling1D(pool_size=2))\n",
    "model.add(Conv1D(filters=128, kernel_size=3, activation='relu'))\n",
    "model.add(MaxPooling1D(pool_size=2))\n",
    "model.add(Flatten())\n",
    "model.add(Dense(256, activation='relu'))\n",
    "model.add(Dropout(0.5))\n",
    "model.add(Dense(num_classes_known, activation='softmax'))"
   ]
  },
  {
   "cell_type": "code",
   "execution_count": 38,
   "id": "d0bd6810",
   "metadata": {},
   "outputs": [
    {
     "name": "stdout",
     "output_type": "stream",
     "text": [
      "Model: \"sequential\"\n",
      "___________________________________________________________________________\n",
      " Layer (type)                    Output Shape                  Param #     \n",
      "===========================================================================\n",
      " conv1d (Conv1D)                 (None, 598, 32)               608         \n",
      "                                                                           \n",
      " max_pooling1d (MaxPooling1D)    (None, 299, 32)               0           \n",
      "                                                                           \n",
      " conv1d_1 (Conv1D)               (None, 297, 64)               6208        \n",
      "                                                                           \n",
      " max_pooling1d_1 (MaxPooling1D)  (None, 148, 64)               0           \n",
      "                                                                           \n",
      " conv1d_2 (Conv1D)               (None, 146, 128)              24704       \n",
      "                                                                           \n",
      " max_pooling1d_2 (MaxPooling1D)  (None, 73, 128)               0           \n",
      "                                                                           \n",
      " flatten (Flatten)               (None, 9344)                  0           \n",
      "                                                                           \n",
      " dense (Dense)                   (None, 256)                   2392320     \n",
      "                                                                           \n",
      " dropout (Dropout)               (None, 256)                   0           \n",
      "                                                                           \n",
      " dense_1 (Dense)                 (None, 39)                    10023       \n",
      "                                                                           \n",
      "===========================================================================\n",
      "Total params: 2,433,863\n",
      "Trainable params: 2,433,863\n",
      "Non-trainable params: 0\n",
      "___________________________________________________________________________\n"
     ]
    }
   ],
   "source": [
    "model.summary(line_length = 75)"
   ]
  },
  {
   "cell_type": "code",
   "execution_count": 39,
   "id": "d4bd648e",
   "metadata": {},
   "outputs": [],
   "source": [
    "model.compile(optimizer=Adam(learning_rate = 0.001), loss=tf.keras.losses.SparseCategoricalCrossentropy(), metrics = ['accuracy'])"
   ]
  },
  {
   "cell_type": "code",
   "execution_count": 40,
   "id": "48a91cb0",
   "metadata": {},
   "outputs": [],
   "source": [
    "early_stopping = tf.keras.callbacks.EarlyStopping(\n",
    "    monitor = 'val_loss',\n",
    "    mode = 'auto',\n",
    "    min_delta = 0,\n",
    "    patience = 2,\n",
    "    verbose = 0,\n",
    "    restore_best_weights = True\n",
    ")"
   ]
  },
  {
   "cell_type": "code",
   "execution_count": 41,
   "id": "319eff8f",
   "metadata": {
    "scrolled": false
   },
   "outputs": [
    {
     "name": "stdout",
     "output_type": "stream",
     "text": [
      "Epoch 1/30\n"
     ]
    },
    {
     "ename": "InvalidArgumentError",
     "evalue": "Graph execution error:\n\nDetected at node 'sparse_categorical_crossentropy/SparseSoftmaxCrossEntropyWithLogits/SparseSoftmaxCrossEntropyWithLogits' defined at (most recent call last):\n    File \"C:\\Users\\szizo\\anaconda3\\lib\\runpy.py\", line 196, in _run_module_as_main\n      return _run_code(code, main_globals, None,\n    File \"C:\\Users\\szizo\\anaconda3\\lib\\runpy.py\", line 86, in _run_code\n      exec(code, run_globals)\n    File \"C:\\Users\\szizo\\anaconda3\\lib\\site-packages\\ipykernel_launcher.py\", line 17, in <module>\n      app.launch_new_instance()\n    File \"C:\\Users\\szizo\\anaconda3\\lib\\site-packages\\traitlets\\config\\application.py\", line 992, in launch_instance\n      app.start()\n    File \"C:\\Users\\szizo\\anaconda3\\lib\\site-packages\\ipykernel\\kernelapp.py\", line 711, in start\n      self.io_loop.start()\n    File \"C:\\Users\\szizo\\anaconda3\\lib\\site-packages\\tornado\\platform\\asyncio.py\", line 199, in start\n      self.asyncio_loop.run_forever()\n    File \"C:\\Users\\szizo\\anaconda3\\lib\\asyncio\\base_events.py\", line 603, in run_forever\n      self._run_once()\n    File \"C:\\Users\\szizo\\anaconda3\\lib\\asyncio\\base_events.py\", line 1906, in _run_once\n      handle._run()\n    File \"C:\\Users\\szizo\\anaconda3\\lib\\asyncio\\events.py\", line 80, in _run\n      self._context.run(self._callback, *self._args)\n    File \"C:\\Users\\szizo\\anaconda3\\lib\\site-packages\\ipykernel\\kernelbase.py\", line 510, in dispatch_queue\n      await self.process_one()\n    File \"C:\\Users\\szizo\\anaconda3\\lib\\site-packages\\ipykernel\\kernelbase.py\", line 499, in process_one\n      await dispatch(*args)\n    File \"C:\\Users\\szizo\\anaconda3\\lib\\site-packages\\ipykernel\\kernelbase.py\", line 406, in dispatch_shell\n      await result\n    File \"C:\\Users\\szizo\\anaconda3\\lib\\site-packages\\ipykernel\\kernelbase.py\", line 729, in execute_request\n      reply_content = await reply_content\n    File \"C:\\Users\\szizo\\anaconda3\\lib\\site-packages\\ipykernel\\ipkernel.py\", line 411, in do_execute\n      res = shell.run_cell(\n    File \"C:\\Users\\szizo\\anaconda3\\lib\\site-packages\\ipykernel\\zmqshell.py\", line 531, in run_cell\n      return super().run_cell(*args, **kwargs)\n    File \"C:\\Users\\szizo\\anaconda3\\lib\\site-packages\\IPython\\core\\interactiveshell.py\", line 2961, in run_cell\n      result = self._run_cell(\n    File \"C:\\Users\\szizo\\anaconda3\\lib\\site-packages\\IPython\\core\\interactiveshell.py\", line 3016, in _run_cell\n      result = runner(coro)\n    File \"C:\\Users\\szizo\\anaconda3\\lib\\site-packages\\IPython\\core\\async_helpers.py\", line 129, in _pseudo_sync_runner\n      coro.send(None)\n    File \"C:\\Users\\szizo\\anaconda3\\lib\\site-packages\\IPython\\core\\interactiveshell.py\", line 3221, in run_cell_async\n      has_raised = await self.run_ast_nodes(code_ast.body, cell_name,\n    File \"C:\\Users\\szizo\\anaconda3\\lib\\site-packages\\IPython\\core\\interactiveshell.py\", line 3400, in run_ast_nodes\n      if await self.run_code(code, result, async_=asy):\n    File \"C:\\Users\\szizo\\anaconda3\\lib\\site-packages\\IPython\\core\\interactiveshell.py\", line 3460, in run_code\n      exec(code_obj, self.user_global_ns, self.user_ns)\n    File \"C:\\Users\\szizo\\AppData\\Local\\Temp\\ipykernel_25756\\4133923578.py\", line 1, in <module>\n      history = model.fit(X_train, y_train, epochs = 30,callbacks = [early_stopping],\n    File \"C:\\Users\\szizo\\anaconda3\\lib\\site-packages\\keras\\utils\\traceback_utils.py\", line 65, in error_handler\n      return fn(*args, **kwargs)\n    File \"C:\\Users\\szizo\\anaconda3\\lib\\site-packages\\keras\\engine\\training.py\", line 1685, in fit\n      tmp_logs = self.train_function(iterator)\n    File \"C:\\Users\\szizo\\anaconda3\\lib\\site-packages\\keras\\engine\\training.py\", line 1284, in train_function\n      return step_function(self, iterator)\n    File \"C:\\Users\\szizo\\anaconda3\\lib\\site-packages\\keras\\engine\\training.py\", line 1268, in step_function\n      outputs = model.distribute_strategy.run(run_step, args=(data,))\n    File \"C:\\Users\\szizo\\anaconda3\\lib\\site-packages\\keras\\engine\\training.py\", line 1249, in run_step\n      outputs = model.train_step(data)\n    File \"C:\\Users\\szizo\\anaconda3\\lib\\site-packages\\keras\\engine\\training.py\", line 1051, in train_step\n      loss = self.compute_loss(x, y, y_pred, sample_weight)\n    File \"C:\\Users\\szizo\\anaconda3\\lib\\site-packages\\keras\\engine\\training.py\", line 1109, in compute_loss\n      return self.compiled_loss(\n    File \"C:\\Users\\szizo\\anaconda3\\lib\\site-packages\\keras\\engine\\compile_utils.py\", line 265, in __call__\n      loss_value = loss_obj(y_t, y_p, sample_weight=sw)\n    File \"C:\\Users\\szizo\\anaconda3\\lib\\site-packages\\keras\\losses.py\", line 142, in __call__\n      losses = call_fn(y_true, y_pred)\n    File \"C:\\Users\\szizo\\anaconda3\\lib\\site-packages\\keras\\losses.py\", line 268, in call\n      return ag_fn(y_true, y_pred, **self._fn_kwargs)\n    File \"C:\\Users\\szizo\\anaconda3\\lib\\site-packages\\keras\\losses.py\", line 2078, in sparse_categorical_crossentropy\n      return backend.sparse_categorical_crossentropy(\n    File \"C:\\Users\\szizo\\anaconda3\\lib\\site-packages\\keras\\backend.py\", line 5660, in sparse_categorical_crossentropy\n      res = tf.nn.sparse_softmax_cross_entropy_with_logits(\nNode: 'sparse_categorical_crossentropy/SparseSoftmaxCrossEntropyWithLogits/SparseSoftmaxCrossEntropyWithLogits'\nReceived a label value of 45 which is outside the valid range of [0, 39).  Label values: 26 26 30 36 28 11 43 11 9 34 32 27 26 16 36 22 28 39 44 27 11 10 10 11 10 23 39 35 45 30 36 17\n\t [[{{node sparse_categorical_crossentropy/SparseSoftmaxCrossEntropyWithLogits/SparseSoftmaxCrossEntropyWithLogits}}]] [Op:__inference_train_function_1644]",
     "output_type": "error",
     "traceback": [
      "\u001b[1;31m---------------------------------------------------------------------------\u001b[0m",
      "\u001b[1;31mInvalidArgumentError\u001b[0m                      Traceback (most recent call last)",
      "Cell \u001b[1;32mIn[41], line 1\u001b[0m\n\u001b[1;32m----> 1\u001b[0m history \u001b[38;5;241m=\u001b[39m \u001b[43mmodel\u001b[49m\u001b[38;5;241;43m.\u001b[39;49m\u001b[43mfit\u001b[49m\u001b[43m(\u001b[49m\u001b[43mX_train\u001b[49m\u001b[43m,\u001b[49m\u001b[43m \u001b[49m\u001b[43my_train\u001b[49m\u001b[43m,\u001b[49m\u001b[43m \u001b[49m\u001b[43mepochs\u001b[49m\u001b[43m \u001b[49m\u001b[38;5;241;43m=\u001b[39;49m\u001b[43m \u001b[49m\u001b[38;5;241;43m30\u001b[39;49m\u001b[43m,\u001b[49m\u001b[43mcallbacks\u001b[49m\u001b[43m \u001b[49m\u001b[38;5;241;43m=\u001b[39;49m\u001b[43m \u001b[49m\u001b[43m[\u001b[49m\u001b[43mearly_stopping\u001b[49m\u001b[43m]\u001b[49m\u001b[43m,\u001b[49m\u001b[43m \u001b[49m\n\u001b[0;32m      2\u001b[0m \u001b[43m                    \u001b[49m\u001b[43mvalidation_data\u001b[49m\u001b[38;5;241;43m=\u001b[39;49m\u001b[43m \u001b[49m\u001b[43m(\u001b[49m\u001b[43mX_validation\u001b[49m\u001b[43m,\u001b[49m\u001b[43m \u001b[49m\u001b[43my_validation\u001b[49m\u001b[43m)\u001b[49m\u001b[43m,\u001b[49m\u001b[43m \u001b[49m\u001b[43mverbose\u001b[49m\u001b[38;5;241;43m=\u001b[39;49m\u001b[38;5;241;43m1\u001b[39;49m\u001b[43m)\u001b[49m\n",
      "File \u001b[1;32m~\\anaconda3\\lib\\site-packages\\keras\\utils\\traceback_utils.py:70\u001b[0m, in \u001b[0;36mfilter_traceback.<locals>.error_handler\u001b[1;34m(*args, **kwargs)\u001b[0m\n\u001b[0;32m     67\u001b[0m     filtered_tb \u001b[38;5;241m=\u001b[39m _process_traceback_frames(e\u001b[38;5;241m.\u001b[39m__traceback__)\n\u001b[0;32m     68\u001b[0m     \u001b[38;5;66;03m# To get the full stack trace, call:\u001b[39;00m\n\u001b[0;32m     69\u001b[0m     \u001b[38;5;66;03m# `tf.debugging.disable_traceback_filtering()`\u001b[39;00m\n\u001b[1;32m---> 70\u001b[0m     \u001b[38;5;28;01mraise\u001b[39;00m e\u001b[38;5;241m.\u001b[39mwith_traceback(filtered_tb) \u001b[38;5;28;01mfrom\u001b[39;00m \u001b[38;5;28mNone\u001b[39m\n\u001b[0;32m     71\u001b[0m \u001b[38;5;28;01mfinally\u001b[39;00m:\n\u001b[0;32m     72\u001b[0m     \u001b[38;5;28;01mdel\u001b[39;00m filtered_tb\n",
      "File \u001b[1;32m~\\anaconda3\\lib\\site-packages\\tensorflow\\python\\eager\\execute.py:52\u001b[0m, in \u001b[0;36mquick_execute\u001b[1;34m(op_name, num_outputs, inputs, attrs, ctx, name)\u001b[0m\n\u001b[0;32m     50\u001b[0m \u001b[38;5;28;01mtry\u001b[39;00m:\n\u001b[0;32m     51\u001b[0m   ctx\u001b[38;5;241m.\u001b[39mensure_initialized()\n\u001b[1;32m---> 52\u001b[0m   tensors \u001b[38;5;241m=\u001b[39m pywrap_tfe\u001b[38;5;241m.\u001b[39mTFE_Py_Execute(ctx\u001b[38;5;241m.\u001b[39m_handle, device_name, op_name,\n\u001b[0;32m     53\u001b[0m                                       inputs, attrs, num_outputs)\n\u001b[0;32m     54\u001b[0m \u001b[38;5;28;01mexcept\u001b[39;00m core\u001b[38;5;241m.\u001b[39m_NotOkStatusException \u001b[38;5;28;01mas\u001b[39;00m e:\n\u001b[0;32m     55\u001b[0m   \u001b[38;5;28;01mif\u001b[39;00m name \u001b[38;5;129;01mis\u001b[39;00m \u001b[38;5;129;01mnot\u001b[39;00m \u001b[38;5;28;01mNone\u001b[39;00m:\n",
      "\u001b[1;31mInvalidArgumentError\u001b[0m: Graph execution error:\n\nDetected at node 'sparse_categorical_crossentropy/SparseSoftmaxCrossEntropyWithLogits/SparseSoftmaxCrossEntropyWithLogits' defined at (most recent call last):\n    File \"C:\\Users\\szizo\\anaconda3\\lib\\runpy.py\", line 196, in _run_module_as_main\n      return _run_code(code, main_globals, None,\n    File \"C:\\Users\\szizo\\anaconda3\\lib\\runpy.py\", line 86, in _run_code\n      exec(code, run_globals)\n    File \"C:\\Users\\szizo\\anaconda3\\lib\\site-packages\\ipykernel_launcher.py\", line 17, in <module>\n      app.launch_new_instance()\n    File \"C:\\Users\\szizo\\anaconda3\\lib\\site-packages\\traitlets\\config\\application.py\", line 992, in launch_instance\n      app.start()\n    File \"C:\\Users\\szizo\\anaconda3\\lib\\site-packages\\ipykernel\\kernelapp.py\", line 711, in start\n      self.io_loop.start()\n    File \"C:\\Users\\szizo\\anaconda3\\lib\\site-packages\\tornado\\platform\\asyncio.py\", line 199, in start\n      self.asyncio_loop.run_forever()\n    File \"C:\\Users\\szizo\\anaconda3\\lib\\asyncio\\base_events.py\", line 603, in run_forever\n      self._run_once()\n    File \"C:\\Users\\szizo\\anaconda3\\lib\\asyncio\\base_events.py\", line 1906, in _run_once\n      handle._run()\n    File \"C:\\Users\\szizo\\anaconda3\\lib\\asyncio\\events.py\", line 80, in _run\n      self._context.run(self._callback, *self._args)\n    File \"C:\\Users\\szizo\\anaconda3\\lib\\site-packages\\ipykernel\\kernelbase.py\", line 510, in dispatch_queue\n      await self.process_one()\n    File \"C:\\Users\\szizo\\anaconda3\\lib\\site-packages\\ipykernel\\kernelbase.py\", line 499, in process_one\n      await dispatch(*args)\n    File \"C:\\Users\\szizo\\anaconda3\\lib\\site-packages\\ipykernel\\kernelbase.py\", line 406, in dispatch_shell\n      await result\n    File \"C:\\Users\\szizo\\anaconda3\\lib\\site-packages\\ipykernel\\kernelbase.py\", line 729, in execute_request\n      reply_content = await reply_content\n    File \"C:\\Users\\szizo\\anaconda3\\lib\\site-packages\\ipykernel\\ipkernel.py\", line 411, in do_execute\n      res = shell.run_cell(\n    File \"C:\\Users\\szizo\\anaconda3\\lib\\site-packages\\ipykernel\\zmqshell.py\", line 531, in run_cell\n      return super().run_cell(*args, **kwargs)\n    File \"C:\\Users\\szizo\\anaconda3\\lib\\site-packages\\IPython\\core\\interactiveshell.py\", line 2961, in run_cell\n      result = self._run_cell(\n    File \"C:\\Users\\szizo\\anaconda3\\lib\\site-packages\\IPython\\core\\interactiveshell.py\", line 3016, in _run_cell\n      result = runner(coro)\n    File \"C:\\Users\\szizo\\anaconda3\\lib\\site-packages\\IPython\\core\\async_helpers.py\", line 129, in _pseudo_sync_runner\n      coro.send(None)\n    File \"C:\\Users\\szizo\\anaconda3\\lib\\site-packages\\IPython\\core\\interactiveshell.py\", line 3221, in run_cell_async\n      has_raised = await self.run_ast_nodes(code_ast.body, cell_name,\n    File \"C:\\Users\\szizo\\anaconda3\\lib\\site-packages\\IPython\\core\\interactiveshell.py\", line 3400, in run_ast_nodes\n      if await self.run_code(code, result, async_=asy):\n    File \"C:\\Users\\szizo\\anaconda3\\lib\\site-packages\\IPython\\core\\interactiveshell.py\", line 3460, in run_code\n      exec(code_obj, self.user_global_ns, self.user_ns)\n    File \"C:\\Users\\szizo\\AppData\\Local\\Temp\\ipykernel_25756\\4133923578.py\", line 1, in <module>\n      history = model.fit(X_train, y_train, epochs = 30,callbacks = [early_stopping],\n    File \"C:\\Users\\szizo\\anaconda3\\lib\\site-packages\\keras\\utils\\traceback_utils.py\", line 65, in error_handler\n      return fn(*args, **kwargs)\n    File \"C:\\Users\\szizo\\anaconda3\\lib\\site-packages\\keras\\engine\\training.py\", line 1685, in fit\n      tmp_logs = self.train_function(iterator)\n    File \"C:\\Users\\szizo\\anaconda3\\lib\\site-packages\\keras\\engine\\training.py\", line 1284, in train_function\n      return step_function(self, iterator)\n    File \"C:\\Users\\szizo\\anaconda3\\lib\\site-packages\\keras\\engine\\training.py\", line 1268, in step_function\n      outputs = model.distribute_strategy.run(run_step, args=(data,))\n    File \"C:\\Users\\szizo\\anaconda3\\lib\\site-packages\\keras\\engine\\training.py\", line 1249, in run_step\n      outputs = model.train_step(data)\n    File \"C:\\Users\\szizo\\anaconda3\\lib\\site-packages\\keras\\engine\\training.py\", line 1051, in train_step\n      loss = self.compute_loss(x, y, y_pred, sample_weight)\n    File \"C:\\Users\\szizo\\anaconda3\\lib\\site-packages\\keras\\engine\\training.py\", line 1109, in compute_loss\n      return self.compiled_loss(\n    File \"C:\\Users\\szizo\\anaconda3\\lib\\site-packages\\keras\\engine\\compile_utils.py\", line 265, in __call__\n      loss_value = loss_obj(y_t, y_p, sample_weight=sw)\n    File \"C:\\Users\\szizo\\anaconda3\\lib\\site-packages\\keras\\losses.py\", line 142, in __call__\n      losses = call_fn(y_true, y_pred)\n    File \"C:\\Users\\szizo\\anaconda3\\lib\\site-packages\\keras\\losses.py\", line 268, in call\n      return ag_fn(y_true, y_pred, **self._fn_kwargs)\n    File \"C:\\Users\\szizo\\anaconda3\\lib\\site-packages\\keras\\losses.py\", line 2078, in sparse_categorical_crossentropy\n      return backend.sparse_categorical_crossentropy(\n    File \"C:\\Users\\szizo\\anaconda3\\lib\\site-packages\\keras\\backend.py\", line 5660, in sparse_categorical_crossentropy\n      res = tf.nn.sparse_softmax_cross_entropy_with_logits(\nNode: 'sparse_categorical_crossentropy/SparseSoftmaxCrossEntropyWithLogits/SparseSoftmaxCrossEntropyWithLogits'\nReceived a label value of 45 which is outside the valid range of [0, 39).  Label values: 26 26 30 36 28 11 43 11 9 34 32 27 26 16 36 22 28 39 44 27 11 10 10 11 10 23 39 35 45 30 36 17\n\t [[{{node sparse_categorical_crossentropy/SparseSoftmaxCrossEntropyWithLogits/SparseSoftmaxCrossEntropyWithLogits}}]] [Op:__inference_train_function_1644]"
     ]
    }
   ],
   "source": [
    "history = model.fit(X_train, y_train, epochs = 30,callbacks = [early_stopping], \n",
    "                    validation_data= (X_validation, y_validation), verbose=1)"
   ]
  },
  {
   "cell_type": "code",
   "execution_count": null,
   "id": "2f0f7151",
   "metadata": {},
   "outputs": [],
   "source": [
    "test_loss, test_accuracy = model.evaluate(X_test, y_test)\n",
    "print('Test loss: {0: .4f}. Test accuracy: {1: .2f}%'.format(test_loss, test_accuracy*100))"
   ]
  },
  {
   "cell_type": "code",
   "execution_count": null,
   "id": "b17fd18a",
   "metadata": {},
   "outputs": [],
   "source": [
    "X_unk,y_unk = get_frames(df_unk,frame_size,hop_size)\n",
    "X_unk.shape, y_unk.shape"
   ]
  },
  {
   "cell_type": "code",
   "execution_count": null,
   "id": "960dbcc2",
   "metadata": {},
   "outputs": [],
   "source": [
    "y_unk = y_unk -1"
   ]
  },
  {
   "cell_type": "code",
   "execution_count": null,
   "id": "884e4792",
   "metadata": {},
   "outputs": [],
   "source": [
    "# y_unk_done = np.full(len(y_unk), 49)"
   ]
  },
  {
   "cell_type": "code",
   "execution_count": null,
   "id": "b0fcf6ee",
   "metadata": {},
   "outputs": [],
   "source": [
    "# y_unk_done.shape"
   ]
  },
  {
   "cell_type": "code",
   "execution_count": null,
   "id": "e326a0dc",
   "metadata": {},
   "outputs": [],
   "source": [
    "# test_loss, test_accuracy = model.evaluate(X_unk, y_unk)\n",
    "# print('Test loss: {0: .4f}. Test accuracy: {1: .2f}%'.format(test_loss, test_accuracy*100))"
   ]
  },
  {
   "cell_type": "code",
   "execution_count": null,
   "id": "c7a5f826",
   "metadata": {
    "scrolled": true
   },
   "outputs": [],
   "source": [
    "unique_names_known = np.unique(y_test)\n",
    "# unique_names_known = unique_names_known-1\n",
    "len(unique_names_known)"
   ]
  },
  {
   "cell_type": "code",
   "execution_count": null,
   "id": "d1e5ac0c",
   "metadata": {},
   "outputs": [],
   "source": [
    "unique_names_known"
   ]
  },
  {
   "cell_type": "code",
   "execution_count": null,
   "id": "2b89e400",
   "metadata": {},
   "outputs": [],
   "source": [
    "# indices = np.where(y_test == user)[0]\n",
    "#     X_test_user = X_test[indices]\n",
    "#     y_test_user = y_test[indices]\n",
    "#     test_loss, test_accuracy = model.evaluate(X_test_user, y_test_user)\n",
    "#     arr[user] = test_accuracy"
   ]
  },
  {
   "cell_type": "code",
   "execution_count": null,
   "id": "f49dfff2",
   "metadata": {
    "scrolled": true
   },
   "outputs": [],
   "source": [
    "# arr = np.empty(50)\n",
    "# for user in unique_names_known:\n",
    "#     indices = np.where(y_test == user)[0]\n",
    "#     X_test_user = X_test[indices]\n",
    "#     y_test_user = y_test[indices]\n",
    "#     test_loss, test_accuracy = model.evaluate(X_test_user, y_test_user)\n",
    "#     arr[user] = test_accuracy"
   ]
  },
  {
   "cell_type": "code",
   "execution_count": null,
   "id": "978fc1d2",
   "metadata": {},
   "outputs": [],
   "source": [
    "# arr.shape"
   ]
  },
  {
   "cell_type": "code",
   "execution_count": null,
   "id": "7ea256e4",
   "metadata": {},
   "outputs": [],
   "source": [
    "predictions_proba = model.predict(X_test)\n",
    "predictions_proba.shape"
   ]
  },
  {
   "cell_type": "code",
   "execution_count": null,
   "id": "5496a245",
   "metadata": {},
   "outputs": [],
   "source": [
    "y_test[0]"
   ]
  },
  {
   "cell_type": "code",
   "execution_count": null,
   "id": "efd54c2b",
   "metadata": {
    "scrolled": true
   },
   "outputs": [],
   "source": [
    "predictions_proba[0]"
   ]
  },
  {
   "cell_type": "code",
   "execution_count": null,
   "id": "c32436cc",
   "metadata": {},
   "outputs": [],
   "source": [
    "##Known\n",
    "predictions = model.predict(X_test)\n",
    "predictions.shape\n",
    "\n",
    "true_pred_prob = []\n",
    "false_pred_prob = []\n",
    "true_pred_sec_prob = []\n",
    "true_pred_third_prob = []\n",
    "true_pred_fourth_prob = []\n",
    "false_pred_sec_prob = []\n",
    "true_pred_diff_f_s = []\n",
    "false_pred_diff_f_s = []\n",
    "for i in range (0,predictions_proba.shape[0]):\n",
    "    probs_i = predictions_proba[i]\n",
    "    pred_class = np.argmax(probs_i)\n",
    "    true_class = y_test[i]##manual\n",
    "    pred = probs_i[pred_class]\n",
    "    probs_i[pred_class] = np.min(probs_i) - 1\n",
    "    sec_pred = np.max(probs_i)\n",
    "    \n",
    "    sec_pred_class = np.argmax(probs_i)\n",
    "    probs_i[sec_pred_class] = np.min(probs_i) - 1\n",
    "    third_pred = np.max(probs_i)\n",
    "    \n",
    "    third_pred_class = np.argmax(probs_i)\n",
    "    probs_i[third_pred_class] = np.min(probs_i) - 1\n",
    "    fourth_pred = np.max(probs_i)\n",
    "    \n",
    "    \n",
    "    if(pred_class == true_class):#true_pred\n",
    "        true_pred_prob.append(pred)\n",
    "        true_pred_sec_prob.append(sec_pred)\n",
    "        \n",
    "        true_pred_third_prob.append(third_pred)\n",
    "        true_pred_fourth_prob.append(fourth_pred)\n",
    "        \n",
    "        true_pred_diff_f_s.append(pred-sec_pred)\n",
    "    else:\n",
    "        false_pred_prob.append(pred)\n",
    "        false_pred_sec_prob.append(sec_pred)\n",
    "        false_pred_diff_f_s.append(pred-sec_pred)\n",
    "    "
   ]
  },
  {
   "cell_type": "code",
   "execution_count": null,
   "id": "d13ac36b",
   "metadata": {},
   "outputs": [],
   "source": [
    "false_pred_prob"
   ]
  },
  {
   "cell_type": "code",
   "execution_count": null,
   "id": "f3127769",
   "metadata": {},
   "outputs": [],
   "source": []
  },
  {
   "cell_type": "code",
   "execution_count": null,
   "id": "e5accd1c",
   "metadata": {},
   "outputs": [],
   "source": []
  },
  {
   "cell_type": "code",
   "execution_count": null,
   "id": "33ad6197",
   "metadata": {},
   "outputs": [],
   "source": []
  },
  {
   "cell_type": "code",
   "execution_count": null,
   "id": "cefaf5a5",
   "metadata": {},
   "outputs": [],
   "source": []
  },
  {
   "cell_type": "code",
   "execution_count": null,
   "id": "1c14dff4",
   "metadata": {},
   "outputs": [],
   "source": [
    "np.mean(true_pred_fourth_prob)"
   ]
  },
  {
   "cell_type": "code",
   "execution_count": null,
   "id": "87d45e22",
   "metadata": {
    "scrolled": true
   },
   "outputs": [],
   "source": [
    "predictions_proba_unk = model.predict(X_unk)\n",
    "predictions_proba_unk.shape"
   ]
  },
  {
   "cell_type": "code",
   "execution_count": null,
   "id": "974c207a",
   "metadata": {},
   "outputs": [],
   "source": [
    "predictions_proba_unk[0]"
   ]
  },
  {
   "cell_type": "code",
   "execution_count": null,
   "id": "a0c6e761",
   "metadata": {},
   "outputs": [],
   "source": [
    "# ##UNKnown\n",
    "# predictions_proba_unk = model.predict(X_unk)\n",
    "# predictions_proba_unk.shape\n",
    "\n",
    "# true_pred_prob_unk = []\n",
    "# false_pred_prob_unk = []\n",
    "# true_pred_sec_prob_unk = []\n",
    "# false_pred_sec_prob_unk = []\n",
    "# false_pred_third_prob_unk = []\n",
    "# false_pred_fourth_prob_unk = []\n",
    "# true_pred_diff_f_s_unk = []\n",
    "# false_pred_diff_f_s_unk = []\n",
    "# for i_unk in range(0, predictions_proba_unk.shape[0]):\n",
    "#     probs_i_unk = predictions_proba_unk[i_unk]\n",
    "#     pred_class_unk = np.argmax(probs_i_unk)\n",
    "#     true_class_unk = y_unk[i_unk]##manual_unk\n",
    "#     pred_unk = probs_i_unk[pred_class_unk]\n",
    "#     probs_i_unk[probs_i_unk == pred_unk] = np.min(probs_i_unk) - 1\n",
    "#     sec_pred_unk = np.max(probs_i_unk)\n",
    "#     if pred_class_unk == true_class_unk:  # true_pred_unk\n",
    "#         true_pred_prob_unk.append(pred_unk)\n",
    "#         true_pred_sec_prob_unk.append(sec_pred_unk)\n",
    "#         true_pred_diff_f_s_unk.append(pred_unk - sec_pred_unk)\n",
    "#     else:\n",
    "#         false_pred_prob_unk.append(pred_unk)\n",
    "#         false_pred_sec_prob_unk.append(sec_pred_unk)\n",
    "#         false_pred_diff_f_s_unk.append(pred_unk - sec_pred_unk)"
   ]
  },
  {
   "cell_type": "code",
   "execution_count": null,
   "id": "86ecc148",
   "metadata": {},
   "outputs": [],
   "source": []
  },
  {
   "cell_type": "code",
   "execution_count": null,
   "id": "b1dbd2ff",
   "metadata": {},
   "outputs": [],
   "source": [
    "##UNKnown\n",
    "predictions_proba_unk = model.predict(X_unk)\n",
    "predictions_proba_unk.shape\n",
    "\n",
    "true_pred_prob_unk = []\n",
    "false_pred_prob_unk = []\n",
    "true_pred_sec_prob_unk = []\n",
    "false_pred_third_prob_unk = []\n",
    "false_pred_fourth_prob_unk = []\n",
    "false_pred_sec_prob_unk = []\n",
    "true_pred_diff_f_s_unk = []\n",
    "false_pred_diff_f_s_unk = []\n",
    "for i_unk in range(0, predictions_proba_unk.shape[0]):\n",
    "    probs_i_unk = predictions_proba_unk[i_unk]\n",
    "    pred_class_unk = np.argmax(probs_i_unk)\n",
    "    true_class_unk = y_unk[i_unk]##manual_unk\n",
    "    pred_unk = probs_i_unk[pred_class_unk]\n",
    "    probs_i_unk[pred_class_unk] = np.min(probs_i_unk) - 1\n",
    "    sec_pred_unk = np.max(probs_i_unk)\n",
    "    \n",
    "    sec_pred_class_unk = np.argmax(probs_i_unk)\n",
    "    probs_i_unk[sec_pred_class_unk] = np.min(probs_i_unk) - 1\n",
    "    third_pred_unk = np.max(probs_i_unk)\n",
    "    \n",
    "    third_pred_class_unk = np.argmax(probs_i_unk)\n",
    "    probs_i_unk[third_pred_class_unk] = np.min(probs_i_unk) - 1\n",
    "    fourth_pred_unk = np.max(probs_i_unk)\n",
    "    \n",
    "    \n",
    "    if pred_class_unk == true_class_unk:  # true_pred_unk\n",
    "        true_pred_prob_unk.append(pred_unk)\n",
    "        true_pred_sec_prob_unk.append(sec_pred_unk)\n",
    "        \n",
    "        true_pred_third_prob_unk.append(third_pred_unk)\n",
    "        true_pred_fourth_prob_unk.append(fourth_pred_unk)\n",
    "        \n",
    "        true_pred_diff_f_s_unk.append(pred_unk - sec_pred_unk)\n",
    "    else:\n",
    "        false_pred_prob_unk.append(pred_unk)\n",
    "        false_pred_sec_prob_unk.append(sec_pred_unk)\n",
    "        \n",
    "        false_pred_third_prob_unk.append(third_pred_unk)\n",
    "        false_pred_fourth_prob_unk.append(fourth_pred_unk)\n",
    "        \n",
    "        false_pred_diff_f_s_unk.append(pred_unk - sec_pred_unk)"
   ]
  },
  {
   "cell_type": "code",
   "execution_count": null,
   "id": "45c94f8c",
   "metadata": {},
   "outputs": [],
   "source": [
    "false_pred_prob_unk"
   ]
  },
  {
   "cell_type": "code",
   "execution_count": null,
   "id": "2d869c42",
   "metadata": {
    "scrolled": true
   },
   "outputs": [],
   "source": [
    "np.mean(false_pred_prob_unk), np.mean(true_pred_prob)"
   ]
  },
  {
   "cell_type": "code",
   "execution_count": null,
   "id": "97354089",
   "metadata": {
    "scrolled": false
   },
   "outputs": [],
   "source": [
    "np.mean(false_pred_sec_prob_unk), np.mean(true_pred_sec_prob)"
   ]
  },
  {
   "cell_type": "code",
   "execution_count": null,
   "id": "8a876a50",
   "metadata": {
    "scrolled": true
   },
   "outputs": [],
   "source": [
    "np.mean(false_pred_third_prob_unk), np.mean(true_pred_third_prob)"
   ]
  },
  {
   "cell_type": "code",
   "execution_count": null,
   "id": "44643dd1",
   "metadata": {},
   "outputs": [],
   "source": [
    "np.mean(false_pred_fourth_prob_unk), np.mean(true_pred_fourth_prob)"
   ]
  },
  {
   "cell_type": "code",
   "execution_count": null,
   "id": "8a818466",
   "metadata": {
    "scrolled": true
   },
   "outputs": [],
   "source": [
    "np.mean(false_pred_diff_f_s_unk), np.mean(true_pred_diff_f_s)"
   ]
  },
  {
   "cell_type": "code",
   "execution_count": null,
   "id": "52cb841f",
   "metadata": {},
   "outputs": [],
   "source": []
  },
  {
   "cell_type": "code",
   "execution_count": null,
   "id": "f17901ae",
   "metadata": {},
   "outputs": [],
   "source": [
    "known_stats = pd.DataFrame(columns=['1st prob','2nd prob','3rd prob', '4th prob', '1st 2nd diff'])\n",
    "known_stats"
   ]
  },
  {
   "cell_type": "code",
   "execution_count": null,
   "id": "4f3437ce",
   "metadata": {},
   "outputs": [],
   "source": [
    "known_stats['1st prob'] = true_pred_prob\n",
    "known_stats['2nd prob'] = true_pred_sec_prob\n",
    "known_stats['3rd prob'] = true_pred_third_prob\n",
    "known_stats['4th prob'] = true_pred_fourth_prob\n",
    "known_stats['1st 2nd diff'] = true_pred_diff_f_s"
   ]
  },
  {
   "cell_type": "code",
   "execution_count": null,
   "id": "8bed33fe",
   "metadata": {},
   "outputs": [],
   "source": [
    "known_stats"
   ]
  },
  {
   "cell_type": "code",
   "execution_count": null,
   "id": "e8e842f9",
   "metadata": {},
   "outputs": [],
   "source": []
  },
  {
   "cell_type": "code",
   "execution_count": null,
   "id": "d417e692",
   "metadata": {},
   "outputs": [],
   "source": [
    "unknown_stats = pd.DataFrame(columns=['1st prob','2nd prob','3rd prob', '4th prob', '1st 2nd diff'])\n",
    "unknown_stats"
   ]
  },
  {
   "cell_type": "code",
   "execution_count": null,
   "id": "2e481662",
   "metadata": {},
   "outputs": [],
   "source": [
    "unknown_stats['1st prob'] = false_pred_prob_unk\n",
    "unknown_stats['2nd prob'] = false_pred_sec_prob_unk\n",
    "unknown_stats['3rd prob'] = false_pred_third_prob_unk\n",
    "unknown_stats['4th prob'] = false_pred_fourth_prob_unk\n",
    "unknown_stats['1st 2nd diff'] = false_pred_diff_f_s_unk"
   ]
  },
  {
   "cell_type": "code",
   "execution_count": null,
   "id": "4a97fda6",
   "metadata": {},
   "outputs": [],
   "source": [
    "unknown_stats"
   ]
  },
  {
   "cell_type": "code",
   "execution_count": null,
   "id": "4cd7387d",
   "metadata": {},
   "outputs": [],
   "source": []
  },
  {
   "cell_type": "code",
   "execution_count": null,
   "id": "2568592c",
   "metadata": {},
   "outputs": [],
   "source": [
    "known_stats_train, known_stats_test = train_test_split(known_stats, test_size = 0.3, random_state = 0)\n"
   ]
  },
  {
   "cell_type": "code",
   "execution_count": null,
   "id": "a48fe4da",
   "metadata": {},
   "outputs": [],
   "source": [
    "# Create an instance of OneClassSVM\n",
    "svm = OneClassSVM(kernel='linear', nu=0.25)  # You can adjust the hyperparameters as per your needs\n",
    "\n",
    "# Train the model using your training data\n",
    "svm.fit(known_stats_train)\n",
    "\n",
    "# Predict the labels for your test data\n",
    "\n",
    "\n",
    "# The predictions will contain +1 for inliers (normal instances) and -1 for outliers (anomalous instances)\n"
   ]
  },
  {
   "cell_type": "code",
   "execution_count": null,
   "id": "3d7148b9",
   "metadata": {},
   "outputs": [],
   "source": [
    "predictions = svm.predict(known_stats_test)\n",
    "known_false, known_true= np.count_nonzero(predictions == -1), np.count_nonzero(predictions == 1)\n",
    "known_true, known_false"
   ]
  },
  {
   "cell_type": "code",
   "execution_count": null,
   "id": "14bcf462",
   "metadata": {},
   "outputs": [],
   "source": [
    "predictions_unk = svm.predict(unknown_stats)\n",
    "unk_true, unk_false =np.count_nonzero(predictions_unk == -1), np.count_nonzero(predictions_unk == 1)\n",
    "unk_true, unk_false"
   ]
  },
  {
   "cell_type": "code",
   "execution_count": null,
   "id": "293db3d2",
   "metadata": {},
   "outputs": [],
   "source": [
    "acc_known = (known_true/(known_true+known_false))*100\n",
    "acc_unk = (unk_true/(unk_true+unk_false))*100\n",
    "acc_known, acc_unk"
   ]
  },
  {
   "cell_type": "code",
   "execution_count": null,
   "id": "c372f1fc",
   "metadata": {},
   "outputs": [],
   "source": []
  },
  {
   "cell_type": "code",
   "execution_count": null,
   "id": "d624a6da",
   "metadata": {},
   "outputs": [],
   "source": []
  }
 ],
 "metadata": {
  "kernelspec": {
   "display_name": "Python 3 (ipykernel)",
   "language": "python",
   "name": "python3"
  },
  "language_info": {
   "codemirror_mode": {
    "name": "ipython",
    "version": 3
   },
   "file_extension": ".py",
   "mimetype": "text/x-python",
   "name": "python",
   "nbconvert_exporter": "python",
   "pygments_lexer": "ipython3",
   "version": "3.10.9"
  }
 },
 "nbformat": 4,
 "nbformat_minor": 5
}
