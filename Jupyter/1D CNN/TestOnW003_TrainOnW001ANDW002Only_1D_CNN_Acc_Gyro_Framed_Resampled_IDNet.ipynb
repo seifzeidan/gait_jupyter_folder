{
 "cells": [
  {
   "cell_type": "code",
   "execution_count": 1,
   "id": "44faa98a",
   "metadata": {},
   "outputs": [
    {
     "name": "stdout",
     "output_type": "stream",
     "text": [
      "2.12.0\n"
     ]
    }
   ],
   "source": [
    "import tensorflow as tf\n",
    "from tensorflow.keras import Sequential\n",
    "from tensorflow.keras.layers import Flatten, Dense, Dropout, BatchNormalization\n",
    "from tensorflow.keras.layers import Conv1D, MaxPooling1D\n",
    "from tensorflow.keras.optimizers import Adam\n",
    "print(tf.__version__)"
   ]
  },
  {
   "cell_type": "code",
   "execution_count": 2,
   "id": "1c3f367f",
   "metadata": {},
   "outputs": [],
   "source": [
    "import pandas as pd\n",
    "import numpy as np\n",
    "import os\n",
    "import math\n",
    "import matplotlib.pyplot as plt\n",
    "from sklearn.model_selection import train_test_split\n",
    "from sklearn.preprocessing import StandardScaler, LabelEncoder"
   ]
  },
  {
   "cell_type": "code",
   "execution_count": 3,
   "id": "9e899298",
   "metadata": {},
   "outputs": [],
   "source": [
    "# filepath = \"merged_u1-50_w001_resampled.csv\"\n",
    "filepath = \"D:/online dataset csv files preprocessing/merged_u1-50_w001_resampled.csv\"\n",
    "\n",
    "df_original = pd.read_csv(filepath)"
   ]
  },
  {
   "cell_type": "code",
   "execution_count": 4,
   "id": "d62ff474",
   "metadata": {},
   "outputs": [],
   "source": [
    "# filepath = \"merged_u1-50_w001_resampled.csv\"\n",
    "filepath = \"D:/online dataset csv files preprocessing/merged_31u_w002_resampled.csv\"\n",
    "\n",
    "df_original_w002 = pd.read_csv(filepath)"
   ]
  },
  {
   "cell_type": "code",
   "execution_count": 5,
   "id": "00fe5e2f",
   "metadata": {},
   "outputs": [
    {
     "data": {
      "text/html": [
       "<div>\n",
       "<style scoped>\n",
       "    .dataframe tbody tr th:only-of-type {\n",
       "        vertical-align: middle;\n",
       "    }\n",
       "\n",
       "    .dataframe tbody tr th {\n",
       "        vertical-align: top;\n",
       "    }\n",
       "\n",
       "    .dataframe thead th {\n",
       "        text-align: right;\n",
       "    }\n",
       "</style>\n",
       "<table border=\"1\" class=\"dataframe\">\n",
       "  <thead>\n",
       "    <tr style=\"text-align: right;\">\n",
       "      <th></th>\n",
       "      <th>timestamp</th>\n",
       "      <th>LAx</th>\n",
       "      <th>LAy</th>\n",
       "      <th>LAz</th>\n",
       "      <th>GYx</th>\n",
       "      <th>GYy</th>\n",
       "      <th>GYz</th>\n",
       "      <th>name</th>\n",
       "    </tr>\n",
       "  </thead>\n",
       "  <tbody>\n",
       "    <tr>\n",
       "      <th>0</th>\n",
       "      <td>924003860000000</td>\n",
       "      <td>1.013453</td>\n",
       "      <td>2.212255</td>\n",
       "      <td>-4.202375</td>\n",
       "      <td>0.480812</td>\n",
       "      <td>-2.015816</td>\n",
       "      <td>-0.597282</td>\n",
       "      <td>1</td>\n",
       "    </tr>\n",
       "    <tr>\n",
       "      <th>1</th>\n",
       "      <td>924003870000000</td>\n",
       "      <td>1.088615</td>\n",
       "      <td>2.498633</td>\n",
       "      <td>-4.932268</td>\n",
       "      <td>0.374527</td>\n",
       "      <td>-1.864929</td>\n",
       "      <td>-0.566742</td>\n",
       "      <td>1</td>\n",
       "    </tr>\n",
       "    <tr>\n",
       "      <th>2</th>\n",
       "      <td>924003880000000</td>\n",
       "      <td>1.199771</td>\n",
       "      <td>1.775632</td>\n",
       "      <td>-4.772740</td>\n",
       "      <td>0.118362</td>\n",
       "      <td>-1.616109</td>\n",
       "      <td>-0.313838</td>\n",
       "      <td>1</td>\n",
       "    </tr>\n",
       "    <tr>\n",
       "      <th>3</th>\n",
       "      <td>924003890000000</td>\n",
       "      <td>1.143096</td>\n",
       "      <td>0.354056</td>\n",
       "      <td>-3.707235</td>\n",
       "      <td>-0.239380</td>\n",
       "      <td>-1.185646</td>\n",
       "      <td>0.081375</td>\n",
       "      <td>1</td>\n",
       "    </tr>\n",
       "    <tr>\n",
       "      <th>4</th>\n",
       "      <td>924003900000000</td>\n",
       "      <td>1.413260</td>\n",
       "      <td>-0.693596</td>\n",
       "      <td>-1.660237</td>\n",
       "      <td>-0.468460</td>\n",
       "      <td>-0.810585</td>\n",
       "      <td>0.311668</td>\n",
       "      <td>1</td>\n",
       "    </tr>\n",
       "    <tr>\n",
       "      <th>...</th>\n",
       "      <td>...</td>\n",
       "      <td>...</td>\n",
       "      <td>...</td>\n",
       "      <td>...</td>\n",
       "      <td>...</td>\n",
       "      <td>...</td>\n",
       "      <td>...</td>\n",
       "      <td>...</td>\n",
       "    </tr>\n",
       "    <tr>\n",
       "      <th>1175114</th>\n",
       "      <td>331060670000000</td>\n",
       "      <td>-0.132586</td>\n",
       "      <td>-4.678891</td>\n",
       "      <td>6.665595</td>\n",
       "      <td>2.288254</td>\n",
       "      <td>2.362877</td>\n",
       "      <td>-1.897003</td>\n",
       "      <td>46</td>\n",
       "    </tr>\n",
       "    <tr>\n",
       "      <th>1175115</th>\n",
       "      <td>331060680000000</td>\n",
       "      <td>0.311918</td>\n",
       "      <td>-5.307998</td>\n",
       "      <td>6.507066</td>\n",
       "      <td>2.281822</td>\n",
       "      <td>2.470123</td>\n",
       "      <td>-1.592957</td>\n",
       "      <td>46</td>\n",
       "    </tr>\n",
       "    <tr>\n",
       "      <th>1175116</th>\n",
       "      <td>331060690000000</td>\n",
       "      <td>0.635345</td>\n",
       "      <td>-6.233653</td>\n",
       "      <td>5.871137</td>\n",
       "      <td>2.243980</td>\n",
       "      <td>2.550949</td>\n",
       "      <td>-1.317612</td>\n",
       "      <td>46</td>\n",
       "    </tr>\n",
       "    <tr>\n",
       "      <th>1175117</th>\n",
       "      <td>331060700000000</td>\n",
       "      <td>0.552270</td>\n",
       "      <td>-7.377260</td>\n",
       "      <td>5.499313</td>\n",
       "      <td>2.154648</td>\n",
       "      <td>2.634674</td>\n",
       "      <td>-1.097664</td>\n",
       "      <td>46</td>\n",
       "    </tr>\n",
       "    <tr>\n",
       "      <th>1175118</th>\n",
       "      <td>331060710000000</td>\n",
       "      <td>0.163980</td>\n",
       "      <td>-7.892599</td>\n",
       "      <td>6.078267</td>\n",
       "      <td>2.040344</td>\n",
       "      <td>2.815781</td>\n",
       "      <td>-0.929276</td>\n",
       "      <td>46</td>\n",
       "    </tr>\n",
       "  </tbody>\n",
       "</table>\n",
       "<p>1175119 rows × 8 columns</p>\n",
       "</div>"
      ],
      "text/plain": [
       "               timestamp       LAx       LAy       LAz       GYx       GYy  \\\n",
       "0        924003860000000  1.013453  2.212255 -4.202375  0.480812 -2.015816   \n",
       "1        924003870000000  1.088615  2.498633 -4.932268  0.374527 -1.864929   \n",
       "2        924003880000000  1.199771  1.775632 -4.772740  0.118362 -1.616109   \n",
       "3        924003890000000  1.143096  0.354056 -3.707235 -0.239380 -1.185646   \n",
       "4        924003900000000  1.413260 -0.693596 -1.660237 -0.468460 -0.810585   \n",
       "...                  ...       ...       ...       ...       ...       ...   \n",
       "1175114  331060670000000 -0.132586 -4.678891  6.665595  2.288254  2.362877   \n",
       "1175115  331060680000000  0.311918 -5.307998  6.507066  2.281822  2.470123   \n",
       "1175116  331060690000000  0.635345 -6.233653  5.871137  2.243980  2.550949   \n",
       "1175117  331060700000000  0.552270 -7.377260  5.499313  2.154648  2.634674   \n",
       "1175118  331060710000000  0.163980 -7.892599  6.078267  2.040344  2.815781   \n",
       "\n",
       "              GYz  name  \n",
       "0       -0.597282     1  \n",
       "1       -0.566742     1  \n",
       "2       -0.313838     1  \n",
       "3        0.081375     1  \n",
       "4        0.311668     1  \n",
       "...           ...   ...  \n",
       "1175114 -1.897003    46  \n",
       "1175115 -1.592957    46  \n",
       "1175116 -1.317612    46  \n",
       "1175117 -1.097664    46  \n",
       "1175118 -0.929276    46  \n",
       "\n",
       "[1175119 rows x 8 columns]"
      ]
     },
     "execution_count": 5,
     "metadata": {},
     "output_type": "execute_result"
    }
   ],
   "source": [
    "df_original_w002"
   ]
  },
  {
   "cell_type": "code",
   "execution_count": 6,
   "id": "bcd5954e",
   "metadata": {
    "scrolled": true
   },
   "outputs": [
    {
     "data": {
      "text/html": [
       "<div>\n",
       "<style scoped>\n",
       "    .dataframe tbody tr th:only-of-type {\n",
       "        vertical-align: middle;\n",
       "    }\n",
       "\n",
       "    .dataframe tbody tr th {\n",
       "        vertical-align: top;\n",
       "    }\n",
       "\n",
       "    .dataframe thead th {\n",
       "        text-align: right;\n",
       "    }\n",
       "</style>\n",
       "<table border=\"1\" class=\"dataframe\">\n",
       "  <thead>\n",
       "    <tr style=\"text-align: right;\">\n",
       "      <th></th>\n",
       "      <th>timestamp</th>\n",
       "      <th>LAx</th>\n",
       "      <th>LAy</th>\n",
       "      <th>LAz</th>\n",
       "      <th>GYx</th>\n",
       "      <th>GYy</th>\n",
       "      <th>GYz</th>\n",
       "      <th>name</th>\n",
       "    </tr>\n",
       "  </thead>\n",
       "  <tbody>\n",
       "    <tr>\n",
       "      <th>0</th>\n",
       "      <td>924313410000000</td>\n",
       "      <td>1.242813</td>\n",
       "      <td>-0.160181</td>\n",
       "      <td>-0.900440</td>\n",
       "      <td>0.194931</td>\n",
       "      <td>-0.004242</td>\n",
       "      <td>0.163818</td>\n",
       "      <td>1</td>\n",
       "    </tr>\n",
       "    <tr>\n",
       "      <th>1</th>\n",
       "      <td>924313420000000</td>\n",
       "      <td>1.117246</td>\n",
       "      <td>-0.187921</td>\n",
       "      <td>-1.529893</td>\n",
       "      <td>0.236458</td>\n",
       "      <td>0.076378</td>\n",
       "      <td>0.133293</td>\n",
       "      <td>1</td>\n",
       "    </tr>\n",
       "    <tr>\n",
       "      <th>2</th>\n",
       "      <td>924313430000000</td>\n",
       "      <td>0.912846</td>\n",
       "      <td>-0.192566</td>\n",
       "      <td>-1.570929</td>\n",
       "      <td>0.226074</td>\n",
       "      <td>0.012253</td>\n",
       "      <td>0.108246</td>\n",
       "      <td>1</td>\n",
       "    </tr>\n",
       "    <tr>\n",
       "      <th>3</th>\n",
       "      <td>924313440000000</td>\n",
       "      <td>0.874858</td>\n",
       "      <td>-0.227208</td>\n",
       "      <td>-1.453511</td>\n",
       "      <td>0.139336</td>\n",
       "      <td>-0.050667</td>\n",
       "      <td>0.085030</td>\n",
       "      <td>1</td>\n",
       "    </tr>\n",
       "    <tr>\n",
       "      <th>4</th>\n",
       "      <td>924313450000000</td>\n",
       "      <td>0.834022</td>\n",
       "      <td>-0.282976</td>\n",
       "      <td>-1.292671</td>\n",
       "      <td>-0.013374</td>\n",
       "      <td>-0.109314</td>\n",
       "      <td>0.078308</td>\n",
       "      <td>1</td>\n",
       "    </tr>\n",
       "    <tr>\n",
       "      <th>...</th>\n",
       "      <td>...</td>\n",
       "      <td>...</td>\n",
       "      <td>...</td>\n",
       "      <td>...</td>\n",
       "      <td>...</td>\n",
       "      <td>...</td>\n",
       "      <td>...</td>\n",
       "      <td>...</td>\n",
       "    </tr>\n",
       "    <tr>\n",
       "      <th>2055043</th>\n",
       "      <td>1368327120000000</td>\n",
       "      <td>-9.502644</td>\n",
       "      <td>-7.178468</td>\n",
       "      <td>4.246279</td>\n",
       "      <td>-2.834417</td>\n",
       "      <td>-0.120428</td>\n",
       "      <td>-0.987857</td>\n",
       "      <td>50</td>\n",
       "    </tr>\n",
       "    <tr>\n",
       "      <th>2055044</th>\n",
       "      <td>1368327130000000</td>\n",
       "      <td>-9.443804</td>\n",
       "      <td>-7.698220</td>\n",
       "      <td>3.059675</td>\n",
       "      <td>-2.638940</td>\n",
       "      <td>0.561997</td>\n",
       "      <td>-0.947715</td>\n",
       "      <td>50</td>\n",
       "    </tr>\n",
       "    <tr>\n",
       "      <th>2055045</th>\n",
       "      <td>1368327140000000</td>\n",
       "      <td>-8.345459</td>\n",
       "      <td>-6.805815</td>\n",
       "      <td>1.853457</td>\n",
       "      <td>-2.483606</td>\n",
       "      <td>1.225222</td>\n",
       "      <td>-0.954696</td>\n",
       "      <td>50</td>\n",
       "    </tr>\n",
       "    <tr>\n",
       "      <th>2055046</th>\n",
       "      <td>1368327150000000</td>\n",
       "      <td>-7.580540</td>\n",
       "      <td>-5.629017</td>\n",
       "      <td>1.559257</td>\n",
       "      <td>-2.429500</td>\n",
       "      <td>1.769765</td>\n",
       "      <td>-1.003565</td>\n",
       "      <td>50</td>\n",
       "    </tr>\n",
       "    <tr>\n",
       "      <th>2055047</th>\n",
       "      <td>1368327160000000</td>\n",
       "      <td>-6.952915</td>\n",
       "      <td>-4.589512</td>\n",
       "      <td>1.755390</td>\n",
       "      <td>-2.426010</td>\n",
       "      <td>2.099633</td>\n",
       "      <td>-0.980876</td>\n",
       "      <td>50</td>\n",
       "    </tr>\n",
       "  </tbody>\n",
       "</table>\n",
       "<p>2055048 rows × 8 columns</p>\n",
       "</div>"
      ],
      "text/plain": [
       "                timestamp       LAx       LAy       LAz       GYx       GYy  \\\n",
       "0         924313410000000  1.242813 -0.160181 -0.900440  0.194931 -0.004242   \n",
       "1         924313420000000  1.117246 -0.187921 -1.529893  0.236458  0.076378   \n",
       "2         924313430000000  0.912846 -0.192566 -1.570929  0.226074  0.012253   \n",
       "3         924313440000000  0.874858 -0.227208 -1.453511  0.139336 -0.050667   \n",
       "4         924313450000000  0.834022 -0.282976 -1.292671 -0.013374 -0.109314   \n",
       "...                   ...       ...       ...       ...       ...       ...   \n",
       "2055043  1368327120000000 -9.502644 -7.178468  4.246279 -2.834417 -0.120428   \n",
       "2055044  1368327130000000 -9.443804 -7.698220  3.059675 -2.638940  0.561997   \n",
       "2055045  1368327140000000 -8.345459 -6.805815  1.853457 -2.483606  1.225222   \n",
       "2055046  1368327150000000 -7.580540 -5.629017  1.559257 -2.429500  1.769765   \n",
       "2055047  1368327160000000 -6.952915 -4.589512  1.755390 -2.426010  2.099633   \n",
       "\n",
       "              GYz  name  \n",
       "0        0.163818     1  \n",
       "1        0.133293     1  \n",
       "2        0.108246     1  \n",
       "3        0.085030     1  \n",
       "4        0.078308     1  \n",
       "...           ...   ...  \n",
       "2055043 -0.987857    50  \n",
       "2055044 -0.947715    50  \n",
       "2055045 -0.954696    50  \n",
       "2055046 -1.003565    50  \n",
       "2055047 -0.980876    50  \n",
       "\n",
       "[2055048 rows x 8 columns]"
      ]
     },
     "execution_count": 6,
     "metadata": {},
     "output_type": "execute_result"
    }
   ],
   "source": [
    "df_original"
   ]
  },
  {
   "cell_type": "code",
   "execution_count": 7,
   "id": "adcae6ab",
   "metadata": {},
   "outputs": [],
   "source": [
    "df_original = pd.concat([df_original, df_original_w002], axis=0)"
   ]
  },
  {
   "cell_type": "code",
   "execution_count": 8,
   "id": "00f28158",
   "metadata": {},
   "outputs": [
    {
     "data": {
      "text/html": [
       "<div>\n",
       "<style scoped>\n",
       "    .dataframe tbody tr th:only-of-type {\n",
       "        vertical-align: middle;\n",
       "    }\n",
       "\n",
       "    .dataframe tbody tr th {\n",
       "        vertical-align: top;\n",
       "    }\n",
       "\n",
       "    .dataframe thead th {\n",
       "        text-align: right;\n",
       "    }\n",
       "</style>\n",
       "<table border=\"1\" class=\"dataframe\">\n",
       "  <thead>\n",
       "    <tr style=\"text-align: right;\">\n",
       "      <th></th>\n",
       "      <th>timestamp</th>\n",
       "      <th>LAx</th>\n",
       "      <th>LAy</th>\n",
       "      <th>LAz</th>\n",
       "      <th>GYx</th>\n",
       "      <th>GYy</th>\n",
       "      <th>GYz</th>\n",
       "      <th>name</th>\n",
       "    </tr>\n",
       "  </thead>\n",
       "  <tbody>\n",
       "    <tr>\n",
       "      <th>0</th>\n",
       "      <td>924313410000000</td>\n",
       "      <td>1.242813</td>\n",
       "      <td>-0.160181</td>\n",
       "      <td>-0.900440</td>\n",
       "      <td>0.194931</td>\n",
       "      <td>-0.004242</td>\n",
       "      <td>0.163818</td>\n",
       "      <td>1</td>\n",
       "    </tr>\n",
       "    <tr>\n",
       "      <th>1</th>\n",
       "      <td>924313420000000</td>\n",
       "      <td>1.117246</td>\n",
       "      <td>-0.187921</td>\n",
       "      <td>-1.529893</td>\n",
       "      <td>0.236458</td>\n",
       "      <td>0.076378</td>\n",
       "      <td>0.133293</td>\n",
       "      <td>1</td>\n",
       "    </tr>\n",
       "    <tr>\n",
       "      <th>2</th>\n",
       "      <td>924313430000000</td>\n",
       "      <td>0.912846</td>\n",
       "      <td>-0.192566</td>\n",
       "      <td>-1.570929</td>\n",
       "      <td>0.226074</td>\n",
       "      <td>0.012253</td>\n",
       "      <td>0.108246</td>\n",
       "      <td>1</td>\n",
       "    </tr>\n",
       "    <tr>\n",
       "      <th>3</th>\n",
       "      <td>924313440000000</td>\n",
       "      <td>0.874858</td>\n",
       "      <td>-0.227208</td>\n",
       "      <td>-1.453511</td>\n",
       "      <td>0.139336</td>\n",
       "      <td>-0.050667</td>\n",
       "      <td>0.085030</td>\n",
       "      <td>1</td>\n",
       "    </tr>\n",
       "    <tr>\n",
       "      <th>4</th>\n",
       "      <td>924313450000000</td>\n",
       "      <td>0.834022</td>\n",
       "      <td>-0.282976</td>\n",
       "      <td>-1.292671</td>\n",
       "      <td>-0.013374</td>\n",
       "      <td>-0.109314</td>\n",
       "      <td>0.078308</td>\n",
       "      <td>1</td>\n",
       "    </tr>\n",
       "    <tr>\n",
       "      <th>...</th>\n",
       "      <td>...</td>\n",
       "      <td>...</td>\n",
       "      <td>...</td>\n",
       "      <td>...</td>\n",
       "      <td>...</td>\n",
       "      <td>...</td>\n",
       "      <td>...</td>\n",
       "      <td>...</td>\n",
       "    </tr>\n",
       "    <tr>\n",
       "      <th>1175114</th>\n",
       "      <td>331060670000000</td>\n",
       "      <td>-0.132586</td>\n",
       "      <td>-4.678891</td>\n",
       "      <td>6.665595</td>\n",
       "      <td>2.288254</td>\n",
       "      <td>2.362877</td>\n",
       "      <td>-1.897003</td>\n",
       "      <td>46</td>\n",
       "    </tr>\n",
       "    <tr>\n",
       "      <th>1175115</th>\n",
       "      <td>331060680000000</td>\n",
       "      <td>0.311918</td>\n",
       "      <td>-5.307998</td>\n",
       "      <td>6.507066</td>\n",
       "      <td>2.281822</td>\n",
       "      <td>2.470123</td>\n",
       "      <td>-1.592957</td>\n",
       "      <td>46</td>\n",
       "    </tr>\n",
       "    <tr>\n",
       "      <th>1175116</th>\n",
       "      <td>331060690000000</td>\n",
       "      <td>0.635345</td>\n",
       "      <td>-6.233653</td>\n",
       "      <td>5.871137</td>\n",
       "      <td>2.243980</td>\n",
       "      <td>2.550949</td>\n",
       "      <td>-1.317612</td>\n",
       "      <td>46</td>\n",
       "    </tr>\n",
       "    <tr>\n",
       "      <th>1175117</th>\n",
       "      <td>331060700000000</td>\n",
       "      <td>0.552270</td>\n",
       "      <td>-7.377260</td>\n",
       "      <td>5.499313</td>\n",
       "      <td>2.154648</td>\n",
       "      <td>2.634674</td>\n",
       "      <td>-1.097664</td>\n",
       "      <td>46</td>\n",
       "    </tr>\n",
       "    <tr>\n",
       "      <th>1175118</th>\n",
       "      <td>331060710000000</td>\n",
       "      <td>0.163980</td>\n",
       "      <td>-7.892599</td>\n",
       "      <td>6.078267</td>\n",
       "      <td>2.040344</td>\n",
       "      <td>2.815781</td>\n",
       "      <td>-0.929276</td>\n",
       "      <td>46</td>\n",
       "    </tr>\n",
       "  </tbody>\n",
       "</table>\n",
       "<p>3230167 rows × 8 columns</p>\n",
       "</div>"
      ],
      "text/plain": [
       "               timestamp       LAx       LAy       LAz       GYx       GYy  \\\n",
       "0        924313410000000  1.242813 -0.160181 -0.900440  0.194931 -0.004242   \n",
       "1        924313420000000  1.117246 -0.187921 -1.529893  0.236458  0.076378   \n",
       "2        924313430000000  0.912846 -0.192566 -1.570929  0.226074  0.012253   \n",
       "3        924313440000000  0.874858 -0.227208 -1.453511  0.139336 -0.050667   \n",
       "4        924313450000000  0.834022 -0.282976 -1.292671 -0.013374 -0.109314   \n",
       "...                  ...       ...       ...       ...       ...       ...   \n",
       "1175114  331060670000000 -0.132586 -4.678891  6.665595  2.288254  2.362877   \n",
       "1175115  331060680000000  0.311918 -5.307998  6.507066  2.281822  2.470123   \n",
       "1175116  331060690000000  0.635345 -6.233653  5.871137  2.243980  2.550949   \n",
       "1175117  331060700000000  0.552270 -7.377260  5.499313  2.154648  2.634674   \n",
       "1175118  331060710000000  0.163980 -7.892599  6.078267  2.040344  2.815781   \n",
       "\n",
       "              GYz  name  \n",
       "0        0.163818     1  \n",
       "1        0.133293     1  \n",
       "2        0.108246     1  \n",
       "3        0.085030     1  \n",
       "4        0.078308     1  \n",
       "...           ...   ...  \n",
       "1175114 -1.897003    46  \n",
       "1175115 -1.592957    46  \n",
       "1175116 -1.317612    46  \n",
       "1175117 -1.097664    46  \n",
       "1175118 -0.929276    46  \n",
       "\n",
       "[3230167 rows x 8 columns]"
      ]
     },
     "execution_count": 8,
     "metadata": {},
     "output_type": "execute_result"
    }
   ],
   "source": [
    "df_original"
   ]
  },
  {
   "cell_type": "code",
   "execution_count": 9,
   "id": "44374d55",
   "metadata": {},
   "outputs": [
    {
     "data": {
      "text/plain": [
       "timestamp    0\n",
       "LAx          0\n",
       "LAy          0\n",
       "LAz          0\n",
       "GYx          0\n",
       "GYy          0\n",
       "GYz          0\n",
       "name         0\n",
       "dtype: int64"
      ]
     },
     "execution_count": 9,
     "metadata": {},
     "output_type": "execute_result"
    }
   ],
   "source": [
    "df_original.isnull().sum()"
   ]
  },
  {
   "cell_type": "code",
   "execution_count": 10,
   "id": "eda07b86",
   "metadata": {},
   "outputs": [
    {
     "name": "stdout",
     "output_type": "stream",
     "text": [
      "<class 'pandas.core.frame.DataFrame'>\n",
      "Int64Index: 3230167 entries, 0 to 1175118\n",
      "Data columns (total 8 columns):\n",
      " #   Column     Dtype  \n",
      "---  ------     -----  \n",
      " 0   timestamp  int64  \n",
      " 1   LAx        float64\n",
      " 2   LAy        float64\n",
      " 3   LAz        float64\n",
      " 4   GYx        float64\n",
      " 5   GYy        float64\n",
      " 6   GYz        float64\n",
      " 7   name       int64  \n",
      "dtypes: float64(6), int64(2)\n",
      "memory usage: 221.8 MB\n"
     ]
    }
   ],
   "source": [
    "df_original.info()"
   ]
  },
  {
   "cell_type": "code",
   "execution_count": 11,
   "id": "54b2a1e4",
   "metadata": {},
   "outputs": [
    {
     "data": {
      "text/plain": [
       "18    142666\n",
       "3     119888\n",
       "29    107965\n",
       "2     107959\n",
       "19    101947\n",
       "7      95892\n",
       "34     95765\n",
       "35     89944\n",
       "30     89620\n",
       "27     89294\n",
       "37     84521\n",
       "20     83894\n",
       "4      83875\n",
       "28     76759\n",
       "12     74718\n",
       "16     71914\n",
       "23     70967\n",
       "47     65984\n",
       "26     65900\n",
       "31     65893\n",
       "36     63230\n",
       "40     61178\n",
       "8      60036\n",
       "6      60005\n",
       "9      59986\n",
       "41     59984\n",
       "13     59984\n",
       "39     59958\n",
       "24     59929\n",
       "14     59916\n",
       "46     59889\n",
       "38     59015\n",
       "33     57409\n",
       "25     57340\n",
       "10     57327\n",
       "32     52339\n",
       "1      50464\n",
       "11     47946\n",
       "21     47636\n",
       "49     47614\n",
       "43     44885\n",
       "42     41946\n",
       "44     31414\n",
       "17     29997\n",
       "48     29990\n",
       "50     29988\n",
       "45     26022\n",
       "5      25792\n",
       "22     25598\n",
       "15     17985\n",
       "Name: name, dtype: int64"
      ]
     },
     "execution_count": 11,
     "metadata": {},
     "output_type": "execute_result"
    }
   ],
   "source": [
    "df_original['name'].value_counts()"
   ]
  },
  {
   "cell_type": "code",
   "execution_count": 12,
   "id": "bdac5aae",
   "metadata": {},
   "outputs": [
    {
     "data": {
      "text/plain": [
       "(3230167, 7)"
      ]
     },
     "execution_count": 12,
     "metadata": {},
     "output_type": "execute_result"
    }
   ],
   "source": [
    "df_Xtime = df_original.copy()\n",
    "df_Xtime = df_Xtime.drop(['timestamp'], axis = 1).copy()\n",
    "df_Xtime.shape"
   ]
  },
  {
   "cell_type": "code",
   "execution_count": 13,
   "id": "10931f68",
   "metadata": {},
   "outputs": [],
   "source": [
    "X = df_Xtime[['LAx', 'LAy', 'LAz','GYx', 'GYy', 'GYz']].copy()\n",
    "y = df_Xtime['name'].copy()"
   ]
  },
  {
   "cell_type": "code",
   "execution_count": 14,
   "id": "a22de21d",
   "metadata": {},
   "outputs": [
    {
     "data": {
      "text/html": [
       "<div>\n",
       "<style scoped>\n",
       "    .dataframe tbody tr th:only-of-type {\n",
       "        vertical-align: middle;\n",
       "    }\n",
       "\n",
       "    .dataframe tbody tr th {\n",
       "        vertical-align: top;\n",
       "    }\n",
       "\n",
       "    .dataframe thead th {\n",
       "        text-align: right;\n",
       "    }\n",
       "</style>\n",
       "<table border=\"1\" class=\"dataframe\">\n",
       "  <thead>\n",
       "    <tr style=\"text-align: right;\">\n",
       "      <th></th>\n",
       "      <th>LAx</th>\n",
       "      <th>LAy</th>\n",
       "      <th>LAz</th>\n",
       "      <th>GYx</th>\n",
       "      <th>GYy</th>\n",
       "      <th>GYz</th>\n",
       "      <th>label</th>\n",
       "    </tr>\n",
       "  </thead>\n",
       "  <tbody>\n",
       "    <tr>\n",
       "      <th>0</th>\n",
       "      <td>0.375791</td>\n",
       "      <td>-0.067908</td>\n",
       "      <td>-0.246253</td>\n",
       "      <td>0.113784</td>\n",
       "      <td>0.024151</td>\n",
       "      <td>0.182895</td>\n",
       "      <td>1</td>\n",
       "    </tr>\n",
       "    <tr>\n",
       "      <th>1</th>\n",
       "      <td>0.338000</td>\n",
       "      <td>-0.074514</td>\n",
       "      <td>-0.423499</td>\n",
       "      <td>0.142371</td>\n",
       "      <td>0.080807</td>\n",
       "      <td>0.150703</td>\n",
       "      <td>1</td>\n",
       "    </tr>\n",
       "    <tr>\n",
       "      <th>2</th>\n",
       "      <td>0.276482</td>\n",
       "      <td>-0.075620</td>\n",
       "      <td>-0.435054</td>\n",
       "      <td>0.135223</td>\n",
       "      <td>0.035743</td>\n",
       "      <td>0.124288</td>\n",
       "      <td>1</td>\n",
       "    </tr>\n",
       "    <tr>\n",
       "      <th>3</th>\n",
       "      <td>0.265049</td>\n",
       "      <td>-0.083870</td>\n",
       "      <td>-0.401991</td>\n",
       "      <td>0.075512</td>\n",
       "      <td>-0.008474</td>\n",
       "      <td>0.099804</td>\n",
       "      <td>1</td>\n",
       "    </tr>\n",
       "    <tr>\n",
       "      <th>4</th>\n",
       "      <td>0.252759</td>\n",
       "      <td>-0.097151</td>\n",
       "      <td>-0.356700</td>\n",
       "      <td>-0.029614</td>\n",
       "      <td>-0.049689</td>\n",
       "      <td>0.092716</td>\n",
       "      <td>1</td>\n",
       "    </tr>\n",
       "    <tr>\n",
       "      <th>...</th>\n",
       "      <td>...</td>\n",
       "      <td>...</td>\n",
       "      <td>...</td>\n",
       "      <td>...</td>\n",
       "      <td>...</td>\n",
       "      <td>...</td>\n",
       "      <td>...</td>\n",
       "    </tr>\n",
       "    <tr>\n",
       "      <th>3230162</th>\n",
       "      <td>-0.038157</td>\n",
       "      <td>-1.144009</td>\n",
       "      <td>1.884250</td>\n",
       "      <td>1.554838</td>\n",
       "      <td>1.687661</td>\n",
       "      <td>-1.990450</td>\n",
       "      <td>46</td>\n",
       "    </tr>\n",
       "    <tr>\n",
       "      <th>3230163</th>\n",
       "      <td>0.095624</td>\n",
       "      <td>-1.293827</td>\n",
       "      <td>1.839611</td>\n",
       "      <td>1.550410</td>\n",
       "      <td>1.763030</td>\n",
       "      <td>-1.669802</td>\n",
       "      <td>46</td>\n",
       "    </tr>\n",
       "    <tr>\n",
       "      <th>3230164</th>\n",
       "      <td>0.192964</td>\n",
       "      <td>-1.514266</td>\n",
       "      <td>1.660541</td>\n",
       "      <td>1.524360</td>\n",
       "      <td>1.819831</td>\n",
       "      <td>-1.379423</td>\n",
       "      <td>46</td>\n",
       "    </tr>\n",
       "    <tr>\n",
       "      <th>3230165</th>\n",
       "      <td>0.167961</td>\n",
       "      <td>-1.786608</td>\n",
       "      <td>1.555840</td>\n",
       "      <td>1.462863</td>\n",
       "      <td>1.878669</td>\n",
       "      <td>-1.147466</td>\n",
       "      <td>46</td>\n",
       "    </tr>\n",
       "    <tr>\n",
       "      <th>3230166</th>\n",
       "      <td>0.051100</td>\n",
       "      <td>-1.909333</td>\n",
       "      <td>1.718866</td>\n",
       "      <td>1.384176</td>\n",
       "      <td>2.005943</td>\n",
       "      <td>-0.969883</td>\n",
       "      <td>46</td>\n",
       "    </tr>\n",
       "  </tbody>\n",
       "</table>\n",
       "<p>3230167 rows × 7 columns</p>\n",
       "</div>"
      ],
      "text/plain": [
       "              LAx       LAy       LAz       GYx       GYy       GYz  label\n",
       "0        0.375791 -0.067908 -0.246253  0.113784  0.024151  0.182895      1\n",
       "1        0.338000 -0.074514 -0.423499  0.142371  0.080807  0.150703      1\n",
       "2        0.276482 -0.075620 -0.435054  0.135223  0.035743  0.124288      1\n",
       "3        0.265049 -0.083870 -0.401991  0.075512 -0.008474  0.099804      1\n",
       "4        0.252759 -0.097151 -0.356700 -0.029614 -0.049689  0.092716      1\n",
       "...           ...       ...       ...       ...       ...       ...    ...\n",
       "3230162 -0.038157 -1.144009  1.884250  1.554838  1.687661 -1.990450     46\n",
       "3230163  0.095624 -1.293827  1.839611  1.550410  1.763030 -1.669802     46\n",
       "3230164  0.192964 -1.514266  1.660541  1.524360  1.819831 -1.379423     46\n",
       "3230165  0.167961 -1.786608  1.555840  1.462863  1.878669 -1.147466     46\n",
       "3230166  0.051100 -1.909333  1.718866  1.384176  2.005943 -0.969883     46\n",
       "\n",
       "[3230167 rows x 7 columns]"
      ]
     },
     "execution_count": 14,
     "metadata": {},
     "output_type": "execute_result"
    }
   ],
   "source": [
    "scaler = StandardScaler()\n",
    "X_transformed = X.copy()\n",
    "X_transformed = scaler.fit_transform(X_transformed)\n",
    "\n",
    "scaled_X = pd.DataFrame(data = X_transformed, columns = ['LAx', 'LAy', 'LAz','GYx', 'GYy', 'GYz'])\n",
    "scaled_X['label'] = y.values\n",
    "\n",
    "scaled_X"
   ]
  },
  {
   "cell_type": "code",
   "execution_count": 15,
   "id": "019df13a",
   "metadata": {},
   "outputs": [],
   "source": [
    "import scipy.stats as stats\n",
    "\n",
    "Fs = 100\n",
    "frame_size = Fs*6\n",
    "hop_size = int(Fs*1.5)"
   ]
  },
  {
   "cell_type": "code",
   "execution_count": 16,
   "id": "4cb22659",
   "metadata": {},
   "outputs": [],
   "source": [
    "def get_frames(df, frame_size, hop_size):\n",
    "    N_FEATURES = 6\n",
    "\n",
    "    frames = []\n",
    "    labels = []\n",
    "    \n",
    "    last_value = df['label'].iloc[-1]\n",
    "    for j in range (1,last_value+1): \n",
    "        filtered_df = df[df['label'] == j]\n",
    "        filtered_df = filtered_df.drop('label', axis = 1)\n",
    "        for i in range(0, len(filtered_df) - frame_size, hop_size):\n",
    "            LAx = filtered_df['LAx'].values[i: i + frame_size]\n",
    "            LAy = filtered_df['LAy'].values[i: i + frame_size]\n",
    "            LAz = filtered_df['LAz'].values[i: i + frame_size]\n",
    "            GYx = filtered_df['GYx'].values[i: i + frame_size]\n",
    "            GYy = filtered_df['GYy'].values[i: i + frame_size]\n",
    "            GYz = filtered_df['GYz'].values[i: i + frame_size]\n",
    "            \n",
    "\n",
    "            label = j\n",
    "\n",
    "            frames.append([LAx, LAy, LAz, GYx, GYy , GYz])\n",
    "            labels.append(label)\n",
    "\n",
    "    frames = np.asarray(frames).reshape(-1, frame_size, N_FEATURES)\n",
    "    labels = np.asarray(labels)\n",
    "    \n",
    "    return frames, labels"
   ]
  },
  {
   "cell_type": "code",
   "execution_count": 17,
   "id": "2f413414",
   "metadata": {},
   "outputs": [
    {
     "data": {
      "text/plain": [
       "((20216, 600, 6), (20216,))"
      ]
     },
     "execution_count": 17,
     "metadata": {},
     "output_type": "execute_result"
    }
   ],
   "source": [
    "X, y = get_frames(scaled_X,frame_size, hop_size)\n",
    "X.shape, y.shape"
   ]
  },
  {
   "cell_type": "code",
   "execution_count": 18,
   "id": "108951c0",
   "metadata": {},
   "outputs": [
    {
     "data": {
      "text/plain": [
       "((12735, 600, 6), (6065, 600, 6), (1416, 600, 6))"
      ]
     },
     "execution_count": 18,
     "metadata": {},
     "output_type": "execute_result"
    }
   ],
   "source": [
    "X_train_val, X_test, y_train_val, y_test = train_test_split(X, y, test_size = 0.3, random_state = 0, stratify = y)\n",
    "\n",
    "X_train, X_validation, y_train, y_validation = train_test_split(X_train_val, y_train_val, test_size = 0.1, random_state = 0, stratify = y_train_val)\n",
    "X_train.shape, X_test.shape, X_validation.shape"
   ]
  },
  {
   "cell_type": "code",
   "execution_count": 19,
   "id": "6a5c082c",
   "metadata": {},
   "outputs": [
    {
     "data": {
      "text/plain": [
       "((600, 6), (600, 6), (600, 6))"
      ]
     },
     "execution_count": 19,
     "metadata": {},
     "output_type": "execute_result"
    }
   ],
   "source": [
    "X_train[0].shape, X_test[0].shape, X_validation[0].shape"
   ]
  },
  {
   "cell_type": "code",
   "execution_count": 20,
   "id": "51c0e384",
   "metadata": {},
   "outputs": [
    {
     "data": {
      "text/plain": [
       "46"
      ]
     },
     "execution_count": 20,
     "metadata": {},
     "output_type": "execute_result"
    }
   ],
   "source": [
    "num = df_original['name'].iloc[-1]\n",
    "num "
   ]
  },
  {
   "cell_type": "code",
   "execution_count": 21,
   "id": "3cf0350d",
   "metadata": {},
   "outputs": [],
   "source": [
    "# Subtract 1 from each label in y_train\n",
    "y_train = np.array(y_train) - 1\n",
    "y_test = np.array(y_test) - 1\n",
    "y_validation = np.array(y_validation) - 1"
   ]
  },
  {
   "cell_type": "code",
   "execution_count": 22,
   "id": "29b2a405",
   "metadata": {},
   "outputs": [
    {
     "data": {
      "text/plain": [
       "((12735,), (6065,), (1416,))"
      ]
     },
     "execution_count": 22,
     "metadata": {},
     "output_type": "execute_result"
    }
   ],
   "source": [
    "y_train.shape, y_test.shape, y_validation.shape"
   ]
  },
  {
   "cell_type": "code",
   "execution_count": 23,
   "id": "9afa305f",
   "metadata": {},
   "outputs": [],
   "source": [
    "y_train_o = np.eye(50)[y_train]\n",
    "y_test_o = np.eye(50)[y_test]\n",
    "y_validation_o = np.eye(50)[y_validation]"
   ]
  },
  {
   "cell_type": "code",
   "execution_count": 24,
   "id": "d6cf3a75",
   "metadata": {},
   "outputs": [
    {
     "data": {
      "text/plain": [
       "((12735, 50), (1416, 50), (1416, 50))"
      ]
     },
     "execution_count": 24,
     "metadata": {},
     "output_type": "execute_result"
    }
   ],
   "source": [
    "y_train_o.shape, y_validation_o.shape, y_validation_o.shape"
   ]
  },
  {
   "cell_type": "code",
   "execution_count": 25,
   "id": "d1ef3d9f",
   "metadata": {},
   "outputs": [],
   "source": [
    "# tut\n",
    "# model = Sequential()\n",
    "# model.add(Conv1D(filters=64, kernel_size=3, activation='relu', input_shape=X_train[0].shape))\n",
    "# model.add(Conv1D(filters=64, kernel_size=3, activation='relu'))\n",
    "# model.add(Dropout(0.5))\n",
    "# model.add(MaxPooling1D(pool_size=2))\n",
    "# model.add(Flatten())\n",
    "# model.add(Dense(100, activation='relu'))\n",
    "# model.add(Dense(50, activation='softmax'))\n"
   ]
  },
  {
   "cell_type": "code",
   "execution_count": 26,
   "id": "b38f479a",
   "metadata": {},
   "outputs": [],
   "source": [
    "# chatgpt\n",
    "model = Sequential()\n",
    "model.add(Conv1D(filters=32, kernel_size=3, activation='relu', input_shape=X_train[0].shape))\n",
    "model.add(MaxPooling1D(pool_size=2))\n",
    "model.add(Conv1D(filters=64, kernel_size=3, activation='relu'))\n",
    "model.add(MaxPooling1D(pool_size=2))\n",
    "model.add(Conv1D(filters=128, kernel_size=3, activation='relu'))\n",
    "model.add(MaxPooling1D(pool_size=2))\n",
    "model.add(Flatten())\n",
    "model.add(Dense(256, activation='relu'))\n",
    "model.add(Dropout(0.5))\n",
    "model.add(Dense(50, activation='softmax'))"
   ]
  },
  {
   "cell_type": "code",
   "execution_count": 27,
   "id": "d0bd6810",
   "metadata": {},
   "outputs": [
    {
     "name": "stdout",
     "output_type": "stream",
     "text": [
      "Model: \"sequential\"\n",
      "___________________________________________________________________________\n",
      " Layer (type)                    Output Shape                  Param #     \n",
      "===========================================================================\n",
      " conv1d (Conv1D)                 (None, 598, 32)               608         \n",
      "                                                                           \n",
      " max_pooling1d (MaxPooling1D)    (None, 299, 32)               0           \n",
      "                                                                           \n",
      " conv1d_1 (Conv1D)               (None, 297, 64)               6208        \n",
      "                                                                           \n",
      " max_pooling1d_1 (MaxPooling1D)  (None, 148, 64)               0           \n",
      "                                                                           \n",
      " conv1d_2 (Conv1D)               (None, 146, 128)              24704       \n",
      "                                                                           \n",
      " max_pooling1d_2 (MaxPooling1D)  (None, 73, 128)               0           \n",
      "                                                                           \n",
      " flatten (Flatten)               (None, 9344)                  0           \n",
      "                                                                           \n",
      " dense (Dense)                   (None, 256)                   2392320     \n",
      "                                                                           \n",
      " dropout (Dropout)               (None, 256)                   0           \n",
      "                                                                           \n",
      " dense_1 (Dense)                 (None, 50)                    12850       \n",
      "                                                                           \n",
      "===========================================================================\n",
      "Total params: 2,436,690\n",
      "Trainable params: 2,436,690\n",
      "Non-trainable params: 0\n",
      "___________________________________________________________________________\n"
     ]
    }
   ],
   "source": [
    "model.summary(line_length = 75)"
   ]
  },
  {
   "cell_type": "code",
   "execution_count": 28,
   "id": "d4bd648e",
   "metadata": {},
   "outputs": [],
   "source": [
    "model.compile(optimizer=Adam(learning_rate = 0.001), loss=tf.keras.losses.SparseCategoricalCrossentropy(), metrics = ['accuracy'])"
   ]
  },
  {
   "cell_type": "code",
   "execution_count": 29,
   "id": "48a91cb0",
   "metadata": {},
   "outputs": [],
   "source": [
    "early_stopping = tf.keras.callbacks.EarlyStopping(\n",
    "    monitor = 'val_loss',\n",
    "    mode = 'auto',\n",
    "    min_delta = 0,\n",
    "    patience = 2,\n",
    "    verbose = 0,\n",
    "    restore_best_weights = True\n",
    ")"
   ]
  },
  {
   "cell_type": "code",
   "execution_count": 30,
   "id": "319eff8f",
   "metadata": {
    "scrolled": true
   },
   "outputs": [
    {
     "name": "stdout",
     "output_type": "stream",
     "text": [
      "Epoch 1/30\n",
      "398/398 [==============================] - 20s 48ms/step - loss: 1.7049 - accuracy: 0.5340 - val_loss: 0.2483 - val_accuracy: 0.9096\n",
      "Epoch 2/30\n",
      "398/398 [==============================] - 19s 48ms/step - loss: 0.4135 - accuracy: 0.8538 - val_loss: 0.1720 - val_accuracy: 0.9174\n",
      "Epoch 3/30\n",
      "398/398 [==============================] - 19s 48ms/step - loss: 0.2938 - accuracy: 0.8802 - val_loss: 0.1508 - val_accuracy: 0.9216\n",
      "Epoch 4/30\n",
      "398/398 [==============================] - 19s 47ms/step - loss: 0.2367 - accuracy: 0.8954 - val_loss: 0.1608 - val_accuracy: 0.9181\n",
      "Epoch 5/30\n",
      "398/398 [==============================] - 19s 47ms/step - loss: 0.2162 - accuracy: 0.9006 - val_loss: 0.1517 - val_accuracy: 0.9223\n"
     ]
    }
   ],
   "source": [
    "history = model.fit(X_train, y_train, epochs = 30,callbacks = [early_stopping], \n",
    "                    validation_data= (X_validation, y_validation), verbose=1)"
   ]
  },
  {
   "cell_type": "code",
   "execution_count": 31,
   "id": "2f0f7151",
   "metadata": {
    "scrolled": true
   },
   "outputs": [
    {
     "name": "stdout",
     "output_type": "stream",
     "text": [
      "190/190 [==============================] - 2s 10ms/step - loss: 0.1616 - accuracy: 0.9131\n",
      "Test loss:  0.1616. Test accuracy:  91.31%\n"
     ]
    }
   ],
   "source": [
    "test_loss, test_accuracy = model.evaluate(X_test, y_test)\n",
    "print('Test loss: {0: .4f}. Test accuracy: {1: .2f}%'.format(test_loss, test_accuracy*100))"
   ]
  },
  {
   "cell_type": "markdown",
   "id": "02c3dac0",
   "metadata": {},
   "source": [
    "# Get W003 and test on it while training on W001 only"
   ]
  },
  {
   "cell_type": "code",
   "execution_count": 32,
   "id": "76c97bd0",
   "metadata": {},
   "outputs": [
    {
     "data": {
      "text/html": [
       "<div>\n",
       "<style scoped>\n",
       "    .dataframe tbody tr th:only-of-type {\n",
       "        vertical-align: middle;\n",
       "    }\n",
       "\n",
       "    .dataframe tbody tr th {\n",
       "        vertical-align: top;\n",
       "    }\n",
       "\n",
       "    .dataframe thead th {\n",
       "        text-align: right;\n",
       "    }\n",
       "</style>\n",
       "<table border=\"1\" class=\"dataframe\">\n",
       "  <thead>\n",
       "    <tr style=\"text-align: right;\">\n",
       "      <th></th>\n",
       "      <th>timestamp</th>\n",
       "      <th>LAx</th>\n",
       "      <th>LAy</th>\n",
       "      <th>LAz</th>\n",
       "      <th>GYx</th>\n",
       "      <th>GYy</th>\n",
       "      <th>GYz</th>\n",
       "      <th>name</th>\n",
       "    </tr>\n",
       "  </thead>\n",
       "  <tbody>\n",
       "    <tr>\n",
       "      <th>0</th>\n",
       "      <td>923709910000000</td>\n",
       "      <td>1.897600</td>\n",
       "      <td>-0.948629</td>\n",
       "      <td>0.806025</td>\n",
       "      <td>-0.913564</td>\n",
       "      <td>-0.310084</td>\n",
       "      <td>-0.732483</td>\n",
       "      <td>1</td>\n",
       "    </tr>\n",
       "    <tr>\n",
       "      <th>1</th>\n",
       "      <td>923709920000000</td>\n",
       "      <td>1.822922</td>\n",
       "      <td>-0.512797</td>\n",
       "      <td>0.658468</td>\n",
       "      <td>-0.688972</td>\n",
       "      <td>-0.554016</td>\n",
       "      <td>-0.731674</td>\n",
       "      <td>1</td>\n",
       "    </tr>\n",
       "    <tr>\n",
       "      <th>2</th>\n",
       "      <td>923709930000000</td>\n",
       "      <td>1.571234</td>\n",
       "      <td>0.178020</td>\n",
       "      <td>-0.381536</td>\n",
       "      <td>-0.285202</td>\n",
       "      <td>-0.868012</td>\n",
       "      <td>-0.680359</td>\n",
       "      <td>1</td>\n",
       "    </tr>\n",
       "    <tr>\n",
       "      <th>3</th>\n",
       "      <td>923709940000000</td>\n",
       "      <td>1.347669</td>\n",
       "      <td>0.698209</td>\n",
       "      <td>-1.856026</td>\n",
       "      <td>0.160721</td>\n",
       "      <td>-1.098297</td>\n",
       "      <td>-0.580788</td>\n",
       "      <td>1</td>\n",
       "    </tr>\n",
       "    <tr>\n",
       "      <th>4</th>\n",
       "      <td>923709950000000</td>\n",
       "      <td>1.484009</td>\n",
       "      <td>0.825438</td>\n",
       "      <td>-3.034368</td>\n",
       "      <td>0.557777</td>\n",
       "      <td>-1.373177</td>\n",
       "      <td>-0.456787</td>\n",
       "      <td>1</td>\n",
       "    </tr>\n",
       "    <tr>\n",
       "      <th>...</th>\n",
       "      <td>...</td>\n",
       "      <td>...</td>\n",
       "      <td>...</td>\n",
       "      <td>...</td>\n",
       "      <td>...</td>\n",
       "      <td>...</td>\n",
       "      <td>...</td>\n",
       "      <td>...</td>\n",
       "    </tr>\n",
       "    <tr>\n",
       "      <th>522631</th>\n",
       "      <td>341510670000000</td>\n",
       "      <td>-0.620103</td>\n",
       "      <td>-0.362797</td>\n",
       "      <td>-0.729507</td>\n",
       "      <td>-0.252296</td>\n",
       "      <td>-1.060326</td>\n",
       "      <td>0.087654</td>\n",
       "      <td>46</td>\n",
       "    </tr>\n",
       "    <tr>\n",
       "      <th>522632</th>\n",
       "      <td>341510680000000</td>\n",
       "      <td>-0.670146</td>\n",
       "      <td>-0.440084</td>\n",
       "      <td>-0.736829</td>\n",
       "      <td>-0.247093</td>\n",
       "      <td>-1.092079</td>\n",
       "      <td>0.098557</td>\n",
       "      <td>46</td>\n",
       "    </tr>\n",
       "    <tr>\n",
       "      <th>522633</th>\n",
       "      <td>341510690000000</td>\n",
       "      <td>-0.770983</td>\n",
       "      <td>-0.401897</td>\n",
       "      <td>-0.680590</td>\n",
       "      <td>-0.236572</td>\n",
       "      <td>-1.106628</td>\n",
       "      <td>0.115730</td>\n",
       "      <td>46</td>\n",
       "    </tr>\n",
       "    <tr>\n",
       "      <th>522634</th>\n",
       "      <td>341510700000000</td>\n",
       "      <td>-0.890548</td>\n",
       "      <td>-0.338852</td>\n",
       "      <td>-0.699221</td>\n",
       "      <td>-0.220085</td>\n",
       "      <td>-1.100670</td>\n",
       "      <td>0.133514</td>\n",
       "      <td>46</td>\n",
       "    </tr>\n",
       "    <tr>\n",
       "      <th>522635</th>\n",
       "      <td>341510710000000</td>\n",
       "      <td>-1.047220</td>\n",
       "      <td>-0.314173</td>\n",
       "      <td>-0.796266</td>\n",
       "      <td>-0.208298</td>\n",
       "      <td>-1.078903</td>\n",
       "      <td>0.147453</td>\n",
       "      <td>46</td>\n",
       "    </tr>\n",
       "  </tbody>\n",
       "</table>\n",
       "<p>522636 rows × 8 columns</p>\n",
       "</div>"
      ],
      "text/plain": [
       "              timestamp       LAx       LAy       LAz       GYx       GYy  \\\n",
       "0       923709910000000  1.897600 -0.948629  0.806025 -0.913564 -0.310084   \n",
       "1       923709920000000  1.822922 -0.512797  0.658468 -0.688972 -0.554016   \n",
       "2       923709930000000  1.571234  0.178020 -0.381536 -0.285202 -0.868012   \n",
       "3       923709940000000  1.347669  0.698209 -1.856026  0.160721 -1.098297   \n",
       "4       923709950000000  1.484009  0.825438 -3.034368  0.557777 -1.373177   \n",
       "...                 ...       ...       ...       ...       ...       ...   \n",
       "522631  341510670000000 -0.620103 -0.362797 -0.729507 -0.252296 -1.060326   \n",
       "522632  341510680000000 -0.670146 -0.440084 -0.736829 -0.247093 -1.092079   \n",
       "522633  341510690000000 -0.770983 -0.401897 -0.680590 -0.236572 -1.106628   \n",
       "522634  341510700000000 -0.890548 -0.338852 -0.699221 -0.220085 -1.100670   \n",
       "522635  341510710000000 -1.047220 -0.314173 -0.796266 -0.208298 -1.078903   \n",
       "\n",
       "             GYz  name  \n",
       "0      -0.732483     1  \n",
       "1      -0.731674     1  \n",
       "2      -0.680359     1  \n",
       "3      -0.580788     1  \n",
       "4      -0.456787     1  \n",
       "...          ...   ...  \n",
       "522631  0.087654    46  \n",
       "522632  0.098557    46  \n",
       "522633  0.115730    46  \n",
       "522634  0.133514    46  \n",
       "522635  0.147453    46  \n",
       "\n",
       "[522636 rows x 8 columns]"
      ]
     },
     "execution_count": 32,
     "metadata": {},
     "output_type": "execute_result"
    }
   ],
   "source": [
    "# filepath = \"merged_u1-50_w001_resampled.csv\"\n",
    "filepath_3 = \"D:/online dataset csv files preprocessing/merged_14u_w003_resampled.csv\"\n",
    "\n",
    "df_original_3 = pd.read_csv(filepath_3)\n",
    "df_original_3"
   ]
  },
  {
   "cell_type": "code",
   "execution_count": 33,
   "id": "c67fa0da",
   "metadata": {},
   "outputs": [
    {
     "data": {
      "text/plain": [
       "timestamp    0\n",
       "LAx          0\n",
       "LAy          0\n",
       "LAz          0\n",
       "GYx          0\n",
       "GYy          0\n",
       "GYz          0\n",
       "name         0\n",
       "dtype: int64"
      ]
     },
     "execution_count": 33,
     "metadata": {},
     "output_type": "execute_result"
    }
   ],
   "source": [
    "df_original_3.isnull().sum()"
   ]
  },
  {
   "cell_type": "code",
   "execution_count": 34,
   "id": "5e1ceeb7",
   "metadata": {},
   "outputs": [
    {
     "name": "stdout",
     "output_type": "stream",
     "text": [
      "<class 'pandas.core.frame.DataFrame'>\n",
      "RangeIndex: 522636 entries, 0 to 522635\n",
      "Data columns (total 8 columns):\n",
      " #   Column     Non-Null Count   Dtype  \n",
      "---  ------     --------------   -----  \n",
      " 0   timestamp  522636 non-null  int64  \n",
      " 1   LAx        522636 non-null  float64\n",
      " 2   LAy        522636 non-null  float64\n",
      " 3   LAz        522636 non-null  float64\n",
      " 4   GYx        522636 non-null  float64\n",
      " 5   GYy        522636 non-null  float64\n",
      " 6   GYz        522636 non-null  float64\n",
      " 7   name       522636 non-null  int64  \n",
      "dtypes: float64(6), int64(2)\n",
      "memory usage: 31.9 MB\n"
     ]
    }
   ],
   "source": [
    "df_original_3.info()"
   ]
  },
  {
   "cell_type": "code",
   "execution_count": 35,
   "id": "7b1c7157",
   "metadata": {},
   "outputs": [
    {
     "data": {
      "text/plain": [
       "43    77605\n",
       "2     47948\n",
       "18    47922\n",
       "23    44013\n",
       "28    40959\n",
       "33    36637\n",
       "21    36396\n",
       "46    29990\n",
       "36    29528\n",
       "10    28251\n",
       "25    27562\n",
       "24    25926\n",
       "1     25325\n",
       "40    24574\n",
       "Name: name, dtype: int64"
      ]
     },
     "execution_count": 35,
     "metadata": {},
     "output_type": "execute_result"
    }
   ],
   "source": [
    "df_original_3['name'].value_counts()"
   ]
  },
  {
   "cell_type": "code",
   "execution_count": 36,
   "id": "1b66c43a",
   "metadata": {},
   "outputs": [
    {
     "data": {
      "text/plain": [
       "(522636, 7)"
      ]
     },
     "execution_count": 36,
     "metadata": {},
     "output_type": "execute_result"
    }
   ],
   "source": [
    "df_Xtime_3 = df_original_3.copy()\n",
    "df_Xtime_3 = df_Xtime_3.drop(['timestamp'], axis = 1).copy()\n",
    "df_Xtime_3.shape"
   ]
  },
  {
   "cell_type": "code",
   "execution_count": 37,
   "id": "4db2fe3a",
   "metadata": {},
   "outputs": [],
   "source": [
    "X_3 = df_Xtime_3[['LAx', 'LAy', 'LAz','GYx', 'GYy', 'GYz']].copy()\n",
    "y_3 = df_Xtime_3['name'].copy()"
   ]
  },
  {
   "cell_type": "code",
   "execution_count": 38,
   "id": "46d13c2e",
   "metadata": {},
   "outputs": [
    {
     "data": {
      "text/html": [
       "<div>\n",
       "<style scoped>\n",
       "    .dataframe tbody tr th:only-of-type {\n",
       "        vertical-align: middle;\n",
       "    }\n",
       "\n",
       "    .dataframe tbody tr th {\n",
       "        vertical-align: top;\n",
       "    }\n",
       "\n",
       "    .dataframe thead th {\n",
       "        text-align: right;\n",
       "    }\n",
       "</style>\n",
       "<table border=\"1\" class=\"dataframe\">\n",
       "  <thead>\n",
       "    <tr style=\"text-align: right;\">\n",
       "      <th></th>\n",
       "      <th>LAx</th>\n",
       "      <th>LAy</th>\n",
       "      <th>LAz</th>\n",
       "      <th>GYx</th>\n",
       "      <th>GYy</th>\n",
       "      <th>GYz</th>\n",
       "      <th>label</th>\n",
       "    </tr>\n",
       "  </thead>\n",
       "  <tbody>\n",
       "    <tr>\n",
       "      <th>0</th>\n",
       "      <td>0.617858</td>\n",
       "      <td>-0.278392</td>\n",
       "      <td>0.122873</td>\n",
       "      <td>-0.539603</td>\n",
       "      <td>-0.202006</td>\n",
       "      <td>-0.632854</td>\n",
       "      <td>1</td>\n",
       "    </tr>\n",
       "    <tr>\n",
       "      <th>1</th>\n",
       "      <td>0.594677</td>\n",
       "      <td>-0.178000</td>\n",
       "      <td>0.082692</td>\n",
       "      <td>-0.404722</td>\n",
       "      <td>-0.364584</td>\n",
       "      <td>-0.632063</td>\n",
       "      <td>1</td>\n",
       "    </tr>\n",
       "    <tr>\n",
       "      <th>2</th>\n",
       "      <td>0.516551</td>\n",
       "      <td>-0.018873</td>\n",
       "      <td>-0.200509</td>\n",
       "      <td>-0.162233</td>\n",
       "      <td>-0.573859</td>\n",
       "      <td>-0.581893</td>\n",
       "      <td>1</td>\n",
       "    </tr>\n",
       "    <tr>\n",
       "      <th>3</th>\n",
       "      <td>0.447155</td>\n",
       "      <td>0.100951</td>\n",
       "      <td>-0.602023</td>\n",
       "      <td>0.105571</td>\n",
       "      <td>-0.727341</td>\n",
       "      <td>-0.484544</td>\n",
       "      <td>1</td>\n",
       "    </tr>\n",
       "    <tr>\n",
       "      <th>4</th>\n",
       "      <td>0.489476</td>\n",
       "      <td>0.130257</td>\n",
       "      <td>-0.922893</td>\n",
       "      <td>0.344028</td>\n",
       "      <td>-0.910546</td>\n",
       "      <td>-0.363310</td>\n",
       "      <td>1</td>\n",
       "    </tr>\n",
       "    <tr>\n",
       "      <th>...</th>\n",
       "      <td>...</td>\n",
       "      <td>...</td>\n",
       "      <td>...</td>\n",
       "      <td>...</td>\n",
       "      <td>...</td>\n",
       "      <td>...</td>\n",
       "      <td>...</td>\n",
       "    </tr>\n",
       "    <tr>\n",
       "      <th>522631</th>\n",
       "      <td>-0.163656</td>\n",
       "      <td>-0.143448</td>\n",
       "      <td>-0.295264</td>\n",
       "      <td>-0.142471</td>\n",
       "      <td>-0.702034</td>\n",
       "      <td>0.168981</td>\n",
       "      <td>46</td>\n",
       "    </tr>\n",
       "    <tr>\n",
       "      <th>522632</th>\n",
       "      <td>-0.179190</td>\n",
       "      <td>-0.161251</td>\n",
       "      <td>-0.297257</td>\n",
       "      <td>-0.139346</td>\n",
       "      <td>-0.723197</td>\n",
       "      <td>0.179640</td>\n",
       "      <td>46</td>\n",
       "    </tr>\n",
       "    <tr>\n",
       "      <th>522633</th>\n",
       "      <td>-0.210491</td>\n",
       "      <td>-0.152454</td>\n",
       "      <td>-0.281943</td>\n",
       "      <td>-0.133028</td>\n",
       "      <td>-0.732894</td>\n",
       "      <td>0.196430</td>\n",
       "      <td>46</td>\n",
       "    </tr>\n",
       "    <tr>\n",
       "      <th>522634</th>\n",
       "      <td>-0.247605</td>\n",
       "      <td>-0.137932</td>\n",
       "      <td>-0.287016</td>\n",
       "      <td>-0.123126</td>\n",
       "      <td>-0.728923</td>\n",
       "      <td>0.213818</td>\n",
       "      <td>46</td>\n",
       "    </tr>\n",
       "    <tr>\n",
       "      <th>522635</th>\n",
       "      <td>-0.296237</td>\n",
       "      <td>-0.132247</td>\n",
       "      <td>-0.313442</td>\n",
       "      <td>-0.116047</td>\n",
       "      <td>-0.714416</td>\n",
       "      <td>0.227445</td>\n",
       "      <td>46</td>\n",
       "    </tr>\n",
       "  </tbody>\n",
       "</table>\n",
       "<p>522636 rows × 7 columns</p>\n",
       "</div>"
      ],
      "text/plain": [
       "             LAx       LAy       LAz       GYx       GYy       GYz  label\n",
       "0       0.617858 -0.278392  0.122873 -0.539603 -0.202006 -0.632854      1\n",
       "1       0.594677 -0.178000  0.082692 -0.404722 -0.364584 -0.632063      1\n",
       "2       0.516551 -0.018873 -0.200509 -0.162233 -0.573859 -0.581893      1\n",
       "3       0.447155  0.100951 -0.602023  0.105571 -0.727341 -0.484544      1\n",
       "4       0.489476  0.130257 -0.922893  0.344028 -0.910546 -0.363310      1\n",
       "...          ...       ...       ...       ...       ...       ...    ...\n",
       "522631 -0.163656 -0.143448 -0.295264 -0.142471 -0.702034  0.168981     46\n",
       "522632 -0.179190 -0.161251 -0.297257 -0.139346 -0.723197  0.179640     46\n",
       "522633 -0.210491 -0.152454 -0.281943 -0.133028 -0.732894  0.196430     46\n",
       "522634 -0.247605 -0.137932 -0.287016 -0.123126 -0.728923  0.213818     46\n",
       "522635 -0.296237 -0.132247 -0.313442 -0.116047 -0.714416  0.227445     46\n",
       "\n",
       "[522636 rows x 7 columns]"
      ]
     },
     "execution_count": 38,
     "metadata": {},
     "output_type": "execute_result"
    }
   ],
   "source": [
    "scaler = StandardScaler()\n",
    "X_transformed_3 = X_3.copy()\n",
    "X_transformed_3 = scaler.fit_transform(X_transformed_3)\n",
    "\n",
    "scaled_X_3 = pd.DataFrame(data = X_transformed_3, columns = ['LAx', 'LAy', 'LAz','GYx', 'GYy', 'GYz'])\n",
    "scaled_X_3['label'] = y_3.values\n",
    "\n",
    "scaled_X_3"
   ]
  },
  {
   "cell_type": "code",
   "execution_count": 39,
   "id": "08c6187f",
   "metadata": {},
   "outputs": [],
   "source": [
    "# import scipy.stats as stats\n",
    "\n",
    "# Fs = 100\n",
    "# frame_size = Fs*6 \n",
    "# hop_size = Fs*6"
   ]
  },
  {
   "cell_type": "code",
   "execution_count": 40,
   "id": "ef71f2fb",
   "metadata": {},
   "outputs": [
    {
     "data": {
      "text/plain": [
       "((3434, 600, 6), (3434,))"
      ]
     },
     "execution_count": 40,
     "metadata": {},
     "output_type": "execute_result"
    }
   ],
   "source": [
    "X_3, y_3 = get_frames(scaled_X_3,frame_size, hop_size)\n",
    "X_3.shape, y_3.shape"
   ]
  },
  {
   "cell_type": "code",
   "execution_count": 41,
   "id": "c1133497",
   "metadata": {},
   "outputs": [
    {
     "data": {
      "text/plain": [
       "((2162, 600, 6), (1031, 600, 6), (241, 600, 6))"
      ]
     },
     "execution_count": 41,
     "metadata": {},
     "output_type": "execute_result"
    }
   ],
   "source": [
    "X_train_val_3, X_test_3, y_train_val_3, y_test_3 = train_test_split(X_3, y_3, test_size=0.3, random_state=0, stratify=y_3)\n",
    "\n",
    "X_train_3, X_validation_3, y_train_3, y_validation_3 = train_test_split(X_train_val_3, y_train_val_3, test_size=0.1, random_state=0, stratify=y_train_val_3)\n",
    "X_train_3.shape, X_test_3.shape, X_validation_3.shape\n"
   ]
  },
  {
   "cell_type": "code",
   "execution_count": 42,
   "id": "5e16b0a2",
   "metadata": {},
   "outputs": [
    {
     "data": {
      "text/plain": [
       "((600, 6), (600, 6), (600, 6))"
      ]
     },
     "execution_count": 42,
     "metadata": {},
     "output_type": "execute_result"
    }
   ],
   "source": [
    "X_train_3[0].shape, X_test_3[0].shape, X_validation_3[0].shape"
   ]
  },
  {
   "cell_type": "code",
   "execution_count": 43,
   "id": "a6c5360f",
   "metadata": {},
   "outputs": [],
   "source": [
    "# Subtract 1 from each label in y_train\n",
    "y_train_3 = np.array(y_train_3) - 1\n",
    "y_test_3 = np.array(y_test_3) - 1\n",
    "y_validation_3 = np.array(y_validation_3) - 1\n",
    "y_3 = np.array(y_3) -1"
   ]
  },
  {
   "cell_type": "code",
   "execution_count": 44,
   "id": "c34bbc65",
   "metadata": {},
   "outputs": [
    {
     "data": {
      "text/plain": [
       "((2162,), (1031,), (241,))"
      ]
     },
     "execution_count": 44,
     "metadata": {},
     "output_type": "execute_result"
    }
   ],
   "source": [
    "y_train_3.shape, y_test_3.shape, y_validation_3.shape"
   ]
  },
  {
   "cell_type": "code",
   "execution_count": 45,
   "id": "e2407949",
   "metadata": {},
   "outputs": [
    {
     "name": "stdout",
     "output_type": "stream",
     "text": [
      "33/33 [==============================] - 0s 9ms/step - loss: 4.1752 - accuracy: 0.6828\n",
      "Test loss:  4.1752. Test accuracy:  68.28%\n"
     ]
    }
   ],
   "source": [
    "test_loss, test_accuracy = model.evaluate(X_test_3, y_test_3)\n",
    "print('Test loss: {0: .4f}. Test accuracy: {1: .2f}%'.format(test_loss, test_accuracy*100))"
   ]
  },
  {
   "cell_type": "code",
   "execution_count": 46,
   "id": "1c18c654",
   "metadata": {},
   "outputs": [
    {
     "data": {
      "text/plain": [
       "((3434, 600, 6), (3434,))"
      ]
     },
     "execution_count": 46,
     "metadata": {},
     "output_type": "execute_result"
    }
   ],
   "source": [
    "X_3.shape, y_3.shape"
   ]
  },
  {
   "cell_type": "code",
   "execution_count": 47,
   "id": "1c606349",
   "metadata": {},
   "outputs": [
    {
     "data": {
      "text/plain": [
       "((2162, 600, 6), (2162,))"
      ]
     },
     "execution_count": 47,
     "metadata": {},
     "output_type": "execute_result"
    }
   ],
   "source": [
    "X_train_3.shape, y_train_3.shape"
   ]
  },
  {
   "cell_type": "code",
   "execution_count": 48,
   "id": "f3957ccf",
   "metadata": {
    "scrolled": true
   },
   "outputs": [
    {
     "name": "stdout",
     "output_type": "stream",
     "text": [
      "68/68 [==============================] - 1s 10ms/step - loss: 4.0713 - accuracy: 0.6674\n",
      "Test loss:  4.0713. Test accuracy:  66.74%\n"
     ]
    }
   ],
   "source": [
    "test_loss, test_accuracy = model.evaluate(X_train_3, y_train_3)\n",
    "print('Test loss: {0: .4f}. Test accuracy: {1: .2f}%'.format(test_loss, test_accuracy*100))"
   ]
  },
  {
   "cell_type": "code",
   "execution_count": 49,
   "id": "9fcdcfac",
   "metadata": {
    "scrolled": true
   },
   "outputs": [
    {
     "name": "stdout",
     "output_type": "stream",
     "text": [
      "108/108 [==============================] - 1s 11ms/step - loss: 4.1101 - accuracy: 0.6736\n",
      "Test loss:  4.1101. Test accuracy:  67.36%\n"
     ]
    }
   ],
   "source": [
    "test_loss, test_accuracy = model.evaluate(X_3, y_3)\n",
    "print('Test loss: {0: .4f}. Test accuracy: {1: .2f}%'.format(test_loss, test_accuracy*100))"
   ]
  },
  {
   "cell_type": "code",
   "execution_count": null,
   "id": "a28fa26c",
   "metadata": {},
   "outputs": [],
   "source": []
  }
 ],
 "metadata": {
  "kernelspec": {
   "display_name": "Python 3 (ipykernel)",
   "language": "python",
   "name": "python3"
  },
  "language_info": {
   "codemirror_mode": {
    "name": "ipython",
    "version": 3
   },
   "file_extension": ".py",
   "mimetype": "text/x-python",
   "name": "python",
   "nbconvert_exporter": "python",
   "pygments_lexer": "ipython3",
   "version": "3.10.9"
  }
 },
 "nbformat": 4,
 "nbformat_minor": 5
}
