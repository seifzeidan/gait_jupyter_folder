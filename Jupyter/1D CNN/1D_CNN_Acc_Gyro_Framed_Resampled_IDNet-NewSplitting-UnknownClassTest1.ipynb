{
 "cells": [
  {
   "cell_type": "code",
   "execution_count": 1,
   "id": "44faa98a",
   "metadata": {},
   "outputs": [
    {
     "name": "stdout",
     "output_type": "stream",
     "text": [
      "2.12.0\n"
     ]
    }
   ],
   "source": [
    "import tensorflow as tf\n",
    "from tensorflow.keras import Sequential\n",
    "from tensorflow.keras.layers import Flatten, Dense, Dropout, BatchNormalization\n",
    "from tensorflow.keras.layers import Conv1D, MaxPooling1D\n",
    "from tensorflow.keras.optimizers import Adam\n",
    "print(tf.__version__)"
   ]
  },
  {
   "cell_type": "code",
   "execution_count": 2,
   "id": "1c3f367f",
   "metadata": {},
   "outputs": [],
   "source": [
    "import pandas as pd\n",
    "import numpy as np\n",
    "import os\n",
    "import math\n",
    "import matplotlib.pyplot as plt\n",
    "from sklearn.model_selection import train_test_split\n",
    "from sklearn.preprocessing import StandardScaler, LabelEncoder"
   ]
  },
  {
   "cell_type": "code",
   "execution_count": 3,
   "id": "9e899298",
   "metadata": {},
   "outputs": [],
   "source": [
    "# filepath = \"merged_u1-50_w001_resampled.csv\"\n",
    "filepath = \"D:/online dataset csv files preprocessing/merged_u1-50_w001_resampled.csv\"\n",
    "\n",
    "df_original = pd.read_csv(filepath)"
   ]
  },
  {
   "cell_type": "code",
   "execution_count": 4,
   "id": "bcd5954e",
   "metadata": {},
   "outputs": [
    {
     "data": {
      "text/html": [
       "<div>\n",
       "<style scoped>\n",
       "    .dataframe tbody tr th:only-of-type {\n",
       "        vertical-align: middle;\n",
       "    }\n",
       "\n",
       "    .dataframe tbody tr th {\n",
       "        vertical-align: top;\n",
       "    }\n",
       "\n",
       "    .dataframe thead th {\n",
       "        text-align: right;\n",
       "    }\n",
       "</style>\n",
       "<table border=\"1\" class=\"dataframe\">\n",
       "  <thead>\n",
       "    <tr style=\"text-align: right;\">\n",
       "      <th></th>\n",
       "      <th>timestamp</th>\n",
       "      <th>LAx</th>\n",
       "      <th>LAy</th>\n",
       "      <th>LAz</th>\n",
       "      <th>GYx</th>\n",
       "      <th>GYy</th>\n",
       "      <th>GYz</th>\n",
       "      <th>name</th>\n",
       "    </tr>\n",
       "  </thead>\n",
       "  <tbody>\n",
       "    <tr>\n",
       "      <th>0</th>\n",
       "      <td>924313410000000</td>\n",
       "      <td>1.242813</td>\n",
       "      <td>-0.160181</td>\n",
       "      <td>-0.900440</td>\n",
       "      <td>0.194931</td>\n",
       "      <td>-0.004242</td>\n",
       "      <td>0.163818</td>\n",
       "      <td>1</td>\n",
       "    </tr>\n",
       "    <tr>\n",
       "      <th>1</th>\n",
       "      <td>924313420000000</td>\n",
       "      <td>1.117246</td>\n",
       "      <td>-0.187921</td>\n",
       "      <td>-1.529893</td>\n",
       "      <td>0.236458</td>\n",
       "      <td>0.076378</td>\n",
       "      <td>0.133293</td>\n",
       "      <td>1</td>\n",
       "    </tr>\n",
       "    <tr>\n",
       "      <th>2</th>\n",
       "      <td>924313430000000</td>\n",
       "      <td>0.912846</td>\n",
       "      <td>-0.192566</td>\n",
       "      <td>-1.570929</td>\n",
       "      <td>0.226074</td>\n",
       "      <td>0.012253</td>\n",
       "      <td>0.108246</td>\n",
       "      <td>1</td>\n",
       "    </tr>\n",
       "    <tr>\n",
       "      <th>3</th>\n",
       "      <td>924313440000000</td>\n",
       "      <td>0.874858</td>\n",
       "      <td>-0.227208</td>\n",
       "      <td>-1.453511</td>\n",
       "      <td>0.139336</td>\n",
       "      <td>-0.050667</td>\n",
       "      <td>0.085030</td>\n",
       "      <td>1</td>\n",
       "    </tr>\n",
       "    <tr>\n",
       "      <th>4</th>\n",
       "      <td>924313450000000</td>\n",
       "      <td>0.834022</td>\n",
       "      <td>-0.282976</td>\n",
       "      <td>-1.292671</td>\n",
       "      <td>-0.013374</td>\n",
       "      <td>-0.109314</td>\n",
       "      <td>0.078308</td>\n",
       "      <td>1</td>\n",
       "    </tr>\n",
       "    <tr>\n",
       "      <th>...</th>\n",
       "      <td>...</td>\n",
       "      <td>...</td>\n",
       "      <td>...</td>\n",
       "      <td>...</td>\n",
       "      <td>...</td>\n",
       "      <td>...</td>\n",
       "      <td>...</td>\n",
       "      <td>...</td>\n",
       "    </tr>\n",
       "    <tr>\n",
       "      <th>2055043</th>\n",
       "      <td>1368327120000000</td>\n",
       "      <td>-9.502644</td>\n",
       "      <td>-7.178468</td>\n",
       "      <td>4.246279</td>\n",
       "      <td>-2.834417</td>\n",
       "      <td>-0.120428</td>\n",
       "      <td>-0.987857</td>\n",
       "      <td>50</td>\n",
       "    </tr>\n",
       "    <tr>\n",
       "      <th>2055044</th>\n",
       "      <td>1368327130000000</td>\n",
       "      <td>-9.443804</td>\n",
       "      <td>-7.698220</td>\n",
       "      <td>3.059675</td>\n",
       "      <td>-2.638940</td>\n",
       "      <td>0.561997</td>\n",
       "      <td>-0.947715</td>\n",
       "      <td>50</td>\n",
       "    </tr>\n",
       "    <tr>\n",
       "      <th>2055045</th>\n",
       "      <td>1368327140000000</td>\n",
       "      <td>-8.345459</td>\n",
       "      <td>-6.805815</td>\n",
       "      <td>1.853457</td>\n",
       "      <td>-2.483606</td>\n",
       "      <td>1.225222</td>\n",
       "      <td>-0.954696</td>\n",
       "      <td>50</td>\n",
       "    </tr>\n",
       "    <tr>\n",
       "      <th>2055046</th>\n",
       "      <td>1368327150000000</td>\n",
       "      <td>-7.580540</td>\n",
       "      <td>-5.629017</td>\n",
       "      <td>1.559257</td>\n",
       "      <td>-2.429500</td>\n",
       "      <td>1.769765</td>\n",
       "      <td>-1.003565</td>\n",
       "      <td>50</td>\n",
       "    </tr>\n",
       "    <tr>\n",
       "      <th>2055047</th>\n",
       "      <td>1368327160000000</td>\n",
       "      <td>-6.952915</td>\n",
       "      <td>-4.589512</td>\n",
       "      <td>1.755390</td>\n",
       "      <td>-2.426010</td>\n",
       "      <td>2.099633</td>\n",
       "      <td>-0.980876</td>\n",
       "      <td>50</td>\n",
       "    </tr>\n",
       "  </tbody>\n",
       "</table>\n",
       "<p>2055048 rows × 8 columns</p>\n",
       "</div>"
      ],
      "text/plain": [
       "                timestamp       LAx       LAy       LAz       GYx       GYy  \\\n",
       "0         924313410000000  1.242813 -0.160181 -0.900440  0.194931 -0.004242   \n",
       "1         924313420000000  1.117246 -0.187921 -1.529893  0.236458  0.076378   \n",
       "2         924313430000000  0.912846 -0.192566 -1.570929  0.226074  0.012253   \n",
       "3         924313440000000  0.874858 -0.227208 -1.453511  0.139336 -0.050667   \n",
       "4         924313450000000  0.834022 -0.282976 -1.292671 -0.013374 -0.109314   \n",
       "...                   ...       ...       ...       ...       ...       ...   \n",
       "2055043  1368327120000000 -9.502644 -7.178468  4.246279 -2.834417 -0.120428   \n",
       "2055044  1368327130000000 -9.443804 -7.698220  3.059675 -2.638940  0.561997   \n",
       "2055045  1368327140000000 -8.345459 -6.805815  1.853457 -2.483606  1.225222   \n",
       "2055046  1368327150000000 -7.580540 -5.629017  1.559257 -2.429500  1.769765   \n",
       "2055047  1368327160000000 -6.952915 -4.589512  1.755390 -2.426010  2.099633   \n",
       "\n",
       "              GYz  name  \n",
       "0        0.163818     1  \n",
       "1        0.133293     1  \n",
       "2        0.108246     1  \n",
       "3        0.085030     1  \n",
       "4        0.078308     1  \n",
       "...           ...   ...  \n",
       "2055043 -0.987857    50  \n",
       "2055044 -0.947715    50  \n",
       "2055045 -0.954696    50  \n",
       "2055046 -1.003565    50  \n",
       "2055047 -0.980876    50  \n",
       "\n",
       "[2055048 rows x 8 columns]"
      ]
     },
     "execution_count": 4,
     "metadata": {},
     "output_type": "execute_result"
    }
   ],
   "source": [
    "df_original"
   ]
  },
  {
   "cell_type": "code",
   "execution_count": 5,
   "id": "6b3c8701",
   "metadata": {},
   "outputs": [
    {
     "data": {
      "text/html": [
       "<div>\n",
       "<style scoped>\n",
       "    .dataframe tbody tr th:only-of-type {\n",
       "        vertical-align: middle;\n",
       "    }\n",
       "\n",
       "    .dataframe tbody tr th {\n",
       "        vertical-align: top;\n",
       "    }\n",
       "\n",
       "    .dataframe thead th {\n",
       "        text-align: right;\n",
       "    }\n",
       "</style>\n",
       "<table border=\"1\" class=\"dataframe\">\n",
       "  <thead>\n",
       "    <tr style=\"text-align: right;\">\n",
       "      <th></th>\n",
       "      <th>timestamp</th>\n",
       "      <th>LAx</th>\n",
       "      <th>LAy</th>\n",
       "      <th>LAz</th>\n",
       "      <th>GYx</th>\n",
       "      <th>GYy</th>\n",
       "      <th>GYz</th>\n",
       "      <th>name</th>\n",
       "    </tr>\n",
       "  </thead>\n",
       "  <tbody>\n",
       "    <tr>\n",
       "      <th>0</th>\n",
       "      <td>924313410000000</td>\n",
       "      <td>1.242813</td>\n",
       "      <td>-0.160181</td>\n",
       "      <td>-0.900440</td>\n",
       "      <td>0.194931</td>\n",
       "      <td>-0.004242</td>\n",
       "      <td>0.163818</td>\n",
       "      <td>1</td>\n",
       "    </tr>\n",
       "    <tr>\n",
       "      <th>1</th>\n",
       "      <td>924313420000000</td>\n",
       "      <td>1.117246</td>\n",
       "      <td>-0.187921</td>\n",
       "      <td>-1.529893</td>\n",
       "      <td>0.236458</td>\n",
       "      <td>0.076378</td>\n",
       "      <td>0.133293</td>\n",
       "      <td>1</td>\n",
       "    </tr>\n",
       "    <tr>\n",
       "      <th>2</th>\n",
       "      <td>924313430000000</td>\n",
       "      <td>0.912846</td>\n",
       "      <td>-0.192566</td>\n",
       "      <td>-1.570929</td>\n",
       "      <td>0.226074</td>\n",
       "      <td>0.012253</td>\n",
       "      <td>0.108246</td>\n",
       "      <td>1</td>\n",
       "    </tr>\n",
       "    <tr>\n",
       "      <th>3</th>\n",
       "      <td>924313440000000</td>\n",
       "      <td>0.874858</td>\n",
       "      <td>-0.227208</td>\n",
       "      <td>-1.453511</td>\n",
       "      <td>0.139336</td>\n",
       "      <td>-0.050667</td>\n",
       "      <td>0.085030</td>\n",
       "      <td>1</td>\n",
       "    </tr>\n",
       "    <tr>\n",
       "      <th>4</th>\n",
       "      <td>924313450000000</td>\n",
       "      <td>0.834022</td>\n",
       "      <td>-0.282976</td>\n",
       "      <td>-1.292671</td>\n",
       "      <td>-0.013374</td>\n",
       "      <td>-0.109314</td>\n",
       "      <td>0.078308</td>\n",
       "      <td>1</td>\n",
       "    </tr>\n",
       "    <tr>\n",
       "      <th>...</th>\n",
       "      <td>...</td>\n",
       "      <td>...</td>\n",
       "      <td>...</td>\n",
       "      <td>...</td>\n",
       "      <td>...</td>\n",
       "      <td>...</td>\n",
       "      <td>...</td>\n",
       "      <td>...</td>\n",
       "    </tr>\n",
       "    <tr>\n",
       "      <th>2025055</th>\n",
       "      <td>12367900000000</td>\n",
       "      <td>2.077829</td>\n",
       "      <td>2.416126</td>\n",
       "      <td>-1.081501</td>\n",
       "      <td>-0.192919</td>\n",
       "      <td>-0.278187</td>\n",
       "      <td>-0.239816</td>\n",
       "      <td>49</td>\n",
       "    </tr>\n",
       "    <tr>\n",
       "      <th>2025056</th>\n",
       "      <td>12367910000000</td>\n",
       "      <td>2.021396</td>\n",
       "      <td>0.872086</td>\n",
       "      <td>-0.409698</td>\n",
       "      <td>0.479632</td>\n",
       "      <td>0.130033</td>\n",
       "      <td>0.110848</td>\n",
       "      <td>49</td>\n",
       "    </tr>\n",
       "    <tr>\n",
       "      <th>2025057</th>\n",
       "      <td>12367920000000</td>\n",
       "      <td>0.800086</td>\n",
       "      <td>-1.380429</td>\n",
       "      <td>1.259032</td>\n",
       "      <td>1.242781</td>\n",
       "      <td>0.612863</td>\n",
       "      <td>0.310162</td>\n",
       "      <td>49</td>\n",
       "    </tr>\n",
       "    <tr>\n",
       "      <th>2025058</th>\n",
       "      <td>12367930000000</td>\n",
       "      <td>-0.835712</td>\n",
       "      <td>-2.578688</td>\n",
       "      <td>2.644251</td>\n",
       "      <td>1.785298</td>\n",
       "      <td>0.871865</td>\n",
       "      <td>0.318689</td>\n",
       "      <td>49</td>\n",
       "    </tr>\n",
       "    <tr>\n",
       "      <th>2025059</th>\n",
       "      <td>12367940000000</td>\n",
       "      <td>-2.730023</td>\n",
       "      <td>-2.689757</td>\n",
       "      <td>3.954028</td>\n",
       "      <td>2.095461</td>\n",
       "      <td>0.807914</td>\n",
       "      <td>0.187589</td>\n",
       "      <td>49</td>\n",
       "    </tr>\n",
       "  </tbody>\n",
       "</table>\n",
       "<p>1857230 rows × 8 columns</p>\n",
       "</div>"
      ],
      "text/plain": [
       "               timestamp       LAx       LAy       LAz       GYx       GYy  \\\n",
       "0        924313410000000  1.242813 -0.160181 -0.900440  0.194931 -0.004242   \n",
       "1        924313420000000  1.117246 -0.187921 -1.529893  0.236458  0.076378   \n",
       "2        924313430000000  0.912846 -0.192566 -1.570929  0.226074  0.012253   \n",
       "3        924313440000000  0.874858 -0.227208 -1.453511  0.139336 -0.050667   \n",
       "4        924313450000000  0.834022 -0.282976 -1.292671 -0.013374 -0.109314   \n",
       "...                  ...       ...       ...       ...       ...       ...   \n",
       "2025055   12367900000000  2.077829  2.416126 -1.081501 -0.192919 -0.278187   \n",
       "2025056   12367910000000  2.021396  0.872086 -0.409698  0.479632  0.130033   \n",
       "2025057   12367920000000  0.800086 -1.380429  1.259032  1.242781  0.612863   \n",
       "2025058   12367930000000 -0.835712 -2.578688  2.644251  1.785298  0.871865   \n",
       "2025059   12367940000000 -2.730023 -2.689757  3.954028  2.095461  0.807914   \n",
       "\n",
       "              GYz  name  \n",
       "0        0.163818     1  \n",
       "1        0.133293     1  \n",
       "2        0.108246     1  \n",
       "3        0.085030     1  \n",
       "4        0.078308     1  \n",
       "...           ...   ...  \n",
       "2025055 -0.239816    49  \n",
       "2025056  0.110848    49  \n",
       "2025057  0.310162    49  \n",
       "2025058  0.318689    49  \n",
       "2025059  0.187589    49  \n",
       "\n",
       "[1857230 rows x 8 columns]"
      ]
     },
     "execution_count": 5,
     "metadata": {},
     "output_type": "execute_result"
    }
   ],
   "source": [
    "drop_values = [7, 32, 22, 19, 50]\n",
    "\n",
    "# Drop rows based on conditions in the \"name\" column\n",
    "df_original = df_original[~df_original['name'].isin(drop_values)]\n",
    "df_original"
   ]
  },
  {
   "cell_type": "code",
   "execution_count": 6,
   "id": "372fa2a6",
   "metadata": {
    "scrolled": true
   },
   "outputs": [
    {
     "name": "stderr",
     "output_type": "stream",
     "text": [
      "C:\\Users\\szizo\\AppData\\Local\\Temp\\ipykernel_8220\\2860499691.py:2: SettingWithCopyWarning: \n",
      "A value is trying to be set on a copy of a slice from a DataFrame.\n",
      "Try using .loc[row_indexer,col_indexer] = value instead\n",
      "\n",
      "See the caveats in the documentation: https://pandas.pydata.org/pandas-docs/stable/user_guide/indexing.html#returning-a-view-versus-a-copy\n",
      "  df_original['name'] = label.fit_transform(df_original['name'])\n"
     ]
    },
    {
     "data": {
      "text/html": [
       "<div>\n",
       "<style scoped>\n",
       "    .dataframe tbody tr th:only-of-type {\n",
       "        vertical-align: middle;\n",
       "    }\n",
       "\n",
       "    .dataframe tbody tr th {\n",
       "        vertical-align: top;\n",
       "    }\n",
       "\n",
       "    .dataframe thead th {\n",
       "        text-align: right;\n",
       "    }\n",
       "</style>\n",
       "<table border=\"1\" class=\"dataframe\">\n",
       "  <thead>\n",
       "    <tr style=\"text-align: right;\">\n",
       "      <th></th>\n",
       "      <th>timestamp</th>\n",
       "      <th>LAx</th>\n",
       "      <th>LAy</th>\n",
       "      <th>LAz</th>\n",
       "      <th>GYx</th>\n",
       "      <th>GYy</th>\n",
       "      <th>GYz</th>\n",
       "      <th>name</th>\n",
       "    </tr>\n",
       "  </thead>\n",
       "  <tbody>\n",
       "    <tr>\n",
       "      <th>0</th>\n",
       "      <td>924313410000000</td>\n",
       "      <td>1.242813</td>\n",
       "      <td>-0.160181</td>\n",
       "      <td>-0.900440</td>\n",
       "      <td>0.194931</td>\n",
       "      <td>-0.004242</td>\n",
       "      <td>0.163818</td>\n",
       "      <td>0</td>\n",
       "    </tr>\n",
       "    <tr>\n",
       "      <th>1</th>\n",
       "      <td>924313420000000</td>\n",
       "      <td>1.117246</td>\n",
       "      <td>-0.187921</td>\n",
       "      <td>-1.529893</td>\n",
       "      <td>0.236458</td>\n",
       "      <td>0.076378</td>\n",
       "      <td>0.133293</td>\n",
       "      <td>0</td>\n",
       "    </tr>\n",
       "    <tr>\n",
       "      <th>2</th>\n",
       "      <td>924313430000000</td>\n",
       "      <td>0.912846</td>\n",
       "      <td>-0.192566</td>\n",
       "      <td>-1.570929</td>\n",
       "      <td>0.226074</td>\n",
       "      <td>0.012253</td>\n",
       "      <td>0.108246</td>\n",
       "      <td>0</td>\n",
       "    </tr>\n",
       "    <tr>\n",
       "      <th>3</th>\n",
       "      <td>924313440000000</td>\n",
       "      <td>0.874858</td>\n",
       "      <td>-0.227208</td>\n",
       "      <td>-1.453511</td>\n",
       "      <td>0.139336</td>\n",
       "      <td>-0.050667</td>\n",
       "      <td>0.085030</td>\n",
       "      <td>0</td>\n",
       "    </tr>\n",
       "    <tr>\n",
       "      <th>4</th>\n",
       "      <td>924313450000000</td>\n",
       "      <td>0.834022</td>\n",
       "      <td>-0.282976</td>\n",
       "      <td>-1.292671</td>\n",
       "      <td>-0.013374</td>\n",
       "      <td>-0.109314</td>\n",
       "      <td>0.078308</td>\n",
       "      <td>0</td>\n",
       "    </tr>\n",
       "    <tr>\n",
       "      <th>...</th>\n",
       "      <td>...</td>\n",
       "      <td>...</td>\n",
       "      <td>...</td>\n",
       "      <td>...</td>\n",
       "      <td>...</td>\n",
       "      <td>...</td>\n",
       "      <td>...</td>\n",
       "      <td>...</td>\n",
       "    </tr>\n",
       "    <tr>\n",
       "      <th>2025055</th>\n",
       "      <td>12367900000000</td>\n",
       "      <td>2.077829</td>\n",
       "      <td>2.416126</td>\n",
       "      <td>-1.081501</td>\n",
       "      <td>-0.192919</td>\n",
       "      <td>-0.278187</td>\n",
       "      <td>-0.239816</td>\n",
       "      <td>44</td>\n",
       "    </tr>\n",
       "    <tr>\n",
       "      <th>2025056</th>\n",
       "      <td>12367910000000</td>\n",
       "      <td>2.021396</td>\n",
       "      <td>0.872086</td>\n",
       "      <td>-0.409698</td>\n",
       "      <td>0.479632</td>\n",
       "      <td>0.130033</td>\n",
       "      <td>0.110848</td>\n",
       "      <td>44</td>\n",
       "    </tr>\n",
       "    <tr>\n",
       "      <th>2025057</th>\n",
       "      <td>12367920000000</td>\n",
       "      <td>0.800086</td>\n",
       "      <td>-1.380429</td>\n",
       "      <td>1.259032</td>\n",
       "      <td>1.242781</td>\n",
       "      <td>0.612863</td>\n",
       "      <td>0.310162</td>\n",
       "      <td>44</td>\n",
       "    </tr>\n",
       "    <tr>\n",
       "      <th>2025058</th>\n",
       "      <td>12367930000000</td>\n",
       "      <td>-0.835712</td>\n",
       "      <td>-2.578688</td>\n",
       "      <td>2.644251</td>\n",
       "      <td>1.785298</td>\n",
       "      <td>0.871865</td>\n",
       "      <td>0.318689</td>\n",
       "      <td>44</td>\n",
       "    </tr>\n",
       "    <tr>\n",
       "      <th>2025059</th>\n",
       "      <td>12367940000000</td>\n",
       "      <td>-2.730023</td>\n",
       "      <td>-2.689757</td>\n",
       "      <td>3.954028</td>\n",
       "      <td>2.095461</td>\n",
       "      <td>0.807914</td>\n",
       "      <td>0.187589</td>\n",
       "      <td>44</td>\n",
       "    </tr>\n",
       "  </tbody>\n",
       "</table>\n",
       "<p>1857230 rows × 8 columns</p>\n",
       "</div>"
      ],
      "text/plain": [
       "               timestamp       LAx       LAy       LAz       GYx       GYy  \\\n",
       "0        924313410000000  1.242813 -0.160181 -0.900440  0.194931 -0.004242   \n",
       "1        924313420000000  1.117246 -0.187921 -1.529893  0.236458  0.076378   \n",
       "2        924313430000000  0.912846 -0.192566 -1.570929  0.226074  0.012253   \n",
       "3        924313440000000  0.874858 -0.227208 -1.453511  0.139336 -0.050667   \n",
       "4        924313450000000  0.834022 -0.282976 -1.292671 -0.013374 -0.109314   \n",
       "...                  ...       ...       ...       ...       ...       ...   \n",
       "2025055   12367900000000  2.077829  2.416126 -1.081501 -0.192919 -0.278187   \n",
       "2025056   12367910000000  2.021396  0.872086 -0.409698  0.479632  0.130033   \n",
       "2025057   12367920000000  0.800086 -1.380429  1.259032  1.242781  0.612863   \n",
       "2025058   12367930000000 -0.835712 -2.578688  2.644251  1.785298  0.871865   \n",
       "2025059   12367940000000 -2.730023 -2.689757  3.954028  2.095461  0.807914   \n",
       "\n",
       "              GYz  name  \n",
       "0        0.163818     0  \n",
       "1        0.133293     0  \n",
       "2        0.108246     0  \n",
       "3        0.085030     0  \n",
       "4        0.078308     0  \n",
       "...           ...   ...  \n",
       "2025055 -0.239816    44  \n",
       "2025056  0.110848    44  \n",
       "2025057  0.310162    44  \n",
       "2025058  0.318689    44  \n",
       "2025059  0.187589    44  \n",
       "\n",
       "[1857230 rows x 8 columns]"
      ]
     },
     "execution_count": 6,
     "metadata": {},
     "output_type": "execute_result"
    }
   ],
   "source": [
    "label = LabelEncoder()\n",
    "df_original['name'] = label.fit_transform(df_original['name'])\n",
    "df_original"
   ]
  },
  {
   "cell_type": "code",
   "execution_count": 7,
   "id": "34653a42",
   "metadata": {},
   "outputs": [
    {
     "data": {
      "text/plain": [
       "45"
      ]
     },
     "execution_count": 7,
     "metadata": {},
     "output_type": "execute_result"
    }
   ],
   "source": [
    "num_users = df_original['name'].nunique()\n",
    "num_users"
   ]
  },
  {
   "cell_type": "code",
   "execution_count": 8,
   "id": "44374d55",
   "metadata": {
    "scrolled": true
   },
   "outputs": [
    {
     "data": {
      "text/plain": [
       "timestamp    0\n",
       "LAx          0\n",
       "LAy          0\n",
       "LAz          0\n",
       "GYx          0\n",
       "GYy          0\n",
       "GYz          0\n",
       "name         0\n",
       "dtype: int64"
      ]
     },
     "execution_count": 8,
     "metadata": {},
     "output_type": "execute_result"
    }
   ],
   "source": [
    "df_original.isnull().sum()"
   ]
  },
  {
   "cell_type": "code",
   "execution_count": 9,
   "id": "eda07b86",
   "metadata": {},
   "outputs": [
    {
     "name": "stdout",
     "output_type": "stream",
     "text": [
      "<class 'pandas.core.frame.DataFrame'>\n",
      "Int64Index: 1857230 entries, 0 to 2025059\n",
      "Data columns (total 8 columns):\n",
      " #   Column     Dtype  \n",
      "---  ------     -----  \n",
      " 0   timestamp  int64  \n",
      " 1   LAx        float64\n",
      " 2   LAy        float64\n",
      " 3   LAz        float64\n",
      " 4   GYx        float64\n",
      " 5   GYy        float64\n",
      " 6   GYz        float64\n",
      " 7   name       int64  \n",
      "dtypes: float64(6), int64(2)\n",
      "memory usage: 127.5 MB\n"
     ]
    }
   ],
   "source": [
    "df_original.info()"
   ]
  },
  {
   "cell_type": "code",
   "execution_count": 10,
   "id": "54b2a1e4",
   "metadata": {},
   "outputs": [
    {
     "data": {
      "text/plain": [
       "16    82714\n",
       "42    65984\n",
       "25    60052\n",
       "6     60036\n",
       "5     60005\n",
       "7     59986\n",
       "36    59984\n",
       "11    59984\n",
       "2     59958\n",
       "34    59958\n",
       "32    55050\n",
       "10    51686\n",
       "1     48001\n",
       "9     47946\n",
       "29    47824\n",
       "44    47614\n",
       "37    41946\n",
       "35    41946\n",
       "28    41945\n",
       "30    41945\n",
       "23    41535\n",
       "26    40959\n",
       "20    35980\n",
       "14    35974\n",
       "17    35948\n",
       "24    35947\n",
       "27    35947\n",
       "3     35946\n",
       "19    34545\n",
       "33    32186\n",
       "39    31414\n",
       "38    30100\n",
       "15    29997\n",
       "43    29990\n",
       "12    29950\n",
       "41    29945\n",
       "8     28892\n",
       "0     26790\n",
       "40    26022\n",
       "21    25926\n",
       "4     25792\n",
       "31    25173\n",
       "22    23949\n",
       "13    17985\n",
       "18    15774\n",
       "Name: name, dtype: int64"
      ]
     },
     "execution_count": 10,
     "metadata": {},
     "output_type": "execute_result"
    }
   ],
   "source": [
    "df_original['name'].value_counts()"
   ]
  },
  {
   "cell_type": "code",
   "execution_count": 11,
   "id": "bdac5aae",
   "metadata": {},
   "outputs": [
    {
     "data": {
      "text/plain": [
       "(1857230, 7)"
      ]
     },
     "execution_count": 11,
     "metadata": {},
     "output_type": "execute_result"
    }
   ],
   "source": [
    "df_Xtime = df_original.copy()\n",
    "df_Xtime = df_Xtime.drop(['timestamp'], axis = 1).copy()\n",
    "df_Xtime.shape"
   ]
  },
  {
   "cell_type": "code",
   "execution_count": 12,
   "id": "aca50c9c",
   "metadata": {},
   "outputs": [
    {
     "data": {
      "text/html": [
       "<div>\n",
       "<style scoped>\n",
       "    .dataframe tbody tr th:only-of-type {\n",
       "        vertical-align: middle;\n",
       "    }\n",
       "\n",
       "    .dataframe tbody tr th {\n",
       "        vertical-align: top;\n",
       "    }\n",
       "\n",
       "    .dataframe thead th {\n",
       "        text-align: right;\n",
       "    }\n",
       "</style>\n",
       "<table border=\"1\" class=\"dataframe\">\n",
       "  <thead>\n",
       "    <tr style=\"text-align: right;\">\n",
       "      <th></th>\n",
       "      <th>LAx</th>\n",
       "      <th>LAy</th>\n",
       "      <th>LAz</th>\n",
       "      <th>GYx</th>\n",
       "      <th>GYy</th>\n",
       "      <th>GYz</th>\n",
       "      <th>name</th>\n",
       "    </tr>\n",
       "  </thead>\n",
       "  <tbody>\n",
       "    <tr>\n",
       "      <th>0</th>\n",
       "      <td>1.242813</td>\n",
       "      <td>-0.160181</td>\n",
       "      <td>-0.900440</td>\n",
       "      <td>0.194931</td>\n",
       "      <td>-0.004242</td>\n",
       "      <td>0.163818</td>\n",
       "      <td>0</td>\n",
       "    </tr>\n",
       "    <tr>\n",
       "      <th>1</th>\n",
       "      <td>1.117246</td>\n",
       "      <td>-0.187921</td>\n",
       "      <td>-1.529893</td>\n",
       "      <td>0.236458</td>\n",
       "      <td>0.076378</td>\n",
       "      <td>0.133293</td>\n",
       "      <td>0</td>\n",
       "    </tr>\n",
       "    <tr>\n",
       "      <th>2</th>\n",
       "      <td>0.912846</td>\n",
       "      <td>-0.192566</td>\n",
       "      <td>-1.570929</td>\n",
       "      <td>0.226074</td>\n",
       "      <td>0.012253</td>\n",
       "      <td>0.108246</td>\n",
       "      <td>0</td>\n",
       "    </tr>\n",
       "    <tr>\n",
       "      <th>3</th>\n",
       "      <td>0.874858</td>\n",
       "      <td>-0.227208</td>\n",
       "      <td>-1.453511</td>\n",
       "      <td>0.139336</td>\n",
       "      <td>-0.050667</td>\n",
       "      <td>0.085030</td>\n",
       "      <td>0</td>\n",
       "    </tr>\n",
       "    <tr>\n",
       "      <th>4</th>\n",
       "      <td>0.834022</td>\n",
       "      <td>-0.282976</td>\n",
       "      <td>-1.292671</td>\n",
       "      <td>-0.013374</td>\n",
       "      <td>-0.109314</td>\n",
       "      <td>0.078308</td>\n",
       "      <td>0</td>\n",
       "    </tr>\n",
       "    <tr>\n",
       "      <th>...</th>\n",
       "      <td>...</td>\n",
       "      <td>...</td>\n",
       "      <td>...</td>\n",
       "      <td>...</td>\n",
       "      <td>...</td>\n",
       "      <td>...</td>\n",
       "      <td>...</td>\n",
       "    </tr>\n",
       "    <tr>\n",
       "      <th>2025055</th>\n",
       "      <td>2.077829</td>\n",
       "      <td>2.416126</td>\n",
       "      <td>-1.081501</td>\n",
       "      <td>-0.192919</td>\n",
       "      <td>-0.278187</td>\n",
       "      <td>-0.239816</td>\n",
       "      <td>44</td>\n",
       "    </tr>\n",
       "    <tr>\n",
       "      <th>2025056</th>\n",
       "      <td>2.021396</td>\n",
       "      <td>0.872086</td>\n",
       "      <td>-0.409698</td>\n",
       "      <td>0.479632</td>\n",
       "      <td>0.130033</td>\n",
       "      <td>0.110848</td>\n",
       "      <td>44</td>\n",
       "    </tr>\n",
       "    <tr>\n",
       "      <th>2025057</th>\n",
       "      <td>0.800086</td>\n",
       "      <td>-1.380429</td>\n",
       "      <td>1.259032</td>\n",
       "      <td>1.242781</td>\n",
       "      <td>0.612863</td>\n",
       "      <td>0.310162</td>\n",
       "      <td>44</td>\n",
       "    </tr>\n",
       "    <tr>\n",
       "      <th>2025058</th>\n",
       "      <td>-0.835712</td>\n",
       "      <td>-2.578688</td>\n",
       "      <td>2.644251</td>\n",
       "      <td>1.785298</td>\n",
       "      <td>0.871865</td>\n",
       "      <td>0.318689</td>\n",
       "      <td>44</td>\n",
       "    </tr>\n",
       "    <tr>\n",
       "      <th>2025059</th>\n",
       "      <td>-2.730023</td>\n",
       "      <td>-2.689757</td>\n",
       "      <td>3.954028</td>\n",
       "      <td>2.095461</td>\n",
       "      <td>0.807914</td>\n",
       "      <td>0.187589</td>\n",
       "      <td>44</td>\n",
       "    </tr>\n",
       "  </tbody>\n",
       "</table>\n",
       "<p>1857230 rows × 7 columns</p>\n",
       "</div>"
      ],
      "text/plain": [
       "              LAx       LAy       LAz       GYx       GYy       GYz  name\n",
       "0        1.242813 -0.160181 -0.900440  0.194931 -0.004242  0.163818     0\n",
       "1        1.117246 -0.187921 -1.529893  0.236458  0.076378  0.133293     0\n",
       "2        0.912846 -0.192566 -1.570929  0.226074  0.012253  0.108246     0\n",
       "3        0.874858 -0.227208 -1.453511  0.139336 -0.050667  0.085030     0\n",
       "4        0.834022 -0.282976 -1.292671 -0.013374 -0.109314  0.078308     0\n",
       "...           ...       ...       ...       ...       ...       ...   ...\n",
       "2025055  2.077829  2.416126 -1.081501 -0.192919 -0.278187 -0.239816    44\n",
       "2025056  2.021396  0.872086 -0.409698  0.479632  0.130033  0.110848    44\n",
       "2025057  0.800086 -1.380429  1.259032  1.242781  0.612863  0.310162    44\n",
       "2025058 -0.835712 -2.578688  2.644251  1.785298  0.871865  0.318689    44\n",
       "2025059 -2.730023 -2.689757  3.954028  2.095461  0.807914  0.187589    44\n",
       "\n",
       "[1857230 rows x 7 columns]"
      ]
     },
     "execution_count": 12,
     "metadata": {},
     "output_type": "execute_result"
    }
   ],
   "source": [
    "df_Xtime"
   ]
  },
  {
   "cell_type": "code",
   "execution_count": 13,
   "id": "10931f68",
   "metadata": {},
   "outputs": [],
   "source": [
    "X = df_Xtime[['LAx', 'LAy', 'LAz','GYx', 'GYy', 'GYz']].copy()\n",
    "y = df_Xtime['name'].copy()"
   ]
  },
  {
   "cell_type": "code",
   "execution_count": 14,
   "id": "a22de21d",
   "metadata": {},
   "outputs": [
    {
     "data": {
      "text/html": [
       "<div>\n",
       "<style scoped>\n",
       "    .dataframe tbody tr th:only-of-type {\n",
       "        vertical-align: middle;\n",
       "    }\n",
       "\n",
       "    .dataframe tbody tr th {\n",
       "        vertical-align: top;\n",
       "    }\n",
       "\n",
       "    .dataframe thead th {\n",
       "        text-align: right;\n",
       "    }\n",
       "</style>\n",
       "<table border=\"1\" class=\"dataframe\">\n",
       "  <thead>\n",
       "    <tr style=\"text-align: right;\">\n",
       "      <th></th>\n",
       "      <th>LAx</th>\n",
       "      <th>LAy</th>\n",
       "      <th>LAz</th>\n",
       "      <th>GYx</th>\n",
       "      <th>GYy</th>\n",
       "      <th>GYz</th>\n",
       "      <th>label</th>\n",
       "    </tr>\n",
       "  </thead>\n",
       "  <tbody>\n",
       "    <tr>\n",
       "      <th>0</th>\n",
       "      <td>1.242813</td>\n",
       "      <td>-0.160181</td>\n",
       "      <td>-0.900440</td>\n",
       "      <td>0.194931</td>\n",
       "      <td>-0.004242</td>\n",
       "      <td>0.163818</td>\n",
       "      <td>0</td>\n",
       "    </tr>\n",
       "    <tr>\n",
       "      <th>1</th>\n",
       "      <td>1.117246</td>\n",
       "      <td>-0.187921</td>\n",
       "      <td>-1.529893</td>\n",
       "      <td>0.236458</td>\n",
       "      <td>0.076378</td>\n",
       "      <td>0.133293</td>\n",
       "      <td>0</td>\n",
       "    </tr>\n",
       "    <tr>\n",
       "      <th>2</th>\n",
       "      <td>0.912846</td>\n",
       "      <td>-0.192566</td>\n",
       "      <td>-1.570929</td>\n",
       "      <td>0.226074</td>\n",
       "      <td>0.012253</td>\n",
       "      <td>0.108246</td>\n",
       "      <td>0</td>\n",
       "    </tr>\n",
       "    <tr>\n",
       "      <th>3</th>\n",
       "      <td>0.874858</td>\n",
       "      <td>-0.227208</td>\n",
       "      <td>-1.453511</td>\n",
       "      <td>0.139336</td>\n",
       "      <td>-0.050667</td>\n",
       "      <td>0.085030</td>\n",
       "      <td>0</td>\n",
       "    </tr>\n",
       "    <tr>\n",
       "      <th>4</th>\n",
       "      <td>0.834022</td>\n",
       "      <td>-0.282976</td>\n",
       "      <td>-1.292671</td>\n",
       "      <td>-0.013374</td>\n",
       "      <td>-0.109314</td>\n",
       "      <td>0.078308</td>\n",
       "      <td>0</td>\n",
       "    </tr>\n",
       "    <tr>\n",
       "      <th>...</th>\n",
       "      <td>...</td>\n",
       "      <td>...</td>\n",
       "      <td>...</td>\n",
       "      <td>...</td>\n",
       "      <td>...</td>\n",
       "      <td>...</td>\n",
       "      <td>...</td>\n",
       "    </tr>\n",
       "    <tr>\n",
       "      <th>2025055</th>\n",
       "      <td>2.077829</td>\n",
       "      <td>2.416126</td>\n",
       "      <td>-1.081501</td>\n",
       "      <td>-0.192919</td>\n",
       "      <td>-0.278187</td>\n",
       "      <td>-0.239816</td>\n",
       "      <td>44</td>\n",
       "    </tr>\n",
       "    <tr>\n",
       "      <th>2025056</th>\n",
       "      <td>2.021396</td>\n",
       "      <td>0.872086</td>\n",
       "      <td>-0.409698</td>\n",
       "      <td>0.479632</td>\n",
       "      <td>0.130033</td>\n",
       "      <td>0.110848</td>\n",
       "      <td>44</td>\n",
       "    </tr>\n",
       "    <tr>\n",
       "      <th>2025057</th>\n",
       "      <td>0.800086</td>\n",
       "      <td>-1.380429</td>\n",
       "      <td>1.259032</td>\n",
       "      <td>1.242781</td>\n",
       "      <td>0.612863</td>\n",
       "      <td>0.310162</td>\n",
       "      <td>44</td>\n",
       "    </tr>\n",
       "    <tr>\n",
       "      <th>2025058</th>\n",
       "      <td>-0.835712</td>\n",
       "      <td>-2.578688</td>\n",
       "      <td>2.644251</td>\n",
       "      <td>1.785298</td>\n",
       "      <td>0.871865</td>\n",
       "      <td>0.318689</td>\n",
       "      <td>44</td>\n",
       "    </tr>\n",
       "    <tr>\n",
       "      <th>2025059</th>\n",
       "      <td>-2.730023</td>\n",
       "      <td>-2.689757</td>\n",
       "      <td>3.954028</td>\n",
       "      <td>2.095461</td>\n",
       "      <td>0.807914</td>\n",
       "      <td>0.187589</td>\n",
       "      <td>44</td>\n",
       "    </tr>\n",
       "  </tbody>\n",
       "</table>\n",
       "<p>1857230 rows × 7 columns</p>\n",
       "</div>"
      ],
      "text/plain": [
       "              LAx       LAy       LAz       GYx       GYy       GYz  label\n",
       "0        1.242813 -0.160181 -0.900440  0.194931 -0.004242  0.163818      0\n",
       "1        1.117246 -0.187921 -1.529893  0.236458  0.076378  0.133293      0\n",
       "2        0.912846 -0.192566 -1.570929  0.226074  0.012253  0.108246      0\n",
       "3        0.874858 -0.227208 -1.453511  0.139336 -0.050667  0.085030      0\n",
       "4        0.834022 -0.282976 -1.292671 -0.013374 -0.109314  0.078308      0\n",
       "...           ...       ...       ...       ...       ...       ...    ...\n",
       "2025055  2.077829  2.416126 -1.081501 -0.192919 -0.278187 -0.239816     44\n",
       "2025056  2.021396  0.872086 -0.409698  0.479632  0.130033  0.110848     44\n",
       "2025057  0.800086 -1.380429  1.259032  1.242781  0.612863  0.310162     44\n",
       "2025058 -0.835712 -2.578688  2.644251  1.785298  0.871865  0.318689     44\n",
       "2025059 -2.730023 -2.689757  3.954028  2.095461  0.807914  0.187589     44\n",
       "\n",
       "[1857230 rows x 7 columns]"
      ]
     },
     "execution_count": 14,
     "metadata": {},
     "output_type": "execute_result"
    }
   ],
   "source": [
    "scaler = StandardScaler()\n",
    "X_transformed = X.copy()\n",
    "# X_transformed = scaler.fit_transform(X_transformed) #No_scalling\n",
    "\n",
    "scaled_X = pd.DataFrame(data = X_transformed, columns = ['LAx', 'LAy', 'LAz','GYx', 'GYy', 'GYz'])\n",
    "scaled_X['label'] = y.values\n",
    "\n",
    "scaled_X"
   ]
  },
  {
   "cell_type": "code",
   "execution_count": 15,
   "id": "091232c8",
   "metadata": {},
   "outputs": [
    {
     "name": "stderr",
     "output_type": "stream",
     "text": [
      "C:\\Users\\szizo\\AppData\\Local\\Temp\\ipykernel_8220\\1631389044.py:12: FutureWarning: The frame.append method is deprecated and will be removed from pandas in a future version. Use pandas.concat instead.\n",
      "  df_train = df_train.append(train_row, ignore_index=True)\n",
      "C:\\Users\\szizo\\AppData\\Local\\Temp\\ipykernel_8220\\1631389044.py:13: FutureWarning: The frame.append method is deprecated and will be removed from pandas in a future version. Use pandas.concat instead.\n",
      "  df_test = df_test.append(test_row, ignore_index=True)\n"
     ]
    },
    {
     "data": {
      "text/plain": [
       "((1300041, 7), (557189, 7))"
      ]
     },
     "execution_count": 15,
     "metadata": {},
     "output_type": "execute_result"
    }
   ],
   "source": [
    "df_test = pd.DataFrame(columns=['LAx','LAy','LAz','GYx','GYy','GYz','label'])\n",
    "df_train = pd.DataFrame(columns=['LAx','LAy','LAz','GYx','GYy','GYz','label'])\n",
    "\n",
    "for i in range(0,num_users):\n",
    "    df_original_i = scaled_X[scaled_X['label'] == i]\n",
    "    length = len(df_original_i)\n",
    "    num_rows_70 = int(length*0.7)\n",
    "    \n",
    "    train_row = df_original_i[:num_rows_70]\n",
    "    test_row = df_original_i[num_rows_70:]\n",
    "    \n",
    "    df_train = df_train.append(train_row, ignore_index=True)\n",
    "    df_test = df_test.append(test_row, ignore_index=True)\n",
    "\n",
    "df_train.shape, df_test.shape"
   ]
  },
  {
   "cell_type": "code",
   "execution_count": 16,
   "id": "019df13a",
   "metadata": {},
   "outputs": [],
   "source": [
    "import scipy.stats as stats\n",
    "\n",
    "Fs = 100\n",
    "frame_size = Fs*6 \n",
    "hop_size = Fs*2"
   ]
  },
  {
   "cell_type": "code",
   "execution_count": 17,
   "id": "602c2bcb",
   "metadata": {},
   "outputs": [
    {
     "data": {
      "text/plain": [
       "45"
      ]
     },
     "execution_count": 17,
     "metadata": {},
     "output_type": "execute_result"
    }
   ],
   "source": [
    " df_original['name'].nunique()"
   ]
  },
  {
   "cell_type": "code",
   "execution_count": 18,
   "id": "4cb22659",
   "metadata": {},
   "outputs": [],
   "source": [
    "def get_frames(df, frame_size, hop_size):\n",
    "    N_FEATURES = 6\n",
    "\n",
    "    frames = []\n",
    "    labels = []\n",
    "    \n",
    "    num_users = df_original['name'].nunique()\n",
    "    for j in range (0,num_users): \n",
    "        filtered_df = df[df['label'] == j]\n",
    "        filtered_df = filtered_df.drop('label', axis = 1)\n",
    "        for i in range(0, len(filtered_df) - frame_size, hop_size):\n",
    "            LAx = filtered_df['LAx'].values[i: i + frame_size]\n",
    "            LAy = filtered_df['LAy'].values[i: i + frame_size]\n",
    "            LAz = filtered_df['LAz'].values[i: i + frame_size]\n",
    "            GYx = filtered_df['GYx'].values[i: i + frame_size]\n",
    "            GYy = filtered_df['GYy'].values[i: i + frame_size]\n",
    "            GYz = filtered_df['GYz'].values[i: i + frame_size]\n",
    "            \n",
    "\n",
    "            label = j\n",
    "\n",
    "            frames.append([LAx, LAy, LAz, GYx, GYy , GYz])\n",
    "            labels.append(label)\n",
    "\n",
    "    frames = np.asarray(frames).reshape(-1, frame_size, N_FEATURES)\n",
    "    labels = np.asarray(labels)\n",
    "    \n",
    "    return frames, labels"
   ]
  },
  {
   "cell_type": "code",
   "execution_count": 19,
   "id": "2f413414",
   "metadata": {},
   "outputs": [],
   "source": [
    "# X, y = get_frames(scaled_X,frame_size, hop_size)\n",
    "# X.shape, y.shape"
   ]
  },
  {
   "cell_type": "code",
   "execution_count": 20,
   "id": "0b04449b",
   "metadata": {},
   "outputs": [
    {
     "data": {
      "text/plain": [
       "((6380, 600, 6), (2666, 600, 6), (6380,), (2666,))"
      ]
     },
     "execution_count": 20,
     "metadata": {},
     "output_type": "execute_result"
    }
   ],
   "source": [
    "X_train_Unshuffeled,y_train_Unshuffeled = get_frames(df_train,frame_size,hop_size)\n",
    "X_test, y_test = get_frames(df_test,frame_size,hop_size)\n",
    "X_train_Unshuffeled.shape, X_test.shape, y_train_Unshuffeled.shape, y_test.shape"
   ]
  },
  {
   "cell_type": "code",
   "execution_count": null,
   "id": "abddbbfd",
   "metadata": {},
   "outputs": [],
   "source": []
  },
  {
   "cell_type": "code",
   "execution_count": 21,
   "id": "108951c0",
   "metadata": {},
   "outputs": [
    {
     "data": {
      "text/plain": [
       "((5742, 600, 6), (2666, 600, 6), (638, 600, 6))"
      ]
     },
     "execution_count": 21,
     "metadata": {},
     "output_type": "execute_result"
    }
   ],
   "source": [
    "# X_train_val, X_test, y_train_val, y_test = train_test_split(X, y, test_size = 0.3, random_state = 0, stratify = y)\n",
    "\n",
    "X_train, X_validation, y_train, y_validation = train_test_split(X_train_Unshuffeled, y_train_Unshuffeled, test_size = 0.1, random_state = 0, stratify = y_train_Unshuffeled)\n",
    "X_train.shape, X_test.shape, X_validation.shape"
   ]
  },
  {
   "cell_type": "code",
   "execution_count": 22,
   "id": "6a5c082c",
   "metadata": {},
   "outputs": [
    {
     "data": {
      "text/plain": [
       "((600, 6), (600, 6), (600, 6))"
      ]
     },
     "execution_count": 22,
     "metadata": {},
     "output_type": "execute_result"
    }
   ],
   "source": [
    "X_train[0].shape, X_test[0].shape, X_validation[0].shape"
   ]
  },
  {
   "cell_type": "code",
   "execution_count": 23,
   "id": "51c0e384",
   "metadata": {},
   "outputs": [],
   "source": [
    "# num = df_original['name'].iloc[-1]\n",
    "# num "
   ]
  },
  {
   "cell_type": "code",
   "execution_count": 24,
   "id": "c74ee5c4",
   "metadata": {},
   "outputs": [
    {
     "data": {
      "text/plain": [
       "45"
      ]
     },
     "execution_count": 24,
     "metadata": {},
     "output_type": "execute_result"
    }
   ],
   "source": [
    "len(np.unique(y_test))"
   ]
  },
  {
   "cell_type": "code",
   "execution_count": 25,
   "id": "7b6e6959",
   "metadata": {},
   "outputs": [
    {
     "data": {
      "text/plain": [
       "array([ 0,  1,  2,  3,  4,  5,  6,  7,  8,  9, 10, 11, 12, 13, 14, 15, 16,\n",
       "       17, 18, 19, 20, 21, 22, 23, 24, 25, 26, 27, 28, 29, 30, 31, 32, 33,\n",
       "       34, 35, 36, 37, 38, 39, 40, 41, 42, 43, 44])"
      ]
     },
     "execution_count": 25,
     "metadata": {},
     "output_type": "execute_result"
    }
   ],
   "source": [
    "np.unique(y_test)"
   ]
  },
  {
   "cell_type": "code",
   "execution_count": 26,
   "id": "3cf0350d",
   "metadata": {},
   "outputs": [],
   "source": [
    "# # Subtract 1 from each label in y_train\n",
    "# y_train = np.array(y_train) - 1\n",
    "# y_test = np.array(y_test) - 1\n",
    "# y_validation = np.array(y_validation) - 1"
   ]
  },
  {
   "cell_type": "code",
   "execution_count": 27,
   "id": "29b2a405",
   "metadata": {},
   "outputs": [
    {
     "data": {
      "text/plain": [
       "((5742,), (2666,), (638,))"
      ]
     },
     "execution_count": 27,
     "metadata": {},
     "output_type": "execute_result"
    }
   ],
   "source": [
    "y_train.shape, y_test.shape, y_validation.shape"
   ]
  },
  {
   "cell_type": "code",
   "execution_count": 28,
   "id": "9afa305f",
   "metadata": {},
   "outputs": [],
   "source": [
    "y_train_o = np.eye(50)[y_train]\n",
    "y_test_o = np.eye(50)[y_test]\n",
    "y_validation_o = np.eye(50)[y_validation]"
   ]
  },
  {
   "cell_type": "code",
   "execution_count": 29,
   "id": "d6cf3a75",
   "metadata": {},
   "outputs": [
    {
     "data": {
      "text/plain": [
       "((5742, 50), (638, 50), (638, 50))"
      ]
     },
     "execution_count": 29,
     "metadata": {},
     "output_type": "execute_result"
    }
   ],
   "source": [
    "y_train_o.shape, y_validation_o.shape, y_validation_o.shape"
   ]
  },
  {
   "cell_type": "code",
   "execution_count": 30,
   "id": "d1ef3d9f",
   "metadata": {},
   "outputs": [],
   "source": [
    "# tut\n",
    "# model = Sequential()\n",
    "# model.add(Conv1D(filters=64, kernel_size=3, activation='relu', input_shape=X_train[0].shape))\n",
    "# model.add(Conv1D(filters=64, kernel_size=3, activation='relu'))\n",
    "# model.add(Dropout(0.5))\n",
    "# model.add(MaxPooling1D(pool_size=2))\n",
    "# model.add(Flatten())\n",
    "# model.add(Dense(100, activation='relu'))\n",
    "# model.add(Dense(50, activation='softmax'))\n"
   ]
  },
  {
   "cell_type": "code",
   "execution_count": 43,
   "id": "b38f479a",
   "metadata": {},
   "outputs": [],
   "source": [
    "# chatgpt\n",
    "model = Sequential()\n",
    "model.add(Conv1D(filters=32, kernel_size=3, activation='relu', input_shape=X_train[0].shape))\n",
    "model.add(MaxPooling1D(pool_size=2))\n",
    "model.add(Conv1D(filters=64, kernel_size=3, activation='relu'))\n",
    "model.add(MaxPooling1D(pool_size=2))\n",
    "model.add(Conv1D(filters=128, kernel_size=3, activation='relu'))\n",
    "model.add(MaxPooling1D(pool_size=2))\n",
    "model.add(Flatten())\n",
    "model.add(Dense(256, activation='relu'))\n",
    "model.add(Dropout(0.5))\n",
    "model.add(Dense(num_users +1, activation='softmax'))"
   ]
  },
  {
   "cell_type": "code",
   "execution_count": 44,
   "id": "d0bd6810",
   "metadata": {
    "scrolled": true
   },
   "outputs": [
    {
     "name": "stdout",
     "output_type": "stream",
     "text": [
      "Model: \"sequential_2\"\n",
      "___________________________________________________________________________\n",
      " Layer (type)                    Output Shape                  Param #     \n",
      "===========================================================================\n",
      " conv1d_6 (Conv1D)               (None, 598, 32)               608         \n",
      "                                                                           \n",
      " max_pooling1d_6 (MaxPooling1D)  (None, 299, 32)               0           \n",
      "                                                                           \n",
      " conv1d_7 (Conv1D)               (None, 297, 64)               6208        \n",
      "                                                                           \n",
      " max_pooling1d_7 (MaxPooling1D)  (None, 148, 64)               0           \n",
      "                                                                           \n",
      " conv1d_8 (Conv1D)               (None, 146, 128)              24704       \n",
      "                                                                           \n",
      " max_pooling1d_8 (MaxPooling1D)  (None, 73, 128)               0           \n",
      "                                                                           \n",
      " flatten_2 (Flatten)             (None, 9344)                  0           \n",
      "                                                                           \n",
      " dense_4 (Dense)                 (None, 256)                   2392320     \n",
      "                                                                           \n",
      " dropout_2 (Dropout)             (None, 256)                   0           \n",
      "                                                                           \n",
      " dense_5 (Dense)                 (None, 46)                    11822       \n",
      "                                                                           \n",
      "===========================================================================\n",
      "Total params: 2,435,662\n",
      "Trainable params: 2,435,662\n",
      "Non-trainable params: 0\n",
      "___________________________________________________________________________\n"
     ]
    }
   ],
   "source": [
    "model.summary(line_length = 75)"
   ]
  },
  {
   "cell_type": "code",
   "execution_count": 45,
   "id": "d4bd648e",
   "metadata": {},
   "outputs": [],
   "source": [
    "model.compile(optimizer=Adam(learning_rate = 0.001), loss=tf.keras.losses.SparseCategoricalCrossentropy(), metrics = ['accuracy'])"
   ]
  },
  {
   "cell_type": "code",
   "execution_count": 46,
   "id": "48a91cb0",
   "metadata": {},
   "outputs": [],
   "source": [
    "early_stopping = tf.keras.callbacks.EarlyStopping(\n",
    "    monitor = 'val_loss',\n",
    "    mode = 'auto',\n",
    "    min_delta = 0,\n",
    "    patience = 2,\n",
    "    verbose = 0,\n",
    "    restore_best_weights = True\n",
    ")"
   ]
  },
  {
   "cell_type": "code",
   "execution_count": 47,
   "id": "319eff8f",
   "metadata": {
    "scrolled": true
   },
   "outputs": [
    {
     "name": "stdout",
     "output_type": "stream",
     "text": [
      "Epoch 1/30\n",
      "180/180 [==============================] - 10s 48ms/step - loss: 2.3495 - accuracy: 0.3936 - val_loss: 0.4184 - val_accuracy: 0.8699\n",
      "Epoch 2/30\n",
      "180/180 [==============================] - 8s 47ms/step - loss: 0.5320 - accuracy: 0.8157 - val_loss: 0.1794 - val_accuracy: 0.9138\n",
      "Epoch 3/30\n",
      "180/180 [==============================] - 8s 47ms/step - loss: 0.3143 - accuracy: 0.8758 - val_loss: 0.1320 - val_accuracy: 0.9201\n",
      "Epoch 4/30\n",
      "180/180 [==============================] - 9s 47ms/step - loss: 0.2285 - accuracy: 0.8960 - val_loss: 0.1354 - val_accuracy: 0.9279\n",
      "Epoch 5/30\n",
      "180/180 [==============================] - 9s 47ms/step - loss: 0.1948 - accuracy: 0.9105 - val_loss: 0.1267 - val_accuracy: 0.9201\n",
      "Epoch 6/30\n",
      "180/180 [==============================] - 9s 48ms/step - loss: 0.1839 - accuracy: 0.9068 - val_loss: 0.1237 - val_accuracy: 0.9295\n",
      "Epoch 7/30\n",
      "180/180 [==============================] - 9s 47ms/step - loss: 0.1743 - accuracy: 0.9124 - val_loss: 0.1237 - val_accuracy: 0.9295\n",
      "Epoch 8/30\n",
      "180/180 [==============================] - 9s 47ms/step - loss: 0.1699 - accuracy: 0.9180 - val_loss: 0.1265 - val_accuracy: 0.9295\n"
     ]
    }
   ],
   "source": [
    "history = model.fit(X_train, y_train, epochs = 30,callbacks = [early_stopping], \n",
    "                    validation_data= (X_validation, y_validation), verbose=1)"
   ]
  },
  {
   "cell_type": "code",
   "execution_count": 48,
   "id": "2f0f7151",
   "metadata": {},
   "outputs": [
    {
     "name": "stdout",
     "output_type": "stream",
     "text": [
      "84/84 [==============================] - 1s 10ms/step - loss: 0.2487 - accuracy: 0.9017\n",
      "Test loss:  0.2487. Test accuracy:  90.17%\n"
     ]
    }
   ],
   "source": [
    "test_loss, test_accuracy = model.evaluate(X_test, y_test)\n",
    "print('Test loss: {0: .4f}. Test accuracy: {1: .2f}%'.format(test_loss, test_accuracy*100))"
   ]
  },
  {
   "cell_type": "code",
   "execution_count": null,
   "id": "1e450f5d",
   "metadata": {},
   "outputs": [],
   "source": []
  },
  {
   "cell_type": "code",
   "execution_count": 51,
   "id": "67784ee4",
   "metadata": {},
   "outputs": [],
   "source": [
    "# filepath = \"merged_u1-50_w001_resampled.csv\"\n",
    "filepath = \"D:/online dataset csv files preprocessing/merged_u1-50_w001_resampled.csv\"\n",
    "\n",
    "df_original_unknown = pd.read_csv(filepath)"
   ]
  },
  {
   "cell_type": "code",
   "execution_count": 52,
   "id": "c48d16e6",
   "metadata": {},
   "outputs": [
    {
     "data": {
      "text/html": [
       "<div>\n",
       "<style scoped>\n",
       "    .dataframe tbody tr th:only-of-type {\n",
       "        vertical-align: middle;\n",
       "    }\n",
       "\n",
       "    .dataframe tbody tr th {\n",
       "        vertical-align: top;\n",
       "    }\n",
       "\n",
       "    .dataframe thead th {\n",
       "        text-align: right;\n",
       "    }\n",
       "</style>\n",
       "<table border=\"1\" class=\"dataframe\">\n",
       "  <thead>\n",
       "    <tr style=\"text-align: right;\">\n",
       "      <th></th>\n",
       "      <th>timestamp</th>\n",
       "      <th>LAx</th>\n",
       "      <th>LAy</th>\n",
       "      <th>LAz</th>\n",
       "      <th>GYx</th>\n",
       "      <th>GYy</th>\n",
       "      <th>GYz</th>\n",
       "      <th>name</th>\n",
       "    </tr>\n",
       "  </thead>\n",
       "  <tbody>\n",
       "    <tr>\n",
       "      <th>256492</th>\n",
       "      <td>1443687862850000000</td>\n",
       "      <td>0.822001</td>\n",
       "      <td>2.906170</td>\n",
       "      <td>-5.513826</td>\n",
       "      <td>0.956322</td>\n",
       "      <td>-0.585342</td>\n",
       "      <td>-1.195572</td>\n",
       "      <td>7</td>\n",
       "    </tr>\n",
       "    <tr>\n",
       "      <th>256493</th>\n",
       "      <td>1443687862860000000</td>\n",
       "      <td>1.369423</td>\n",
       "      <td>6.672983</td>\n",
       "      <td>-5.748380</td>\n",
       "      <td>1.393097</td>\n",
       "      <td>-0.693466</td>\n",
       "      <td>-1.277435</td>\n",
       "      <td>7</td>\n",
       "    </tr>\n",
       "    <tr>\n",
       "      <th>256494</th>\n",
       "      <td>1443687862870000000</td>\n",
       "      <td>1.944728</td>\n",
       "      <td>7.625208</td>\n",
       "      <td>-3.660502</td>\n",
       "      <td>1.672859</td>\n",
       "      <td>-1.410011</td>\n",
       "      <td>-1.302483</td>\n",
       "      <td>7</td>\n",
       "    </tr>\n",
       "    <tr>\n",
       "      <th>256495</th>\n",
       "      <td>1443687862880000000</td>\n",
       "      <td>3.151748</td>\n",
       "      <td>8.435455</td>\n",
       "      <td>-0.016925</td>\n",
       "      <td>1.736389</td>\n",
       "      <td>-1.994598</td>\n",
       "      <td>-1.272537</td>\n",
       "      <td>7</td>\n",
       "    </tr>\n",
       "    <tr>\n",
       "      <th>256496</th>\n",
       "      <td>1443687862890000000</td>\n",
       "      <td>3.776059</td>\n",
       "      <td>8.172326</td>\n",
       "      <td>1.637594</td>\n",
       "      <td>1.545799</td>\n",
       "      <td>-1.959175</td>\n",
       "      <td>-1.169319</td>\n",
       "      <td>7</td>\n",
       "    </tr>\n",
       "    <tr>\n",
       "      <th>...</th>\n",
       "      <td>...</td>\n",
       "      <td>...</td>\n",
       "      <td>...</td>\n",
       "      <td>...</td>\n",
       "      <td>...</td>\n",
       "      <td>...</td>\n",
       "      <td>...</td>\n",
       "      <td>...</td>\n",
       "    </tr>\n",
       "    <tr>\n",
       "      <th>2055043</th>\n",
       "      <td>1368327120000000</td>\n",
       "      <td>-9.502644</td>\n",
       "      <td>-7.178468</td>\n",
       "      <td>4.246279</td>\n",
       "      <td>-2.834417</td>\n",
       "      <td>-0.120428</td>\n",
       "      <td>-0.987857</td>\n",
       "      <td>50</td>\n",
       "    </tr>\n",
       "    <tr>\n",
       "      <th>2055044</th>\n",
       "      <td>1368327130000000</td>\n",
       "      <td>-9.443804</td>\n",
       "      <td>-7.698220</td>\n",
       "      <td>3.059675</td>\n",
       "      <td>-2.638940</td>\n",
       "      <td>0.561997</td>\n",
       "      <td>-0.947715</td>\n",
       "      <td>50</td>\n",
       "    </tr>\n",
       "    <tr>\n",
       "      <th>2055045</th>\n",
       "      <td>1368327140000000</td>\n",
       "      <td>-8.345459</td>\n",
       "      <td>-6.805815</td>\n",
       "      <td>1.853457</td>\n",
       "      <td>-2.483606</td>\n",
       "      <td>1.225222</td>\n",
       "      <td>-0.954696</td>\n",
       "      <td>50</td>\n",
       "    </tr>\n",
       "    <tr>\n",
       "      <th>2055046</th>\n",
       "      <td>1368327150000000</td>\n",
       "      <td>-7.580540</td>\n",
       "      <td>-5.629017</td>\n",
       "      <td>1.559257</td>\n",
       "      <td>-2.429500</td>\n",
       "      <td>1.769765</td>\n",
       "      <td>-1.003565</td>\n",
       "      <td>50</td>\n",
       "    </tr>\n",
       "    <tr>\n",
       "      <th>2055047</th>\n",
       "      <td>1368327160000000</td>\n",
       "      <td>-6.952915</td>\n",
       "      <td>-4.589512</td>\n",
       "      <td>1.755390</td>\n",
       "      <td>-2.426010</td>\n",
       "      <td>2.099633</td>\n",
       "      <td>-0.980876</td>\n",
       "      <td>50</td>\n",
       "    </tr>\n",
       "  </tbody>\n",
       "</table>\n",
       "<p>197818 rows × 8 columns</p>\n",
       "</div>"
      ],
      "text/plain": [
       "                   timestamp       LAx       LAy       LAz       GYx  \\\n",
       "256492   1443687862850000000  0.822001  2.906170 -5.513826  0.956322   \n",
       "256493   1443687862860000000  1.369423  6.672983 -5.748380  1.393097   \n",
       "256494   1443687862870000000  1.944728  7.625208 -3.660502  1.672859   \n",
       "256495   1443687862880000000  3.151748  8.435455 -0.016925  1.736389   \n",
       "256496   1443687862890000000  3.776059  8.172326  1.637594  1.545799   \n",
       "...                      ...       ...       ...       ...       ...   \n",
       "2055043     1368327120000000 -9.502644 -7.178468  4.246279 -2.834417   \n",
       "2055044     1368327130000000 -9.443804 -7.698220  3.059675 -2.638940   \n",
       "2055045     1368327140000000 -8.345459 -6.805815  1.853457 -2.483606   \n",
       "2055046     1368327150000000 -7.580540 -5.629017  1.559257 -2.429500   \n",
       "2055047     1368327160000000 -6.952915 -4.589512  1.755390 -2.426010   \n",
       "\n",
       "              GYy       GYz  name  \n",
       "256492  -0.585342 -1.195572     7  \n",
       "256493  -0.693466 -1.277435     7  \n",
       "256494  -1.410011 -1.302483     7  \n",
       "256495  -1.994598 -1.272537     7  \n",
       "256496  -1.959175 -1.169319     7  \n",
       "...           ...       ...   ...  \n",
       "2055043 -0.120428 -0.987857    50  \n",
       "2055044  0.561997 -0.947715    50  \n",
       "2055045  1.225222 -0.954696    50  \n",
       "2055046  1.769765 -1.003565    50  \n",
       "2055047  2.099633 -0.980876    50  \n",
       "\n",
       "[197818 rows x 8 columns]"
      ]
     },
     "execution_count": 52,
     "metadata": {},
     "output_type": "execute_result"
    }
   ],
   "source": [
    "# drop_values = [7, 32, 22, 19, 50]\n",
    "\n",
    "# Drop rows based on conditions in the \"name\" column\n",
    "df_original_unknown = df_original_unknown[df_original_unknown['name'].isin([7, 32, 22, 19, 50])]\n",
    "df_original_unknown"
   ]
  },
  {
   "cell_type": "code",
   "execution_count": 53,
   "id": "4952ed9f",
   "metadata": {},
   "outputs": [
    {
     "data": {
      "text/plain": [
       "(197818, 7)"
      ]
     },
     "execution_count": 53,
     "metadata": {},
     "output_type": "execute_result"
    }
   ],
   "source": [
    "df_Xtime_unk = df_original_unknown.copy()\n",
    "df_Xtime_unk = df_Xtime_unk.drop(['timestamp'], axis = 1).copy()\n",
    "df_Xtime_unk.shape"
   ]
  },
  {
   "cell_type": "code",
   "execution_count": 58,
   "id": "8beb272d",
   "metadata": {},
   "outputs": [],
   "source": [
    "X_unk = df_Xtime_unk[['LAx', 'LAy', 'LAz','GYx', 'GYy', 'GYz']].copy()\n",
    "y_unk = df_Xtime_unk['name'].copy()"
   ]
  },
  {
   "cell_type": "code",
   "execution_count": 59,
   "id": "d1ceac95",
   "metadata": {},
   "outputs": [
    {
     "data": {
      "text/html": [
       "<div>\n",
       "<style scoped>\n",
       "    .dataframe tbody tr th:only-of-type {\n",
       "        vertical-align: middle;\n",
       "    }\n",
       "\n",
       "    .dataframe tbody tr th {\n",
       "        vertical-align: top;\n",
       "    }\n",
       "\n",
       "    .dataframe thead th {\n",
       "        text-align: right;\n",
       "    }\n",
       "</style>\n",
       "<table border=\"1\" class=\"dataframe\">\n",
       "  <thead>\n",
       "    <tr style=\"text-align: right;\">\n",
       "      <th></th>\n",
       "      <th>LAx</th>\n",
       "      <th>LAy</th>\n",
       "      <th>LAz</th>\n",
       "      <th>GYx</th>\n",
       "      <th>GYy</th>\n",
       "      <th>GYz</th>\n",
       "      <th>label</th>\n",
       "    </tr>\n",
       "  </thead>\n",
       "  <tbody>\n",
       "    <tr>\n",
       "      <th>256492</th>\n",
       "      <td>0.822001</td>\n",
       "      <td>2.906170</td>\n",
       "      <td>-5.513826</td>\n",
       "      <td>0.956322</td>\n",
       "      <td>-0.585342</td>\n",
       "      <td>-1.195572</td>\n",
       "      <td>7</td>\n",
       "    </tr>\n",
       "    <tr>\n",
       "      <th>256493</th>\n",
       "      <td>1.369423</td>\n",
       "      <td>6.672983</td>\n",
       "      <td>-5.748380</td>\n",
       "      <td>1.393097</td>\n",
       "      <td>-0.693466</td>\n",
       "      <td>-1.277435</td>\n",
       "      <td>7</td>\n",
       "    </tr>\n",
       "    <tr>\n",
       "      <th>256494</th>\n",
       "      <td>1.944728</td>\n",
       "      <td>7.625208</td>\n",
       "      <td>-3.660502</td>\n",
       "      <td>1.672859</td>\n",
       "      <td>-1.410011</td>\n",
       "      <td>-1.302483</td>\n",
       "      <td>7</td>\n",
       "    </tr>\n",
       "    <tr>\n",
       "      <th>256495</th>\n",
       "      <td>3.151748</td>\n",
       "      <td>8.435455</td>\n",
       "      <td>-0.016925</td>\n",
       "      <td>1.736389</td>\n",
       "      <td>-1.994598</td>\n",
       "      <td>-1.272537</td>\n",
       "      <td>7</td>\n",
       "    </tr>\n",
       "    <tr>\n",
       "      <th>256496</th>\n",
       "      <td>3.776059</td>\n",
       "      <td>8.172326</td>\n",
       "      <td>1.637594</td>\n",
       "      <td>1.545799</td>\n",
       "      <td>-1.959175</td>\n",
       "      <td>-1.169319</td>\n",
       "      <td>7</td>\n",
       "    </tr>\n",
       "    <tr>\n",
       "      <th>...</th>\n",
       "      <td>...</td>\n",
       "      <td>...</td>\n",
       "      <td>...</td>\n",
       "      <td>...</td>\n",
       "      <td>...</td>\n",
       "      <td>...</td>\n",
       "      <td>...</td>\n",
       "    </tr>\n",
       "    <tr>\n",
       "      <th>2055043</th>\n",
       "      <td>-9.502644</td>\n",
       "      <td>-7.178468</td>\n",
       "      <td>4.246279</td>\n",
       "      <td>-2.834417</td>\n",
       "      <td>-0.120428</td>\n",
       "      <td>-0.987857</td>\n",
       "      <td>50</td>\n",
       "    </tr>\n",
       "    <tr>\n",
       "      <th>2055044</th>\n",
       "      <td>-9.443804</td>\n",
       "      <td>-7.698220</td>\n",
       "      <td>3.059675</td>\n",
       "      <td>-2.638940</td>\n",
       "      <td>0.561997</td>\n",
       "      <td>-0.947715</td>\n",
       "      <td>50</td>\n",
       "    </tr>\n",
       "    <tr>\n",
       "      <th>2055045</th>\n",
       "      <td>-8.345459</td>\n",
       "      <td>-6.805815</td>\n",
       "      <td>1.853457</td>\n",
       "      <td>-2.483606</td>\n",
       "      <td>1.225222</td>\n",
       "      <td>-0.954696</td>\n",
       "      <td>50</td>\n",
       "    </tr>\n",
       "    <tr>\n",
       "      <th>2055046</th>\n",
       "      <td>-7.580540</td>\n",
       "      <td>-5.629017</td>\n",
       "      <td>1.559257</td>\n",
       "      <td>-2.429500</td>\n",
       "      <td>1.769765</td>\n",
       "      <td>-1.003565</td>\n",
       "      <td>50</td>\n",
       "    </tr>\n",
       "    <tr>\n",
       "      <th>2055047</th>\n",
       "      <td>-6.952915</td>\n",
       "      <td>-4.589512</td>\n",
       "      <td>1.755390</td>\n",
       "      <td>-2.426010</td>\n",
       "      <td>2.099633</td>\n",
       "      <td>-0.980876</td>\n",
       "      <td>50</td>\n",
       "    </tr>\n",
       "  </tbody>\n",
       "</table>\n",
       "<p>197818 rows × 7 columns</p>\n",
       "</div>"
      ],
      "text/plain": [
       "              LAx       LAy       LAz       GYx       GYy       GYz  label\n",
       "256492   0.822001  2.906170 -5.513826  0.956322 -0.585342 -1.195572      7\n",
       "256493   1.369423  6.672983 -5.748380  1.393097 -0.693466 -1.277435      7\n",
       "256494   1.944728  7.625208 -3.660502  1.672859 -1.410011 -1.302483      7\n",
       "256495   3.151748  8.435455 -0.016925  1.736389 -1.994598 -1.272537      7\n",
       "256496   3.776059  8.172326  1.637594  1.545799 -1.959175 -1.169319      7\n",
       "...           ...       ...       ...       ...       ...       ...    ...\n",
       "2055043 -9.502644 -7.178468  4.246279 -2.834417 -0.120428 -0.987857     50\n",
       "2055044 -9.443804 -7.698220  3.059675 -2.638940  0.561997 -0.947715     50\n",
       "2055045 -8.345459 -6.805815  1.853457 -2.483606  1.225222 -0.954696     50\n",
       "2055046 -7.580540 -5.629017  1.559257 -2.429500  1.769765 -1.003565     50\n",
       "2055047 -6.952915 -4.589512  1.755390 -2.426010  2.099633 -0.980876     50\n",
       "\n",
       "[197818 rows x 7 columns]"
      ]
     },
     "execution_count": 59,
     "metadata": {},
     "output_type": "execute_result"
    }
   ],
   "source": [
    "scaler_unk = StandardScaler()\n",
    "X_transformed_unk = X_unk.copy()\n",
    "# X_transformed = scaler.fit_transform(X_transformed) #No_scalling\n",
    "\n",
    "scaled_X_unk = pd.DataFrame(data = X_transformed_unk, columns = ['LAx', 'LAy', 'LAz','GYx', 'GYy', 'GYz'])\n",
    "scaled_X_unk['label'] = y_unk.values\n",
    "\n",
    "scaled_X_unk"
   ]
  },
  {
   "cell_type": "code",
   "execution_count": 60,
   "id": "822bce99",
   "metadata": {},
   "outputs": [
    {
     "name": "stderr",
     "output_type": "stream",
     "text": [
      "C:\\Users\\szizo\\AppData\\Local\\Temp\\ipykernel_8220\\1048326157.py:14: FutureWarning: The frame.append method is deprecated and will be removed from pandas in a future version. Use pandas.concat instead.\n",
      "  df_train_unk = df_train_unk.append(train_row, ignore_index=True)\n",
      "C:\\Users\\szizo\\AppData\\Local\\Temp\\ipykernel_8220\\1048326157.py:15: FutureWarning: The frame.append method is deprecated and will be removed from pandas in a future version. Use pandas.concat instead.\n",
      "  df_test_unk = df_test_unk.append(test_row, ignore_index=True)\n"
     ]
    },
    {
     "data": {
      "text/plain": [
       "((138470, 7), (59348, 7))"
      ]
     },
     "execution_count": 60,
     "metadata": {},
     "output_type": "execute_result"
    }
   ],
   "source": [
    "\n",
    "\n",
    "# Assuming you have a DataFrame named 'scaled_X'\n",
    "\n",
    "df_test_unk = pd.DataFrame(columns=['LAx','LAy','LAz','GYx','GYy','GYz','label'])\n",
    "df_train_unk = pd.DataFrame(columns=['LAx','LAy','LAz','GYx','GYy','GYz','label'])\n",
    "\n",
    "for i in range(1, 51):\n",
    "    df_original_i = scaled_X_unk[scaled_X_unk['label'] == i]\n",
    "    length = len(df_original_i)\n",
    "    num_rows_70 = int(length * 0.7)\n",
    "\n",
    "    train_row = df_original_i[:num_rows_70]\n",
    "    test_row = df_original_i[num_rows_70:]\n",
    "\n",
    "    df_train_unk = df_train_unk.append(train_row, ignore_index=True)\n",
    "    df_test_unk = df_test_unk.append(test_row, ignore_index=True)\n",
    "\n",
    "df_train_unk.shape, df_test_unk.shape\n"
   ]
  },
  {
   "cell_type": "code",
   "execution_count": 65,
   "id": "696a6f35",
   "metadata": {},
   "outputs": [],
   "source": [
    "def get_frames_unk(df, frame_size, hop_size):\n",
    "    N_FEATURES = 6\n",
    "\n",
    "    frames = []\n",
    "    labels = []\n",
    "    \n",
    "#     num_users = df_original['name'].nunique()\n",
    "    for j in [7, 32, 22, 19, 50]: \n",
    "        filtered_df = df[df['label'] == j]\n",
    "        filtered_df = filtered_df.drop('label', axis = 1)\n",
    "        for i in range(0, len(filtered_df) - frame_size, hop_size):\n",
    "            LAx = filtered_df['LAx'].values[i: i + frame_size]\n",
    "            LAy = filtered_df['LAy'].values[i: i + frame_size]\n",
    "            LAz = filtered_df['LAz'].values[i: i + frame_size]\n",
    "            GYx = filtered_df['GYx'].values[i: i + frame_size]\n",
    "            GYy = filtered_df['GYy'].values[i: i + frame_size]\n",
    "            GYz = filtered_df['GYz'].values[i: i + frame_size]\n",
    "            \n",
    "\n",
    "            label = j\n",
    "\n",
    "            frames.append([LAx, LAy, LAz, GYx, GYy , GYz])\n",
    "            labels.append(label)\n",
    "\n",
    "    frames = np.asarray(frames).reshape(-1, frame_size, N_FEATURES)\n",
    "    labels = np.asarray(labels)\n",
    "    \n",
    "    return frames, labels"
   ]
  },
  {
   "cell_type": "code",
   "execution_count": 66,
   "id": "066914ae",
   "metadata": {},
   "outputs": [
    {
     "data": {
      "text/plain": [
       "((679, 600, 6), (241, 600, 6), (679,), (241,))"
      ]
     },
     "execution_count": 66,
     "metadata": {},
     "output_type": "execute_result"
    }
   ],
   "source": [
    "X_train_Unshuffeled_unk,y_train_Unshuffeled_unk = get_frames_unk(df_train_unk,frame_size,hop_size)\n",
    "X_test_unk, y_test_unk = get_frames(df_test_unk,frame_size,hop_size)\n",
    "X_train_Unshuffeled_unk.shape, X_test_unk.shape, y_train_Unshuffeled_unk.shape, y_test_unk.shape"
   ]
  },
  {
   "cell_type": "code",
   "execution_count": 67,
   "id": "e11b3eb6",
   "metadata": {},
   "outputs": [
    {
     "data": {
      "text/plain": [
       "((611, 600, 6), (241, 600, 6), (68, 600, 6))"
      ]
     },
     "execution_count": 67,
     "metadata": {},
     "output_type": "execute_result"
    }
   ],
   "source": [
    "# X_train_val, X_test, y_train_val, y_test = train_test_split(X, y, test_size = 0.3, random_state = 0, stratify = y)\n",
    "\n",
    "X_train_unk, X_validation_unk, y_train_unk, y_validation_unk = train_test_split(X_train_Unshuffeled_unk, y_train_Unshuffeled_unk, test_size = 0.1, random_state = 0, stratify = y_train_Unshuffeled_unk)\n",
    "X_train_unk.shape, X_test_unk.shape, X_validation_unk.shape"
   ]
  },
  {
   "cell_type": "code",
   "execution_count": 71,
   "id": "c473892d",
   "metadata": {},
   "outputs": [
    {
     "data": {
      "text/plain": [
       "array([ 7, 22, 32, 32, 22, 22, 22, 50, 19, 19, 19, 22, 19,  7, 32, 19,  7,\n",
       "       32,  7, 32, 32,  7,  7, 19,  7, 22, 19, 22, 22, 19,  7,  7, 22, 22,\n",
       "       32, 22, 22, 32,  7,  7, 32, 50,  7, 19, 22,  7,  7, 19, 32, 32, 19,\n",
       "       50,  7, 19, 32,  7, 32, 32, 19, 19, 32,  7, 22, 19,  7, 32,  7,  7,\n",
       "        7, 32, 22, 22,  7, 22, 32, 50, 32, 32, 19, 19, 19, 19, 22, 32, 32,\n",
       "       50,  7,  7, 19,  7,  7,  7,  7, 19,  7, 32,  7, 32, 19, 22, 32,  7,\n",
       "        7,  7, 32, 19, 32,  7, 19, 50, 50,  7, 50, 50, 19, 32,  7,  7, 19,\n",
       "       32, 32, 50,  7, 32, 22, 32, 32, 32, 32,  7, 32, 19,  7, 50, 50, 32,\n",
       "       32, 50,  7, 32, 32,  7, 19, 19, 19, 32, 19,  7,  7,  7, 32, 32,  7,\n",
       "       19,  7, 32, 32, 22, 22,  7, 50, 19, 22,  7,  7, 32,  7, 50, 32,  7,\n",
       "       19, 50, 50, 32, 32,  7, 50, 22, 32, 19, 32, 19, 22, 22, 19, 19, 50,\n",
       "       32, 19, 32, 19, 32, 32, 50, 50, 50, 19, 32, 22, 22, 32, 32, 32, 22,\n",
       "       32, 32, 50, 32, 50, 50, 22, 50, 50, 19, 50, 32, 19, 22,  7, 19, 32,\n",
       "       19, 50, 32, 22, 32, 32, 50, 19, 50,  7, 32, 19, 22,  7, 50,  7, 22,\n",
       "       19,  7, 50, 32, 32, 50, 32, 50, 32, 32, 19, 32, 32, 32,  7, 19, 50,\n",
       "        7, 22, 32, 32, 32, 22,  7, 32, 50, 19, 50, 32,  7, 50,  7, 19, 19,\n",
       "       32, 32,  7, 32, 50, 50, 32, 32, 50, 32,  7, 22, 19, 32, 19, 50, 22,\n",
       "       22, 22, 50, 22, 50,  7,  7,  7,  7, 32, 50, 50,  7, 19, 19,  7, 32,\n",
       "        7, 32, 50, 32,  7, 22, 32,  7, 50,  7, 32,  7, 19, 32, 19, 32, 22,\n",
       "       19,  7, 32, 19, 32, 19, 50, 19,  7, 50,  7, 19, 19,  7,  7, 32,  7,\n",
       "       50, 50, 50,  7, 50, 32,  7, 32, 19,  7, 19, 50, 19, 19, 32, 32, 19,\n",
       "        7,  7, 19, 50,  7, 19,  7, 22, 32,  7,  7, 19, 22, 19,  7, 32, 50,\n",
       "       32, 19, 32,  7, 32, 22, 19, 50, 32,  7, 32, 22, 32,  7, 19, 32, 19,\n",
       "       32, 22,  7, 32, 32, 32, 32, 32, 19, 32,  7,  7, 32, 32, 22, 32, 32,\n",
       "        7, 50, 50, 32, 32, 22,  7, 32, 19, 32,  7, 32, 50, 22, 19, 19, 50,\n",
       "       19, 19,  7, 50,  7,  7, 22, 19, 50, 19,  7, 19,  7, 19, 19, 22, 19,\n",
       "        7,  7, 32, 19, 19,  7, 19,  7, 50, 32, 32, 50, 19, 19, 32,  7, 50,\n",
       "       19, 19, 50, 19, 32, 19,  7,  7, 32, 50, 50,  7, 22, 50,  7, 19, 22,\n",
       "        7, 22, 50, 22, 22, 32,  7,  7,  7, 19,  7, 19, 50, 22, 22,  7, 32,\n",
       "       22, 22, 32, 22, 19, 32, 32, 32, 19, 19,  7, 19, 32,  7, 50, 32,  7,\n",
       "        7, 32, 22,  7, 32,  7, 22, 50, 50, 19,  7,  7, 19, 32, 22, 50,  7,\n",
       "       50, 32, 19, 22, 32, 32, 32, 50, 22, 19, 32, 22,  7,  7, 32,  7, 50,\n",
       "       19, 32, 19, 50, 19, 19, 50, 22,  7, 50,  7, 19, 19, 19, 32, 50, 22,\n",
       "       50, 50, 32, 22, 32, 22, 19,  7, 19,  7, 19, 50,  7, 50,  7, 32, 32,\n",
       "        7,  7, 19,  7, 19, 32,  7,  7, 22, 19, 22, 19, 50, 32, 19, 50, 19,\n",
       "       22, 22, 19,  7, 22, 32, 19, 32, 19,  7, 50,  7,  7, 32, 32, 19])"
      ]
     },
     "execution_count": 71,
     "metadata": {},
     "output_type": "execute_result"
    }
   ],
   "source": [
    "y_train_unk"
   ]
  },
  {
   "cell_type": "code",
   "execution_count": 68,
   "id": "63dd4652",
   "metadata": {
    "scrolled": true
   },
   "outputs": [
    {
     "data": {
      "text/plain": [
       "array([ 7, 19, 22, 32, 50])"
      ]
     },
     "execution_count": 68,
     "metadata": {},
     "output_type": "execute_result"
    }
   ],
   "source": [
    "np.unique(y_train_unk)"
   ]
  },
  {
   "cell_type": "code",
   "execution_count": 70,
   "id": "6fba3df0",
   "metadata": {},
   "outputs": [
    {
     "name": "stdout",
     "output_type": "stream",
     "text": [
      "8/8 [==============================] - 0s 10ms/step\n"
     ]
    },
    {
     "data": {
      "text/plain": [
       "array([ 3,  3, 14,  3,  3,  3, 16, 14, 16, 14, 14, 14,  3,  3, 16, 16,  3,\n",
       "        3,  3,  3,  3,  3,  3,  3,  3,  3,  3,  3,  3,  3,  3,  3, 16, 14,\n",
       "       14, 14, 14,  3,  3,  3,  3,  3,  3,  3,  3,  3,  3, 16,  3,  3,  3,\n",
       "        3,  3,  3,  3, 16, 16, 14,  3,  3,  3,  3,  3,  3,  3,  3,  3,  3,\n",
       "       14, 15, 15, 15, 15, 15, 15, 15, 15, 15, 15, 15, 15, 15, 15, 15, 15,\n",
       "       15, 15, 15, 15, 15, 15, 15, 15, 15, 15, 15, 15, 15, 15, 15, 15, 15,\n",
       "       15, 19, 15, 15, 15, 15, 15, 15, 19, 19, 19, 39, 19, 19, 19, 19, 19,\n",
       "       39, 39, 15, 39, 39, 39, 39, 19, 19, 19, 23, 31, 31, 23, 31, 31, 31,\n",
       "       23, 23, 31, 31, 23, 23, 31, 31, 23, 31, 31, 23, 23, 31, 31, 23, 23,\n",
       "       31, 31, 31, 31, 31, 31, 31, 23, 31, 31, 23, 23, 10, 10, 10, 10, 10,\n",
       "       10, 10, 10, 10, 10, 10, 10, 10, 10, 10, 10, 10, 10, 10, 10, 10, 10,\n",
       "       10, 10, 10, 10, 10, 10, 10, 10, 43, 43, 29, 29, 29, 10, 43, 43, 10,\n",
       "       43, 43, 43, 43, 43, 43, 43, 43, 43, 43, 43, 43, 43, 43, 43, 32, 43,\n",
       "       43, 43, 43, 43, 43, 43, 43, 43, 43, 43, 43, 43, 43, 43, 43, 43, 43,\n",
       "       43, 43, 32], dtype=int64)"
      ]
     },
     "execution_count": 70,
     "metadata": {},
     "output_type": "execute_result"
    }
   ],
   "source": [
    "predictions = model.predict(X_test_unk)\n",
    "\n",
    "# Convert predictions to class labels\n",
    "class_predictions = np.argmax(predictions, axis=1)\n",
    "class_predictions"
   ]
  },
  {
   "cell_type": "code",
   "execution_count": null,
   "id": "d18731f1",
   "metadata": {},
   "outputs": [],
   "source": []
  }
 ],
 "metadata": {
  "kernelspec": {
   "display_name": "Python 3 (ipykernel)",
   "language": "python",
   "name": "python3"
  },
  "language_info": {
   "codemirror_mode": {
    "name": "ipython",
    "version": 3
   },
   "file_extension": ".py",
   "mimetype": "text/x-python",
   "name": "python",
   "nbconvert_exporter": "python",
   "pygments_lexer": "ipython3",
   "version": "3.10.9"
  }
 },
 "nbformat": 4,
 "nbformat_minor": 5
}
