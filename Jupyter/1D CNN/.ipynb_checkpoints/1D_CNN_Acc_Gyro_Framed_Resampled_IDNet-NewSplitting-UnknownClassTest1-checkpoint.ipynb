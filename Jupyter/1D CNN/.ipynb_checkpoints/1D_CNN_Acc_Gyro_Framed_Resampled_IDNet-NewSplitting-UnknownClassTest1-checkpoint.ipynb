{
 "cells": [
  {
   "cell_type": "code",
   "execution_count": 1,
   "id": "44faa98a",
   "metadata": {},
   "outputs": [
    {
     "name": "stdout",
     "output_type": "stream",
     "text": [
      "2.12.0\n"
     ]
    }
   ],
   "source": [
    "import tensorflow as tf\n",
    "from tensorflow.keras import Sequential\n",
    "from tensorflow.keras.layers import Flatten, Dense, Dropout, BatchNormalization\n",
    "from tensorflow.keras.layers import Conv1D, MaxPooling1D\n",
    "from tensorflow.keras.optimizers import Adam\n",
    "print(tf.__version__)"
   ]
  },
  {
   "cell_type": "code",
   "execution_count": 2,
   "id": "1c3f367f",
   "metadata": {},
   "outputs": [],
   "source": [
    "import pandas as pd\n",
    "import numpy as np\n",
    "import os\n",
    "import math\n",
    "import matplotlib.pyplot as plt\n",
    "from sklearn.model_selection import train_test_split\n",
    "from sklearn.preprocessing import StandardScaler, LabelEncoder"
   ]
  },
  {
   "cell_type": "code",
   "execution_count": 3,
   "id": "9e899298",
   "metadata": {},
   "outputs": [],
   "source": [
    "# filepath = \"merged_u1-50_w001_resampled.csv\"\n",
    "filepath = \"D:/online dataset csv files preprocessing/merged_u1-50_w001_resampled.csv\"\n",
    "\n",
    "df_original = pd.read_csv(filepath)"
   ]
  },
  {
   "cell_type": "code",
   "execution_count": 4,
   "id": "bcd5954e",
   "metadata": {},
   "outputs": [
    {
     "data": {
      "text/html": [
       "<div>\n",
       "<style scoped>\n",
       "    .dataframe tbody tr th:only-of-type {\n",
       "        vertical-align: middle;\n",
       "    }\n",
       "\n",
       "    .dataframe tbody tr th {\n",
       "        vertical-align: top;\n",
       "    }\n",
       "\n",
       "    .dataframe thead th {\n",
       "        text-align: right;\n",
       "    }\n",
       "</style>\n",
       "<table border=\"1\" class=\"dataframe\">\n",
       "  <thead>\n",
       "    <tr style=\"text-align: right;\">\n",
       "      <th></th>\n",
       "      <th>timestamp</th>\n",
       "      <th>LAx</th>\n",
       "      <th>LAy</th>\n",
       "      <th>LAz</th>\n",
       "      <th>GYx</th>\n",
       "      <th>GYy</th>\n",
       "      <th>GYz</th>\n",
       "      <th>name</th>\n",
       "    </tr>\n",
       "  </thead>\n",
       "  <tbody>\n",
       "    <tr>\n",
       "      <th>0</th>\n",
       "      <td>924313410000000</td>\n",
       "      <td>1.242813</td>\n",
       "      <td>-0.160181</td>\n",
       "      <td>-0.900440</td>\n",
       "      <td>0.194931</td>\n",
       "      <td>-0.004242</td>\n",
       "      <td>0.163818</td>\n",
       "      <td>1</td>\n",
       "    </tr>\n",
       "    <tr>\n",
       "      <th>1</th>\n",
       "      <td>924313420000000</td>\n",
       "      <td>1.117246</td>\n",
       "      <td>-0.187921</td>\n",
       "      <td>-1.529893</td>\n",
       "      <td>0.236458</td>\n",
       "      <td>0.076378</td>\n",
       "      <td>0.133293</td>\n",
       "      <td>1</td>\n",
       "    </tr>\n",
       "    <tr>\n",
       "      <th>2</th>\n",
       "      <td>924313430000000</td>\n",
       "      <td>0.912846</td>\n",
       "      <td>-0.192566</td>\n",
       "      <td>-1.570929</td>\n",
       "      <td>0.226074</td>\n",
       "      <td>0.012253</td>\n",
       "      <td>0.108246</td>\n",
       "      <td>1</td>\n",
       "    </tr>\n",
       "    <tr>\n",
       "      <th>3</th>\n",
       "      <td>924313440000000</td>\n",
       "      <td>0.874858</td>\n",
       "      <td>-0.227208</td>\n",
       "      <td>-1.453511</td>\n",
       "      <td>0.139336</td>\n",
       "      <td>-0.050667</td>\n",
       "      <td>0.085030</td>\n",
       "      <td>1</td>\n",
       "    </tr>\n",
       "    <tr>\n",
       "      <th>4</th>\n",
       "      <td>924313450000000</td>\n",
       "      <td>0.834022</td>\n",
       "      <td>-0.282976</td>\n",
       "      <td>-1.292671</td>\n",
       "      <td>-0.013374</td>\n",
       "      <td>-0.109314</td>\n",
       "      <td>0.078308</td>\n",
       "      <td>1</td>\n",
       "    </tr>\n",
       "    <tr>\n",
       "      <th>...</th>\n",
       "      <td>...</td>\n",
       "      <td>...</td>\n",
       "      <td>...</td>\n",
       "      <td>...</td>\n",
       "      <td>...</td>\n",
       "      <td>...</td>\n",
       "      <td>...</td>\n",
       "      <td>...</td>\n",
       "    </tr>\n",
       "    <tr>\n",
       "      <th>2055043</th>\n",
       "      <td>1368327120000000</td>\n",
       "      <td>-9.502644</td>\n",
       "      <td>-7.178468</td>\n",
       "      <td>4.246279</td>\n",
       "      <td>-2.834417</td>\n",
       "      <td>-0.120428</td>\n",
       "      <td>-0.987857</td>\n",
       "      <td>50</td>\n",
       "    </tr>\n",
       "    <tr>\n",
       "      <th>2055044</th>\n",
       "      <td>1368327130000000</td>\n",
       "      <td>-9.443804</td>\n",
       "      <td>-7.698220</td>\n",
       "      <td>3.059675</td>\n",
       "      <td>-2.638940</td>\n",
       "      <td>0.561997</td>\n",
       "      <td>-0.947715</td>\n",
       "      <td>50</td>\n",
       "    </tr>\n",
       "    <tr>\n",
       "      <th>2055045</th>\n",
       "      <td>1368327140000000</td>\n",
       "      <td>-8.345459</td>\n",
       "      <td>-6.805815</td>\n",
       "      <td>1.853457</td>\n",
       "      <td>-2.483606</td>\n",
       "      <td>1.225222</td>\n",
       "      <td>-0.954696</td>\n",
       "      <td>50</td>\n",
       "    </tr>\n",
       "    <tr>\n",
       "      <th>2055046</th>\n",
       "      <td>1368327150000000</td>\n",
       "      <td>-7.580540</td>\n",
       "      <td>-5.629017</td>\n",
       "      <td>1.559257</td>\n",
       "      <td>-2.429500</td>\n",
       "      <td>1.769765</td>\n",
       "      <td>-1.003565</td>\n",
       "      <td>50</td>\n",
       "    </tr>\n",
       "    <tr>\n",
       "      <th>2055047</th>\n",
       "      <td>1368327160000000</td>\n",
       "      <td>-6.952915</td>\n",
       "      <td>-4.589512</td>\n",
       "      <td>1.755390</td>\n",
       "      <td>-2.426010</td>\n",
       "      <td>2.099633</td>\n",
       "      <td>-0.980876</td>\n",
       "      <td>50</td>\n",
       "    </tr>\n",
       "  </tbody>\n",
       "</table>\n",
       "<p>2055048 rows × 8 columns</p>\n",
       "</div>"
      ],
      "text/plain": [
       "                timestamp       LAx       LAy       LAz       GYx       GYy  \\\n",
       "0         924313410000000  1.242813 -0.160181 -0.900440  0.194931 -0.004242   \n",
       "1         924313420000000  1.117246 -0.187921 -1.529893  0.236458  0.076378   \n",
       "2         924313430000000  0.912846 -0.192566 -1.570929  0.226074  0.012253   \n",
       "3         924313440000000  0.874858 -0.227208 -1.453511  0.139336 -0.050667   \n",
       "4         924313450000000  0.834022 -0.282976 -1.292671 -0.013374 -0.109314   \n",
       "...                   ...       ...       ...       ...       ...       ...   \n",
       "2055043  1368327120000000 -9.502644 -7.178468  4.246279 -2.834417 -0.120428   \n",
       "2055044  1368327130000000 -9.443804 -7.698220  3.059675 -2.638940  0.561997   \n",
       "2055045  1368327140000000 -8.345459 -6.805815  1.853457 -2.483606  1.225222   \n",
       "2055046  1368327150000000 -7.580540 -5.629017  1.559257 -2.429500  1.769765   \n",
       "2055047  1368327160000000 -6.952915 -4.589512  1.755390 -2.426010  2.099633   \n",
       "\n",
       "              GYz  name  \n",
       "0        0.163818     1  \n",
       "1        0.133293     1  \n",
       "2        0.108246     1  \n",
       "3        0.085030     1  \n",
       "4        0.078308     1  \n",
       "...           ...   ...  \n",
       "2055043 -0.987857    50  \n",
       "2055044 -0.947715    50  \n",
       "2055045 -0.954696    50  \n",
       "2055046 -1.003565    50  \n",
       "2055047 -0.980876    50  \n",
       "\n",
       "[2055048 rows x 8 columns]"
      ]
     },
     "execution_count": 4,
     "metadata": {},
     "output_type": "execute_result"
    }
   ],
   "source": [
    "df_original"
   ]
  },
  {
   "cell_type": "code",
   "execution_count": 5,
   "id": "44374d55",
   "metadata": {},
   "outputs": [
    {
     "data": {
      "text/plain": [
       "timestamp    0\n",
       "LAx          0\n",
       "LAy          0\n",
       "LAz          0\n",
       "GYx          0\n",
       "GYy          0\n",
       "GYz          0\n",
       "name         0\n",
       "dtype: int64"
      ]
     },
     "execution_count": 5,
     "metadata": {},
     "output_type": "execute_result"
    }
   ],
   "source": [
    "df_original.isnull().sum()"
   ]
  },
  {
   "cell_type": "code",
   "execution_count": 6,
   "id": "eda07b86",
   "metadata": {},
   "outputs": [
    {
     "name": "stdout",
     "output_type": "stream",
     "text": [
      "<class 'pandas.core.frame.DataFrame'>\n",
      "RangeIndex: 2055048 entries, 0 to 2055047\n",
      "Data columns (total 8 columns):\n",
      " #   Column     Dtype  \n",
      "---  ------     -----  \n",
      " 0   timestamp  int64  \n",
      " 1   LAx        float64\n",
      " 2   LAy        float64\n",
      " 3   LAz        float64\n",
      " 4   GYx        float64\n",
      " 5   GYy        float64\n",
      " 6   GYz        float64\n",
      " 7   name       int64  \n",
      "dtypes: float64(6), int64(2)\n",
      "memory usage: 125.4 MB\n"
     ]
    }
   ],
   "source": [
    "df_original.info()"
   ]
  },
  {
   "cell_type": "code",
   "execution_count": 7,
   "id": "54b2a1e4",
   "metadata": {},
   "outputs": [
    {
     "data": {
      "text/plain": [
       "18    82714\n",
       "47    65984\n",
       "29    60052\n",
       "8     60036\n",
       "6     60005\n",
       "9     59986\n",
       "13    59984\n",
       "41    59984\n",
       "39    59958\n",
       "3     59958\n",
       "37    55050\n",
       "32    52339\n",
       "12    51686\n",
       "2     48001\n",
       "7     47947\n",
       "11    47946\n",
       "34    47824\n",
       "49    47614\n",
       "42    41946\n",
       "19    41946\n",
       "40    41946\n",
       "35    41945\n",
       "33    41945\n",
       "27    41535\n",
       "30    40959\n",
       "24    35980\n",
       "16    35974\n",
       "20    35948\n",
       "28    35947\n",
       "31    35947\n",
       "4     35946\n",
       "23    34545\n",
       "38    32186\n",
       "44    31414\n",
       "43    30100\n",
       "17    29997\n",
       "48    29990\n",
       "50    29988\n",
       "14    29950\n",
       "46    29945\n",
       "10    28892\n",
       "1     26790\n",
       "45    26022\n",
       "25    25926\n",
       "5     25792\n",
       "22    25598\n",
       "36    25173\n",
       "26    23949\n",
       "15    17985\n",
       "21    15774\n",
       "Name: name, dtype: int64"
      ]
     },
     "execution_count": 7,
     "metadata": {},
     "output_type": "execute_result"
    }
   ],
   "source": [
    "df_original['name'].value_counts()"
   ]
  },
  {
   "cell_type": "code",
   "execution_count": 8,
   "id": "bdac5aae",
   "metadata": {},
   "outputs": [
    {
     "data": {
      "text/plain": [
       "(2055048, 7)"
      ]
     },
     "execution_count": 8,
     "metadata": {},
     "output_type": "execute_result"
    }
   ],
   "source": [
    "df_Xtime = df_original.copy()\n",
    "df_Xtime = df_Xtime.drop(['timestamp'], axis = 1).copy()\n",
    "df_Xtime.shape"
   ]
  },
  {
   "cell_type": "code",
   "execution_count": 9,
   "id": "aca50c9c",
   "metadata": {},
   "outputs": [
    {
     "data": {
      "text/html": [
       "<div>\n",
       "<style scoped>\n",
       "    .dataframe tbody tr th:only-of-type {\n",
       "        vertical-align: middle;\n",
       "    }\n",
       "\n",
       "    .dataframe tbody tr th {\n",
       "        vertical-align: top;\n",
       "    }\n",
       "\n",
       "    .dataframe thead th {\n",
       "        text-align: right;\n",
       "    }\n",
       "</style>\n",
       "<table border=\"1\" class=\"dataframe\">\n",
       "  <thead>\n",
       "    <tr style=\"text-align: right;\">\n",
       "      <th></th>\n",
       "      <th>LAx</th>\n",
       "      <th>LAy</th>\n",
       "      <th>LAz</th>\n",
       "      <th>GYx</th>\n",
       "      <th>GYy</th>\n",
       "      <th>GYz</th>\n",
       "      <th>name</th>\n",
       "    </tr>\n",
       "  </thead>\n",
       "  <tbody>\n",
       "    <tr>\n",
       "      <th>0</th>\n",
       "      <td>1.242813</td>\n",
       "      <td>-0.160181</td>\n",
       "      <td>-0.900440</td>\n",
       "      <td>0.194931</td>\n",
       "      <td>-0.004242</td>\n",
       "      <td>0.163818</td>\n",
       "      <td>1</td>\n",
       "    </tr>\n",
       "    <tr>\n",
       "      <th>1</th>\n",
       "      <td>1.117246</td>\n",
       "      <td>-0.187921</td>\n",
       "      <td>-1.529893</td>\n",
       "      <td>0.236458</td>\n",
       "      <td>0.076378</td>\n",
       "      <td>0.133293</td>\n",
       "      <td>1</td>\n",
       "    </tr>\n",
       "    <tr>\n",
       "      <th>2</th>\n",
       "      <td>0.912846</td>\n",
       "      <td>-0.192566</td>\n",
       "      <td>-1.570929</td>\n",
       "      <td>0.226074</td>\n",
       "      <td>0.012253</td>\n",
       "      <td>0.108246</td>\n",
       "      <td>1</td>\n",
       "    </tr>\n",
       "    <tr>\n",
       "      <th>3</th>\n",
       "      <td>0.874858</td>\n",
       "      <td>-0.227208</td>\n",
       "      <td>-1.453511</td>\n",
       "      <td>0.139336</td>\n",
       "      <td>-0.050667</td>\n",
       "      <td>0.085030</td>\n",
       "      <td>1</td>\n",
       "    </tr>\n",
       "    <tr>\n",
       "      <th>4</th>\n",
       "      <td>0.834022</td>\n",
       "      <td>-0.282976</td>\n",
       "      <td>-1.292671</td>\n",
       "      <td>-0.013374</td>\n",
       "      <td>-0.109314</td>\n",
       "      <td>0.078308</td>\n",
       "      <td>1</td>\n",
       "    </tr>\n",
       "    <tr>\n",
       "      <th>...</th>\n",
       "      <td>...</td>\n",
       "      <td>...</td>\n",
       "      <td>...</td>\n",
       "      <td>...</td>\n",
       "      <td>...</td>\n",
       "      <td>...</td>\n",
       "      <td>...</td>\n",
       "    </tr>\n",
       "    <tr>\n",
       "      <th>2055043</th>\n",
       "      <td>-9.502644</td>\n",
       "      <td>-7.178468</td>\n",
       "      <td>4.246279</td>\n",
       "      <td>-2.834417</td>\n",
       "      <td>-0.120428</td>\n",
       "      <td>-0.987857</td>\n",
       "      <td>50</td>\n",
       "    </tr>\n",
       "    <tr>\n",
       "      <th>2055044</th>\n",
       "      <td>-9.443804</td>\n",
       "      <td>-7.698220</td>\n",
       "      <td>3.059675</td>\n",
       "      <td>-2.638940</td>\n",
       "      <td>0.561997</td>\n",
       "      <td>-0.947715</td>\n",
       "      <td>50</td>\n",
       "    </tr>\n",
       "    <tr>\n",
       "      <th>2055045</th>\n",
       "      <td>-8.345459</td>\n",
       "      <td>-6.805815</td>\n",
       "      <td>1.853457</td>\n",
       "      <td>-2.483606</td>\n",
       "      <td>1.225222</td>\n",
       "      <td>-0.954696</td>\n",
       "      <td>50</td>\n",
       "    </tr>\n",
       "    <tr>\n",
       "      <th>2055046</th>\n",
       "      <td>-7.580540</td>\n",
       "      <td>-5.629017</td>\n",
       "      <td>1.559257</td>\n",
       "      <td>-2.429500</td>\n",
       "      <td>1.769765</td>\n",
       "      <td>-1.003565</td>\n",
       "      <td>50</td>\n",
       "    </tr>\n",
       "    <tr>\n",
       "      <th>2055047</th>\n",
       "      <td>-6.952915</td>\n",
       "      <td>-4.589512</td>\n",
       "      <td>1.755390</td>\n",
       "      <td>-2.426010</td>\n",
       "      <td>2.099633</td>\n",
       "      <td>-0.980876</td>\n",
       "      <td>50</td>\n",
       "    </tr>\n",
       "  </tbody>\n",
       "</table>\n",
       "<p>2055048 rows × 7 columns</p>\n",
       "</div>"
      ],
      "text/plain": [
       "              LAx       LAy       LAz       GYx       GYy       GYz  name\n",
       "0        1.242813 -0.160181 -0.900440  0.194931 -0.004242  0.163818     1\n",
       "1        1.117246 -0.187921 -1.529893  0.236458  0.076378  0.133293     1\n",
       "2        0.912846 -0.192566 -1.570929  0.226074  0.012253  0.108246     1\n",
       "3        0.874858 -0.227208 -1.453511  0.139336 -0.050667  0.085030     1\n",
       "4        0.834022 -0.282976 -1.292671 -0.013374 -0.109314  0.078308     1\n",
       "...           ...       ...       ...       ...       ...       ...   ...\n",
       "2055043 -9.502644 -7.178468  4.246279 -2.834417 -0.120428 -0.987857    50\n",
       "2055044 -9.443804 -7.698220  3.059675 -2.638940  0.561997 -0.947715    50\n",
       "2055045 -8.345459 -6.805815  1.853457 -2.483606  1.225222 -0.954696    50\n",
       "2055046 -7.580540 -5.629017  1.559257 -2.429500  1.769765 -1.003565    50\n",
       "2055047 -6.952915 -4.589512  1.755390 -2.426010  2.099633 -0.980876    50\n",
       "\n",
       "[2055048 rows x 7 columns]"
      ]
     },
     "execution_count": 9,
     "metadata": {},
     "output_type": "execute_result"
    }
   ],
   "source": [
    "df_Xtime"
   ]
  },
  {
   "cell_type": "code",
   "execution_count": 10,
   "id": "10931f68",
   "metadata": {},
   "outputs": [],
   "source": [
    "X = df_Xtime[['LAx', 'LAy', 'LAz','GYx', 'GYy', 'GYz']].copy()\n",
    "y = df_Xtime['name'].copy()"
   ]
  },
  {
   "cell_type": "code",
   "execution_count": 11,
   "id": "a22de21d",
   "metadata": {},
   "outputs": [
    {
     "data": {
      "text/html": [
       "<div>\n",
       "<style scoped>\n",
       "    .dataframe tbody tr th:only-of-type {\n",
       "        vertical-align: middle;\n",
       "    }\n",
       "\n",
       "    .dataframe tbody tr th {\n",
       "        vertical-align: top;\n",
       "    }\n",
       "\n",
       "    .dataframe thead th {\n",
       "        text-align: right;\n",
       "    }\n",
       "</style>\n",
       "<table border=\"1\" class=\"dataframe\">\n",
       "  <thead>\n",
       "    <tr style=\"text-align: right;\">\n",
       "      <th></th>\n",
       "      <th>LAx</th>\n",
       "      <th>LAy</th>\n",
       "      <th>LAz</th>\n",
       "      <th>GYx</th>\n",
       "      <th>GYy</th>\n",
       "      <th>GYz</th>\n",
       "      <th>label</th>\n",
       "    </tr>\n",
       "  </thead>\n",
       "  <tbody>\n",
       "    <tr>\n",
       "      <th>0</th>\n",
       "      <td>1.242813</td>\n",
       "      <td>-0.160181</td>\n",
       "      <td>-0.900440</td>\n",
       "      <td>0.194931</td>\n",
       "      <td>-0.004242</td>\n",
       "      <td>0.163818</td>\n",
       "      <td>1</td>\n",
       "    </tr>\n",
       "    <tr>\n",
       "      <th>1</th>\n",
       "      <td>1.117246</td>\n",
       "      <td>-0.187921</td>\n",
       "      <td>-1.529893</td>\n",
       "      <td>0.236458</td>\n",
       "      <td>0.076378</td>\n",
       "      <td>0.133293</td>\n",
       "      <td>1</td>\n",
       "    </tr>\n",
       "    <tr>\n",
       "      <th>2</th>\n",
       "      <td>0.912846</td>\n",
       "      <td>-0.192566</td>\n",
       "      <td>-1.570929</td>\n",
       "      <td>0.226074</td>\n",
       "      <td>0.012253</td>\n",
       "      <td>0.108246</td>\n",
       "      <td>1</td>\n",
       "    </tr>\n",
       "    <tr>\n",
       "      <th>3</th>\n",
       "      <td>0.874858</td>\n",
       "      <td>-0.227208</td>\n",
       "      <td>-1.453511</td>\n",
       "      <td>0.139336</td>\n",
       "      <td>-0.050667</td>\n",
       "      <td>0.085030</td>\n",
       "      <td>1</td>\n",
       "    </tr>\n",
       "    <tr>\n",
       "      <th>4</th>\n",
       "      <td>0.834022</td>\n",
       "      <td>-0.282976</td>\n",
       "      <td>-1.292671</td>\n",
       "      <td>-0.013374</td>\n",
       "      <td>-0.109314</td>\n",
       "      <td>0.078308</td>\n",
       "      <td>1</td>\n",
       "    </tr>\n",
       "    <tr>\n",
       "      <th>...</th>\n",
       "      <td>...</td>\n",
       "      <td>...</td>\n",
       "      <td>...</td>\n",
       "      <td>...</td>\n",
       "      <td>...</td>\n",
       "      <td>...</td>\n",
       "      <td>...</td>\n",
       "    </tr>\n",
       "    <tr>\n",
       "      <th>2055043</th>\n",
       "      <td>-9.502644</td>\n",
       "      <td>-7.178468</td>\n",
       "      <td>4.246279</td>\n",
       "      <td>-2.834417</td>\n",
       "      <td>-0.120428</td>\n",
       "      <td>-0.987857</td>\n",
       "      <td>50</td>\n",
       "    </tr>\n",
       "    <tr>\n",
       "      <th>2055044</th>\n",
       "      <td>-9.443804</td>\n",
       "      <td>-7.698220</td>\n",
       "      <td>3.059675</td>\n",
       "      <td>-2.638940</td>\n",
       "      <td>0.561997</td>\n",
       "      <td>-0.947715</td>\n",
       "      <td>50</td>\n",
       "    </tr>\n",
       "    <tr>\n",
       "      <th>2055045</th>\n",
       "      <td>-8.345459</td>\n",
       "      <td>-6.805815</td>\n",
       "      <td>1.853457</td>\n",
       "      <td>-2.483606</td>\n",
       "      <td>1.225222</td>\n",
       "      <td>-0.954696</td>\n",
       "      <td>50</td>\n",
       "    </tr>\n",
       "    <tr>\n",
       "      <th>2055046</th>\n",
       "      <td>-7.580540</td>\n",
       "      <td>-5.629017</td>\n",
       "      <td>1.559257</td>\n",
       "      <td>-2.429500</td>\n",
       "      <td>1.769765</td>\n",
       "      <td>-1.003565</td>\n",
       "      <td>50</td>\n",
       "    </tr>\n",
       "    <tr>\n",
       "      <th>2055047</th>\n",
       "      <td>-6.952915</td>\n",
       "      <td>-4.589512</td>\n",
       "      <td>1.755390</td>\n",
       "      <td>-2.426010</td>\n",
       "      <td>2.099633</td>\n",
       "      <td>-0.980876</td>\n",
       "      <td>50</td>\n",
       "    </tr>\n",
       "  </tbody>\n",
       "</table>\n",
       "<p>2055048 rows × 7 columns</p>\n",
       "</div>"
      ],
      "text/plain": [
       "              LAx       LAy       LAz       GYx       GYy       GYz  label\n",
       "0        1.242813 -0.160181 -0.900440  0.194931 -0.004242  0.163818      1\n",
       "1        1.117246 -0.187921 -1.529893  0.236458  0.076378  0.133293      1\n",
       "2        0.912846 -0.192566 -1.570929  0.226074  0.012253  0.108246      1\n",
       "3        0.874858 -0.227208 -1.453511  0.139336 -0.050667  0.085030      1\n",
       "4        0.834022 -0.282976 -1.292671 -0.013374 -0.109314  0.078308      1\n",
       "...           ...       ...       ...       ...       ...       ...    ...\n",
       "2055043 -9.502644 -7.178468  4.246279 -2.834417 -0.120428 -0.987857     50\n",
       "2055044 -9.443804 -7.698220  3.059675 -2.638940  0.561997 -0.947715     50\n",
       "2055045 -8.345459 -6.805815  1.853457 -2.483606  1.225222 -0.954696     50\n",
       "2055046 -7.580540 -5.629017  1.559257 -2.429500  1.769765 -1.003565     50\n",
       "2055047 -6.952915 -4.589512  1.755390 -2.426010  2.099633 -0.980876     50\n",
       "\n",
       "[2055048 rows x 7 columns]"
      ]
     },
     "execution_count": 11,
     "metadata": {},
     "output_type": "execute_result"
    }
   ],
   "source": [
    "scaler = StandardScaler()\n",
    "X_transformed = X.copy()\n",
    "# X_transformed = scaler.fit_transform(X_transformed) #No_scalling\n",
    "\n",
    "scaled_X = pd.DataFrame(data = X_transformed, columns = ['LAx', 'LAy', 'LAz','GYx', 'GYy', 'GYz'])\n",
    "scaled_X['label'] = y.values\n",
    "\n",
    "scaled_X"
   ]
  },
  {
   "cell_type": "code",
   "execution_count": 12,
   "id": "091232c8",
   "metadata": {},
   "outputs": [
    {
     "name": "stderr",
     "output_type": "stream",
     "text": [
      "C:\\Users\\szizo\\AppData\\Local\\Temp\\ipykernel_7848\\2597348167.py:12: FutureWarning: The frame.append method is deprecated and will be removed from pandas in a future version. Use pandas.concat instead.\n",
      "  df_train = df_train.append(train_row, ignore_index=True)\n",
      "C:\\Users\\szizo\\AppData\\Local\\Temp\\ipykernel_7848\\2597348167.py:13: FutureWarning: The frame.append method is deprecated and will be removed from pandas in a future version. Use pandas.concat instead.\n",
      "  df_test = df_test.append(test_row, ignore_index=True)\n"
     ]
    },
    {
     "data": {
      "text/plain": [
       "((1438511, 7), (616537, 7))"
      ]
     },
     "execution_count": 12,
     "metadata": {},
     "output_type": "execute_result"
    }
   ],
   "source": [
    "df_test = pd.DataFrame(columns=['LAx','LAy','LAz','GYx','GYy','GYz','label'])\n",
    "df_train = pd.DataFrame(columns=['LAx','LAy','LAz','GYx','GYy','GYz','label'])\n",
    "\n",
    "for i in range(1,51):\n",
    "    df_original_i = scaled_X[scaled_X['label'] == i]\n",
    "    length = len(df_original_i)\n",
    "    num_rows_70 = int(length*0.7)\n",
    "    \n",
    "    train_row = df_original_i[:num_rows_70]\n",
    "    test_row = df_original_i[num_rows_70:]\n",
    "    \n",
    "    df_train = df_train.append(train_row, ignore_index=True)\n",
    "    df_test = df_test.append(test_row, ignore_index=True)\n",
    "\n",
    "df_train.shape, df_test.shape"
   ]
  },
  {
   "cell_type": "code",
   "execution_count": 13,
   "id": "019df13a",
   "metadata": {},
   "outputs": [],
   "source": [
    "import scipy.stats as stats\n",
    "\n",
    "Fs = 100\n",
    "frame_size = Fs*6 \n",
    "hop_size = Fs*2"
   ]
  },
  {
   "cell_type": "code",
   "execution_count": 14,
   "id": "4cb22659",
   "metadata": {},
   "outputs": [],
   "source": [
    "def get_frames(df, frame_size, hop_size):\n",
    "    N_FEATURES = 6\n",
    "\n",
    "    frames = []\n",
    "    labels = []\n",
    "    \n",
    "    last_value = df['label'].iloc[-1]\n",
    "    for j in range (1,last_value+1): \n",
    "        filtered_df = df[df['label'] == j]\n",
    "        filtered_df = filtered_df.drop('label', axis = 1)\n",
    "        for i in range(0, len(filtered_df) - frame_size, hop_size):\n",
    "            LAx = filtered_df['LAx'].values[i: i + frame_size]\n",
    "            LAy = filtered_df['LAy'].values[i: i + frame_size]\n",
    "            LAz = filtered_df['LAz'].values[i: i + frame_size]\n",
    "            GYx = filtered_df['GYx'].values[i: i + frame_size]\n",
    "            GYy = filtered_df['GYy'].values[i: i + frame_size]\n",
    "            GYz = filtered_df['GYz'].values[i: i + frame_size]\n",
    "            \n",
    "\n",
    "            label = j\n",
    "\n",
    "            frames.append([LAx, LAy, LAz, GYx, GYy , GYz])\n",
    "            labels.append(label)\n",
    "\n",
    "    frames = np.asarray(frames).reshape(-1, frame_size, N_FEATURES)\n",
    "    labels = np.asarray(labels)\n",
    "    \n",
    "    return frames, labels"
   ]
  },
  {
   "cell_type": "code",
   "execution_count": 15,
   "id": "2f413414",
   "metadata": {},
   "outputs": [],
   "source": [
    "# X, y = get_frames(scaled_X,frame_size, hop_size)\n",
    "# X.shape, y.shape"
   ]
  },
  {
   "cell_type": "code",
   "execution_count": 16,
   "id": "0b04449b",
   "metadata": {},
   "outputs": [
    {
     "data": {
      "text/plain": [
       "((7059, 600, 6), (2949, 600, 6), (7059,), (2949,))"
      ]
     },
     "execution_count": 16,
     "metadata": {},
     "output_type": "execute_result"
    }
   ],
   "source": [
    "X_train_Unshuffeled,y_train_Unshuffeled = get_frames(df_train,frame_size,hop_size)\n",
    "X_test, y_test = get_frames(df_test,frame_size,hop_size)\n",
    "X_train_Unshuffeled.shape, X_test.shape, y_train_Unshuffeled.shape, y_test.shape"
   ]
  },
  {
   "cell_type": "code",
   "execution_count": null,
   "id": "abddbbfd",
   "metadata": {},
   "outputs": [],
   "source": []
  },
  {
   "cell_type": "code",
   "execution_count": 17,
   "id": "108951c0",
   "metadata": {},
   "outputs": [
    {
     "data": {
      "text/plain": [
       "((6353, 600, 6), (2949, 600, 6), (706, 600, 6))"
      ]
     },
     "execution_count": 17,
     "metadata": {},
     "output_type": "execute_result"
    }
   ],
   "source": [
    "# X_train_val, X_test, y_train_val, y_test = train_test_split(X, y, test_size = 0.3, random_state = 0, stratify = y)\n",
    "\n",
    "X_train, X_validation, y_train, y_validation = train_test_split(X_train_Unshuffeled, y_train_Unshuffeled, test_size = 0.1, random_state = 0, stratify = y_train_Unshuffeled)\n",
    "X_train.shape, X_test.shape, X_validation.shape"
   ]
  },
  {
   "cell_type": "code",
   "execution_count": 18,
   "id": "6a5c082c",
   "metadata": {},
   "outputs": [
    {
     "data": {
      "text/plain": [
       "((600, 6), (600, 6), (600, 6))"
      ]
     },
     "execution_count": 18,
     "metadata": {},
     "output_type": "execute_result"
    }
   ],
   "source": [
    "X_train[0].shape, X_test[0].shape, X_validation[0].shape"
   ]
  },
  {
   "cell_type": "code",
   "execution_count": 19,
   "id": "51c0e384",
   "metadata": {},
   "outputs": [
    {
     "data": {
      "text/plain": [
       "50"
      ]
     },
     "execution_count": 19,
     "metadata": {},
     "output_type": "execute_result"
    }
   ],
   "source": [
    "num = df_original['name'].iloc[-1]\n",
    "num "
   ]
  },
  {
   "cell_type": "code",
   "execution_count": 20,
   "id": "3cf0350d",
   "metadata": {},
   "outputs": [],
   "source": [
    "# Subtract 1 from each label in y_train\n",
    "y_train = np.array(y_train) - 1\n",
    "y_test = np.array(y_test) - 1\n",
    "y_validation = np.array(y_validation) - 1"
   ]
  },
  {
   "cell_type": "code",
   "execution_count": 21,
   "id": "29b2a405",
   "metadata": {},
   "outputs": [
    {
     "data": {
      "text/plain": [
       "((6353,), (2949,), (706,))"
      ]
     },
     "execution_count": 21,
     "metadata": {},
     "output_type": "execute_result"
    }
   ],
   "source": [
    "y_train.shape, y_test.shape, y_validation.shape"
   ]
  },
  {
   "cell_type": "code",
   "execution_count": 22,
   "id": "9afa305f",
   "metadata": {},
   "outputs": [],
   "source": [
    "y_train_o = np.eye(50)[y_train]\n",
    "y_test_o = np.eye(50)[y_test]\n",
    "y_validation_o = np.eye(50)[y_validation]"
   ]
  },
  {
   "cell_type": "code",
   "execution_count": 23,
   "id": "d6cf3a75",
   "metadata": {},
   "outputs": [
    {
     "data": {
      "text/plain": [
       "((6353, 50), (706, 50), (706, 50))"
      ]
     },
     "execution_count": 23,
     "metadata": {},
     "output_type": "execute_result"
    }
   ],
   "source": [
    "y_train_o.shape, y_validation_o.shape, y_validation_o.shape"
   ]
  },
  {
   "cell_type": "code",
   "execution_count": 24,
   "id": "d1ef3d9f",
   "metadata": {},
   "outputs": [],
   "source": [
    "# tut\n",
    "# model = Sequential()\n",
    "# model.add(Conv1D(filters=64, kernel_size=3, activation='relu', input_shape=X_train[0].shape))\n",
    "# model.add(Conv1D(filters=64, kernel_size=3, activation='relu'))\n",
    "# model.add(Dropout(0.5))\n",
    "# model.add(MaxPooling1D(pool_size=2))\n",
    "# model.add(Flatten())\n",
    "# model.add(Dense(100, activation='relu'))\n",
    "# model.add(Dense(50, activation='softmax'))\n"
   ]
  },
  {
   "cell_type": "code",
   "execution_count": 25,
   "id": "b38f479a",
   "metadata": {},
   "outputs": [],
   "source": [
    "# chatgpt\n",
    "model = Sequential()\n",
    "model.add(Conv1D(filters=32, kernel_size=3, activation='relu', input_shape=X_train[0].shape))\n",
    "model.add(MaxPooling1D(pool_size=2))\n",
    "model.add(Conv1D(filters=64, kernel_size=3, activation='relu'))\n",
    "model.add(MaxPooling1D(pool_size=2))\n",
    "model.add(Conv1D(filters=128, kernel_size=3, activation='relu'))\n",
    "model.add(MaxPooling1D(pool_size=2))\n",
    "model.add(Flatten())\n",
    "model.add(Dense(256, activation='relu'))\n",
    "model.add(Dropout(0.5))\n",
    "model.add(Dense(50, activation='softmax'))"
   ]
  },
  {
   "cell_type": "code",
   "execution_count": 26,
   "id": "d0bd6810",
   "metadata": {},
   "outputs": [
    {
     "name": "stdout",
     "output_type": "stream",
     "text": [
      "Model: \"sequential\"\n",
      "___________________________________________________________________________\n",
      " Layer (type)                    Output Shape                  Param #     \n",
      "===========================================================================\n",
      " conv1d (Conv1D)                 (None, 598, 32)               608         \n",
      "                                                                           \n",
      " max_pooling1d (MaxPooling1D)    (None, 299, 32)               0           \n",
      "                                                                           \n",
      " conv1d_1 (Conv1D)               (None, 297, 64)               6208        \n",
      "                                                                           \n",
      " max_pooling1d_1 (MaxPooling1D)  (None, 148, 64)               0           \n",
      "                                                                           \n",
      " conv1d_2 (Conv1D)               (None, 146, 128)              24704       \n",
      "                                                                           \n",
      " max_pooling1d_2 (MaxPooling1D)  (None, 73, 128)               0           \n",
      "                                                                           \n",
      " flatten (Flatten)               (None, 9344)                  0           \n",
      "                                                                           \n",
      " dense (Dense)                   (None, 256)                   2392320     \n",
      "                                                                           \n",
      " dropout (Dropout)               (None, 256)                   0           \n",
      "                                                                           \n",
      " dense_1 (Dense)                 (None, 50)                    12850       \n",
      "                                                                           \n",
      "===========================================================================\n",
      "Total params: 2,436,690\n",
      "Trainable params: 2,436,690\n",
      "Non-trainable params: 0\n",
      "___________________________________________________________________________\n"
     ]
    }
   ],
   "source": [
    "model.summary(line_length = 75)"
   ]
  },
  {
   "cell_type": "code",
   "execution_count": 27,
   "id": "d4bd648e",
   "metadata": {},
   "outputs": [],
   "source": [
    "model.compile(optimizer=Adam(learning_rate = 0.001), loss=tf.keras.losses.SparseCategoricalCrossentropy(), metrics = ['accuracy'])"
   ]
  },
  {
   "cell_type": "code",
   "execution_count": 28,
   "id": "48a91cb0",
   "metadata": {},
   "outputs": [],
   "source": [
    "early_stopping = tf.keras.callbacks.EarlyStopping(\n",
    "    monitor = 'val_loss',\n",
    "    mode = 'auto',\n",
    "    min_delta = 0,\n",
    "    patience = 2,\n",
    "    verbose = 0,\n",
    "    restore_best_weights = True\n",
    ")"
   ]
  },
  {
   "cell_type": "code",
   "execution_count": 29,
   "id": "319eff8f",
   "metadata": {
    "scrolled": true
   },
   "outputs": [
    {
     "name": "stdout",
     "output_type": "stream",
     "text": [
      "Epoch 1/30\n",
      "199/199 [==============================] - 11s 49ms/step - loss: 2.5253 - accuracy: 0.3502 - val_loss: 0.5208 - val_accuracy: 0.8683\n",
      "Epoch 2/30\n",
      "199/199 [==============================] - 9s 47ms/step - loss: 0.6328 - accuracy: 0.7940 - val_loss: 0.1940 - val_accuracy: 0.9065\n",
      "Epoch 3/30\n",
      "199/199 [==============================] - 10s 51ms/step - loss: 0.3249 - accuracy: 0.8777 - val_loss: 0.1633 - val_accuracy: 0.9193\n",
      "Epoch 4/30\n",
      "199/199 [==============================] - 10s 50ms/step - loss: 0.2589 - accuracy: 0.8911 - val_loss: 0.1578 - val_accuracy: 0.9207\n",
      "Epoch 5/30\n",
      "199/199 [==============================] - 9s 47ms/step - loss: 0.2274 - accuracy: 0.9026 - val_loss: 0.1537 - val_accuracy: 0.9221\n",
      "Epoch 6/30\n",
      "199/199 [==============================] - 10s 48ms/step - loss: 0.1927 - accuracy: 0.9085 - val_loss: 0.1595 - val_accuracy: 0.9278\n",
      "Epoch 7/30\n",
      "199/199 [==============================] - 10s 49ms/step - loss: 0.1975 - accuracy: 0.9101 - val_loss: 0.1513 - val_accuracy: 0.9278\n",
      "Epoch 8/30\n",
      "199/199 [==============================] - 10s 49ms/step - loss: 0.1629 - accuracy: 0.9185 - val_loss: 0.1532 - val_accuracy: 0.9306\n",
      "Epoch 9/30\n",
      "199/199 [==============================] - 10s 50ms/step - loss: 0.1642 - accuracy: 0.9197 - val_loss: 0.1480 - val_accuracy: 0.9136\n",
      "Epoch 10/30\n",
      "199/199 [==============================] - 9s 47ms/step - loss: 0.1441 - accuracy: 0.9233 - val_loss: 0.1552 - val_accuracy: 0.9292\n",
      "Epoch 11/30\n",
      "199/199 [==============================] - 9s 46ms/step - loss: 0.1525 - accuracy: 0.9216 - val_loss: 0.1484 - val_accuracy: 0.9249\n"
     ]
    }
   ],
   "source": [
    "history = model.fit(X_train, y_train, epochs = 30,callbacks = [early_stopping], \n",
    "                    validation_data= (X_validation, y_validation), verbose=1)"
   ]
  },
  {
   "cell_type": "code",
   "execution_count": 30,
   "id": "2f0f7151",
   "metadata": {},
   "outputs": [
    {
     "name": "stdout",
     "output_type": "stream",
     "text": [
      "93/93 [==============================] - 1s 11ms/step - loss: 0.1858 - accuracy: 0.9176\n",
      "Test loss:  0.1858. Test accuracy:  91.76%\n"
     ]
    }
   ],
   "source": [
    "test_loss, test_accuracy = model.evaluate(X_test, y_test)\n",
    "print('Test loss: {0: .4f}. Test accuracy: {1: .2f}%'.format(test_loss, test_accuracy*100))"
   ]
  },
  {
   "cell_type": "code",
   "execution_count": 35,
   "id": "b17fd18a",
   "metadata": {},
   "outputs": [
    {
     "data": {
      "text/plain": [
       "50"
      ]
     },
     "execution_count": 35,
     "metadata": {},
     "output_type": "execute_result"
    }
   ],
   "source": [
    "len(np.unique(y_test))"
   ]
  },
  {
   "cell_type": "code",
   "execution_count": 32,
   "id": "778082c5",
   "metadata": {},
   "outputs": [
    {
     "name": "stdout",
     "output_type": "stream",
     "text": [
      "0\n",
      "2/2 [==============================] - 0s 16ms/step - loss: 0.1688 - accuracy: 0.9474\n",
      "1\n",
      "3/3 [==============================] - 0s 7ms/step - loss: 1.7949e-06 - accuracy: 1.0000\n",
      "2\n",
      "3/3 [==============================] - 0s 8ms/step - loss: 4.1107e-09 - accuracy: 1.0000\n",
      "3\n",
      "2/2 [==============================] - 0s 15ms/step - loss: 0.0010 - accuracy: 1.0000\n",
      "4\n",
      "2/2 [==============================] - 0s 9ms/step - loss: 0.3476 - accuracy: 0.9167\n",
      "5\n",
      "3/3 [==============================] - 0s 16ms/step - loss: 0.2495 - accuracy: 0.8636\n",
      "6\n",
      "3/3 [==============================] - 0s 6ms/step - loss: 2.2390e-04 - accuracy: 1.0000\n",
      "7\n",
      "3/3 [==============================] - 0s 11ms/step - loss: 4.9887e-06 - accuracy: 1.0000\n",
      "8\n",
      "3/3 [==============================] - 0s 9ms/step - loss: 0.1366 - accuracy: 0.9885\n",
      "9\n",
      "2/2 [==============================] - 0s 16ms/step - loss: 0.2518 - accuracy: 0.9268\n",
      "10\n",
      "3/3 [==============================] - 0s 8ms/step - loss: 0.0014 - accuracy: 1.0000\n",
      "11\n",
      "3/3 [==============================] - 0s 8ms/step - loss: 0.5007 - accuracy: 0.9067\n",
      "12\n",
      "3/3 [==============================] - 0s 8ms/step - loss: 6.0216e-05 - accuracy: 1.0000\n",
      "13\n",
      "2/2 [==============================] - 0s 0s/step - loss: 7.5276e-05 - accuracy: 1.0000\n",
      "14\n",
      "1/1 [==============================] - 0s 32ms/step - loss: 0.0028 - accuracy: 1.0000\n",
      "15\n",
      "2/2 [==============================] - 0s 0s/step - loss: 7.5462e-05 - accuracy: 1.0000\n",
      "16\n",
      "2/2 [==============================] - 0s 0s/step - loss: 3.6313e-04 - accuracy: 1.0000\n",
      "17\n",
      "4/4 [==============================] - 0s 16ms/step - loss: 9.2983e-05 - accuracy: 1.0000\n",
      "18\n",
      "2/2 [==============================] - 0s 11ms/step - loss: 9.9401e-04 - accuracy: 1.0000\n",
      "19\n",
      "2/2 [==============================] - 0s 16ms/step - loss: 1.1687e-08 - accuracy: 1.0000\n",
      "20\n",
      "1/1 [==============================] - 0s 31ms/step - loss: 0.1942 - accuracy: 0.9524\n",
      "21\n",
      "2/2 [==============================] - 0s 16ms/step - loss: 0.2395 - accuracy: 0.9444\n",
      "22\n",
      "2/2 [==============================] - 0s 16ms/step - loss: 0.0033 - accuracy: 1.0000\n",
      "23\n",
      "2/2 [==============================] - 0s 3ms/step - loss: 4.2791e-04 - accuracy: 1.0000\n",
      "24\n",
      "2/2 [==============================] - 0s 0s/step - loss: 0.2600 - accuracy: 0.9722 \n",
      "25\n",
      "2/2 [==============================] - 0s 16ms/step - loss: 0.1395 - accuracy: 0.9697\n",
      "26\n",
      "2/2 [==============================] - 0s 0s/step - loss: 0.0472 - accuracy: 0.9833 \n",
      "27\n",
      "2/2 [==============================] - 0s 0s/step - loss: 0.7322 - accuracy: 0.4706\n",
      "28\n",
      "3/3 [==============================] - 0s 13ms/step - loss: 1.6256e-08 - accuracy: 1.0000\n",
      "29\n",
      "2/2 [==============================] - 0s 16ms/step - loss: 0.0954 - accuracy: 0.9661\n",
      "30\n",
      "2/2 [==============================] - 0s 0s/step - loss: 0.6732 - accuracy: 0.5294\n",
      "31\n",
      "3/3 [==============================] - 0s 8ms/step - loss: 0.2276 - accuracy: 0.9079\n",
      "32\n",
      "2/2 [==============================] - 0s 16ms/step - loss: 0.4728 - accuracy: 0.9167\n",
      "33\n",
      "3/3 [==============================] - 0s 8ms/step - loss: 2.2703e-05 - accuracy: 1.0000\n",
      "34\n",
      "2/2 [==============================] - 0s 16ms/step - loss: 1.0088 - accuracy: 0.0833\n",
      "35\n",
      "2/2 [==============================] - 0s 0s/step - loss: 0.1080 - accuracy: 0.9714 \n",
      "36\n",
      "3/3 [==============================] - 0s 8ms/step - loss: 0.7953 - accuracy: 0.7875\n",
      "37\n",
      "2/2 [==============================] - 0s 0s/step - loss: 0.5320 - accuracy: 0.9565 \n",
      "38\n",
      "3/3 [==============================] - 0s 8ms/step - loss: 2.5958e-04 - accuracy: 1.0000\n",
      "39\n",
      "2/2 [==============================] - 0s 16ms/step - loss: 0.6494 - accuracy: 0.7333\n",
      "40\n",
      "3/3 [==============================] - 0s 8ms/step - loss: 0.0337 - accuracy: 0.9885\n",
      "41\n",
      "2/2 [==============================] - 0s 16ms/step - loss: 0.7480 - accuracy: 0.2667\n",
      "42\n",
      "2/2 [==============================] - 0s 16ms/step - loss: 0.4263 - accuracy: 0.9535\n",
      "43\n",
      "2/2 [==============================] - 0s 0s/step - loss: 0.3472 - accuracy: 0.9556\n",
      "44\n",
      "2/2 [==============================] - 0s 0s/step - loss: 0.5679 - accuracy: 0.8919\n",
      "45\n",
      "2/2 [==============================] - 0s 19ms/step - loss: 5.3065e-04 - accuracy: 1.0000\n",
      "46\n",
      "3/3 [==============================] - 0s 16ms/step - loss: 8.4646e-04 - accuracy: 1.0000\n",
      "47\n",
      "2/2 [==============================] - 0s 0s/step - loss: 6.2293e-04 - accuracy: 1.0000\n",
      "48\n",
      "3/3 [==============================] - 0s 8ms/step - loss: 3.3367e-05 - accuracy: 1.0000\n",
      "49\n",
      "2/2 [==============================] - 0s 16ms/step - loss: 8.2223e-06 - accuracy: 1.0000\n"
     ]
    },
    {
     "data": {
      "text/plain": [
       "array([0.94736844, 1.        , 1.        , 1.        , 0.91666669,\n",
       "       0.86363637, 1.        , 1.        , 0.98850572, 0.92682928,\n",
       "       1.        , 0.9066667 , 1.        , 1.        , 1.        ,\n",
       "       1.        , 1.        , 1.        , 1.        , 1.        ,\n",
       "       0.95238096, 0.94444442, 1.        , 1.        , 0.97222221,\n",
       "       0.969697  , 0.98333335, 0.47058824, 1.        , 0.96610171,\n",
       "       0.52941179, 0.90789473, 0.91666669, 1.        , 0.08333334,\n",
       "       0.97142857, 0.78750002, 0.95652175, 1.        , 0.73333335,\n",
       "       0.98850572, 0.26666668, 0.95348835, 0.95555556, 0.8918919 ,\n",
       "       1.        , 1.        , 1.        , 1.        , 1.        ])"
      ]
     },
     "execution_count": 32,
     "metadata": {},
     "output_type": "execute_result"
    }
   ],
   "source": [
    "\n",
    "unique_users = np.unique(y_test)\n",
    "acc = np.empty(len(unique_users))\n",
    "for user in unique_users:\n",
    "    print(user)\n",
    "    indices = np.where(y_test == user)\n",
    "    user_y = y_test[indices]\n",
    "    user_X= X_test[indices]\n",
    "    test_loss, test_accuracy = model.evaluate(user_X, user_y)\n",
    "    acc[user] = test_accuracy\n",
    "acc    "
   ]
  },
  {
   "cell_type": "code",
   "execution_count": 33,
   "id": "20e8b429",
   "metadata": {},
   "outputs": [
    {
     "data": {
      "text/plain": [
       "(array([27, 30, 34, 36, 39, 41], dtype=int64),)"
      ]
     },
     "execution_count": 33,
     "metadata": {},
     "output_type": "execute_result"
    }
   ],
   "source": [
    "outlier_indices = np.where(acc < 0.80)\n",
    "outlier_indices"
   ]
  },
  {
   "cell_type": "code",
   "execution_count": null,
   "id": "1e450f5d",
   "metadata": {},
   "outputs": [],
   "source": []
  }
 ],
 "metadata": {
  "kernelspec": {
   "display_name": "Python 3 (ipykernel)",
   "language": "python",
   "name": "python3"
  },
  "language_info": {
   "codemirror_mode": {
    "name": "ipython",
    "version": 3
   },
   "file_extension": ".py",
   "mimetype": "text/x-python",
   "name": "python",
   "nbconvert_exporter": "python",
   "pygments_lexer": "ipython3",
   "version": "3.10.9"
  }
 },
 "nbformat": 4,
 "nbformat_minor": 5
}
