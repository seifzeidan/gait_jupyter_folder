{
 "cells": [
  {
   "cell_type": "code",
   "execution_count": 1,
   "id": "44faa98a",
   "metadata": {},
   "outputs": [
    {
     "name": "stdout",
     "output_type": "stream",
     "text": [
      "2.12.0\n"
     ]
    }
   ],
   "source": [
    "import tensorflow as tf\n",
    "from tensorflow.keras import Sequential\n",
    "from tensorflow.keras.layers import Flatten, Dense, Dropout, BatchNormalization\n",
    "from tensorflow.keras.layers import Conv1D, MaxPooling1D\n",
    "from tensorflow.keras.optimizers import Adam\n",
    "print(tf.__version__)"
   ]
  },
  {
   "cell_type": "code",
   "execution_count": 2,
   "id": "1c3f367f",
   "metadata": {},
   "outputs": [],
   "source": [
    "import pandas as pd\n",
    "import numpy as np\n",
    "import os\n",
    "import math\n",
    "import matplotlib.pyplot as plt\n",
    "from sklearn.model_selection import train_test_split\n",
    "from sklearn.preprocessing import StandardScaler, LabelEncoder"
   ]
  },
  {
   "cell_type": "code",
   "execution_count": 151,
   "id": "ae91323c",
   "metadata": {},
   "outputs": [],
   "source": [
    "from sklearn.svm import OneClassSVM"
   ]
  },
  {
   "cell_type": "code",
   "execution_count": 3,
   "id": "9e899298",
   "metadata": {},
   "outputs": [],
   "source": [
    "# filepath = \"merged_u1-50_w001_resampled.csv\"\n",
    "filepath = \"D:/online dataset csv files preprocessing/merged_u1-50_w001_resampled.csv\"\n",
    "\n",
    "df_original = pd.read_csv(filepath)"
   ]
  },
  {
   "cell_type": "code",
   "execution_count": 4,
   "id": "bcd5954e",
   "metadata": {},
   "outputs": [
    {
     "data": {
      "text/html": [
       "<div>\n",
       "<style scoped>\n",
       "    .dataframe tbody tr th:only-of-type {\n",
       "        vertical-align: middle;\n",
       "    }\n",
       "\n",
       "    .dataframe tbody tr th {\n",
       "        vertical-align: top;\n",
       "    }\n",
       "\n",
       "    .dataframe thead th {\n",
       "        text-align: right;\n",
       "    }\n",
       "</style>\n",
       "<table border=\"1\" class=\"dataframe\">\n",
       "  <thead>\n",
       "    <tr style=\"text-align: right;\">\n",
       "      <th></th>\n",
       "      <th>timestamp</th>\n",
       "      <th>LAx</th>\n",
       "      <th>LAy</th>\n",
       "      <th>LAz</th>\n",
       "      <th>GYx</th>\n",
       "      <th>GYy</th>\n",
       "      <th>GYz</th>\n",
       "      <th>name</th>\n",
       "    </tr>\n",
       "  </thead>\n",
       "  <tbody>\n",
       "    <tr>\n",
       "      <th>0</th>\n",
       "      <td>924313410000000</td>\n",
       "      <td>1.242813</td>\n",
       "      <td>-0.160181</td>\n",
       "      <td>-0.900440</td>\n",
       "      <td>0.194931</td>\n",
       "      <td>-0.004242</td>\n",
       "      <td>0.163818</td>\n",
       "      <td>1</td>\n",
       "    </tr>\n",
       "    <tr>\n",
       "      <th>1</th>\n",
       "      <td>924313420000000</td>\n",
       "      <td>1.117246</td>\n",
       "      <td>-0.187921</td>\n",
       "      <td>-1.529893</td>\n",
       "      <td>0.236458</td>\n",
       "      <td>0.076378</td>\n",
       "      <td>0.133293</td>\n",
       "      <td>1</td>\n",
       "    </tr>\n",
       "    <tr>\n",
       "      <th>2</th>\n",
       "      <td>924313430000000</td>\n",
       "      <td>0.912846</td>\n",
       "      <td>-0.192566</td>\n",
       "      <td>-1.570929</td>\n",
       "      <td>0.226074</td>\n",
       "      <td>0.012253</td>\n",
       "      <td>0.108246</td>\n",
       "      <td>1</td>\n",
       "    </tr>\n",
       "    <tr>\n",
       "      <th>3</th>\n",
       "      <td>924313440000000</td>\n",
       "      <td>0.874858</td>\n",
       "      <td>-0.227208</td>\n",
       "      <td>-1.453511</td>\n",
       "      <td>0.139336</td>\n",
       "      <td>-0.050667</td>\n",
       "      <td>0.085030</td>\n",
       "      <td>1</td>\n",
       "    </tr>\n",
       "    <tr>\n",
       "      <th>4</th>\n",
       "      <td>924313450000000</td>\n",
       "      <td>0.834022</td>\n",
       "      <td>-0.282976</td>\n",
       "      <td>-1.292671</td>\n",
       "      <td>-0.013374</td>\n",
       "      <td>-0.109314</td>\n",
       "      <td>0.078308</td>\n",
       "      <td>1</td>\n",
       "    </tr>\n",
       "    <tr>\n",
       "      <th>...</th>\n",
       "      <td>...</td>\n",
       "      <td>...</td>\n",
       "      <td>...</td>\n",
       "      <td>...</td>\n",
       "      <td>...</td>\n",
       "      <td>...</td>\n",
       "      <td>...</td>\n",
       "      <td>...</td>\n",
       "    </tr>\n",
       "    <tr>\n",
       "      <th>2055043</th>\n",
       "      <td>1368327120000000</td>\n",
       "      <td>-9.502644</td>\n",
       "      <td>-7.178468</td>\n",
       "      <td>4.246279</td>\n",
       "      <td>-2.834417</td>\n",
       "      <td>-0.120428</td>\n",
       "      <td>-0.987857</td>\n",
       "      <td>50</td>\n",
       "    </tr>\n",
       "    <tr>\n",
       "      <th>2055044</th>\n",
       "      <td>1368327130000000</td>\n",
       "      <td>-9.443804</td>\n",
       "      <td>-7.698220</td>\n",
       "      <td>3.059675</td>\n",
       "      <td>-2.638940</td>\n",
       "      <td>0.561997</td>\n",
       "      <td>-0.947715</td>\n",
       "      <td>50</td>\n",
       "    </tr>\n",
       "    <tr>\n",
       "      <th>2055045</th>\n",
       "      <td>1368327140000000</td>\n",
       "      <td>-8.345459</td>\n",
       "      <td>-6.805815</td>\n",
       "      <td>1.853457</td>\n",
       "      <td>-2.483606</td>\n",
       "      <td>1.225222</td>\n",
       "      <td>-0.954696</td>\n",
       "      <td>50</td>\n",
       "    </tr>\n",
       "    <tr>\n",
       "      <th>2055046</th>\n",
       "      <td>1368327150000000</td>\n",
       "      <td>-7.580540</td>\n",
       "      <td>-5.629017</td>\n",
       "      <td>1.559257</td>\n",
       "      <td>-2.429500</td>\n",
       "      <td>1.769765</td>\n",
       "      <td>-1.003565</td>\n",
       "      <td>50</td>\n",
       "    </tr>\n",
       "    <tr>\n",
       "      <th>2055047</th>\n",
       "      <td>1368327160000000</td>\n",
       "      <td>-6.952915</td>\n",
       "      <td>-4.589512</td>\n",
       "      <td>1.755390</td>\n",
       "      <td>-2.426010</td>\n",
       "      <td>2.099633</td>\n",
       "      <td>-0.980876</td>\n",
       "      <td>50</td>\n",
       "    </tr>\n",
       "  </tbody>\n",
       "</table>\n",
       "<p>2055048 rows × 8 columns</p>\n",
       "</div>"
      ],
      "text/plain": [
       "                timestamp       LAx       LAy       LAz       GYx       GYy  \\\n",
       "0         924313410000000  1.242813 -0.160181 -0.900440  0.194931 -0.004242   \n",
       "1         924313420000000  1.117246 -0.187921 -1.529893  0.236458  0.076378   \n",
       "2         924313430000000  0.912846 -0.192566 -1.570929  0.226074  0.012253   \n",
       "3         924313440000000  0.874858 -0.227208 -1.453511  0.139336 -0.050667   \n",
       "4         924313450000000  0.834022 -0.282976 -1.292671 -0.013374 -0.109314   \n",
       "...                   ...       ...       ...       ...       ...       ...   \n",
       "2055043  1368327120000000 -9.502644 -7.178468  4.246279 -2.834417 -0.120428   \n",
       "2055044  1368327130000000 -9.443804 -7.698220  3.059675 -2.638940  0.561997   \n",
       "2055045  1368327140000000 -8.345459 -6.805815  1.853457 -2.483606  1.225222   \n",
       "2055046  1368327150000000 -7.580540 -5.629017  1.559257 -2.429500  1.769765   \n",
       "2055047  1368327160000000 -6.952915 -4.589512  1.755390 -2.426010  2.099633   \n",
       "\n",
       "              GYz  name  \n",
       "0        0.163818     1  \n",
       "1        0.133293     1  \n",
       "2        0.108246     1  \n",
       "3        0.085030     1  \n",
       "4        0.078308     1  \n",
       "...           ...   ...  \n",
       "2055043 -0.987857    50  \n",
       "2055044 -0.947715    50  \n",
       "2055045 -0.954696    50  \n",
       "2055046 -1.003565    50  \n",
       "2055047 -0.980876    50  \n",
       "\n",
       "[2055048 rows x 8 columns]"
      ]
     },
     "execution_count": 4,
     "metadata": {},
     "output_type": "execute_result"
    }
   ],
   "source": [
    "df_original"
   ]
  },
  {
   "cell_type": "code",
   "execution_count": 5,
   "id": "44374d55",
   "metadata": {},
   "outputs": [
    {
     "data": {
      "text/plain": [
       "timestamp    0\n",
       "LAx          0\n",
       "LAy          0\n",
       "LAz          0\n",
       "GYx          0\n",
       "GYy          0\n",
       "GYz          0\n",
       "name         0\n",
       "dtype: int64"
      ]
     },
     "execution_count": 5,
     "metadata": {},
     "output_type": "execute_result"
    }
   ],
   "source": [
    "df_original.isnull().sum()"
   ]
  },
  {
   "cell_type": "code",
   "execution_count": 6,
   "id": "eda07b86",
   "metadata": {},
   "outputs": [
    {
     "name": "stdout",
     "output_type": "stream",
     "text": [
      "<class 'pandas.core.frame.DataFrame'>\n",
      "RangeIndex: 2055048 entries, 0 to 2055047\n",
      "Data columns (total 8 columns):\n",
      " #   Column     Dtype  \n",
      "---  ------     -----  \n",
      " 0   timestamp  int64  \n",
      " 1   LAx        float64\n",
      " 2   LAy        float64\n",
      " 3   LAz        float64\n",
      " 4   GYx        float64\n",
      " 5   GYy        float64\n",
      " 6   GYz        float64\n",
      " 7   name       int64  \n",
      "dtypes: float64(6), int64(2)\n",
      "memory usage: 125.4 MB\n"
     ]
    }
   ],
   "source": [
    "df_original.info()"
   ]
  },
  {
   "cell_type": "code",
   "execution_count": 7,
   "id": "54b2a1e4",
   "metadata": {},
   "outputs": [
    {
     "data": {
      "text/plain": [
       "18    82714\n",
       "47    65984\n",
       "29    60052\n",
       "8     60036\n",
       "6     60005\n",
       "9     59986\n",
       "13    59984\n",
       "41    59984\n",
       "39    59958\n",
       "3     59958\n",
       "37    55050\n",
       "32    52339\n",
       "12    51686\n",
       "2     48001\n",
       "7     47947\n",
       "11    47946\n",
       "34    47824\n",
       "49    47614\n",
       "42    41946\n",
       "19    41946\n",
       "40    41946\n",
       "35    41945\n",
       "33    41945\n",
       "27    41535\n",
       "30    40959\n",
       "24    35980\n",
       "16    35974\n",
       "20    35948\n",
       "28    35947\n",
       "31    35947\n",
       "4     35946\n",
       "23    34545\n",
       "38    32186\n",
       "44    31414\n",
       "43    30100\n",
       "17    29997\n",
       "48    29990\n",
       "50    29988\n",
       "14    29950\n",
       "46    29945\n",
       "10    28892\n",
       "1     26790\n",
       "45    26022\n",
       "25    25926\n",
       "5     25792\n",
       "22    25598\n",
       "36    25173\n",
       "26    23949\n",
       "15    17985\n",
       "21    15774\n",
       "Name: name, dtype: int64"
      ]
     },
     "execution_count": 7,
     "metadata": {},
     "output_type": "execute_result"
    }
   ],
   "source": [
    "df_original['name'].value_counts()"
   ]
  },
  {
   "cell_type": "code",
   "execution_count": 8,
   "id": "bdac5aae",
   "metadata": {},
   "outputs": [
    {
     "data": {
      "text/plain": [
       "(2055048, 7)"
      ]
     },
     "execution_count": 8,
     "metadata": {},
     "output_type": "execute_result"
    }
   ],
   "source": [
    "df_Xtime = df_original.copy()\n",
    "df_Xtime = df_Xtime.drop(['timestamp'], axis = 1).copy()\n",
    "df_Xtime.shape"
   ]
  },
  {
   "cell_type": "code",
   "execution_count": 9,
   "id": "aca50c9c",
   "metadata": {},
   "outputs": [
    {
     "data": {
      "text/html": [
       "<div>\n",
       "<style scoped>\n",
       "    .dataframe tbody tr th:only-of-type {\n",
       "        vertical-align: middle;\n",
       "    }\n",
       "\n",
       "    .dataframe tbody tr th {\n",
       "        vertical-align: top;\n",
       "    }\n",
       "\n",
       "    .dataframe thead th {\n",
       "        text-align: right;\n",
       "    }\n",
       "</style>\n",
       "<table border=\"1\" class=\"dataframe\">\n",
       "  <thead>\n",
       "    <tr style=\"text-align: right;\">\n",
       "      <th></th>\n",
       "      <th>LAx</th>\n",
       "      <th>LAy</th>\n",
       "      <th>LAz</th>\n",
       "      <th>GYx</th>\n",
       "      <th>GYy</th>\n",
       "      <th>GYz</th>\n",
       "      <th>name</th>\n",
       "    </tr>\n",
       "  </thead>\n",
       "  <tbody>\n",
       "    <tr>\n",
       "      <th>0</th>\n",
       "      <td>1.242813</td>\n",
       "      <td>-0.160181</td>\n",
       "      <td>-0.900440</td>\n",
       "      <td>0.194931</td>\n",
       "      <td>-0.004242</td>\n",
       "      <td>0.163818</td>\n",
       "      <td>1</td>\n",
       "    </tr>\n",
       "    <tr>\n",
       "      <th>1</th>\n",
       "      <td>1.117246</td>\n",
       "      <td>-0.187921</td>\n",
       "      <td>-1.529893</td>\n",
       "      <td>0.236458</td>\n",
       "      <td>0.076378</td>\n",
       "      <td>0.133293</td>\n",
       "      <td>1</td>\n",
       "    </tr>\n",
       "    <tr>\n",
       "      <th>2</th>\n",
       "      <td>0.912846</td>\n",
       "      <td>-0.192566</td>\n",
       "      <td>-1.570929</td>\n",
       "      <td>0.226074</td>\n",
       "      <td>0.012253</td>\n",
       "      <td>0.108246</td>\n",
       "      <td>1</td>\n",
       "    </tr>\n",
       "    <tr>\n",
       "      <th>3</th>\n",
       "      <td>0.874858</td>\n",
       "      <td>-0.227208</td>\n",
       "      <td>-1.453511</td>\n",
       "      <td>0.139336</td>\n",
       "      <td>-0.050667</td>\n",
       "      <td>0.085030</td>\n",
       "      <td>1</td>\n",
       "    </tr>\n",
       "    <tr>\n",
       "      <th>4</th>\n",
       "      <td>0.834022</td>\n",
       "      <td>-0.282976</td>\n",
       "      <td>-1.292671</td>\n",
       "      <td>-0.013374</td>\n",
       "      <td>-0.109314</td>\n",
       "      <td>0.078308</td>\n",
       "      <td>1</td>\n",
       "    </tr>\n",
       "    <tr>\n",
       "      <th>...</th>\n",
       "      <td>...</td>\n",
       "      <td>...</td>\n",
       "      <td>...</td>\n",
       "      <td>...</td>\n",
       "      <td>...</td>\n",
       "      <td>...</td>\n",
       "      <td>...</td>\n",
       "    </tr>\n",
       "    <tr>\n",
       "      <th>2055043</th>\n",
       "      <td>-9.502644</td>\n",
       "      <td>-7.178468</td>\n",
       "      <td>4.246279</td>\n",
       "      <td>-2.834417</td>\n",
       "      <td>-0.120428</td>\n",
       "      <td>-0.987857</td>\n",
       "      <td>50</td>\n",
       "    </tr>\n",
       "    <tr>\n",
       "      <th>2055044</th>\n",
       "      <td>-9.443804</td>\n",
       "      <td>-7.698220</td>\n",
       "      <td>3.059675</td>\n",
       "      <td>-2.638940</td>\n",
       "      <td>0.561997</td>\n",
       "      <td>-0.947715</td>\n",
       "      <td>50</td>\n",
       "    </tr>\n",
       "    <tr>\n",
       "      <th>2055045</th>\n",
       "      <td>-8.345459</td>\n",
       "      <td>-6.805815</td>\n",
       "      <td>1.853457</td>\n",
       "      <td>-2.483606</td>\n",
       "      <td>1.225222</td>\n",
       "      <td>-0.954696</td>\n",
       "      <td>50</td>\n",
       "    </tr>\n",
       "    <tr>\n",
       "      <th>2055046</th>\n",
       "      <td>-7.580540</td>\n",
       "      <td>-5.629017</td>\n",
       "      <td>1.559257</td>\n",
       "      <td>-2.429500</td>\n",
       "      <td>1.769765</td>\n",
       "      <td>-1.003565</td>\n",
       "      <td>50</td>\n",
       "    </tr>\n",
       "    <tr>\n",
       "      <th>2055047</th>\n",
       "      <td>-6.952915</td>\n",
       "      <td>-4.589512</td>\n",
       "      <td>1.755390</td>\n",
       "      <td>-2.426010</td>\n",
       "      <td>2.099633</td>\n",
       "      <td>-0.980876</td>\n",
       "      <td>50</td>\n",
       "    </tr>\n",
       "  </tbody>\n",
       "</table>\n",
       "<p>2055048 rows × 7 columns</p>\n",
       "</div>"
      ],
      "text/plain": [
       "              LAx       LAy       LAz       GYx       GYy       GYz  name\n",
       "0        1.242813 -0.160181 -0.900440  0.194931 -0.004242  0.163818     1\n",
       "1        1.117246 -0.187921 -1.529893  0.236458  0.076378  0.133293     1\n",
       "2        0.912846 -0.192566 -1.570929  0.226074  0.012253  0.108246     1\n",
       "3        0.874858 -0.227208 -1.453511  0.139336 -0.050667  0.085030     1\n",
       "4        0.834022 -0.282976 -1.292671 -0.013374 -0.109314  0.078308     1\n",
       "...           ...       ...       ...       ...       ...       ...   ...\n",
       "2055043 -9.502644 -7.178468  4.246279 -2.834417 -0.120428 -0.987857    50\n",
       "2055044 -9.443804 -7.698220  3.059675 -2.638940  0.561997 -0.947715    50\n",
       "2055045 -8.345459 -6.805815  1.853457 -2.483606  1.225222 -0.954696    50\n",
       "2055046 -7.580540 -5.629017  1.559257 -2.429500  1.769765 -1.003565    50\n",
       "2055047 -6.952915 -4.589512  1.755390 -2.426010  2.099633 -0.980876    50\n",
       "\n",
       "[2055048 rows x 7 columns]"
      ]
     },
     "execution_count": 9,
     "metadata": {},
     "output_type": "execute_result"
    }
   ],
   "source": [
    "df_Xtime"
   ]
  },
  {
   "cell_type": "code",
   "execution_count": 10,
   "id": "10931f68",
   "metadata": {},
   "outputs": [],
   "source": [
    "X = df_Xtime[['LAx', 'LAy', 'LAz','GYx', 'GYy', 'GYz']].copy()\n",
    "y = df_Xtime['name'].copy()"
   ]
  },
  {
   "cell_type": "code",
   "execution_count": 11,
   "id": "a22de21d",
   "metadata": {},
   "outputs": [
    {
     "data": {
      "text/html": [
       "<div>\n",
       "<style scoped>\n",
       "    .dataframe tbody tr th:only-of-type {\n",
       "        vertical-align: middle;\n",
       "    }\n",
       "\n",
       "    .dataframe tbody tr th {\n",
       "        vertical-align: top;\n",
       "    }\n",
       "\n",
       "    .dataframe thead th {\n",
       "        text-align: right;\n",
       "    }\n",
       "</style>\n",
       "<table border=\"1\" class=\"dataframe\">\n",
       "  <thead>\n",
       "    <tr style=\"text-align: right;\">\n",
       "      <th></th>\n",
       "      <th>LAx</th>\n",
       "      <th>LAy</th>\n",
       "      <th>LAz</th>\n",
       "      <th>GYx</th>\n",
       "      <th>GYy</th>\n",
       "      <th>GYz</th>\n",
       "      <th>label</th>\n",
       "    </tr>\n",
       "  </thead>\n",
       "  <tbody>\n",
       "    <tr>\n",
       "      <th>0</th>\n",
       "      <td>1.242813</td>\n",
       "      <td>-0.160181</td>\n",
       "      <td>-0.900440</td>\n",
       "      <td>0.194931</td>\n",
       "      <td>-0.004242</td>\n",
       "      <td>0.163818</td>\n",
       "      <td>1</td>\n",
       "    </tr>\n",
       "    <tr>\n",
       "      <th>1</th>\n",
       "      <td>1.117246</td>\n",
       "      <td>-0.187921</td>\n",
       "      <td>-1.529893</td>\n",
       "      <td>0.236458</td>\n",
       "      <td>0.076378</td>\n",
       "      <td>0.133293</td>\n",
       "      <td>1</td>\n",
       "    </tr>\n",
       "    <tr>\n",
       "      <th>2</th>\n",
       "      <td>0.912846</td>\n",
       "      <td>-0.192566</td>\n",
       "      <td>-1.570929</td>\n",
       "      <td>0.226074</td>\n",
       "      <td>0.012253</td>\n",
       "      <td>0.108246</td>\n",
       "      <td>1</td>\n",
       "    </tr>\n",
       "    <tr>\n",
       "      <th>3</th>\n",
       "      <td>0.874858</td>\n",
       "      <td>-0.227208</td>\n",
       "      <td>-1.453511</td>\n",
       "      <td>0.139336</td>\n",
       "      <td>-0.050667</td>\n",
       "      <td>0.085030</td>\n",
       "      <td>1</td>\n",
       "    </tr>\n",
       "    <tr>\n",
       "      <th>4</th>\n",
       "      <td>0.834022</td>\n",
       "      <td>-0.282976</td>\n",
       "      <td>-1.292671</td>\n",
       "      <td>-0.013374</td>\n",
       "      <td>-0.109314</td>\n",
       "      <td>0.078308</td>\n",
       "      <td>1</td>\n",
       "    </tr>\n",
       "    <tr>\n",
       "      <th>...</th>\n",
       "      <td>...</td>\n",
       "      <td>...</td>\n",
       "      <td>...</td>\n",
       "      <td>...</td>\n",
       "      <td>...</td>\n",
       "      <td>...</td>\n",
       "      <td>...</td>\n",
       "    </tr>\n",
       "    <tr>\n",
       "      <th>2055043</th>\n",
       "      <td>-9.502644</td>\n",
       "      <td>-7.178468</td>\n",
       "      <td>4.246279</td>\n",
       "      <td>-2.834417</td>\n",
       "      <td>-0.120428</td>\n",
       "      <td>-0.987857</td>\n",
       "      <td>50</td>\n",
       "    </tr>\n",
       "    <tr>\n",
       "      <th>2055044</th>\n",
       "      <td>-9.443804</td>\n",
       "      <td>-7.698220</td>\n",
       "      <td>3.059675</td>\n",
       "      <td>-2.638940</td>\n",
       "      <td>0.561997</td>\n",
       "      <td>-0.947715</td>\n",
       "      <td>50</td>\n",
       "    </tr>\n",
       "    <tr>\n",
       "      <th>2055045</th>\n",
       "      <td>-8.345459</td>\n",
       "      <td>-6.805815</td>\n",
       "      <td>1.853457</td>\n",
       "      <td>-2.483606</td>\n",
       "      <td>1.225222</td>\n",
       "      <td>-0.954696</td>\n",
       "      <td>50</td>\n",
       "    </tr>\n",
       "    <tr>\n",
       "      <th>2055046</th>\n",
       "      <td>-7.580540</td>\n",
       "      <td>-5.629017</td>\n",
       "      <td>1.559257</td>\n",
       "      <td>-2.429500</td>\n",
       "      <td>1.769765</td>\n",
       "      <td>-1.003565</td>\n",
       "      <td>50</td>\n",
       "    </tr>\n",
       "    <tr>\n",
       "      <th>2055047</th>\n",
       "      <td>-6.952915</td>\n",
       "      <td>-4.589512</td>\n",
       "      <td>1.755390</td>\n",
       "      <td>-2.426010</td>\n",
       "      <td>2.099633</td>\n",
       "      <td>-0.980876</td>\n",
       "      <td>50</td>\n",
       "    </tr>\n",
       "  </tbody>\n",
       "</table>\n",
       "<p>2055048 rows × 7 columns</p>\n",
       "</div>"
      ],
      "text/plain": [
       "              LAx       LAy       LAz       GYx       GYy       GYz  label\n",
       "0        1.242813 -0.160181 -0.900440  0.194931 -0.004242  0.163818      1\n",
       "1        1.117246 -0.187921 -1.529893  0.236458  0.076378  0.133293      1\n",
       "2        0.912846 -0.192566 -1.570929  0.226074  0.012253  0.108246      1\n",
       "3        0.874858 -0.227208 -1.453511  0.139336 -0.050667  0.085030      1\n",
       "4        0.834022 -0.282976 -1.292671 -0.013374 -0.109314  0.078308      1\n",
       "...           ...       ...       ...       ...       ...       ...    ...\n",
       "2055043 -9.502644 -7.178468  4.246279 -2.834417 -0.120428 -0.987857     50\n",
       "2055044 -9.443804 -7.698220  3.059675 -2.638940  0.561997 -0.947715     50\n",
       "2055045 -8.345459 -6.805815  1.853457 -2.483606  1.225222 -0.954696     50\n",
       "2055046 -7.580540 -5.629017  1.559257 -2.429500  1.769765 -1.003565     50\n",
       "2055047 -6.952915 -4.589512  1.755390 -2.426010  2.099633 -0.980876     50\n",
       "\n",
       "[2055048 rows x 7 columns]"
      ]
     },
     "execution_count": 11,
     "metadata": {},
     "output_type": "execute_result"
    }
   ],
   "source": [
    "scaler = StandardScaler()\n",
    "X_transformed = X.copy()\n",
    "# X_transformed = scaler.fit_transform(X_transformed) #No_scalling\n",
    "\n",
    "scaled_X = pd.DataFrame(data = X_transformed, columns = ['LAx', 'LAy', 'LAz','GYx', 'GYy', 'GYz'])\n",
    "scaled_X['label'] = y.values\n",
    "\n",
    "scaled_X"
   ]
  },
  {
   "cell_type": "code",
   "execution_count": 32,
   "id": "15865b59",
   "metadata": {},
   "outputs": [
    {
     "data": {
      "text/plain": [
       "((311957, 7), (1743091, 7))"
      ]
     },
     "execution_count": 32,
     "metadata": {},
     "output_type": "execute_result"
    }
   ],
   "source": [
    "df_unk = scaled_X[scaled_X['label'].isin([2, 11,23,34,45,49,6])]\n",
    "scaled_X_known = scaled_X[~scaled_X['label'].isin([2, 11,23,34,45,49,6])]\n",
    "df_unk.shape, scaled_X_known.shape"
   ]
  },
  {
   "cell_type": "code",
   "execution_count": 13,
   "id": "091232c8",
   "metadata": {},
   "outputs": [
    {
     "name": "stderr",
     "output_type": "stream",
     "text": [
      "C:\\Users\\szizo\\AppData\\Local\\Temp\\ipykernel_4968\\3930309154.py:12: FutureWarning: The frame.append method is deprecated and will be removed from pandas in a future version. Use pandas.concat instead.\n",
      "  df_train = df_train.append(train_row, ignore_index=True)\n",
      "C:\\Users\\szizo\\AppData\\Local\\Temp\\ipykernel_4968\\3930309154.py:13: FutureWarning: The frame.append method is deprecated and will be removed from pandas in a future version. Use pandas.concat instead.\n",
      "  df_test = df_test.append(test_row, ignore_index=True)\n"
     ]
    },
    {
     "data": {
      "text/plain": [
       "((1220145, 7), (522946, 7))"
      ]
     },
     "execution_count": 13,
     "metadata": {},
     "output_type": "execute_result"
    }
   ],
   "source": [
    "df_test = pd.DataFrame(columns=['LAx','LAy','LAz','GYx','GYy','GYz','label'])\n",
    "df_train = pd.DataFrame(columns=['LAx','LAy','LAz','GYx','GYy','GYz','label'])\n",
    "\n",
    "for i in range(1,51):\n",
    "    df_original_i = scaled_X_known[scaled_X_known['label'] == i]\n",
    "    length = len(df_original_i)\n",
    "    num_rows_70 = int(length*0.7)\n",
    "    \n",
    "    train_row = df_original_i[:num_rows_70]\n",
    "    test_row = df_original_i[num_rows_70:]\n",
    "    \n",
    "    df_train = df_train.append(train_row, ignore_index=True)\n",
    "    df_test = df_test.append(test_row, ignore_index=True)\n",
    "\n",
    "df_train.shape, df_test.shape"
   ]
  },
  {
   "cell_type": "code",
   "execution_count": 14,
   "id": "019df13a",
   "metadata": {},
   "outputs": [],
   "source": [
    "import scipy.stats as stats\n",
    "\n",
    "Fs = 100\n",
    "frame_size = Fs*6 \n",
    "hop_size = Fs*2"
   ]
  },
  {
   "cell_type": "code",
   "execution_count": 15,
   "id": "4cb22659",
   "metadata": {},
   "outputs": [],
   "source": [
    "def get_frames(df, frame_size, hop_size):\n",
    "    N_FEATURES = 6\n",
    "\n",
    "    frames = []\n",
    "    labels = []\n",
    "    \n",
    "    last_value = df['label'].iloc[-1]\n",
    "    for j in range (1,last_value+1): \n",
    "        filtered_df = df[df['label'] == j]\n",
    "        filtered_df = filtered_df.drop('label', axis = 1)\n",
    "        for i in range(0, len(filtered_df) - frame_size, hop_size):\n",
    "            LAx = filtered_df['LAx'].values[i: i + frame_size]\n",
    "            LAy = filtered_df['LAy'].values[i: i + frame_size]\n",
    "            LAz = filtered_df['LAz'].values[i: i + frame_size]\n",
    "            GYx = filtered_df['GYx'].values[i: i + frame_size]\n",
    "            GYy = filtered_df['GYy'].values[i: i + frame_size]\n",
    "            GYz = filtered_df['GYz'].values[i: i + frame_size]\n",
    "            \n",
    "\n",
    "            label = j\n",
    "\n",
    "            frames.append([LAx, LAy, LAz, GYx, GYy , GYz])\n",
    "            labels.append(label)\n",
    "\n",
    "    frames = np.asarray(frames).reshape(-1, frame_size, N_FEATURES)\n",
    "    labels = np.asarray(labels)\n",
    "    \n",
    "    return frames, labels"
   ]
  },
  {
   "cell_type": "code",
   "execution_count": 16,
   "id": "2f413414",
   "metadata": {},
   "outputs": [],
   "source": [
    "# X, y = get_frames(scaled_X,frame_size, hop_size)\n",
    "# X.shape, y.shape"
   ]
  },
  {
   "cell_type": "code",
   "execution_count": 17,
   "id": "0b04449b",
   "metadata": {},
   "outputs": [
    {
     "data": {
      "text/plain": [
       "((5985, 600, 6), (2498, 600, 6), (5985,), (2498,))"
      ]
     },
     "execution_count": 17,
     "metadata": {},
     "output_type": "execute_result"
    }
   ],
   "source": [
    "X_train_Unshuffeled,y_train_Unshuffeled = get_frames(df_train,frame_size,hop_size)\n",
    "X_test, y_test = get_frames(df_test,frame_size,hop_size)\n",
    "X_train_Unshuffeled.shape, X_test.shape, y_train_Unshuffeled.shape, y_test.shape"
   ]
  },
  {
   "cell_type": "code",
   "execution_count": null,
   "id": "abddbbfd",
   "metadata": {},
   "outputs": [],
   "source": []
  },
  {
   "cell_type": "code",
   "execution_count": 18,
   "id": "108951c0",
   "metadata": {},
   "outputs": [
    {
     "data": {
      "text/plain": [
       "((5386, 600, 6), (2498, 600, 6), (599, 600, 6))"
      ]
     },
     "execution_count": 18,
     "metadata": {},
     "output_type": "execute_result"
    }
   ],
   "source": [
    "# X_train_val, X_test, y_train_val, y_test = train_test_split(X, y, test_size = 0.3, random_state = 0, stratify = y)\n",
    "\n",
    "X_train, X_validation, y_train, y_validation = train_test_split(X_train_Unshuffeled, y_train_Unshuffeled, test_size = 0.1, random_state = 0, stratify = y_train_Unshuffeled)\n",
    "X_train.shape, X_test.shape, X_validation.shape"
   ]
  },
  {
   "cell_type": "code",
   "execution_count": 19,
   "id": "6a5c082c",
   "metadata": {},
   "outputs": [
    {
     "data": {
      "text/plain": [
       "((600, 6), (600, 6), (600, 6))"
      ]
     },
     "execution_count": 19,
     "metadata": {},
     "output_type": "execute_result"
    }
   ],
   "source": [
    "X_train[0].shape, X_test[0].shape, X_validation[0].shape"
   ]
  },
  {
   "cell_type": "code",
   "execution_count": 20,
   "id": "51c0e384",
   "metadata": {},
   "outputs": [
    {
     "data": {
      "text/plain": [
       "50"
      ]
     },
     "execution_count": 20,
     "metadata": {},
     "output_type": "execute_result"
    }
   ],
   "source": [
    "num = df_original['name'].iloc[-1]\n",
    "num "
   ]
  },
  {
   "cell_type": "code",
   "execution_count": 21,
   "id": "3cf0350d",
   "metadata": {},
   "outputs": [],
   "source": [
    "# Subtract 1 from each label in y_train\n",
    "y_train = np.array(y_train) - 1\n",
    "y_test = np.array(y_test) - 1\n",
    "y_validation = np.array(y_validation) - 1"
   ]
  },
  {
   "cell_type": "code",
   "execution_count": 22,
   "id": "29b2a405",
   "metadata": {},
   "outputs": [
    {
     "data": {
      "text/plain": [
       "((5386,), (2498,), (599,))"
      ]
     },
     "execution_count": 22,
     "metadata": {},
     "output_type": "execute_result"
    }
   ],
   "source": [
    "y_train.shape, y_test.shape, y_validation.shape"
   ]
  },
  {
   "cell_type": "code",
   "execution_count": 23,
   "id": "9afa305f",
   "metadata": {},
   "outputs": [],
   "source": [
    "y_train_o = np.eye(50)[y_train]\n",
    "y_test_o = np.eye(50)[y_test]\n",
    "y_validation_o = np.eye(50)[y_validation]"
   ]
  },
  {
   "cell_type": "code",
   "execution_count": 24,
   "id": "d6cf3a75",
   "metadata": {},
   "outputs": [
    {
     "data": {
      "text/plain": [
       "((5386, 50), (599, 50), (599, 50))"
      ]
     },
     "execution_count": 24,
     "metadata": {},
     "output_type": "execute_result"
    }
   ],
   "source": [
    "y_train_o.shape, y_validation_o.shape, y_validation_o.shape"
   ]
  },
  {
   "cell_type": "code",
   "execution_count": 25,
   "id": "d1ef3d9f",
   "metadata": {},
   "outputs": [],
   "source": [
    "# tut\n",
    "# model = Sequential()\n",
    "# model.add(Conv1D(filters=64, kernel_size=3, activation='relu', input_shape=X_train[0].shape))\n",
    "# model.add(Conv1D(filters=64, kernel_size=3, activation='relu'))\n",
    "# model.add(Dropout(0.5))\n",
    "# model.add(MaxPooling1D(pool_size=2))\n",
    "# model.add(Flatten())\n",
    "# model.add(Dense(100, activation='relu'))\n",
    "# model.add(Dense(50, activation='softmax'))\n"
   ]
  },
  {
   "cell_type": "code",
   "execution_count": 289,
   "id": "0ad93d03",
   "metadata": {},
   "outputs": [],
   "source": [
    "# num_classes = 51  # Including the unknown class\n",
    "\n",
    "# # Convert your labels to include the unknown class\n",
    "# y_train_with_unknown = y_train.copy()  # Make a copy of the original labels\n",
    "# y_train_with_unknown[y_train_with_unknown > num_classes-2] = num_classes-1  # Set labels above num_classes-2 to the unknown class label"
   ]
  },
  {
   "cell_type": "code",
   "execution_count": 290,
   "id": "b38f479a",
   "metadata": {},
   "outputs": [],
   "source": [
    "# chatgpt\n",
    "model = Sequential()\n",
    "model.add(Conv1D(filters=32, kernel_size=3, activation='relu', input_shape=X_train[0].shape))\n",
    "model.add(MaxPooling1D(pool_size=2))\n",
    "model.add(Conv1D(filters=64, kernel_size=3, activation='relu'))\n",
    "model.add(MaxPooling1D(pool_size=2))\n",
    "model.add(Conv1D(filters=128, kernel_size=3, activation='relu'))\n",
    "model.add(MaxPooling1D(pool_size=2))\n",
    "model.add(Flatten())\n",
    "model.add(Dense(256, activation='relu'))\n",
    "model.add(Dropout(0.5))\n",
    "model.add(Dense(50, activation='softmax'))"
   ]
  },
  {
   "cell_type": "code",
   "execution_count": 291,
   "id": "d0bd6810",
   "metadata": {},
   "outputs": [
    {
     "name": "stdout",
     "output_type": "stream",
     "text": [
      "Model: \"sequential_1\"\n",
      "___________________________________________________________________________\n",
      " Layer (type)                    Output Shape                  Param #     \n",
      "===========================================================================\n",
      " conv1d_3 (Conv1D)               (None, 598, 32)               608         \n",
      "                                                                           \n",
      " max_pooling1d_3 (MaxPooling1D)  (None, 299, 32)               0           \n",
      "                                                                           \n",
      " conv1d_4 (Conv1D)               (None, 297, 64)               6208        \n",
      "                                                                           \n",
      " max_pooling1d_4 (MaxPooling1D)  (None, 148, 64)               0           \n",
      "                                                                           \n",
      " conv1d_5 (Conv1D)               (None, 146, 128)              24704       \n",
      "                                                                           \n",
      " max_pooling1d_5 (MaxPooling1D)  (None, 73, 128)               0           \n",
      "                                                                           \n",
      " flatten_1 (Flatten)             (None, 9344)                  0           \n",
      "                                                                           \n",
      " dense_2 (Dense)                 (None, 256)                   2392320     \n",
      "                                                                           \n",
      " dropout_1 (Dropout)             (None, 256)                   0           \n",
      "                                                                           \n",
      " dense_3 (Dense)                 (None, 51)                    13107       \n",
      "                                                                           \n",
      "===========================================================================\n",
      "Total params: 2,436,947\n",
      "Trainable params: 2,436,947\n",
      "Non-trainable params: 0\n",
      "___________________________________________________________________________\n"
     ]
    }
   ],
   "source": [
    "model.summary(line_length = 75)"
   ]
  },
  {
   "cell_type": "code",
   "execution_count": 292,
   "id": "d4bd648e",
   "metadata": {},
   "outputs": [],
   "source": [
    "model.compile(optimizer=Adam(learning_rate = 0.001), loss=tf.keras.losses.SparseCategoricalCrossentropy(), metrics = ['accuracy'])"
   ]
  },
  {
   "cell_type": "code",
   "execution_count": 293,
   "id": "48a91cb0",
   "metadata": {},
   "outputs": [],
   "source": [
    "early_stopping = tf.keras.callbacks.EarlyStopping(\n",
    "    monitor = 'val_loss',\n",
    "    mode = 'auto',\n",
    "    min_delta = 0,\n",
    "    patience = 2,\n",
    "    verbose = 0,\n",
    "    restore_best_weights = True\n",
    ")"
   ]
  },
  {
   "cell_type": "code",
   "execution_count": 294,
   "id": "319eff8f",
   "metadata": {
    "scrolled": false
   },
   "outputs": [
    {
     "name": "stdout",
     "output_type": "stream",
     "text": [
      "Epoch 1/30\n",
      "169/169 [==============================] - 9s 48ms/step - loss: 2.2552 - accuracy: 0.4226 - val_loss: 0.5143 - val_accuracy: 0.8514\n",
      "Epoch 2/30\n",
      "169/169 [==============================] - 8s 47ms/step - loss: 0.5680 - accuracy: 0.8171 - val_loss: 0.2251 - val_accuracy: 0.8948\n",
      "Epoch 3/30\n",
      "169/169 [==============================] - 8s 47ms/step - loss: 0.2983 - accuracy: 0.8784 - val_loss: 0.1962 - val_accuracy: 0.8998\n",
      "Epoch 4/30\n",
      "169/169 [==============================] - 8s 47ms/step - loss: 0.2108 - accuracy: 0.9005 - val_loss: 0.1840 - val_accuracy: 0.9032\n",
      "Epoch 5/30\n",
      "169/169 [==============================] - 8s 47ms/step - loss: 0.1782 - accuracy: 0.9087 - val_loss: 0.1771 - val_accuracy: 0.9065\n",
      "Epoch 6/30\n",
      "169/169 [==============================] - 8s 47ms/step - loss: 0.1582 - accuracy: 0.9137 - val_loss: 0.1703 - val_accuracy: 0.9165\n",
      "Epoch 7/30\n",
      "169/169 [==============================] - 8s 48ms/step - loss: 0.1477 - accuracy: 0.9228 - val_loss: 0.1645 - val_accuracy: 0.9149\n",
      "Epoch 8/30\n",
      "169/169 [==============================] - 8s 50ms/step - loss: 0.1479 - accuracy: 0.9172 - val_loss: 0.1794 - val_accuracy: 0.9165\n",
      "Epoch 9/30\n",
      "169/169 [==============================] - 8s 49ms/step - loss: 0.1377 - accuracy: 0.9196 - val_loss: 0.1659 - val_accuracy: 0.9165\n"
     ]
    }
   ],
   "source": [
    "history = model.fit(X_train, y_train, epochs = 30,callbacks = [early_stopping], \n",
    "                    validation_data= (X_validation, y_validation), verbose=1)"
   ]
  },
  {
   "cell_type": "code",
   "execution_count": 295,
   "id": "2f0f7151",
   "metadata": {},
   "outputs": [
    {
     "name": "stdout",
     "output_type": "stream",
     "text": [
      "79/79 [==============================] - 1s 10ms/step - loss: 0.2210 - accuracy: 0.9107\n",
      "Test loss:  0.2210. Test accuracy:  91.07%\n"
     ]
    }
   ],
   "source": [
    "test_loss, test_accuracy = model.evaluate(X_test, y_test)\n",
    "print('Test loss: {0: .4f}. Test accuracy: {1: .2f}%'.format(test_loss, test_accuracy*100))"
   ]
  },
  {
   "cell_type": "code",
   "execution_count": 296,
   "id": "b17fd18a",
   "metadata": {},
   "outputs": [
    {
     "data": {
      "text/plain": [
       "((1544, 600, 6), (1544,))"
      ]
     },
     "execution_count": 296,
     "metadata": {},
     "output_type": "execute_result"
    }
   ],
   "source": [
    "X_unk,y_unk = get_frames(df_unk,frame_size,hop_size)\n",
    "X_unk.shape, y_unk.shape"
   ]
  },
  {
   "cell_type": "code",
   "execution_count": 297,
   "id": "960dbcc2",
   "metadata": {},
   "outputs": [],
   "source": [
    "y_unk = y_unk -1"
   ]
  },
  {
   "cell_type": "code",
   "execution_count": 304,
   "id": "884e4792",
   "metadata": {},
   "outputs": [],
   "source": [
    "y_unk_done = np.full(len(y_unk), 49)"
   ]
  },
  {
   "cell_type": "code",
   "execution_count": 305,
   "id": "b0fcf6ee",
   "metadata": {},
   "outputs": [
    {
     "data": {
      "text/plain": [
       "(1544,)"
      ]
     },
     "execution_count": 305,
     "metadata": {},
     "output_type": "execute_result"
    }
   ],
   "source": [
    "y_unk_done.shape"
   ]
  },
  {
   "cell_type": "code",
   "execution_count": 306,
   "id": "e326a0dc",
   "metadata": {},
   "outputs": [
    {
     "name": "stdout",
     "output_type": "stream",
     "text": [
      "49/49 [==============================] - 1s 10ms/step - loss: 15.0269 - accuracy: 0.0000e+00\n",
      "Test loss:  15.0269. Test accuracy:  0.00%\n"
     ]
    }
   ],
   "source": [
    "test_loss, test_accuracy = model.evaluate(X_unk, y_unk_done)\n",
    "print('Test loss: {0: .4f}. Test accuracy: {1: .2f}%'.format(test_loss, test_accuracy*100))"
   ]
  },
  {
   "cell_type": "code",
   "execution_count": 307,
   "id": "c7a5f826",
   "metadata": {
    "scrolled": true
   },
   "outputs": [
    {
     "data": {
      "text/plain": [
       "43"
      ]
     },
     "execution_count": 307,
     "metadata": {},
     "output_type": "execute_result"
    }
   ],
   "source": [
    "unique_names_known = np.unique(y_test)\n",
    "# unique_names_known = unique_names_known-1\n",
    "len(unique_names_known)"
   ]
  },
  {
   "cell_type": "code",
   "execution_count": 49,
   "id": "d1e5ac0c",
   "metadata": {},
   "outputs": [
    {
     "data": {
      "text/plain": [
       "array([ 0,  2,  3,  4,  6,  7,  8,  9, 11, 12, 13, 14, 15, 16, 17, 18, 19,\n",
       "       20, 21, 23, 24, 25, 26, 27, 28, 29, 30, 31, 32, 34, 35, 36, 37, 38,\n",
       "       39, 40, 41, 42, 43, 45, 46, 47, 49])"
      ]
     },
     "execution_count": 49,
     "metadata": {},
     "output_type": "execute_result"
    }
   ],
   "source": [
    "unique_names_known"
   ]
  },
  {
   "cell_type": "code",
   "execution_count": null,
   "id": "2b89e400",
   "metadata": {},
   "outputs": [],
   "source": [
    "# indices = np.where(y_test == user)[0]\n",
    "#     X_test_user = X_test[indices]\n",
    "#     y_test_user = y_test[indices]\n",
    "#     test_loss, test_accuracy = model.evaluate(X_test_user, y_test_user)\n",
    "#     arr[user] = test_accuracy"
   ]
  },
  {
   "cell_type": "code",
   "execution_count": 54,
   "id": "f49dfff2",
   "metadata": {
    "scrolled": true
   },
   "outputs": [],
   "source": [
    "# arr = np.empty(50)\n",
    "# for user in unique_names_known:\n",
    "#     indices = np.where(y_test == user)[0]\n",
    "#     X_test_user = X_test[indices]\n",
    "#     y_test_user = y_test[indices]\n",
    "#     test_loss, test_accuracy = model.evaluate(X_test_user, y_test_user)\n",
    "#     arr[user] = test_accuracy"
   ]
  },
  {
   "cell_type": "code",
   "execution_count": 53,
   "id": "978fc1d2",
   "metadata": {},
   "outputs": [
    {
     "data": {
      "text/plain": [
       "(50,)"
      ]
     },
     "execution_count": 53,
     "metadata": {},
     "output_type": "execute_result"
    }
   ],
   "source": [
    "# arr.shape"
   ]
  },
  {
   "cell_type": "code",
   "execution_count": 89,
   "id": "7ea256e4",
   "metadata": {},
   "outputs": [
    {
     "name": "stdout",
     "output_type": "stream",
     "text": [
      "79/79 [==============================] - 1s 13ms/step\n"
     ]
    },
    {
     "data": {
      "text/plain": [
       "(2498, 50)"
      ]
     },
     "execution_count": 89,
     "metadata": {},
     "output_type": "execute_result"
    }
   ],
   "source": [
    "predictions_proba = model.predict(X_test)\n",
    "predictions.shape"
   ]
  },
  {
   "cell_type": "code",
   "execution_count": 90,
   "id": "5496a245",
   "metadata": {},
   "outputs": [
    {
     "data": {
      "text/plain": [
       "0"
      ]
     },
     "execution_count": 90,
     "metadata": {},
     "output_type": "execute_result"
    }
   ],
   "source": [
    "y_test[0]"
   ]
  },
  {
   "cell_type": "code",
   "execution_count": 91,
   "id": "efd54c2b",
   "metadata": {
    "scrolled": true
   },
   "outputs": [
    {
     "data": {
      "text/plain": [
       "array([1.00000000e+00, 0.00000000e+00, 2.40253554e-25, 1.63552695e-25,\n",
       "       9.16039009e-24, 0.00000000e+00, 1.61275418e-30, 3.11709696e-37,\n",
       "       1.03245021e-26, 4.41093350e-35, 0.00000000e+00, 2.32445184e-20,\n",
       "       2.48606725e-22, 2.68766194e-35, 1.06965480e-17, 2.72452650e-26,\n",
       "       1.06759319e-30, 4.87621929e-29, 9.29568363e-36, 3.28672704e-29,\n",
       "       2.26505938e-36, 6.61106047e-38, 2.03429147e-38, 0.00000000e+00,\n",
       "       1.74271527e-27, 5.81762587e-20, 8.21298508e-38, 4.11225777e-35,\n",
       "       7.13469258e-31, 1.43977799e-33, 3.78488105e-34, 2.56915427e-15,\n",
       "       6.54696365e-23, 0.00000000e+00, 1.13264371e-21, 8.54595114e-31,\n",
       "       1.01538533e-19, 5.46232633e-25, 6.11921731e-33, 3.85719710e-31,\n",
       "       4.18221404e-35, 1.94080619e-33, 4.24575686e-28, 0.00000000e+00,\n",
       "       0.00000000e+00, 3.03950783e-35, 5.57566585e-20, 1.04083925e-23,\n",
       "       5.09482440e-34, 0.00000000e+00], dtype=float32)"
      ]
     },
     "execution_count": 91,
     "metadata": {},
     "output_type": "execute_result"
    }
   ],
   "source": [
    "predictions_proba[0]"
   ]
  },
  {
   "cell_type": "code",
   "execution_count": 121,
   "id": "c32436cc",
   "metadata": {},
   "outputs": [
    {
     "name": "stdout",
     "output_type": "stream",
     "text": [
      "79/79 [==============================] - 1s 13ms/step\n"
     ]
    }
   ],
   "source": [
    "##Known\n",
    "predictions_proba = model.predict(X_test)\n",
    "predictions.shape\n",
    "\n",
    "true_pred_prob = []\n",
    "false_pred_prob = []\n",
    "true_pred_sec_prob = []\n",
    "true_pred_third_prob = []\n",
    "true_pred_fourth_prob = []\n",
    "false_pred_sec_prob = []\n",
    "true_pred_diff_f_s = []\n",
    "false_pred_diff_f_s = []\n",
    "for i in range (0,predictions_proba.shape[0]):\n",
    "    probs_i = predictions_proba[i]\n",
    "    pred_class = np.argmax(probs_i)\n",
    "    true_class = y_test[i]##manual\n",
    "    pred = probs_i[pred_class]\n",
    "    probs_i[pred_class] = np.min(probs_i) - 1\n",
    "    sec_pred = np.max(probs_i)\n",
    "    \n",
    "    sec_pred_class = np.argmax(probs_i)\n",
    "    probs_i[sec_pred_class] = np.min(probs_i) - 1\n",
    "    third_pred = np.max(probs_i)\n",
    "    \n",
    "    third_pred_class = np.argmax(probs_i)\n",
    "    probs_i[third_pred_class] = np.min(probs_i) - 1\n",
    "    fourth_pred = np.max(probs_i)\n",
    "    \n",
    "    \n",
    "    if(pred_class == true_class):#true_pred\n",
    "        true_pred_prob.append(pred)\n",
    "        true_pred_sec_prob.append(sec_pred)\n",
    "        \n",
    "        true_pred_third_prob.append(third_pred)\n",
    "        true_pred_fourth_prob.append(fourth_pred)\n",
    "        \n",
    "        true_pred_diff_f_s.append(pred-sec_pred)\n",
    "    else:\n",
    "        false_pred_prob.append(pred)\n",
    "        false_pred_sec_prob.append(sec_pred)\n",
    "        false_pred_diff_f_s.append(pred-sec_pred)\n",
    "    "
   ]
  },
  {
   "cell_type": "code",
   "execution_count": 122,
   "id": "1c14dff4",
   "metadata": {},
   "outputs": [
    {
     "data": {
      "text/plain": [
       "0.0002736781"
      ]
     },
     "execution_count": 122,
     "metadata": {},
     "output_type": "execute_result"
    }
   ],
   "source": [
    "np.mean(true_pred_fourth_prob)"
   ]
  },
  {
   "cell_type": "code",
   "execution_count": 118,
   "id": "87d45e22",
   "metadata": {
    "scrolled": true
   },
   "outputs": [
    {
     "name": "stdout",
     "output_type": "stream",
     "text": [
      "49/49 [==============================] - 1s 13ms/step\n"
     ]
    },
    {
     "data": {
      "text/plain": [
       "(1544, 50)"
      ]
     },
     "execution_count": 118,
     "metadata": {},
     "output_type": "execute_result"
    }
   ],
   "source": [
    "predictions_proba_unk = model.predict(X_unk)\n",
    "predictions_proba_unk.shape"
   ]
  },
  {
   "cell_type": "code",
   "execution_count": 119,
   "id": "a0c6e761",
   "metadata": {},
   "outputs": [],
   "source": [
    "# ##UNKnown\n",
    "# predictions_proba_unk = model.predict(X_unk)\n",
    "# predictions_proba_unk.shape\n",
    "\n",
    "# true_pred_prob_unk = []\n",
    "# false_pred_prob_unk = []\n",
    "# true_pred_sec_prob_unk = []\n",
    "# false_pred_sec_prob_unk = []\n",
    "# false_pred_third_prob_unk = []\n",
    "# false_pred_fourth_prob_unk = []\n",
    "# true_pred_diff_f_s_unk = []\n",
    "# false_pred_diff_f_s_unk = []\n",
    "# for i_unk in range(0, predictions_proba_unk.shape[0]):\n",
    "#     probs_i_unk = predictions_proba_unk[i_unk]\n",
    "#     pred_class_unk = np.argmax(probs_i_unk)\n",
    "#     true_class_unk = y_unk[i_unk]##manual_unk\n",
    "#     pred_unk = probs_i_unk[pred_class_unk]\n",
    "#     probs_i_unk[probs_i_unk == pred_unk] = np.min(probs_i_unk) - 1\n",
    "#     sec_pred_unk = np.max(probs_i_unk)\n",
    "#     if pred_class_unk == true_class_unk:  # true_pred_unk\n",
    "#         true_pred_prob_unk.append(pred_unk)\n",
    "#         true_pred_sec_prob_unk.append(sec_pred_unk)\n",
    "#         true_pred_diff_f_s_unk.append(pred_unk - sec_pred_unk)\n",
    "#     else:\n",
    "#         false_pred_prob_unk.append(pred_unk)\n",
    "#         false_pred_sec_prob_unk.append(sec_pred_unk)\n",
    "#         false_pred_diff_f_s_unk.append(pred_unk - sec_pred_unk)"
   ]
  },
  {
   "cell_type": "code",
   "execution_count": null,
   "id": "86ecc148",
   "metadata": {},
   "outputs": [],
   "source": []
  },
  {
   "cell_type": "code",
   "execution_count": 123,
   "id": "b1dbd2ff",
   "metadata": {},
   "outputs": [
    {
     "name": "stdout",
     "output_type": "stream",
     "text": [
      "49/49 [==============================] - 1s 13ms/step\n"
     ]
    }
   ],
   "source": [
    "##UNKnown\n",
    "predictions_proba_unk = model.predict(X_unk)\n",
    "predictions_proba_unk.shape\n",
    "\n",
    "true_pred_prob_unk = []\n",
    "false_pred_prob_unk = []\n",
    "true_pred_sec_prob_unk = []\n",
    "false_pred_third_prob_unk = []\n",
    "false_pred_fourth_prob_unk = []\n",
    "false_pred_sec_prob_unk = []\n",
    "true_pred_diff_f_s_unk = []\n",
    "false_pred_diff_f_s_unk = []\n",
    "for i_unk in range(0, predictions_proba_unk.shape[0]):\n",
    "    probs_i_unk = predictions_proba_unk[i_unk]\n",
    "    pred_class_unk = np.argmax(probs_i_unk)\n",
    "    true_class_unk = y_unk[i_unk]##manual_unk\n",
    "    pred_unk = probs_i_unk[pred_class_unk]\n",
    "    probs_i_unk[pred_class_unk] = np.min(probs_i_unk) - 1\n",
    "    sec_pred_unk = np.max(probs_i_unk)\n",
    "    \n",
    "    sec_pred_class_unk = np.argmax(probs_i_unk)\n",
    "    probs_i_unk[sec_pred_class_unk] = np.min(probs_i_unk) - 1\n",
    "    third_pred_unk = np.max(probs_i_unk)\n",
    "    \n",
    "    third_pred_class_unk = np.argmax(probs_i_unk)\n",
    "    probs_i_unk[third_pred_class_unk] = np.min(probs_i_unk) - 1\n",
    "    fourth_pred_unk = np.max(probs_i_unk)\n",
    "    \n",
    "    \n",
    "    if pred_class_unk == true_class_unk:  # true_pred_unk\n",
    "        true_pred_prob_unk.append(pred_unk)\n",
    "        true_pred_sec_prob_unk.append(sec_pred_unk)\n",
    "        \n",
    "        true_pred_third_prob_unk.append(third_pred_unk)\n",
    "        true_pred_fourth_prob_unk.append(fourth_pred_unk)\n",
    "        \n",
    "        true_pred_diff_f_s_unk.append(pred_unk - sec_pred_unk)\n",
    "    else:\n",
    "        false_pred_prob_unk.append(pred_unk)\n",
    "        false_pred_sec_prob_unk.append(sec_pred_unk)\n",
    "        \n",
    "        false_pred_third_prob_unk.append(third_pred_unk)\n",
    "        false_pred_fourth_prob_unk.append(fourth_pred_unk)\n",
    "        \n",
    "        false_pred_diff_f_s_unk.append(pred_unk - sec_pred_unk)"
   ]
  },
  {
   "cell_type": "code",
   "execution_count": null,
   "id": "45c94f8c",
   "metadata": {},
   "outputs": [],
   "source": []
  },
  {
   "cell_type": "code",
   "execution_count": 208,
   "id": "2d869c42",
   "metadata": {
    "scrolled": true
   },
   "outputs": [
    {
     "data": {
      "text/plain": [
       "0.573191"
      ]
     },
     "execution_count": 208,
     "metadata": {},
     "output_type": "execute_result"
    }
   ],
   "source": [
    "np.mean(false_pred_prob)"
   ]
  },
  {
   "cell_type": "code",
   "execution_count": 207,
   "id": "8a876a50",
   "metadata": {},
   "outputs": [
    {
     "data": {
      "text/plain": [
       "0.36867774"
      ]
     },
     "execution_count": 207,
     "metadata": {},
     "output_type": "execute_result"
    }
   ],
   "source": [
    "np.mean(false_pred_sec_prob)"
   ]
  },
  {
   "cell_type": "code",
   "execution_count": 209,
   "id": "8a818466",
   "metadata": {},
   "outputs": [
    {
     "data": {
      "text/plain": [
       "0.20451327"
      ]
     },
     "execution_count": 209,
     "metadata": {},
     "output_type": "execute_result"
    }
   ],
   "source": [
    "np.mean(false_pred_diff_f_s)"
   ]
  },
  {
   "cell_type": "code",
   "execution_count": null,
   "id": "52cb841f",
   "metadata": {},
   "outputs": [],
   "source": []
  },
  {
   "cell_type": "code",
   "execution_count": 126,
   "id": "a9515f2c",
   "metadata": {},
   "outputs": [
    {
     "data": {
      "text/plain": [
       "0.00074953766"
      ]
     },
     "execution_count": 126,
     "metadata": {},
     "output_type": "execute_result"
    }
   ],
   "source": [
    "np.mean(true_pred_third_prob)"
   ]
  },
  {
   "cell_type": "code",
   "execution_count": 111,
   "id": "7f4c2a99",
   "metadata": {},
   "outputs": [
    {
     "data": {
      "text/plain": [
       "0.961404"
      ]
     },
     "execution_count": 111,
     "metadata": {},
     "output_type": "execute_result"
    }
   ],
   "source": [
    "np.mean(true_pred_prob)"
   ]
  },
  {
   "cell_type": "code",
   "execution_count": 112,
   "id": "9b809e5f",
   "metadata": {},
   "outputs": [
    {
     "data": {
      "text/plain": [
       "0.036883198"
      ]
     },
     "execution_count": 112,
     "metadata": {},
     "output_type": "execute_result"
    }
   ],
   "source": [
    "np.mean(true_pred_sec_prob)"
   ]
  },
  {
   "cell_type": "code",
   "execution_count": 113,
   "id": "7a909dbf",
   "metadata": {
    "scrolled": true
   },
   "outputs": [
    {
     "data": {
      "text/plain": [
       "0.92452085"
      ]
     },
     "execution_count": 113,
     "metadata": {},
     "output_type": "execute_result"
    }
   ],
   "source": [
    "np.mean(true_pred_diff_f_s)"
   ]
  },
  {
   "cell_type": "code",
   "execution_count": 129,
   "id": "91d840f1",
   "metadata": {},
   "outputs": [
    {
     "data": {
      "text/plain": [
       "2281"
      ]
     },
     "execution_count": 129,
     "metadata": {},
     "output_type": "execute_result"
    }
   ],
   "source": [
    "len(true_pred_sec_prob)"
   ]
  },
  {
   "cell_type": "code",
   "execution_count": 133,
   "id": "8b2bc5dc",
   "metadata": {},
   "outputs": [
    {
     "data": {
      "text/plain": [
       "3.3393174e-08"
      ]
     },
     "execution_count": 133,
     "metadata": {},
     "output_type": "execute_result"
    }
   ],
   "source": [
    "true_pred_sec_prob[34]"
   ]
  },
  {
   "cell_type": "code",
   "execution_count": null,
   "id": "4fcdbd72",
   "metadata": {},
   "outputs": [],
   "source": []
  },
  {
   "cell_type": "code",
   "execution_count": 142,
   "id": "f17901ae",
   "metadata": {},
   "outputs": [
    {
     "data": {
      "text/html": [
       "<div>\n",
       "<style scoped>\n",
       "    .dataframe tbody tr th:only-of-type {\n",
       "        vertical-align: middle;\n",
       "    }\n",
       "\n",
       "    .dataframe tbody tr th {\n",
       "        vertical-align: top;\n",
       "    }\n",
       "\n",
       "    .dataframe thead th {\n",
       "        text-align: right;\n",
       "    }\n",
       "</style>\n",
       "<table border=\"1\" class=\"dataframe\">\n",
       "  <thead>\n",
       "    <tr style=\"text-align: right;\">\n",
       "      <th></th>\n",
       "      <th>1st prob</th>\n",
       "      <th>2nd prob</th>\n",
       "      <th>3rd prob</th>\n",
       "      <th>4th prob</th>\n",
       "      <th>1st 2nd diff</th>\n",
       "    </tr>\n",
       "  </thead>\n",
       "  <tbody>\n",
       "  </tbody>\n",
       "</table>\n",
       "</div>"
      ],
      "text/plain": [
       "Empty DataFrame\n",
       "Columns: [1st prob, 2nd prob, 3rd prob, 4th prob, 1st 2nd diff]\n",
       "Index: []"
      ]
     },
     "execution_count": 142,
     "metadata": {},
     "output_type": "execute_result"
    }
   ],
   "source": [
    "known_stats = pd.DataFrame(columns=['1st prob','2nd prob','3rd prob', '4th prob', '1st 2nd diff'])\n",
    "known_stats"
   ]
  },
  {
   "cell_type": "code",
   "execution_count": 143,
   "id": "4f3437ce",
   "metadata": {},
   "outputs": [],
   "source": [
    "known_stats['1st prob'] = true_pred_prob\n",
    "known_stats['2nd prob'] = true_pred_sec_prob\n",
    "known_stats['3rd prob'] = true_pred_third_prob\n",
    "known_stats['4th prob'] = true_pred_fourth_prob\n",
    "known_stats['1st 2nd diff'] = true_pred_diff_f_s"
   ]
  },
  {
   "cell_type": "code",
   "execution_count": 144,
   "id": "8bed33fe",
   "metadata": {},
   "outputs": [
    {
     "data": {
      "text/html": [
       "<div>\n",
       "<style scoped>\n",
       "    .dataframe tbody tr th:only-of-type {\n",
       "        vertical-align: middle;\n",
       "    }\n",
       "\n",
       "    .dataframe tbody tr th {\n",
       "        vertical-align: top;\n",
       "    }\n",
       "\n",
       "    .dataframe thead th {\n",
       "        text-align: right;\n",
       "    }\n",
       "</style>\n",
       "<table border=\"1\" class=\"dataframe\">\n",
       "  <thead>\n",
       "    <tr style=\"text-align: right;\">\n",
       "      <th></th>\n",
       "      <th>1st prob</th>\n",
       "      <th>2nd prob</th>\n",
       "      <th>3rd prob</th>\n",
       "      <th>4th prob</th>\n",
       "      <th>1st 2nd diff</th>\n",
       "    </tr>\n",
       "  </thead>\n",
       "  <tbody>\n",
       "    <tr>\n",
       "      <th>0</th>\n",
       "      <td>1.000000</td>\n",
       "      <td>2.569154e-15</td>\n",
       "      <td>1.069655e-17</td>\n",
       "      <td>1.015385e-19</td>\n",
       "      <td>1.000000</td>\n",
       "    </tr>\n",
       "    <tr>\n",
       "      <th>1</th>\n",
       "      <td>1.000000</td>\n",
       "      <td>9.181203e-17</td>\n",
       "      <td>4.764545e-17</td>\n",
       "      <td>1.831186e-18</td>\n",
       "      <td>1.000000</td>\n",
       "    </tr>\n",
       "    <tr>\n",
       "      <th>2</th>\n",
       "      <td>1.000000</td>\n",
       "      <td>9.366868e-15</td>\n",
       "      <td>3.185045e-15</td>\n",
       "      <td>7.938947e-16</td>\n",
       "      <td>1.000000</td>\n",
       "    </tr>\n",
       "    <tr>\n",
       "      <th>3</th>\n",
       "      <td>1.000000</td>\n",
       "      <td>5.921017e-13</td>\n",
       "      <td>1.916357e-13</td>\n",
       "      <td>3.490659e-17</td>\n",
       "      <td>1.000000</td>\n",
       "    </tr>\n",
       "    <tr>\n",
       "      <th>4</th>\n",
       "      <td>1.000000</td>\n",
       "      <td>1.900935e-14</td>\n",
       "      <td>1.765402e-15</td>\n",
       "      <td>1.011946e-15</td>\n",
       "      <td>1.000000</td>\n",
       "    </tr>\n",
       "    <tr>\n",
       "      <th>...</th>\n",
       "      <td>...</td>\n",
       "      <td>...</td>\n",
       "      <td>...</td>\n",
       "      <td>...</td>\n",
       "      <td>...</td>\n",
       "    </tr>\n",
       "    <tr>\n",
       "      <th>2276</th>\n",
       "      <td>0.999850</td>\n",
       "      <td>1.383062e-04</td>\n",
       "      <td>5.963480e-06</td>\n",
       "      <td>5.255395e-06</td>\n",
       "      <td>0.999711</td>\n",
       "    </tr>\n",
       "    <tr>\n",
       "      <th>2277</th>\n",
       "      <td>0.999855</td>\n",
       "      <td>1.249712e-04</td>\n",
       "      <td>1.687434e-05</td>\n",
       "      <td>2.360714e-06</td>\n",
       "      <td>0.999730</td>\n",
       "    </tr>\n",
       "    <tr>\n",
       "      <th>2278</th>\n",
       "      <td>0.999981</td>\n",
       "      <td>1.786674e-05</td>\n",
       "      <td>9.050912e-07</td>\n",
       "      <td>5.556957e-07</td>\n",
       "      <td>0.999963</td>\n",
       "    </tr>\n",
       "    <tr>\n",
       "      <th>2279</th>\n",
       "      <td>0.999975</td>\n",
       "      <td>2.034598e-05</td>\n",
       "      <td>2.545200e-06</td>\n",
       "      <td>1.944344e-06</td>\n",
       "      <td>0.999954</td>\n",
       "    </tr>\n",
       "    <tr>\n",
       "      <th>2280</th>\n",
       "      <td>0.999894</td>\n",
       "      <td>8.487685e-05</td>\n",
       "      <td>1.118650e-05</td>\n",
       "      <td>8.344163e-06</td>\n",
       "      <td>0.999809</td>\n",
       "    </tr>\n",
       "  </tbody>\n",
       "</table>\n",
       "<p>2281 rows × 5 columns</p>\n",
       "</div>"
      ],
      "text/plain": [
       "      1st prob      2nd prob      3rd prob      4th prob  1st 2nd diff\n",
       "0     1.000000  2.569154e-15  1.069655e-17  1.015385e-19      1.000000\n",
       "1     1.000000  9.181203e-17  4.764545e-17  1.831186e-18      1.000000\n",
       "2     1.000000  9.366868e-15  3.185045e-15  7.938947e-16      1.000000\n",
       "3     1.000000  5.921017e-13  1.916357e-13  3.490659e-17      1.000000\n",
       "4     1.000000  1.900935e-14  1.765402e-15  1.011946e-15      1.000000\n",
       "...        ...           ...           ...           ...           ...\n",
       "2276  0.999850  1.383062e-04  5.963480e-06  5.255395e-06      0.999711\n",
       "2277  0.999855  1.249712e-04  1.687434e-05  2.360714e-06      0.999730\n",
       "2278  0.999981  1.786674e-05  9.050912e-07  5.556957e-07      0.999963\n",
       "2279  0.999975  2.034598e-05  2.545200e-06  1.944344e-06      0.999954\n",
       "2280  0.999894  8.487685e-05  1.118650e-05  8.344163e-06      0.999809\n",
       "\n",
       "[2281 rows x 5 columns]"
      ]
     },
     "execution_count": 144,
     "metadata": {},
     "output_type": "execute_result"
    }
   ],
   "source": [
    "known_stats"
   ]
  },
  {
   "cell_type": "code",
   "execution_count": null,
   "id": "e8e842f9",
   "metadata": {},
   "outputs": [],
   "source": []
  },
  {
   "cell_type": "code",
   "execution_count": 148,
   "id": "d417e692",
   "metadata": {},
   "outputs": [
    {
     "data": {
      "text/html": [
       "<div>\n",
       "<style scoped>\n",
       "    .dataframe tbody tr th:only-of-type {\n",
       "        vertical-align: middle;\n",
       "    }\n",
       "\n",
       "    .dataframe tbody tr th {\n",
       "        vertical-align: top;\n",
       "    }\n",
       "\n",
       "    .dataframe thead th {\n",
       "        text-align: right;\n",
       "    }\n",
       "</style>\n",
       "<table border=\"1\" class=\"dataframe\">\n",
       "  <thead>\n",
       "    <tr style=\"text-align: right;\">\n",
       "      <th></th>\n",
       "      <th>1st prob</th>\n",
       "      <th>2nd prob</th>\n",
       "      <th>3rd prob</th>\n",
       "      <th>4th prob</th>\n",
       "      <th>1st 2nd diff</th>\n",
       "    </tr>\n",
       "  </thead>\n",
       "  <tbody>\n",
       "  </tbody>\n",
       "</table>\n",
       "</div>"
      ],
      "text/plain": [
       "Empty DataFrame\n",
       "Columns: [1st prob, 2nd prob, 3rd prob, 4th prob, 1st 2nd diff]\n",
       "Index: []"
      ]
     },
     "execution_count": 148,
     "metadata": {},
     "output_type": "execute_result"
    }
   ],
   "source": [
    "unknown_stats = pd.DataFrame(columns=['1st prob','2nd prob','3rd prob', '4th prob', '1st 2nd diff'])\n",
    "unknown_stats"
   ]
  },
  {
   "cell_type": "code",
   "execution_count": 149,
   "id": "2e481662",
   "metadata": {},
   "outputs": [],
   "source": [
    "unknown_stats['1st prob'] = false_pred_prob_unk\n",
    "unknown_stats['2nd prob'] = false_pred_sec_prob_unk\n",
    "unknown_stats['3rd prob'] = false_pred_third_prob_unk\n",
    "unknown_stats['4th prob'] = false_pred_fourth_prob_unk\n",
    "unknown_stats['1st 2nd diff'] = false_pred_diff_f_s_unk"
   ]
  },
  {
   "cell_type": "code",
   "execution_count": 150,
   "id": "4a97fda6",
   "metadata": {},
   "outputs": [
    {
     "data": {
      "text/html": [
       "<div>\n",
       "<style scoped>\n",
       "    .dataframe tbody tr th:only-of-type {\n",
       "        vertical-align: middle;\n",
       "    }\n",
       "\n",
       "    .dataframe tbody tr th {\n",
       "        vertical-align: top;\n",
       "    }\n",
       "\n",
       "    .dataframe thead th {\n",
       "        text-align: right;\n",
       "    }\n",
       "</style>\n",
       "<table border=\"1\" class=\"dataframe\">\n",
       "  <thead>\n",
       "    <tr style=\"text-align: right;\">\n",
       "      <th></th>\n",
       "      <th>1st prob</th>\n",
       "      <th>2nd prob</th>\n",
       "      <th>3rd prob</th>\n",
       "      <th>4th prob</th>\n",
       "      <th>1st 2nd diff</th>\n",
       "    </tr>\n",
       "  </thead>\n",
       "  <tbody>\n",
       "    <tr>\n",
       "      <th>0</th>\n",
       "      <td>0.593002</td>\n",
       "      <td>0.345912</td>\n",
       "      <td>0.038111</td>\n",
       "      <td>0.013211</td>\n",
       "      <td>0.247090</td>\n",
       "    </tr>\n",
       "    <tr>\n",
       "      <th>1</th>\n",
       "      <td>0.541978</td>\n",
       "      <td>0.420911</td>\n",
       "      <td>0.015476</td>\n",
       "      <td>0.011653</td>\n",
       "      <td>0.121067</td>\n",
       "    </tr>\n",
       "    <tr>\n",
       "      <th>2</th>\n",
       "      <td>0.347032</td>\n",
       "      <td>0.334195</td>\n",
       "      <td>0.269061</td>\n",
       "      <td>0.033845</td>\n",
       "      <td>0.012837</td>\n",
       "    </tr>\n",
       "    <tr>\n",
       "      <th>3</th>\n",
       "      <td>0.437309</td>\n",
       "      <td>0.355056</td>\n",
       "      <td>0.119867</td>\n",
       "      <td>0.059642</td>\n",
       "      <td>0.082253</td>\n",
       "    </tr>\n",
       "    <tr>\n",
       "      <th>4</th>\n",
       "      <td>0.413710</td>\n",
       "      <td>0.357595</td>\n",
       "      <td>0.102216</td>\n",
       "      <td>0.072062</td>\n",
       "      <td>0.056115</td>\n",
       "    </tr>\n",
       "    <tr>\n",
       "      <th>...</th>\n",
       "      <td>...</td>\n",
       "      <td>...</td>\n",
       "      <td>...</td>\n",
       "      <td>...</td>\n",
       "      <td>...</td>\n",
       "    </tr>\n",
       "    <tr>\n",
       "      <th>1539</th>\n",
       "      <td>0.586925</td>\n",
       "      <td>0.114638</td>\n",
       "      <td>0.056713</td>\n",
       "      <td>0.047052</td>\n",
       "      <td>0.472287</td>\n",
       "    </tr>\n",
       "    <tr>\n",
       "      <th>1540</th>\n",
       "      <td>0.572853</td>\n",
       "      <td>0.088673</td>\n",
       "      <td>0.082685</td>\n",
       "      <td>0.058648</td>\n",
       "      <td>0.484179</td>\n",
       "    </tr>\n",
       "    <tr>\n",
       "      <th>1541</th>\n",
       "      <td>0.447126</td>\n",
       "      <td>0.131973</td>\n",
       "      <td>0.116881</td>\n",
       "      <td>0.087790</td>\n",
       "      <td>0.315153</td>\n",
       "    </tr>\n",
       "    <tr>\n",
       "      <th>1542</th>\n",
       "      <td>0.199276</td>\n",
       "      <td>0.162259</td>\n",
       "      <td>0.141670</td>\n",
       "      <td>0.079875</td>\n",
       "      <td>0.037018</td>\n",
       "    </tr>\n",
       "    <tr>\n",
       "      <th>1543</th>\n",
       "      <td>0.418776</td>\n",
       "      <td>0.088122</td>\n",
       "      <td>0.078106</td>\n",
       "      <td>0.077210</td>\n",
       "      <td>0.330654</td>\n",
       "    </tr>\n",
       "  </tbody>\n",
       "</table>\n",
       "<p>1544 rows × 5 columns</p>\n",
       "</div>"
      ],
      "text/plain": [
       "      1st prob  2nd prob  3rd prob  4th prob  1st 2nd diff\n",
       "0     0.593002  0.345912  0.038111  0.013211      0.247090\n",
       "1     0.541978  0.420911  0.015476  0.011653      0.121067\n",
       "2     0.347032  0.334195  0.269061  0.033845      0.012837\n",
       "3     0.437309  0.355056  0.119867  0.059642      0.082253\n",
       "4     0.413710  0.357595  0.102216  0.072062      0.056115\n",
       "...        ...       ...       ...       ...           ...\n",
       "1539  0.586925  0.114638  0.056713  0.047052      0.472287\n",
       "1540  0.572853  0.088673  0.082685  0.058648      0.484179\n",
       "1541  0.447126  0.131973  0.116881  0.087790      0.315153\n",
       "1542  0.199276  0.162259  0.141670  0.079875      0.037018\n",
       "1543  0.418776  0.088122  0.078106  0.077210      0.330654\n",
       "\n",
       "[1544 rows x 5 columns]"
      ]
     },
     "execution_count": 150,
     "metadata": {},
     "output_type": "execute_result"
    }
   ],
   "source": [
    "unknown_stats"
   ]
  },
  {
   "cell_type": "code",
   "execution_count": null,
   "id": "4cd7387d",
   "metadata": {},
   "outputs": [],
   "source": []
  },
  {
   "cell_type": "code",
   "execution_count": 152,
   "id": "2568592c",
   "metadata": {},
   "outputs": [],
   "source": [
    "known_stats_train, known_stats_test = train_test_split(known_stats, test_size = 0.3, random_state = 0)\n"
   ]
  },
  {
   "cell_type": "code",
   "execution_count": 284,
   "id": "a48fe4da",
   "metadata": {},
   "outputs": [
    {
     "data": {
      "text/html": [
       "<style>#sk-container-id-6 {color: black;background-color: white;}#sk-container-id-6 pre{padding: 0;}#sk-container-id-6 div.sk-toggleable {background-color: white;}#sk-container-id-6 label.sk-toggleable__label {cursor: pointer;display: block;width: 100%;margin-bottom: 0;padding: 0.3em;box-sizing: border-box;text-align: center;}#sk-container-id-6 label.sk-toggleable__label-arrow:before {content: \"▸\";float: left;margin-right: 0.25em;color: #696969;}#sk-container-id-6 label.sk-toggleable__label-arrow:hover:before {color: black;}#sk-container-id-6 div.sk-estimator:hover label.sk-toggleable__label-arrow:before {color: black;}#sk-container-id-6 div.sk-toggleable__content {max-height: 0;max-width: 0;overflow: hidden;text-align: left;background-color: #f0f8ff;}#sk-container-id-6 div.sk-toggleable__content pre {margin: 0.2em;color: black;border-radius: 0.25em;background-color: #f0f8ff;}#sk-container-id-6 input.sk-toggleable__control:checked~div.sk-toggleable__content {max-height: 200px;max-width: 100%;overflow: auto;}#sk-container-id-6 input.sk-toggleable__control:checked~label.sk-toggleable__label-arrow:before {content: \"▾\";}#sk-container-id-6 div.sk-estimator input.sk-toggleable__control:checked~label.sk-toggleable__label {background-color: #d4ebff;}#sk-container-id-6 div.sk-label input.sk-toggleable__control:checked~label.sk-toggleable__label {background-color: #d4ebff;}#sk-container-id-6 input.sk-hidden--visually {border: 0;clip: rect(1px 1px 1px 1px);clip: rect(1px, 1px, 1px, 1px);height: 1px;margin: -1px;overflow: hidden;padding: 0;position: absolute;width: 1px;}#sk-container-id-6 div.sk-estimator {font-family: monospace;background-color: #f0f8ff;border: 1px dotted black;border-radius: 0.25em;box-sizing: border-box;margin-bottom: 0.5em;}#sk-container-id-6 div.sk-estimator:hover {background-color: #d4ebff;}#sk-container-id-6 div.sk-parallel-item::after {content: \"\";width: 100%;border-bottom: 1px solid gray;flex-grow: 1;}#sk-container-id-6 div.sk-label:hover label.sk-toggleable__label {background-color: #d4ebff;}#sk-container-id-6 div.sk-serial::before {content: \"\";position: absolute;border-left: 1px solid gray;box-sizing: border-box;top: 0;bottom: 0;left: 50%;z-index: 0;}#sk-container-id-6 div.sk-serial {display: flex;flex-direction: column;align-items: center;background-color: white;padding-right: 0.2em;padding-left: 0.2em;position: relative;}#sk-container-id-6 div.sk-item {position: relative;z-index: 1;}#sk-container-id-6 div.sk-parallel {display: flex;align-items: stretch;justify-content: center;background-color: white;position: relative;}#sk-container-id-6 div.sk-item::before, #sk-container-id-6 div.sk-parallel-item::before {content: \"\";position: absolute;border-left: 1px solid gray;box-sizing: border-box;top: 0;bottom: 0;left: 50%;z-index: -1;}#sk-container-id-6 div.sk-parallel-item {display: flex;flex-direction: column;z-index: 1;position: relative;background-color: white;}#sk-container-id-6 div.sk-parallel-item:first-child::after {align-self: flex-end;width: 50%;}#sk-container-id-6 div.sk-parallel-item:last-child::after {align-self: flex-start;width: 50%;}#sk-container-id-6 div.sk-parallel-item:only-child::after {width: 0;}#sk-container-id-6 div.sk-dashed-wrapped {border: 1px dashed gray;margin: 0 0.4em 0.5em 0.4em;box-sizing: border-box;padding-bottom: 0.4em;background-color: white;}#sk-container-id-6 div.sk-label label {font-family: monospace;font-weight: bold;display: inline-block;line-height: 1.2em;}#sk-container-id-6 div.sk-label-container {text-align: center;}#sk-container-id-6 div.sk-container {/* jupyter's `normalize.less` sets `[hidden] { display: none; }` but bootstrap.min.css set `[hidden] { display: none !important; }` so we also need the `!important` here to be able to override the default hidden behavior on the sphinx rendered scikit-learn.org. See: https://github.com/scikit-learn/scikit-learn/issues/21755 */display: inline-block !important;position: relative;}#sk-container-id-6 div.sk-text-repr-fallback {display: none;}</style><div id=\"sk-container-id-6\" class=\"sk-top-container\"><div class=\"sk-text-repr-fallback\"><pre>OneClassSVM(kernel=&#x27;linear&#x27;, nu=0.2)</pre><b>In a Jupyter environment, please rerun this cell to show the HTML representation or trust the notebook. <br />On GitHub, the HTML representation is unable to render, please try loading this page with nbviewer.org.</b></div><div class=\"sk-container\" hidden><div class=\"sk-item\"><div class=\"sk-estimator sk-toggleable\"><input class=\"sk-toggleable__control sk-hidden--visually\" id=\"sk-estimator-id-6\" type=\"checkbox\" checked><label for=\"sk-estimator-id-6\" class=\"sk-toggleable__label sk-toggleable__label-arrow\">OneClassSVM</label><div class=\"sk-toggleable__content\"><pre>OneClassSVM(kernel=&#x27;linear&#x27;, nu=0.2)</pre></div></div></div></div></div>"
      ],
      "text/plain": [
       "OneClassSVM(kernel='linear', nu=0.2)"
      ]
     },
     "execution_count": 284,
     "metadata": {},
     "output_type": "execute_result"
    }
   ],
   "source": [
    "# Create an instance of OneClassSVM\n",
    "svm = OneClassSVM(kernel='linear', nu=0.2)  # You can adjust the hyperparameters as per your needs\n",
    "\n",
    "# Train the model using your training data\n",
    "svm.fit(known_stats_train)\n",
    "\n",
    "# Predict the labels for your test data\n",
    "\n",
    "\n",
    "# The predictions will contain +1 for inliers (normal instances) and -1 for outliers (anomalous instances)\n"
   ]
  },
  {
   "cell_type": "code",
   "execution_count": 285,
   "id": "3d7148b9",
   "metadata": {},
   "outputs": [
    {
     "data": {
      "text/plain": [
       "(574, 111)"
      ]
     },
     "execution_count": 285,
     "metadata": {},
     "output_type": "execute_result"
    }
   ],
   "source": [
    "predictions = svm.predict(known_stats_test)\n",
    "known_false, known_true= np.count_nonzero(predictions == -1), np.count_nonzero(predictions == 1)\n",
    "known_true, known_false"
   ]
  },
  {
   "cell_type": "code",
   "execution_count": 286,
   "id": "14bcf462",
   "metadata": {},
   "outputs": [
    {
     "data": {
      "text/plain": [
       "(1513, 31)"
      ]
     },
     "execution_count": 286,
     "metadata": {},
     "output_type": "execute_result"
    }
   ],
   "source": [
    "predictions_unk = svm.predict(unknown_stats)\n",
    "unk_true, unk_false =np.count_nonzero(predictions_unk == -1), np.count_nonzero(predictions_unk == 1)\n",
    "unk_true, unk_false"
   ]
  },
  {
   "cell_type": "code",
   "execution_count": 287,
   "id": "293db3d2",
   "metadata": {},
   "outputs": [
    {
     "data": {
      "text/plain": [
       "(83.7956204379562, 97.99222797927462)"
      ]
     },
     "execution_count": 287,
     "metadata": {},
     "output_type": "execute_result"
    }
   ],
   "source": [
    "acc_known = (known_true/(known_true+known_false))*100\n",
    "acc_unk = (unk_true/(unk_true+unk_false))*100\n",
    "acc_known, acc_unk"
   ]
  },
  {
   "cell_type": "code",
   "execution_count": null,
   "id": "c372f1fc",
   "metadata": {},
   "outputs": [],
   "source": []
  },
  {
   "cell_type": "code",
   "execution_count": null,
   "id": "d624a6da",
   "metadata": {},
   "outputs": [],
   "source": []
  },
  {
   "cell_type": "code",
   "execution_count": 203,
   "id": "69c54ae9",
   "metadata": {},
   "outputs": [
    {
     "data": {
      "text/plain": [
       "array([ 0,  2,  3,  4,  6,  7,  8,  9, 11, 12, 13, 14, 15, 16, 17, 18, 19,\n",
       "       20, 21, 23, 24, 25, 26, 27, 28, 29, 30, 31, 32, 34, 35, 36, 37, 38,\n",
       "       39, 40, 41, 42, 43, 45, 46, 47, 49])"
      ]
     },
     "execution_count": 203,
     "metadata": {},
     "output_type": "execute_result"
    }
   ],
   "source": [
    "np.unique(y_test)"
   ]
  },
  {
   "cell_type": "code",
   "execution_count": 205,
   "id": "ea4c630b",
   "metadata": {},
   "outputs": [
    {
     "name": "stdout",
     "output_type": "stream",
     "text": [
      "0: 38\n",
      "2: 87\n",
      "3: 51\n",
      "4: 36\n",
      "6: 69\n",
      "7: 88\n",
      "8: 87\n",
      "9: 41\n",
      "11: 75\n",
      "12: 87\n",
      "13: 42\n",
      "14: 24\n",
      "15: 51\n",
      "16: 42\n",
      "17: 122\n",
      "18: 60\n",
      "19: 51\n",
      "20: 21\n",
      "21: 36\n",
      "23: 51\n",
      "24: 36\n",
      "25: 33\n",
      "26: 60\n",
      "27: 51\n",
      "28: 88\n",
      "29: 59\n",
      "30: 51\n",
      "31: 76\n",
      "32: 60\n",
      "34: 60\n",
      "35: 35\n",
      "36: 80\n",
      "37: 46\n",
      "38: 87\n",
      "39: 60\n",
      "40: 87\n",
      "41: 60\n",
      "42: 43\n",
      "43: 45\n",
      "45: 42\n",
      "46: 96\n",
      "47: 42\n",
      "49: 42\n"
     ]
    }
   ],
   "source": [
    "unique_values, counts = np.unique(y_test, return_counts=True)\n",
    "\n",
    "\n",
    "# Print the counts\n",
    "for value, count in zip(unique_values, counts):\n",
    "    print(f\"{value}: {count}\")"
   ]
  },
  {
   "cell_type": "code",
   "execution_count": 206,
   "id": "66f03d02",
   "metadata": {},
   "outputs": [
    {
     "data": {
      "text/plain": [
       "58.093023255813954"
      ]
     },
     "execution_count": 206,
     "metadata": {},
     "output_type": "execute_result"
    }
   ],
   "source": [
    "np.mean(counts)"
   ]
  },
  {
   "cell_type": "code",
   "execution_count": null,
   "id": "e6a8e5c5",
   "metadata": {},
   "outputs": [],
   "source": []
  },
  {
   "cell_type": "code",
   "execution_count": 278,
   "id": "98d9341b",
   "metadata": {},
   "outputs": [],
   "source": [
    "##Known\n",
    "def preds(df):\n",
    "    true_count=0\n",
    "    predictions_proba = model.predict(df)#df instead of X_test\n",
    "    print(predictions_proba.shape)\n",
    "\n",
    "    true_pred_prob = []\n",
    "    false_pred_prob = []\n",
    "    true_pred_sec_prob = []\n",
    "    true_pred_third_prob = []\n",
    "    true_pred_fourth_prob = []\n",
    "    false_pred_sec_prob = []\n",
    "    true_pred_diff_f_s = []\n",
    "    false_pred_diff_f_s = []\n",
    "    for i in range (0,predictions_proba.shape[0]):\n",
    "        probs_i = predictions_proba[i]\n",
    "        pred_class = np.argmax(probs_i)\n",
    "        true_class = y_test[i]##manual\n",
    "        pred = probs_i[pred_class]\n",
    "        probs_i[pred_class] = np.min(probs_i) - 1\n",
    "        sec_pred = np.max(probs_i)\n",
    "\n",
    "        sec_pred_class = np.argmax(probs_i)\n",
    "        probs_i[sec_pred_class] = np.min(probs_i) - 1\n",
    "        third_pred = np.max(probs_i)\n",
    "\n",
    "        third_pred_class = np.argmax(probs_i)\n",
    "        probs_i[third_pred_class] = np.min(probs_i) - 1\n",
    "        fourth_pred = np.max(probs_i)\n",
    "\n",
    "\n",
    "        if(pred_class == true_class):#true_pred\n",
    "            true_pred_prob.append(pred)\n",
    "            true_pred_sec_prob.append(sec_pred)\n",
    "\n",
    "            true_pred_third_prob.append(third_pred)\n",
    "            true_pred_fourth_prob.append(fourth_pred)\n",
    "\n",
    "            true_pred_diff_f_s.append(pred-sec_pred)\n",
    "            true_count = true_count+1\n",
    "            print(true_count)\n",
    "#             else:\n",
    "#                 false_pred_prob.append(pred)\n",
    "#                 false_pred_sec_prob.append(sec_pred)\n",
    "#                 false_pred_diff_f_s.append(pred-sec_pred)\n",
    "    return true_pred_prob, true_pred_sec_prob, true_pred_third_prob, true_pred_fourth_prob, true_pred_diff_f_s"
   ]
  },
  {
   "cell_type": "code",
   "execution_count": 280,
   "id": "f6246ff2",
   "metadata": {},
   "outputs": [
    {
     "name": "stdout",
     "output_type": "stream",
     "text": [
      "(6, 600, 6)\n",
      "2/2 [==============================] - 0s 4ms/step\n",
      "(38, 50)\n",
      "1\n",
      "2\n",
      "3\n",
      "4\n",
      "5\n",
      "6\n",
      "7\n",
      "8\n",
      "9\n",
      "10\n",
      "11\n",
      "12\n",
      "13\n",
      "14\n",
      "15\n",
      "16\n",
      "17\n",
      "18\n",
      "19\n",
      "20\n",
      "21\n",
      "22\n",
      "23\n",
      "24\n",
      "25\n",
      "26\n",
      "27\n",
      "28\n",
      "29\n",
      "30\n",
      "31\n",
      "32\n",
      "33\n",
      "34\n",
      "35\n",
      "36\n",
      "37\n",
      "(6, 600, 6)\n",
      "3/3 [==============================] - 0s 9ms/step\n",
      "(87, 50)\n",
      "1\n",
      "2\n",
      "3\n",
      "4\n",
      "5\n",
      "6\n",
      "7\n",
      "8\n",
      "9\n",
      "10\n",
      "11\n",
      "12\n",
      "13\n",
      "14\n",
      "15\n",
      "16\n",
      "17\n",
      "18\n",
      "19\n",
      "20\n",
      "21\n",
      "22\n",
      "23\n",
      "24\n",
      "25\n",
      "26\n",
      "27\n",
      "28\n",
      "29\n",
      "30\n",
      "31\n",
      "32\n",
      "33\n",
      "34\n",
      "35\n",
      "36\n",
      "37\n",
      "38\n",
      "39\n",
      "40\n",
      "41\n",
      "42\n",
      "43\n",
      "44\n",
      "45\n",
      "46\n",
      "47\n",
      "48\n",
      "49\n",
      "(6, 600, 6)\n",
      "2/2 [==============================] - 0s 7ms/step\n",
      "(51, 50)\n",
      "(6, 600, 6)\n",
      "2/2 [==============================] - 0s 4ms/step\n",
      "(36, 50)\n",
      "(6, 600, 6)\n",
      "3/3 [==============================] - 0s 9ms/step\n",
      "(69, 50)\n",
      "(6, 600, 6)\n",
      "3/3 [==============================] - 0s 11ms/step\n",
      "(88, 50)\n",
      "(6, 600, 6)\n",
      "3/3 [==============================] - 0s 12ms/step\n",
      "(87, 50)\n",
      "(6, 600, 6)\n",
      "2/2 [==============================] - 0s 5ms/step\n",
      "(41, 50)\n",
      "(6, 600, 6)\n",
      "3/3 [==============================] - 0s 8ms/step\n",
      "(75, 50)\n",
      "(6, 600, 6)\n",
      "3/3 [==============================] - 0s 11ms/step\n",
      "(87, 50)\n",
      "(6, 600, 6)\n",
      "2/2 [==============================] - 0s 6ms/step\n",
      "(42, 50)\n",
      "(6, 600, 6)\n",
      "1/1 [==============================] - 0s 28ms/step\n",
      "(24, 50)\n",
      "(6, 600, 6)\n",
      "2/2 [==============================] - 0s 8ms/step\n",
      "(51, 50)\n",
      "(6, 600, 6)\n",
      "2/2 [==============================] - 0s 6ms/step\n",
      "(42, 50)\n",
      "(6, 600, 6)\n",
      "4/4 [==============================] - 0s 11ms/step\n",
      "(122, 50)\n",
      "(6, 600, 6)\n",
      "2/2 [==============================] - 0s 12ms/step\n",
      "(60, 50)\n",
      "(6, 600, 6)\n",
      "2/2 [==============================] - 0s 7ms/step\n",
      "(51, 50)\n",
      "(6, 600, 6)\n",
      "1/1 [==============================] - 0s 27ms/step\n",
      "(21, 50)\n",
      "(6, 600, 6)\n",
      "2/2 [==============================] - 0s 5ms/step\n",
      "(36, 50)\n",
      "(6, 600, 6)\n",
      "2/2 [==============================] - 0s 9ms/step\n",
      "(51, 50)\n",
      "(6, 600, 6)\n",
      "2/2 [==============================] - 0s 5ms/step\n",
      "(36, 50)\n",
      "(6, 600, 6)\n",
      "2/2 [==============================] - 0s 5ms/step\n",
      "(33, 50)\n",
      "(6, 600, 6)\n",
      "2/2 [==============================] - 0s 14ms/step\n",
      "(60, 50)\n",
      "(6, 600, 6)\n",
      "2/2 [==============================] - 0s 8ms/step\n",
      "(51, 50)\n",
      "(6, 600, 6)\n",
      "3/3 [==============================] - 0s 11ms/step\n",
      "(88, 50)\n",
      "(6, 600, 6)\n",
      "2/2 [==============================] - 0s 9ms/step\n",
      "(59, 50)\n",
      "(6, 600, 6)\n",
      "2/2 [==============================] - 0s 7ms/step\n",
      "(51, 50)\n",
      "(6, 600, 6)\n",
      "3/3 [==============================] - 0s 8ms/step\n",
      "(76, 50)\n",
      "(6, 600, 6)\n",
      "2/2 [==============================] - 0s 14ms/step\n",
      "(60, 50)\n",
      "(6, 600, 6)\n",
      "2/2 [==============================] - 0s 10ms/step\n",
      "(60, 50)\n",
      "(6, 600, 6)\n",
      "2/2 [==============================] - 0s 6ms/step\n",
      "(35, 50)\n",
      "(6, 600, 6)\n",
      "3/3 [==============================] - 0s 9ms/step\n",
      "(80, 50)\n",
      "(6, 600, 6)\n",
      "2/2 [==============================] - 0s 7ms/step\n",
      "(46, 50)\n",
      "(6, 600, 6)\n",
      "3/3 [==============================] - 0s 10ms/step\n",
      "(87, 50)\n",
      "(6, 600, 6)\n",
      "2/2 [==============================] - 0s 10ms/step\n",
      "(60, 50)\n",
      "(6, 600, 6)\n",
      "3/3 [==============================] - 0s 10ms/step\n",
      "(87, 50)\n",
      "(6, 600, 6)\n",
      "2/2 [==============================] - 0s 11ms/step\n",
      "(60, 50)\n",
      "(6, 600, 6)\n",
      "2/2 [==============================] - 0s 5ms/step\n",
      "(43, 50)\n",
      "(6, 600, 6)\n",
      "2/2 [==============================] - 0s 7ms/step\n",
      "(45, 50)\n",
      "(6, 600, 6)\n",
      "2/2 [==============================] - 0s 6ms/step\n",
      "(42, 50)\n",
      "(6, 600, 6)\n",
      "3/3 [==============================] - 0s 12ms/step\n",
      "(96, 50)\n",
      "(6, 600, 6)\n",
      "2/2 [==============================] - 0s 6ms/step\n",
      "(42, 50)\n",
      "(6, 600, 6)\n",
      "2/2 [==============================] - 0s 7ms/step\n",
      "(42, 50)\n"
     ]
    }
   ],
   "source": [
    "\n",
    "f_pred_user=[]\n",
    "s_pred_user=[]\n",
    "t_pred_user=[]\n",
    "fo_pred_user=[]\n",
    "d_pred_user=[]\n",
    "unique_users = np.unique(y_test)\n",
    "for user in unique_users:\n",
    "    indices = np.where(y_test == user)\n",
    "    user_frames= X_test[indices]\n",
    "    print(user_frames[:6].shape)\n",
    "\n",
    "    f_pred, s_pred, t_pred, fo_pred, d_pred =preds(user_frames)  \n",
    "    \n",
    "    f_pred_user.append(f_pred)\n",
    "    s_pred_user.append(s_pred)\n",
    "    t_pred_user.append(t_pred)\n",
    "    fo_pred_user.append(fo_pred)\n",
    "    d_pred_user.append(d_pred)\n",
    "            \n",
    "            "
   ]
  },
  {
   "cell_type": "code",
   "execution_count": 263,
   "id": "f91cb646",
   "metadata": {},
   "outputs": [
    {
     "ename": "ValueError",
     "evalue": "Length of values (0) does not match length of index (6)",
     "output_type": "error",
     "traceback": [
      "\u001b[1;31m---------------------------------------------------------------------------\u001b[0m",
      "\u001b[1;31mValueError\u001b[0m                                Traceback (most recent call last)",
      "Cell \u001b[1;32mIn[263], line 10\u001b[0m\n\u001b[0;32m      8\u001b[0m fo_pred \u001b[38;5;241m=\u001b[39m fo_pred_user[i]\n\u001b[0;32m      9\u001b[0m d_pred \u001b[38;5;241m=\u001b[39m d_pred_user[i]\n\u001b[1;32m---> 10\u001b[0m user_stats[\u001b[38;5;124m'\u001b[39m\u001b[38;5;124m1st prob\u001b[39m\u001b[38;5;124m'\u001b[39m] \u001b[38;5;241m=\u001b[39m f_pred\n\u001b[0;32m     11\u001b[0m user_stats[\u001b[38;5;124m'\u001b[39m\u001b[38;5;124m2nd prob\u001b[39m\u001b[38;5;124m'\u001b[39m] \u001b[38;5;241m=\u001b[39m s_pred\n\u001b[0;32m     12\u001b[0m user_stats[\u001b[38;5;124m'\u001b[39m\u001b[38;5;124m3rd prob\u001b[39m\u001b[38;5;124m'\u001b[39m] \u001b[38;5;241m=\u001b[39m t_pred\n",
      "File \u001b[1;32m~\\anaconda3\\lib\\site-packages\\pandas\\core\\frame.py:3980\u001b[0m, in \u001b[0;36mDataFrame.__setitem__\u001b[1;34m(self, key, value)\u001b[0m\n\u001b[0;32m   3977\u001b[0m     \u001b[38;5;28mself\u001b[39m\u001b[38;5;241m.\u001b[39m_setitem_array([key], value)\n\u001b[0;32m   3978\u001b[0m \u001b[38;5;28;01melse\u001b[39;00m:\n\u001b[0;32m   3979\u001b[0m     \u001b[38;5;66;03m# set column\u001b[39;00m\n\u001b[1;32m-> 3980\u001b[0m     \u001b[38;5;28;43mself\u001b[39;49m\u001b[38;5;241;43m.\u001b[39;49m\u001b[43m_set_item\u001b[49m\u001b[43m(\u001b[49m\u001b[43mkey\u001b[49m\u001b[43m,\u001b[49m\u001b[43m \u001b[49m\u001b[43mvalue\u001b[49m\u001b[43m)\u001b[49m\n",
      "File \u001b[1;32m~\\anaconda3\\lib\\site-packages\\pandas\\core\\frame.py:4174\u001b[0m, in \u001b[0;36mDataFrame._set_item\u001b[1;34m(self, key, value)\u001b[0m\n\u001b[0;32m   4164\u001b[0m \u001b[38;5;28;01mdef\u001b[39;00m \u001b[38;5;21m_set_item\u001b[39m(\u001b[38;5;28mself\u001b[39m, key, value) \u001b[38;5;241m-\u001b[39m\u001b[38;5;241m>\u001b[39m \u001b[38;5;28;01mNone\u001b[39;00m:\n\u001b[0;32m   4165\u001b[0m     \u001b[38;5;124;03m\"\"\"\u001b[39;00m\n\u001b[0;32m   4166\u001b[0m \u001b[38;5;124;03m    Add series to DataFrame in specified column.\u001b[39;00m\n\u001b[0;32m   4167\u001b[0m \n\u001b[1;32m   (...)\u001b[0m\n\u001b[0;32m   4172\u001b[0m \u001b[38;5;124;03m    ensure homogeneity.\u001b[39;00m\n\u001b[0;32m   4173\u001b[0m \u001b[38;5;124;03m    \"\"\"\u001b[39;00m\n\u001b[1;32m-> 4174\u001b[0m     value \u001b[38;5;241m=\u001b[39m \u001b[38;5;28;43mself\u001b[39;49m\u001b[38;5;241;43m.\u001b[39;49m\u001b[43m_sanitize_column\u001b[49m\u001b[43m(\u001b[49m\u001b[43mvalue\u001b[49m\u001b[43m)\u001b[49m\n\u001b[0;32m   4176\u001b[0m     \u001b[38;5;28;01mif\u001b[39;00m (\n\u001b[0;32m   4177\u001b[0m         key \u001b[38;5;129;01min\u001b[39;00m \u001b[38;5;28mself\u001b[39m\u001b[38;5;241m.\u001b[39mcolumns\n\u001b[0;32m   4178\u001b[0m         \u001b[38;5;129;01mand\u001b[39;00m value\u001b[38;5;241m.\u001b[39mndim \u001b[38;5;241m==\u001b[39m \u001b[38;5;241m1\u001b[39m\n\u001b[0;32m   4179\u001b[0m         \u001b[38;5;129;01mand\u001b[39;00m \u001b[38;5;129;01mnot\u001b[39;00m is_extension_array_dtype(value)\n\u001b[0;32m   4180\u001b[0m     ):\n\u001b[0;32m   4181\u001b[0m         \u001b[38;5;66;03m# broadcast across multiple columns if necessary\u001b[39;00m\n\u001b[0;32m   4182\u001b[0m         \u001b[38;5;28;01mif\u001b[39;00m \u001b[38;5;129;01mnot\u001b[39;00m \u001b[38;5;28mself\u001b[39m\u001b[38;5;241m.\u001b[39mcolumns\u001b[38;5;241m.\u001b[39mis_unique \u001b[38;5;129;01mor\u001b[39;00m \u001b[38;5;28misinstance\u001b[39m(\u001b[38;5;28mself\u001b[39m\u001b[38;5;241m.\u001b[39mcolumns, MultiIndex):\n",
      "File \u001b[1;32m~\\anaconda3\\lib\\site-packages\\pandas\\core\\frame.py:4915\u001b[0m, in \u001b[0;36mDataFrame._sanitize_column\u001b[1;34m(self, value)\u001b[0m\n\u001b[0;32m   4912\u001b[0m     \u001b[38;5;28;01mreturn\u001b[39;00m _reindex_for_setitem(Series(value), \u001b[38;5;28mself\u001b[39m\u001b[38;5;241m.\u001b[39mindex)\n\u001b[0;32m   4914\u001b[0m \u001b[38;5;28;01mif\u001b[39;00m is_list_like(value):\n\u001b[1;32m-> 4915\u001b[0m     \u001b[43mcom\u001b[49m\u001b[38;5;241;43m.\u001b[39;49m\u001b[43mrequire_length_match\u001b[49m\u001b[43m(\u001b[49m\u001b[43mvalue\u001b[49m\u001b[43m,\u001b[49m\u001b[43m \u001b[49m\u001b[38;5;28;43mself\u001b[39;49m\u001b[38;5;241;43m.\u001b[39;49m\u001b[43mindex\u001b[49m\u001b[43m)\u001b[49m\n\u001b[0;32m   4916\u001b[0m \u001b[38;5;28;01mreturn\u001b[39;00m sanitize_array(value, \u001b[38;5;28mself\u001b[39m\u001b[38;5;241m.\u001b[39mindex, copy\u001b[38;5;241m=\u001b[39m\u001b[38;5;28;01mTrue\u001b[39;00m, allow_2d\u001b[38;5;241m=\u001b[39m\u001b[38;5;28;01mTrue\u001b[39;00m)\n",
      "File \u001b[1;32m~\\anaconda3\\lib\\site-packages\\pandas\\core\\common.py:571\u001b[0m, in \u001b[0;36mrequire_length_match\u001b[1;34m(data, index)\u001b[0m\n\u001b[0;32m    567\u001b[0m \u001b[38;5;124;03m\"\"\"\u001b[39;00m\n\u001b[0;32m    568\u001b[0m \u001b[38;5;124;03mCheck the length of data matches the length of the index.\u001b[39;00m\n\u001b[0;32m    569\u001b[0m \u001b[38;5;124;03m\"\"\"\u001b[39;00m\n\u001b[0;32m    570\u001b[0m \u001b[38;5;28;01mif\u001b[39;00m \u001b[38;5;28mlen\u001b[39m(data) \u001b[38;5;241m!=\u001b[39m \u001b[38;5;28mlen\u001b[39m(index):\n\u001b[1;32m--> 571\u001b[0m     \u001b[38;5;28;01mraise\u001b[39;00m \u001b[38;5;167;01mValueError\u001b[39;00m(\n\u001b[0;32m    572\u001b[0m         \u001b[38;5;124m\"\u001b[39m\u001b[38;5;124mLength of values \u001b[39m\u001b[38;5;124m\"\u001b[39m\n\u001b[0;32m    573\u001b[0m         \u001b[38;5;124mf\u001b[39m\u001b[38;5;124m\"\u001b[39m\u001b[38;5;124m(\u001b[39m\u001b[38;5;132;01m{\u001b[39;00m\u001b[38;5;28mlen\u001b[39m(data)\u001b[38;5;132;01m}\u001b[39;00m\u001b[38;5;124m) \u001b[39m\u001b[38;5;124m\"\u001b[39m\n\u001b[0;32m    574\u001b[0m         \u001b[38;5;124m\"\u001b[39m\u001b[38;5;124mdoes not match length of index \u001b[39m\u001b[38;5;124m\"\u001b[39m\n\u001b[0;32m    575\u001b[0m         \u001b[38;5;124mf\u001b[39m\u001b[38;5;124m\"\u001b[39m\u001b[38;5;124m(\u001b[39m\u001b[38;5;132;01m{\u001b[39;00m\u001b[38;5;28mlen\u001b[39m(index)\u001b[38;5;132;01m}\u001b[39;00m\u001b[38;5;124m)\u001b[39m\u001b[38;5;124m\"\u001b[39m\n\u001b[0;32m    576\u001b[0m     )\n",
      "\u001b[1;31mValueError\u001b[0m: Length of values (0) does not match length of index (6)"
     ]
    }
   ],
   "source": [
    "mean_values = []\n",
    "svm_pred=[]\n",
    "user_stats = pd.DataFrame(columns=['1st prob','2nd prob','3rd prob', '4th prob', '1st 2nd diff'])\n",
    "for i in range(0, len(f_pred_user)):\n",
    "    f_pred = f_pred_user[i]\n",
    "    s_pred = s_pred_user[i]\n",
    "    t_pred = t_pred_user[i]\n",
    "    fo_pred = fo_pred_user[i]\n",
    "    d_pred = d_pred_user[i]\n",
    "    user_stats['1st prob'] = f_pred\n",
    "    user_stats['2nd prob'] = s_pred\n",
    "    user_stats['3rd prob'] = t_pred\n",
    "    user_stats['4th prob'] = fo_pred\n",
    "    user_stats['1st 2nd diff'] = d_pred\n",
    "    preds_user = svm.predict(user_stats)\n",
    "    svm_pred.append(preds_user)\n",
    "svm_pred "
   ]
  },
  {
   "cell_type": "code",
   "execution_count": 258,
   "id": "9022d696",
   "metadata": {},
   "outputs": [
    {
     "name": "stdout",
     "output_type": "stream",
     "text": [
      "-1.0: 7\n",
      "-0.3333333333333333: 1\n",
      "0.3333333333333333: 3\n",
      "0.6666666666666666: 2\n",
      "1.0: 30\n"
     ]
    }
   ],
   "source": [
    "svm_mean=[]\n",
    "for arr in svm_pred:\n",
    "    svm_mean.append(np.mean(arr))\n",
    "# svm_mean\n",
    "unique_values, counts = np.unique(svm_mean, return_counts=True)\n",
    "\n",
    "# Print the counts\n",
    "for value, count in zip(unique_values, counts):\n",
    "    print(f\"{value}: {count}\")"
   ]
  },
  {
   "cell_type": "code",
   "execution_count": null,
   "id": "2da993e7",
   "metadata": {},
   "outputs": [],
   "source": []
  },
  {
   "cell_type": "code",
   "execution_count": null,
   "id": "a0639648",
   "metadata": {},
   "outputs": [],
   "source": []
  }
 ],
 "metadata": {
  "kernelspec": {
   "display_name": "Python 3 (ipykernel)",
   "language": "python",
   "name": "python3"
  },
  "language_info": {
   "codemirror_mode": {
    "name": "ipython",
    "version": 3
   },
   "file_extension": ".py",
   "mimetype": "text/x-python",
   "name": "python",
   "nbconvert_exporter": "python",
   "pygments_lexer": "ipython3",
   "version": "3.10.9"
  }
 },
 "nbformat": 4,
 "nbformat_minor": 5
}
