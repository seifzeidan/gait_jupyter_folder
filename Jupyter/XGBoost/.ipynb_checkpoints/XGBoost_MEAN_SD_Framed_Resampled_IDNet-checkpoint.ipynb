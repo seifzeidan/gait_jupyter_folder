{
 "cells": [
  {
   "cell_type": "code",
   "execution_count": 1,
   "id": "f125c479",
   "metadata": {},
   "outputs": [],
   "source": [
    "import pandas as pd\n",
    "import numpy as np\n",
    "import os\n",
    "import math\n",
    "import matplotlib.pyplot as plt\n",
    "from sklearn.model_selection import train_test_split\n",
    "from sklearn.preprocessing import StandardScaler, LabelEncoder\n",
    "from sklearn.metrics import accuracy_score"
   ]
  },
  {
   "cell_type": "code",
   "execution_count": 2,
   "id": "951f2718",
   "metadata": {},
   "outputs": [],
   "source": [
    "import xgboost as xgb\n",
    "from sklearn.model_selection import GridSearchCV\n"
   ]
  },
  {
   "cell_type": "code",
   "execution_count": 3,
   "id": "46eeb8ca",
   "metadata": {},
   "outputs": [],
   "source": [
    "# filepath = \"merged_u1-50_w001_resampled.csv\"\n",
    "filepath = \"D:/online dataset csv files preprocessing/MEAN_SD_FRAMED_RESAMPLED_merged_u1-50_w001_resampled.csv\"\n",
    "\n",
    "df_original = pd.read_csv(filepath)"
   ]
  },
  {
   "cell_type": "code",
   "execution_count": 4,
   "id": "305737e9",
   "metadata": {},
   "outputs": [
    {
     "data": {
      "text/html": [
       "<div>\n",
       "<style scoped>\n",
       "    .dataframe tbody tr th:only-of-type {\n",
       "        vertical-align: middle;\n",
       "    }\n",
       "\n",
       "    .dataframe tbody tr th {\n",
       "        vertical-align: top;\n",
       "    }\n",
       "\n",
       "    .dataframe thead th {\n",
       "        text-align: right;\n",
       "    }\n",
       "</style>\n",
       "<table border=\"1\" class=\"dataframe\">\n",
       "  <thead>\n",
       "    <tr style=\"text-align: right;\">\n",
       "      <th></th>\n",
       "      <th>name</th>\n",
       "      <th>mean_LA(x)</th>\n",
       "      <th>mean_LA(y)</th>\n",
       "      <th>mean_LA(z)</th>\n",
       "      <th>mean_GY(x)</th>\n",
       "      <th>mean_GY(y)</th>\n",
       "      <th>mean_GY(z)</th>\n",
       "      <th>sd_LA(x)</th>\n",
       "      <th>sd_LA(y)</th>\n",
       "      <th>sd_LA(z)</th>\n",
       "      <th>sd_GY(x)</th>\n",
       "      <th>sd_GY(y)</th>\n",
       "      <th>sd_GY(z)</th>\n",
       "    </tr>\n",
       "  </thead>\n",
       "  <tbody>\n",
       "    <tr>\n",
       "      <th>0</th>\n",
       "      <td>1.0</td>\n",
       "      <td>-0.393514</td>\n",
       "      <td>-0.231500</td>\n",
       "      <td>0.259489</td>\n",
       "      <td>-0.136301</td>\n",
       "      <td>0.808596</td>\n",
       "      <td>0.365505</td>\n",
       "      <td>1.607389</td>\n",
       "      <td>2.060070</td>\n",
       "      <td>1.568203</td>\n",
       "      <td>0.718605</td>\n",
       "      <td>1.529494</td>\n",
       "      <td>0.896005</td>\n",
       "    </tr>\n",
       "    <tr>\n",
       "      <th>1</th>\n",
       "      <td>1.0</td>\n",
       "      <td>0.977162</td>\n",
       "      <td>0.184893</td>\n",
       "      <td>0.420916</td>\n",
       "      <td>0.122411</td>\n",
       "      <td>0.074673</td>\n",
       "      <td>-0.052158</td>\n",
       "      <td>3.646011</td>\n",
       "      <td>3.797331</td>\n",
       "      <td>5.745886</td>\n",
       "      <td>1.701895</td>\n",
       "      <td>2.413996</td>\n",
       "      <td>0.913987</td>\n",
       "    </tr>\n",
       "    <tr>\n",
       "      <th>2</th>\n",
       "      <td>1.0</td>\n",
       "      <td>0.868165</td>\n",
       "      <td>-0.320024</td>\n",
       "      <td>-0.093038</td>\n",
       "      <td>0.056006</td>\n",
       "      <td>0.094478</td>\n",
       "      <td>-0.247336</td>\n",
       "      <td>5.704045</td>\n",
       "      <td>3.265884</td>\n",
       "      <td>7.824760</td>\n",
       "      <td>2.248331</td>\n",
       "      <td>1.981881</td>\n",
       "      <td>0.899200</td>\n",
       "    </tr>\n",
       "    <tr>\n",
       "      <th>3</th>\n",
       "      <td>1.0</td>\n",
       "      <td>0.651436</td>\n",
       "      <td>-0.042524</td>\n",
       "      <td>0.129633</td>\n",
       "      <td>-0.075404</td>\n",
       "      <td>0.128380</td>\n",
       "      <td>-0.227428</td>\n",
       "      <td>5.328452</td>\n",
       "      <td>3.304334</td>\n",
       "      <td>7.017526</td>\n",
       "      <td>2.167866</td>\n",
       "      <td>1.981418</td>\n",
       "      <td>0.940454</td>\n",
       "    </tr>\n",
       "    <tr>\n",
       "      <th>4</th>\n",
       "      <td>1.0</td>\n",
       "      <td>1.084959</td>\n",
       "      <td>-0.319923</td>\n",
       "      <td>-0.195518</td>\n",
       "      <td>0.028891</td>\n",
       "      <td>0.026057</td>\n",
       "      <td>-0.323677</td>\n",
       "      <td>6.076534</td>\n",
       "      <td>3.319325</td>\n",
       "      <td>7.810847</td>\n",
       "      <td>2.432790</td>\n",
       "      <td>2.110462</td>\n",
       "      <td>1.009521</td>\n",
       "    </tr>\n",
       "    <tr>\n",
       "      <th>...</th>\n",
       "      <td>...</td>\n",
       "      <td>...</td>\n",
       "      <td>...</td>\n",
       "      <td>...</td>\n",
       "      <td>...</td>\n",
       "      <td>...</td>\n",
       "      <td>...</td>\n",
       "      <td>...</td>\n",
       "      <td>...</td>\n",
       "      <td>...</td>\n",
       "      <td>...</td>\n",
       "      <td>...</td>\n",
       "      <td>...</td>\n",
       "    </tr>\n",
       "    <tr>\n",
       "      <th>3386</th>\n",
       "      <td>50.0</td>\n",
       "      <td>-1.020807</td>\n",
       "      <td>-1.171016</td>\n",
       "      <td>1.729468</td>\n",
       "      <td>-0.003498</td>\n",
       "      <td>0.020327</td>\n",
       "      <td>-0.145425</td>\n",
       "      <td>3.422165</td>\n",
       "      <td>3.917514</td>\n",
       "      <td>4.235285</td>\n",
       "      <td>1.613613</td>\n",
       "      <td>1.298959</td>\n",
       "      <td>0.921226</td>\n",
       "    </tr>\n",
       "    <tr>\n",
       "      <th>3387</th>\n",
       "      <td>50.0</td>\n",
       "      <td>-1.184758</td>\n",
       "      <td>-1.406637</td>\n",
       "      <td>1.470867</td>\n",
       "      <td>0.128532</td>\n",
       "      <td>0.110669</td>\n",
       "      <td>-0.030852</td>\n",
       "      <td>3.626671</td>\n",
       "      <td>3.994308</td>\n",
       "      <td>4.448399</td>\n",
       "      <td>1.530076</td>\n",
       "      <td>1.284954</td>\n",
       "      <td>0.988766</td>\n",
       "    </tr>\n",
       "    <tr>\n",
       "      <th>3388</th>\n",
       "      <td>50.0</td>\n",
       "      <td>-0.831645</td>\n",
       "      <td>-0.959262</td>\n",
       "      <td>1.536584</td>\n",
       "      <td>-0.042937</td>\n",
       "      <td>-0.211504</td>\n",
       "      <td>-0.157940</td>\n",
       "      <td>3.738687</td>\n",
       "      <td>4.264228</td>\n",
       "      <td>4.597193</td>\n",
       "      <td>1.632034</td>\n",
       "      <td>1.387187</td>\n",
       "      <td>1.007491</td>\n",
       "    </tr>\n",
       "    <tr>\n",
       "      <th>3389</th>\n",
       "      <td>50.0</td>\n",
       "      <td>-0.732001</td>\n",
       "      <td>-0.887330</td>\n",
       "      <td>1.679462</td>\n",
       "      <td>0.130207</td>\n",
       "      <td>0.025768</td>\n",
       "      <td>-0.080390</td>\n",
       "      <td>3.218597</td>\n",
       "      <td>3.704232</td>\n",
       "      <td>4.181007</td>\n",
       "      <td>1.579482</td>\n",
       "      <td>1.185527</td>\n",
       "      <td>0.788691</td>\n",
       "    </tr>\n",
       "    <tr>\n",
       "      <th>3390</th>\n",
       "      <td>50.0</td>\n",
       "      <td>-1.112609</td>\n",
       "      <td>-0.923574</td>\n",
       "      <td>1.790004</td>\n",
       "      <td>-0.037886</td>\n",
       "      <td>0.016173</td>\n",
       "      <td>-0.150160</td>\n",
       "      <td>3.509659</td>\n",
       "      <td>4.391247</td>\n",
       "      <td>4.704499</td>\n",
       "      <td>1.732431</td>\n",
       "      <td>1.365022</td>\n",
       "      <td>0.826021</td>\n",
       "    </tr>\n",
       "  </tbody>\n",
       "</table>\n",
       "<p>3391 rows × 13 columns</p>\n",
       "</div>"
      ],
      "text/plain": [
       "      name  mean_LA(x)  mean_LA(y)  mean_LA(z)  mean_GY(x)  mean_GY(y)  \\\n",
       "0      1.0   -0.393514   -0.231500    0.259489   -0.136301    0.808596   \n",
       "1      1.0    0.977162    0.184893    0.420916    0.122411    0.074673   \n",
       "2      1.0    0.868165   -0.320024   -0.093038    0.056006    0.094478   \n",
       "3      1.0    0.651436   -0.042524    0.129633   -0.075404    0.128380   \n",
       "4      1.0    1.084959   -0.319923   -0.195518    0.028891    0.026057   \n",
       "...    ...         ...         ...         ...         ...         ...   \n",
       "3386  50.0   -1.020807   -1.171016    1.729468   -0.003498    0.020327   \n",
       "3387  50.0   -1.184758   -1.406637    1.470867    0.128532    0.110669   \n",
       "3388  50.0   -0.831645   -0.959262    1.536584   -0.042937   -0.211504   \n",
       "3389  50.0   -0.732001   -0.887330    1.679462    0.130207    0.025768   \n",
       "3390  50.0   -1.112609   -0.923574    1.790004   -0.037886    0.016173   \n",
       "\n",
       "      mean_GY(z)  sd_LA(x)  sd_LA(y)  sd_LA(z)  sd_GY(x)  sd_GY(y)  sd_GY(z)  \n",
       "0       0.365505  1.607389  2.060070  1.568203  0.718605  1.529494  0.896005  \n",
       "1      -0.052158  3.646011  3.797331  5.745886  1.701895  2.413996  0.913987  \n",
       "2      -0.247336  5.704045  3.265884  7.824760  2.248331  1.981881  0.899200  \n",
       "3      -0.227428  5.328452  3.304334  7.017526  2.167866  1.981418  0.940454  \n",
       "4      -0.323677  6.076534  3.319325  7.810847  2.432790  2.110462  1.009521  \n",
       "...          ...       ...       ...       ...       ...       ...       ...  \n",
       "3386   -0.145425  3.422165  3.917514  4.235285  1.613613  1.298959  0.921226  \n",
       "3387   -0.030852  3.626671  3.994308  4.448399  1.530076  1.284954  0.988766  \n",
       "3388   -0.157940  3.738687  4.264228  4.597193  1.632034  1.387187  1.007491  \n",
       "3389   -0.080390  3.218597  3.704232  4.181007  1.579482  1.185527  0.788691  \n",
       "3390   -0.150160  3.509659  4.391247  4.704499  1.732431  1.365022  0.826021  \n",
       "\n",
       "[3391 rows x 13 columns]"
      ]
     },
     "execution_count": 4,
     "metadata": {},
     "output_type": "execute_result"
    }
   ],
   "source": [
    "df_original"
   ]
  },
  {
   "cell_type": "code",
   "execution_count": 6,
   "id": "15da6f39",
   "metadata": {},
   "outputs": [],
   "source": [
    "X = df_original.drop('name', axis=1)  # Features (all columns except the target)\n",
    "y = df_original['name']  # Labels"
   ]
  },
  {
   "cell_type": "code",
   "execution_count": 15,
   "id": "4f72fecd",
   "metadata": {},
   "outputs": [],
   "source": [
    "y = y -1"
   ]
  },
  {
   "cell_type": "code",
   "execution_count": 17,
   "id": "c63e51fa",
   "metadata": {},
   "outputs": [
    {
     "data": {
      "text/plain": [
       "((2135, 12), (1018, 12), (238, 12), (2135,), (1018,), (238,))"
      ]
     },
     "execution_count": 17,
     "metadata": {},
     "output_type": "execute_result"
    }
   ],
   "source": [
    "X_train_val, X_test, y_train_val, y_test = train_test_split(X, y, test_size = 0.3, random_state = 0, stratify = y)\n",
    "\n",
    "X_train, X_validation, y_train, y_validation = train_test_split(X_train_val, y_train_val, test_size = 0.1, random_state = 0, stratify = y_train_val)\n",
    "X_train.shape, X_test.shape, X_validation.shape, y_train.shape, y_test.shape, y_validation.shape"
   ]
  },
  {
   "cell_type": "code",
   "execution_count": 18,
   "id": "2f8d8b5d",
   "metadata": {},
   "outputs": [],
   "source": [
    "dtrain = xgb.DMatrix(X_train, label=y_train)\n",
    "dtest = xgb.DMatrix(X_test)\n",
    "dval = xgb.DMatrix(X_validation, label=y_validation)"
   ]
  },
  {
   "cell_type": "code",
   "execution_count": 19,
   "id": "6ab8df61",
   "metadata": {},
   "outputs": [
    {
     "data": {
      "text/plain": [
       "(<xgboost.core.DMatrix at 0x1f70129fac0>,\n",
       " <xgboost.core.DMatrix at 0x1f700119870>,\n",
       " <xgboost.core.DMatrix at 0x1f700134a60>)"
      ]
     },
     "execution_count": 19,
     "metadata": {},
     "output_type": "execute_result"
    }
   ],
   "source": [
    "dtrain, dtest, dval"
   ]
  },
  {
   "cell_type": "code",
   "execution_count": 20,
   "id": "754cb245",
   "metadata": {},
   "outputs": [],
   "source": [
    "# params = {\n",
    "#     'max_depth': 5,\n",
    "#     'learning_rate': 0.2,\n",
    "#     'objective': 'multi:softmax',\n",
    "#     'num_class': 50\n",
    "# }\n",
    "# epochs = 15\n",
    "# evals_result = {}  # Initialize an empty dictionary to store the evaluation results"
   ]
  },
  {
   "cell_type": "code",
   "execution_count": 21,
   "id": "17d6770d",
   "metadata": {},
   "outputs": [],
   "source": [
    "# model = xgb.train(params, dtrain, epochs,  verbose_eval=1)"
   ]
  },
  {
   "cell_type": "code",
   "execution_count": 22,
   "id": "e0f5cfda",
   "metadata": {},
   "outputs": [
    {
     "name": "stdout",
     "output_type": "stream",
     "text": [
      "[0]\ttrain-mlogloss:1.80153\tvalid-mlogloss:1.98160\n",
      "[1]\ttrain-mlogloss:1.41049\tvalid-mlogloss:1.65315\n",
      "[2]\ttrain-mlogloss:1.15241\tvalid-mlogloss:1.42495\n",
      "[3]\ttrain-mlogloss:0.96367\tvalid-mlogloss:1.26187\n",
      "[4]\ttrain-mlogloss:0.81776\tvalid-mlogloss:1.13610\n",
      "[5]\ttrain-mlogloss:0.69995\tvalid-mlogloss:1.03778\n",
      "[6]\ttrain-mlogloss:0.60431\tvalid-mlogloss:0.95968\n",
      "[7]\ttrain-mlogloss:0.52688\tvalid-mlogloss:0.89026\n",
      "[8]\ttrain-mlogloss:0.46119\tvalid-mlogloss:0.83645\n",
      "[9]\ttrain-mlogloss:0.40620\tvalid-mlogloss:0.79090\n",
      "[10]\ttrain-mlogloss:0.36013\tvalid-mlogloss:0.75359\n",
      "[11]\ttrain-mlogloss:0.32100\tvalid-mlogloss:0.71938\n",
      "[12]\ttrain-mlogloss:0.28799\tvalid-mlogloss:0.69038\n",
      "[13]\ttrain-mlogloss:0.25970\tvalid-mlogloss:0.66493\n",
      "[14]\ttrain-mlogloss:0.23534\tvalid-mlogloss:0.64416\n"
     ]
    }
   ],
   "source": [
    "# model = xgb.train(params, dtrain, epochs, evals=[(dtrain, 'train'), (dval, 'valid')],\n",
    "#                   evals_result=evals_result, verbose_eval=1)"
   ]
  },
  {
   "cell_type": "code",
   "execution_count": 23,
   "id": "73cad87f",
   "metadata": {},
   "outputs": [],
   "source": [
    "# predictions = model.predict(dtest)"
   ]
  },
  {
   "cell_type": "code",
   "execution_count": 24,
   "id": "6a6fe10d",
   "metadata": {},
   "outputs": [
    {
     "name": "stdout",
     "output_type": "stream",
     "text": [
      "[40. 18. 40. ... 13. 11. 17.]\n"
     ]
    }
   ],
   "source": [
    "# print(predictions)"
   ]
  },
  {
   "cell_type": "code",
   "execution_count": 25,
   "id": "1e5aa112",
   "metadata": {},
   "outputs": [
    {
     "data": {
      "text/plain": [
       "0.8359528487229863"
      ]
     },
     "execution_count": 25,
     "metadata": {},
     "output_type": "execute_result"
    }
   ],
   "source": [
    "# accuracy_score(y_test, predictions)"
   ]
  },
  {
   "cell_type": "code",
   "execution_count": null,
   "id": "bba2c40e",
   "metadata": {},
   "outputs": [],
   "source": []
  },
  {
   "cell_type": "code",
   "execution_count": 26,
   "id": "aeb15cc3",
   "metadata": {},
   "outputs": [],
   "source": [
    "xgb_model = xgb.XGBClassifier()"
   ]
  },
  {
   "cell_type": "code",
   "execution_count": 32,
   "id": "65a0560d",
   "metadata": {},
   "outputs": [],
   "source": [
    "param_grid = {\n",
    "    'max_depth': [3, 5, 7],\n",
    "    'learning_rate': [0.1,0.2, 0.3, 0.01, 0.001],\n",
    "    'n_estimators': [100, 200, 300],\n",
    "    'objective': ['multi:softmax'],\n",
    "    'num_class': [50] \n",
    "}\n"
   ]
  },
  {
   "cell_type": "code",
   "execution_count": 33,
   "id": "1e13880d",
   "metadata": {},
   "outputs": [
    {
     "data": {
      "text/html": [
       "<style>#sk-container-id-1 {color: black;background-color: white;}#sk-container-id-1 pre{padding: 0;}#sk-container-id-1 div.sk-toggleable {background-color: white;}#sk-container-id-1 label.sk-toggleable__label {cursor: pointer;display: block;width: 100%;margin-bottom: 0;padding: 0.3em;box-sizing: border-box;text-align: center;}#sk-container-id-1 label.sk-toggleable__label-arrow:before {content: \"▸\";float: left;margin-right: 0.25em;color: #696969;}#sk-container-id-1 label.sk-toggleable__label-arrow:hover:before {color: black;}#sk-container-id-1 div.sk-estimator:hover label.sk-toggleable__label-arrow:before {color: black;}#sk-container-id-1 div.sk-toggleable__content {max-height: 0;max-width: 0;overflow: hidden;text-align: left;background-color: #f0f8ff;}#sk-container-id-1 div.sk-toggleable__content pre {margin: 0.2em;color: black;border-radius: 0.25em;background-color: #f0f8ff;}#sk-container-id-1 input.sk-toggleable__control:checked~div.sk-toggleable__content {max-height: 200px;max-width: 100%;overflow: auto;}#sk-container-id-1 input.sk-toggleable__control:checked~label.sk-toggleable__label-arrow:before {content: \"▾\";}#sk-container-id-1 div.sk-estimator input.sk-toggleable__control:checked~label.sk-toggleable__label {background-color: #d4ebff;}#sk-container-id-1 div.sk-label input.sk-toggleable__control:checked~label.sk-toggleable__label {background-color: #d4ebff;}#sk-container-id-1 input.sk-hidden--visually {border: 0;clip: rect(1px 1px 1px 1px);clip: rect(1px, 1px, 1px, 1px);height: 1px;margin: -1px;overflow: hidden;padding: 0;position: absolute;width: 1px;}#sk-container-id-1 div.sk-estimator {font-family: monospace;background-color: #f0f8ff;border: 1px dotted black;border-radius: 0.25em;box-sizing: border-box;margin-bottom: 0.5em;}#sk-container-id-1 div.sk-estimator:hover {background-color: #d4ebff;}#sk-container-id-1 div.sk-parallel-item::after {content: \"\";width: 100%;border-bottom: 1px solid gray;flex-grow: 1;}#sk-container-id-1 div.sk-label:hover label.sk-toggleable__label {background-color: #d4ebff;}#sk-container-id-1 div.sk-serial::before {content: \"\";position: absolute;border-left: 1px solid gray;box-sizing: border-box;top: 0;bottom: 0;left: 50%;z-index: 0;}#sk-container-id-1 div.sk-serial {display: flex;flex-direction: column;align-items: center;background-color: white;padding-right: 0.2em;padding-left: 0.2em;position: relative;}#sk-container-id-1 div.sk-item {position: relative;z-index: 1;}#sk-container-id-1 div.sk-parallel {display: flex;align-items: stretch;justify-content: center;background-color: white;position: relative;}#sk-container-id-1 div.sk-item::before, #sk-container-id-1 div.sk-parallel-item::before {content: \"\";position: absolute;border-left: 1px solid gray;box-sizing: border-box;top: 0;bottom: 0;left: 50%;z-index: -1;}#sk-container-id-1 div.sk-parallel-item {display: flex;flex-direction: column;z-index: 1;position: relative;background-color: white;}#sk-container-id-1 div.sk-parallel-item:first-child::after {align-self: flex-end;width: 50%;}#sk-container-id-1 div.sk-parallel-item:last-child::after {align-self: flex-start;width: 50%;}#sk-container-id-1 div.sk-parallel-item:only-child::after {width: 0;}#sk-container-id-1 div.sk-dashed-wrapped {border: 1px dashed gray;margin: 0 0.4em 0.5em 0.4em;box-sizing: border-box;padding-bottom: 0.4em;background-color: white;}#sk-container-id-1 div.sk-label label {font-family: monospace;font-weight: bold;display: inline-block;line-height: 1.2em;}#sk-container-id-1 div.sk-label-container {text-align: center;}#sk-container-id-1 div.sk-container {/* jupyter's `normalize.less` sets `[hidden] { display: none; }` but bootstrap.min.css set `[hidden] { display: none !important; }` so we also need the `!important` here to be able to override the default hidden behavior on the sphinx rendered scikit-learn.org. See: https://github.com/scikit-learn/scikit-learn/issues/21755 */display: inline-block !important;position: relative;}#sk-container-id-1 div.sk-text-repr-fallback {display: none;}</style><div id=\"sk-container-id-1\" class=\"sk-top-container\"><div class=\"sk-text-repr-fallback\"><pre>GridSearchCV(cv=5,\n",
       "             estimator=XGBClassifier(base_score=None, booster=None,\n",
       "                                     callbacks=None, colsample_bylevel=None,\n",
       "                                     colsample_bynode=None,\n",
       "                                     colsample_bytree=None,\n",
       "                                     early_stopping_rounds=None,\n",
       "                                     enable_categorical=False, eval_metric=None,\n",
       "                                     feature_types=None, gamma=None,\n",
       "                                     gpu_id=None, grow_policy=None,\n",
       "                                     importance_type=None,\n",
       "                                     interaction_constraints=None,\n",
       "                                     learning_rate=None,...\n",
       "                                     max_delta_step=None, max_depth=None,\n",
       "                                     max_leaves=None, min_child_weight=None,\n",
       "                                     missing=nan, monotone_constraints=None,\n",
       "                                     n_estimators=100, n_jobs=None,\n",
       "                                     num_parallel_tree=None, predictor=None,\n",
       "                                     random_state=None, ...),\n",
       "             param_grid={&#x27;learning_rate&#x27;: [0.1, 0.2, 0.3, 0.01, 0.001],\n",
       "                         &#x27;max_depth&#x27;: [3, 5, 7],\n",
       "                         &#x27;n_estimators&#x27;: [100, 200, 300], &#x27;num_class&#x27;: [50],\n",
       "                         &#x27;objective&#x27;: [&#x27;multi:softmax&#x27;]})</pre><b>In a Jupyter environment, please rerun this cell to show the HTML representation or trust the notebook. <br />On GitHub, the HTML representation is unable to render, please try loading this page with nbviewer.org.</b></div><div class=\"sk-container\" hidden><div class=\"sk-item sk-dashed-wrapped\"><div class=\"sk-label-container\"><div class=\"sk-label sk-toggleable\"><input class=\"sk-toggleable__control sk-hidden--visually\" id=\"sk-estimator-id-1\" type=\"checkbox\" ><label for=\"sk-estimator-id-1\" class=\"sk-toggleable__label sk-toggleable__label-arrow\">GridSearchCV</label><div class=\"sk-toggleable__content\"><pre>GridSearchCV(cv=5,\n",
       "             estimator=XGBClassifier(base_score=None, booster=None,\n",
       "                                     callbacks=None, colsample_bylevel=None,\n",
       "                                     colsample_bynode=None,\n",
       "                                     colsample_bytree=None,\n",
       "                                     early_stopping_rounds=None,\n",
       "                                     enable_categorical=False, eval_metric=None,\n",
       "                                     feature_types=None, gamma=None,\n",
       "                                     gpu_id=None, grow_policy=None,\n",
       "                                     importance_type=None,\n",
       "                                     interaction_constraints=None,\n",
       "                                     learning_rate=None,...\n",
       "                                     max_delta_step=None, max_depth=None,\n",
       "                                     max_leaves=None, min_child_weight=None,\n",
       "                                     missing=nan, monotone_constraints=None,\n",
       "                                     n_estimators=100, n_jobs=None,\n",
       "                                     num_parallel_tree=None, predictor=None,\n",
       "                                     random_state=None, ...),\n",
       "             param_grid={&#x27;learning_rate&#x27;: [0.1, 0.2, 0.3, 0.01, 0.001],\n",
       "                         &#x27;max_depth&#x27;: [3, 5, 7],\n",
       "                         &#x27;n_estimators&#x27;: [100, 200, 300], &#x27;num_class&#x27;: [50],\n",
       "                         &#x27;objective&#x27;: [&#x27;multi:softmax&#x27;]})</pre></div></div></div><div class=\"sk-parallel\"><div class=\"sk-parallel-item\"><div class=\"sk-item\"><div class=\"sk-label-container\"><div class=\"sk-label sk-toggleable\"><input class=\"sk-toggleable__control sk-hidden--visually\" id=\"sk-estimator-id-2\" type=\"checkbox\" ><label for=\"sk-estimator-id-2\" class=\"sk-toggleable__label sk-toggleable__label-arrow\">estimator: XGBClassifier</label><div class=\"sk-toggleable__content\"><pre>XGBClassifier(base_score=None, booster=None, callbacks=None,\n",
       "              colsample_bylevel=None, colsample_bynode=None,\n",
       "              colsample_bytree=None, early_stopping_rounds=None,\n",
       "              enable_categorical=False, eval_metric=None, feature_types=None,\n",
       "              gamma=None, gpu_id=None, grow_policy=None, importance_type=None,\n",
       "              interaction_constraints=None, learning_rate=None, max_bin=None,\n",
       "              max_cat_threshold=None, max_cat_to_onehot=None,\n",
       "              max_delta_step=None, max_depth=None, max_leaves=None,\n",
       "              min_child_weight=None, missing=nan, monotone_constraints=None,\n",
       "              n_estimators=100, n_jobs=None, num_parallel_tree=None,\n",
       "              predictor=None, random_state=None, ...)</pre></div></div></div><div class=\"sk-serial\"><div class=\"sk-item\"><div class=\"sk-estimator sk-toggleable\"><input class=\"sk-toggleable__control sk-hidden--visually\" id=\"sk-estimator-id-3\" type=\"checkbox\" ><label for=\"sk-estimator-id-3\" class=\"sk-toggleable__label sk-toggleable__label-arrow\">XGBClassifier</label><div class=\"sk-toggleable__content\"><pre>XGBClassifier(base_score=None, booster=None, callbacks=None,\n",
       "              colsample_bylevel=None, colsample_bynode=None,\n",
       "              colsample_bytree=None, early_stopping_rounds=None,\n",
       "              enable_categorical=False, eval_metric=None, feature_types=None,\n",
       "              gamma=None, gpu_id=None, grow_policy=None, importance_type=None,\n",
       "              interaction_constraints=None, learning_rate=None, max_bin=None,\n",
       "              max_cat_threshold=None, max_cat_to_onehot=None,\n",
       "              max_delta_step=None, max_depth=None, max_leaves=None,\n",
       "              min_child_weight=None, missing=nan, monotone_constraints=None,\n",
       "              n_estimators=100, n_jobs=None, num_parallel_tree=None,\n",
       "              predictor=None, random_state=None, ...)</pre></div></div></div></div></div></div></div></div></div></div>"
      ],
      "text/plain": [
       "GridSearchCV(cv=5,\n",
       "             estimator=XGBClassifier(base_score=None, booster=None,\n",
       "                                     callbacks=None, colsample_bylevel=None,\n",
       "                                     colsample_bynode=None,\n",
       "                                     colsample_bytree=None,\n",
       "                                     early_stopping_rounds=None,\n",
       "                                     enable_categorical=False, eval_metric=None,\n",
       "                                     feature_types=None, gamma=None,\n",
       "                                     gpu_id=None, grow_policy=None,\n",
       "                                     importance_type=None,\n",
       "                                     interaction_constraints=None,\n",
       "                                     learning_rate=None,...\n",
       "                                     max_delta_step=None, max_depth=None,\n",
       "                                     max_leaves=None, min_child_weight=None,\n",
       "                                     missing=nan, monotone_constraints=None,\n",
       "                                     n_estimators=100, n_jobs=None,\n",
       "                                     num_parallel_tree=None, predictor=None,\n",
       "                                     random_state=None, ...),\n",
       "             param_grid={'learning_rate': [0.1, 0.2, 0.3, 0.01, 0.001],\n",
       "                         'max_depth': [3, 5, 7],\n",
       "                         'n_estimators': [100, 200, 300], 'num_class': [50],\n",
       "                         'objective': ['multi:softmax']})"
      ]
     },
     "execution_count": 33,
     "metadata": {},
     "output_type": "execute_result"
    }
   ],
   "source": [
    "grid_search = GridSearchCV(estimator=xgb_model, param_grid=param_grid, cv=5)\n",
    "grid_search.fit(X_train, y_train)  # X and y are your training data\n"
   ]
  },
  {
   "cell_type": "code",
   "execution_count": 34,
   "id": "414ae402",
   "metadata": {},
   "outputs": [],
   "source": [
    "best_params = grid_search.best_params_\n",
    "best_model = grid_search.best_estimator_\n",
    "best_score = grid_search.best_score_"
   ]
  },
  {
   "cell_type": "code",
   "execution_count": 35,
   "id": "65145c64",
   "metadata": {},
   "outputs": [
    {
     "data": {
      "text/plain": [
       "{'learning_rate': 0.3,\n",
       " 'max_depth': 7,\n",
       " 'n_estimators': 300,\n",
       " 'num_class': 50,\n",
       " 'objective': 'multi:softmax'}"
      ]
     },
     "execution_count": 35,
     "metadata": {},
     "output_type": "execute_result"
    }
   ],
   "source": [
    "best_params"
   ]
  },
  {
   "cell_type": "code",
   "execution_count": 36,
   "id": "a36bc913",
   "metadata": {},
   "outputs": [
    {
     "data": {
      "text/plain": [
       "0.8548009367681498"
      ]
     },
     "execution_count": 36,
     "metadata": {},
     "output_type": "execute_result"
    }
   ],
   "source": [
    "best_score"
   ]
  },
  {
   "cell_type": "code",
   "execution_count": 37,
   "id": "af92c159",
   "metadata": {},
   "outputs": [
    {
     "data": {
      "text/plain": [
       "0.8477406679764243"
      ]
     },
     "execution_count": 37,
     "metadata": {},
     "output_type": "execute_result"
    }
   ],
   "source": [
    "y_pred = best_model.predict(X_test)\n",
    "\n",
    "# Evaluate the predictions\n",
    "accuracy = accuracy_score(y_test, y_pred)\n",
    "accuracy"
   ]
  },
  {
   "cell_type": "code",
   "execution_count": null,
   "id": "d5dd83e1",
   "metadata": {},
   "outputs": [],
   "source": []
  }
 ],
 "metadata": {
  "kernelspec": {
   "display_name": "Python 3 (ipykernel)",
   "language": "python",
   "name": "python3"
  },
  "language_info": {
   "codemirror_mode": {
    "name": "ipython",
    "version": 3
   },
   "file_extension": ".py",
   "mimetype": "text/x-python",
   "name": "python",
   "nbconvert_exporter": "python",
   "pygments_lexer": "ipython3",
   "version": "3.10.9"
  }
 },
 "nbformat": 4,
 "nbformat_minor": 5
}
