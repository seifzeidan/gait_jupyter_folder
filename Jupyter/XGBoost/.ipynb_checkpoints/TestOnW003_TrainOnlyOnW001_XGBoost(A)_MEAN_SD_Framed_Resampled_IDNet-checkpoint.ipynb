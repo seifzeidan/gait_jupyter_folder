{
 "cells": [
  {
   "cell_type": "code",
   "execution_count": 1,
   "id": "f125c479",
   "metadata": {},
   "outputs": [],
   "source": [
    "import pandas as pd\n",
    "import numpy as np\n",
    "import os\n",
    "import math\n",
    "import matplotlib.pyplot as plt\n",
    "from sklearn.model_selection import train_test_split\n",
    "from sklearn.preprocessing import StandardScaler, LabelEncoder\n",
    "from sklearn.metrics import accuracy_score"
   ]
  },
  {
   "cell_type": "code",
   "execution_count": 2,
   "id": "951f2718",
   "metadata": {},
   "outputs": [],
   "source": [
    "import xgboost as xgb\n",
    "from sklearn.model_selection import GridSearchCV\n"
   ]
  },
  {
   "cell_type": "code",
   "execution_count": 3,
   "id": "46eeb8ca",
   "metadata": {},
   "outputs": [],
   "source": [
    "# filepath = \"merged_u1-50_w001_resampled.csv\"\n",
    "filepath = \"D:/online dataset csv files preprocessing/MEAN_SD_FRAMED_RESAMPLED_merged_u1-50_w001_resampled.csv\"\n",
    "\n",
    "df_original = pd.read_csv(filepath)"
   ]
  },
  {
   "cell_type": "code",
   "execution_count": 4,
   "id": "5df5c0d0",
   "metadata": {},
   "outputs": [
    {
     "data": {
      "text/html": [
       "<div>\n",
       "<style scoped>\n",
       "    .dataframe tbody tr th:only-of-type {\n",
       "        vertical-align: middle;\n",
       "    }\n",
       "\n",
       "    .dataframe tbody tr th {\n",
       "        vertical-align: top;\n",
       "    }\n",
       "\n",
       "    .dataframe thead th {\n",
       "        text-align: right;\n",
       "    }\n",
       "</style>\n",
       "<table border=\"1\" class=\"dataframe\">\n",
       "  <thead>\n",
       "    <tr style=\"text-align: right;\">\n",
       "      <th></th>\n",
       "      <th>name</th>\n",
       "      <th>mean_LA(x)</th>\n",
       "      <th>mean_LA(y)</th>\n",
       "      <th>mean_LA(z)</th>\n",
       "      <th>mean_GY(x)</th>\n",
       "      <th>mean_GY(y)</th>\n",
       "      <th>mean_GY(z)</th>\n",
       "      <th>sd_LA(x)</th>\n",
       "      <th>sd_LA(y)</th>\n",
       "      <th>sd_LA(z)</th>\n",
       "      <th>sd_GY(x)</th>\n",
       "      <th>sd_GY(y)</th>\n",
       "      <th>sd_GY(z)</th>\n",
       "    </tr>\n",
       "  </thead>\n",
       "  <tbody>\n",
       "    <tr>\n",
       "      <th>0</th>\n",
       "      <td>1.0</td>\n",
       "      <td>-0.393514</td>\n",
       "      <td>-0.231500</td>\n",
       "      <td>0.259489</td>\n",
       "      <td>-0.136301</td>\n",
       "      <td>0.808596</td>\n",
       "      <td>0.365505</td>\n",
       "      <td>1.607389</td>\n",
       "      <td>2.060070</td>\n",
       "      <td>1.568203</td>\n",
       "      <td>0.718605</td>\n",
       "      <td>1.529494</td>\n",
       "      <td>0.896005</td>\n",
       "    </tr>\n",
       "    <tr>\n",
       "      <th>1</th>\n",
       "      <td>1.0</td>\n",
       "      <td>0.977162</td>\n",
       "      <td>0.184893</td>\n",
       "      <td>0.420916</td>\n",
       "      <td>0.122411</td>\n",
       "      <td>0.074673</td>\n",
       "      <td>-0.052158</td>\n",
       "      <td>3.646011</td>\n",
       "      <td>3.797331</td>\n",
       "      <td>5.745886</td>\n",
       "      <td>1.701895</td>\n",
       "      <td>2.413996</td>\n",
       "      <td>0.913987</td>\n",
       "    </tr>\n",
       "    <tr>\n",
       "      <th>2</th>\n",
       "      <td>1.0</td>\n",
       "      <td>0.868165</td>\n",
       "      <td>-0.320024</td>\n",
       "      <td>-0.093038</td>\n",
       "      <td>0.056006</td>\n",
       "      <td>0.094478</td>\n",
       "      <td>-0.247336</td>\n",
       "      <td>5.704045</td>\n",
       "      <td>3.265884</td>\n",
       "      <td>7.824760</td>\n",
       "      <td>2.248331</td>\n",
       "      <td>1.981881</td>\n",
       "      <td>0.899200</td>\n",
       "    </tr>\n",
       "    <tr>\n",
       "      <th>3</th>\n",
       "      <td>1.0</td>\n",
       "      <td>0.651436</td>\n",
       "      <td>-0.042524</td>\n",
       "      <td>0.129633</td>\n",
       "      <td>-0.075404</td>\n",
       "      <td>0.128380</td>\n",
       "      <td>-0.227428</td>\n",
       "      <td>5.328452</td>\n",
       "      <td>3.304334</td>\n",
       "      <td>7.017526</td>\n",
       "      <td>2.167866</td>\n",
       "      <td>1.981418</td>\n",
       "      <td>0.940454</td>\n",
       "    </tr>\n",
       "    <tr>\n",
       "      <th>4</th>\n",
       "      <td>1.0</td>\n",
       "      <td>1.084959</td>\n",
       "      <td>-0.319923</td>\n",
       "      <td>-0.195518</td>\n",
       "      <td>0.028891</td>\n",
       "      <td>0.026057</td>\n",
       "      <td>-0.323677</td>\n",
       "      <td>6.076534</td>\n",
       "      <td>3.319325</td>\n",
       "      <td>7.810847</td>\n",
       "      <td>2.432790</td>\n",
       "      <td>2.110462</td>\n",
       "      <td>1.009521</td>\n",
       "    </tr>\n",
       "    <tr>\n",
       "      <th>...</th>\n",
       "      <td>...</td>\n",
       "      <td>...</td>\n",
       "      <td>...</td>\n",
       "      <td>...</td>\n",
       "      <td>...</td>\n",
       "      <td>...</td>\n",
       "      <td>...</td>\n",
       "      <td>...</td>\n",
       "      <td>...</td>\n",
       "      <td>...</td>\n",
       "      <td>...</td>\n",
       "      <td>...</td>\n",
       "      <td>...</td>\n",
       "    </tr>\n",
       "    <tr>\n",
       "      <th>3386</th>\n",
       "      <td>50.0</td>\n",
       "      <td>-1.020807</td>\n",
       "      <td>-1.171016</td>\n",
       "      <td>1.729468</td>\n",
       "      <td>-0.003498</td>\n",
       "      <td>0.020327</td>\n",
       "      <td>-0.145425</td>\n",
       "      <td>3.422165</td>\n",
       "      <td>3.917514</td>\n",
       "      <td>4.235285</td>\n",
       "      <td>1.613613</td>\n",
       "      <td>1.298959</td>\n",
       "      <td>0.921226</td>\n",
       "    </tr>\n",
       "    <tr>\n",
       "      <th>3387</th>\n",
       "      <td>50.0</td>\n",
       "      <td>-1.184758</td>\n",
       "      <td>-1.406637</td>\n",
       "      <td>1.470867</td>\n",
       "      <td>0.128532</td>\n",
       "      <td>0.110669</td>\n",
       "      <td>-0.030852</td>\n",
       "      <td>3.626671</td>\n",
       "      <td>3.994308</td>\n",
       "      <td>4.448399</td>\n",
       "      <td>1.530076</td>\n",
       "      <td>1.284954</td>\n",
       "      <td>0.988766</td>\n",
       "    </tr>\n",
       "    <tr>\n",
       "      <th>3388</th>\n",
       "      <td>50.0</td>\n",
       "      <td>-0.831645</td>\n",
       "      <td>-0.959262</td>\n",
       "      <td>1.536584</td>\n",
       "      <td>-0.042937</td>\n",
       "      <td>-0.211504</td>\n",
       "      <td>-0.157940</td>\n",
       "      <td>3.738687</td>\n",
       "      <td>4.264228</td>\n",
       "      <td>4.597193</td>\n",
       "      <td>1.632034</td>\n",
       "      <td>1.387187</td>\n",
       "      <td>1.007491</td>\n",
       "    </tr>\n",
       "    <tr>\n",
       "      <th>3389</th>\n",
       "      <td>50.0</td>\n",
       "      <td>-0.732001</td>\n",
       "      <td>-0.887330</td>\n",
       "      <td>1.679462</td>\n",
       "      <td>0.130207</td>\n",
       "      <td>0.025768</td>\n",
       "      <td>-0.080390</td>\n",
       "      <td>3.218597</td>\n",
       "      <td>3.704232</td>\n",
       "      <td>4.181007</td>\n",
       "      <td>1.579482</td>\n",
       "      <td>1.185527</td>\n",
       "      <td>0.788691</td>\n",
       "    </tr>\n",
       "    <tr>\n",
       "      <th>3390</th>\n",
       "      <td>50.0</td>\n",
       "      <td>-1.112609</td>\n",
       "      <td>-0.923574</td>\n",
       "      <td>1.790004</td>\n",
       "      <td>-0.037886</td>\n",
       "      <td>0.016173</td>\n",
       "      <td>-0.150160</td>\n",
       "      <td>3.509659</td>\n",
       "      <td>4.391247</td>\n",
       "      <td>4.704499</td>\n",
       "      <td>1.732431</td>\n",
       "      <td>1.365022</td>\n",
       "      <td>0.826021</td>\n",
       "    </tr>\n",
       "  </tbody>\n",
       "</table>\n",
       "<p>3391 rows × 13 columns</p>\n",
       "</div>"
      ],
      "text/plain": [
       "      name  mean_LA(x)  mean_LA(y)  mean_LA(z)  mean_GY(x)  mean_GY(y)  \\\n",
       "0      1.0   -0.393514   -0.231500    0.259489   -0.136301    0.808596   \n",
       "1      1.0    0.977162    0.184893    0.420916    0.122411    0.074673   \n",
       "2      1.0    0.868165   -0.320024   -0.093038    0.056006    0.094478   \n",
       "3      1.0    0.651436   -0.042524    0.129633   -0.075404    0.128380   \n",
       "4      1.0    1.084959   -0.319923   -0.195518    0.028891    0.026057   \n",
       "...    ...         ...         ...         ...         ...         ...   \n",
       "3386  50.0   -1.020807   -1.171016    1.729468   -0.003498    0.020327   \n",
       "3387  50.0   -1.184758   -1.406637    1.470867    0.128532    0.110669   \n",
       "3388  50.0   -0.831645   -0.959262    1.536584   -0.042937   -0.211504   \n",
       "3389  50.0   -0.732001   -0.887330    1.679462    0.130207    0.025768   \n",
       "3390  50.0   -1.112609   -0.923574    1.790004   -0.037886    0.016173   \n",
       "\n",
       "      mean_GY(z)  sd_LA(x)  sd_LA(y)  sd_LA(z)  sd_GY(x)  sd_GY(y)  sd_GY(z)  \n",
       "0       0.365505  1.607389  2.060070  1.568203  0.718605  1.529494  0.896005  \n",
       "1      -0.052158  3.646011  3.797331  5.745886  1.701895  2.413996  0.913987  \n",
       "2      -0.247336  5.704045  3.265884  7.824760  2.248331  1.981881  0.899200  \n",
       "3      -0.227428  5.328452  3.304334  7.017526  2.167866  1.981418  0.940454  \n",
       "4      -0.323677  6.076534  3.319325  7.810847  2.432790  2.110462  1.009521  \n",
       "...          ...       ...       ...       ...       ...       ...       ...  \n",
       "3386   -0.145425  3.422165  3.917514  4.235285  1.613613  1.298959  0.921226  \n",
       "3387   -0.030852  3.626671  3.994308  4.448399  1.530076  1.284954  0.988766  \n",
       "3388   -0.157940  3.738687  4.264228  4.597193  1.632034  1.387187  1.007491  \n",
       "3389   -0.080390  3.218597  3.704232  4.181007  1.579482  1.185527  0.788691  \n",
       "3390   -0.150160  3.509659  4.391247  4.704499  1.732431  1.365022  0.826021  \n",
       "\n",
       "[3391 rows x 13 columns]"
      ]
     },
     "execution_count": 4,
     "metadata": {},
     "output_type": "execute_result"
    }
   ],
   "source": [
    "df_original"
   ]
  },
  {
   "cell_type": "code",
   "execution_count": 5,
   "id": "1c56c29c",
   "metadata": {},
   "outputs": [],
   "source": [
    "X = df_original.drop('name', axis=1)  # Features (all columns except the target)\n",
    "y = df_original['name']  # Labels"
   ]
  },
  {
   "cell_type": "code",
   "execution_count": 6,
   "id": "45290129",
   "metadata": {},
   "outputs": [],
   "source": [
    "y = y -1"
   ]
  },
  {
   "cell_type": "code",
   "execution_count": 7,
   "id": "c63e51fa",
   "metadata": {},
   "outputs": [
    {
     "data": {
      "text/plain": [
       "((2135, 12), (1018, 12), (238, 12), (2135,), (1018,), (238,))"
      ]
     },
     "execution_count": 7,
     "metadata": {},
     "output_type": "execute_result"
    }
   ],
   "source": [
    "X_train_val, X_test, y_train_val, y_test = train_test_split(X, y, test_size = 0.3, random_state = 0, stratify = y)\n",
    "\n",
    "X_train, X_validation, y_train, y_validation = train_test_split(X_train_val, y_train_val, test_size = 0.1, random_state = 0, stratify = y_train_val)\n",
    "X_train.shape, X_test.shape, X_validation.shape, y_train.shape, y_test.shape, y_validation.shape"
   ]
  },
  {
   "cell_type": "code",
   "execution_count": 8,
   "id": "2f8d8b5d",
   "metadata": {},
   "outputs": [],
   "source": [
    "dtrain = xgb.DMatrix(X_train, label=y_train)\n",
    "dtest = xgb.DMatrix(X_test)\n",
    "dval = xgb.DMatrix(X_validation, label=y_validation)"
   ]
  },
  {
   "cell_type": "code",
   "execution_count": 9,
   "id": "6ab8df61",
   "metadata": {},
   "outputs": [
    {
     "data": {
      "text/plain": [
       "(<xgboost.core.DMatrix at 0x193f8dbbee0>,\n",
       " <xgboost.core.DMatrix at 0x193f8dbb5e0>,\n",
       " <xgboost.core.DMatrix at 0x193f8dbb700>)"
      ]
     },
     "execution_count": 9,
     "metadata": {},
     "output_type": "execute_result"
    }
   ],
   "source": [
    "dtrain, dtest, dval"
   ]
  },
  {
   "cell_type": "code",
   "execution_count": 10,
   "id": "754cb245",
   "metadata": {},
   "outputs": [],
   "source": [
    "params = {\n",
    "    'max_depth': 7,\n",
    "    'learning_rate': 0.3,\n",
    "    'objective': 'multi:softmax',\n",
    "    'num_class': 50\n",
    "}\n",
    "epochs = 25\n",
    "evals_result = {}  # Initialize an empty dictionary to store the evaluation results"
   ]
  },
  {
   "cell_type": "code",
   "execution_count": 11,
   "id": "17d6770d",
   "metadata": {},
   "outputs": [],
   "source": [
    "model = xgb.train(params, dtrain, epochs,  verbose_eval=1)"
   ]
  },
  {
   "cell_type": "code",
   "execution_count": 12,
   "id": "e0f5cfda",
   "metadata": {},
   "outputs": [
    {
     "name": "stdout",
     "output_type": "stream",
     "text": [
      "[0]\ttrain-mlogloss:1.14447\tvalid-mlogloss:1.40249\n",
      "[1]\ttrain-mlogloss:0.85780\tvalid-mlogloss:1.18015\n",
      "[2]\ttrain-mlogloss:0.67313\tvalid-mlogloss:1.03919\n",
      "[3]\ttrain-mlogloss:0.54274\tvalid-mlogloss:0.93728\n",
      "[4]\ttrain-mlogloss:0.44494\tvalid-mlogloss:0.86370\n",
      "[5]\ttrain-mlogloss:0.36969\tvalid-mlogloss:0.80361\n",
      "[6]\ttrain-mlogloss:0.31062\tvalid-mlogloss:0.76315\n",
      "[7]\ttrain-mlogloss:0.26441\tvalid-mlogloss:0.72826\n",
      "[8]\ttrain-mlogloss:0.22794\tvalid-mlogloss:0.70179\n",
      "[9]\ttrain-mlogloss:0.19881\tvalid-mlogloss:0.67891\n",
      "[10]\ttrain-mlogloss:0.17556\tvalid-mlogloss:0.66019\n",
      "[11]\ttrain-mlogloss:0.15669\tvalid-mlogloss:0.64749\n",
      "[12]\ttrain-mlogloss:0.14164\tvalid-mlogloss:0.63723\n",
      "[13]\ttrain-mlogloss:0.12957\tvalid-mlogloss:0.62506\n",
      "[14]\ttrain-mlogloss:0.11976\tvalid-mlogloss:0.61758\n",
      "[15]\ttrain-mlogloss:0.11176\tvalid-mlogloss:0.61290\n",
      "[16]\ttrain-mlogloss:0.10505\tvalid-mlogloss:0.60896\n",
      "[17]\ttrain-mlogloss:0.09941\tvalid-mlogloss:0.60493\n",
      "[18]\ttrain-mlogloss:0.09476\tvalid-mlogloss:0.60460\n",
      "[19]\ttrain-mlogloss:0.09087\tvalid-mlogloss:0.60397\n",
      "[20]\ttrain-mlogloss:0.08749\tvalid-mlogloss:0.60189\n",
      "[21]\ttrain-mlogloss:0.08463\tvalid-mlogloss:0.59948\n",
      "[22]\ttrain-mlogloss:0.08218\tvalid-mlogloss:0.59923\n",
      "[23]\ttrain-mlogloss:0.08007\tvalid-mlogloss:0.59835\n",
      "[24]\ttrain-mlogloss:0.07828\tvalid-mlogloss:0.59820\n"
     ]
    }
   ],
   "source": [
    "model = xgb.train(params, dtrain, epochs, evals=[(dtrain, 'train'), (dval, 'valid')],\n",
    "                  evals_result=evals_result, verbose_eval=1)"
   ]
  },
  {
   "cell_type": "code",
   "execution_count": 13,
   "id": "73cad87f",
   "metadata": {},
   "outputs": [],
   "source": [
    "predictions = model.predict(dtest)"
   ]
  },
  {
   "cell_type": "code",
   "execution_count": 14,
   "id": "6a6fe10d",
   "metadata": {},
   "outputs": [
    {
     "name": "stdout",
     "output_type": "stream",
     "text": [
      "[40. 18. 40. ... 13. 11. 17.]\n"
     ]
    }
   ],
   "source": [
    "print(predictions)"
   ]
  },
  {
   "cell_type": "code",
   "execution_count": 15,
   "id": "1e5aa112",
   "metadata": {},
   "outputs": [
    {
     "data": {
      "text/plain": [
       "0.8428290766208252"
      ]
     },
     "execution_count": 15,
     "metadata": {},
     "output_type": "execute_result"
    }
   ],
   "source": [
    "accuracy_score(y_test, predictions)"
   ]
  },
  {
   "cell_type": "code",
   "execution_count": null,
   "id": "bba2c40e",
   "metadata": {},
   "outputs": [],
   "source": []
  },
  {
   "cell_type": "code",
   "execution_count": 16,
   "id": "de036f42",
   "metadata": {},
   "outputs": [],
   "source": [
    "# xgb_model = xgb.XGBClassifier()"
   ]
  },
  {
   "cell_type": "code",
   "execution_count": 17,
   "id": "8f045bd0",
   "metadata": {},
   "outputs": [],
   "source": [
    "# param_grid = {\n",
    "#     'max_depth': [3, 5, 7],\n",
    "#     'learning_rate': [0.1,0.2, 0.3, 0.01, 0.001],\n",
    "#     'n_estimators': [100, 200, 300],\n",
    "#     'objective': ['multi:softmax'],\n",
    "#     'num_class': [50] \n",
    "# }\n"
   ]
  },
  {
   "cell_type": "code",
   "execution_count": 18,
   "id": "f3f89850",
   "metadata": {},
   "outputs": [],
   "source": [
    "# grid_search = GridSearchCV(estimator=xgb_model, param_grid=param_grid, cv=5)\n",
    "# grid_search.fit(X_train, y_train)  # X and y are your training data\n"
   ]
  },
  {
   "cell_type": "code",
   "execution_count": 19,
   "id": "21cd86e3",
   "metadata": {},
   "outputs": [],
   "source": [
    "# best_params = grid_search.best_params_\n",
    "# best_model = grid_search.best_estimator_\n",
    "# best_score = grid_search.best_score_"
   ]
  },
  {
   "cell_type": "code",
   "execution_count": 20,
   "id": "12e0259c",
   "metadata": {},
   "outputs": [],
   "source": [
    "# best_params"
   ]
  },
  {
   "cell_type": "code",
   "execution_count": 21,
   "id": "62723404",
   "metadata": {},
   "outputs": [],
   "source": [
    "# best_score"
   ]
  },
  {
   "cell_type": "code",
   "execution_count": 22,
   "id": "4f9fdf82",
   "metadata": {},
   "outputs": [],
   "source": [
    "# y_pred = best_model.predict(X_test)\n",
    "\n",
    "# # Evaluate the predictions\n",
    "# accuracy = accuracy_score(y_test, y_pred)\n",
    "# accuracy"
   ]
  },
  {
   "cell_type": "code",
   "execution_count": null,
   "id": "1c637f10",
   "metadata": {},
   "outputs": [],
   "source": []
  },
  {
   "cell_type": "code",
   "execution_count": 23,
   "id": "0e25e14b",
   "metadata": {},
   "outputs": [],
   "source": [
    "# xgb_model2 = xgb.XGBClassifier()"
   ]
  },
  {
   "cell_type": "code",
   "execution_count": 24,
   "id": "d3616d34",
   "metadata": {},
   "outputs": [],
   "source": [
    "# param_grid2 = {\n",
    "#     'max_depth': [7, 9, 11],\n",
    "#     'learning_rate': [ 0.3, 0.4, 0.5],\n",
    "#     'n_estimators': [ 300, 400, 500],\n",
    "#     'objective': ['multi:softmax'],\n",
    "#     'num_class': [50] \n",
    "# }"
   ]
  },
  {
   "cell_type": "code",
   "execution_count": 25,
   "id": "347975ee",
   "metadata": {},
   "outputs": [],
   "source": [
    "# grid_search2 = GridSearchCV(estimator=xgb_model2, param_grid=param_grid2, cv=5)\n",
    "# grid_search2.fit(X_train, y_train)  # X and y are your training data\n"
   ]
  },
  {
   "cell_type": "code",
   "execution_count": 26,
   "id": "6b5b77c2",
   "metadata": {},
   "outputs": [],
   "source": [
    "# best_params2 = grid_search2.best_params_\n",
    "# best_model2 = grid_search2.best_estimator_\n",
    "# best_score2 = grid_search2.best_score_"
   ]
  },
  {
   "cell_type": "code",
   "execution_count": 27,
   "id": "c5708a81",
   "metadata": {},
   "outputs": [],
   "source": [
    "# best_params2"
   ]
  },
  {
   "cell_type": "code",
   "execution_count": 28,
   "id": "a5dae84d",
   "metadata": {},
   "outputs": [],
   "source": [
    "# best_score2"
   ]
  },
  {
   "cell_type": "code",
   "execution_count": 29,
   "id": "57de309c",
   "metadata": {},
   "outputs": [],
   "source": [
    "# y_pred2 = best_model2.predict(X_test)\n",
    "\n",
    "# # Evaluate the predictions\n",
    "# accuracy2 = accuracy_score(y_test, y_pred2)\n",
    "# accuracy2"
   ]
  },
  {
   "cell_type": "code",
   "execution_count": null,
   "id": "cc3ab72c",
   "metadata": {},
   "outputs": [],
   "source": []
  },
  {
   "cell_type": "markdown",
   "id": "59098f77",
   "metadata": {},
   "source": [
    "# Test on W003 train only on w001"
   ]
  },
  {
   "cell_type": "code",
   "execution_count": 30,
   "id": "c46efa1b",
   "metadata": {},
   "outputs": [
    {
     "data": {
      "text/html": [
       "<div>\n",
       "<style scoped>\n",
       "    .dataframe tbody tr th:only-of-type {\n",
       "        vertical-align: middle;\n",
       "    }\n",
       "\n",
       "    .dataframe tbody tr th {\n",
       "        vertical-align: top;\n",
       "    }\n",
       "\n",
       "    .dataframe thead th {\n",
       "        text-align: right;\n",
       "    }\n",
       "</style>\n",
       "<table border=\"1\" class=\"dataframe\">\n",
       "  <thead>\n",
       "    <tr style=\"text-align: right;\">\n",
       "      <th></th>\n",
       "      <th>name</th>\n",
       "      <th>mean_LA(x)</th>\n",
       "      <th>mean_LA(y)</th>\n",
       "      <th>mean_LA(z)</th>\n",
       "      <th>mean_GY(x)</th>\n",
       "      <th>mean_GY(y)</th>\n",
       "      <th>mean_GY(z)</th>\n",
       "      <th>sd_LA(x)</th>\n",
       "      <th>sd_LA(y)</th>\n",
       "      <th>sd_LA(z)</th>\n",
       "      <th>sd_GY(x)</th>\n",
       "      <th>sd_GY(y)</th>\n",
       "      <th>sd_GY(z)</th>\n",
       "    </tr>\n",
       "  </thead>\n",
       "  <tbody>\n",
       "    <tr>\n",
       "      <th>0</th>\n",
       "      <td>1.0</td>\n",
       "      <td>0.386382</td>\n",
       "      <td>-0.307456</td>\n",
       "      <td>0.086360</td>\n",
       "      <td>0.173614</td>\n",
       "      <td>0.094792</td>\n",
       "      <td>0.102852</td>\n",
       "      <td>1.087673</td>\n",
       "      <td>0.819187</td>\n",
       "      <td>1.965811</td>\n",
       "      <td>0.751560</td>\n",
       "      <td>1.078213</td>\n",
       "      <td>0.834807</td>\n",
       "    </tr>\n",
       "    <tr>\n",
       "      <th>1</th>\n",
       "      <td>1.0</td>\n",
       "      <td>0.616286</td>\n",
       "      <td>-0.005281</td>\n",
       "      <td>-0.275717</td>\n",
       "      <td>-0.046517</td>\n",
       "      <td>-0.211134</td>\n",
       "      <td>0.203568</td>\n",
       "      <td>2.364446</td>\n",
       "      <td>2.792034</td>\n",
       "      <td>2.924015</td>\n",
       "      <td>1.323089</td>\n",
       "      <td>1.555531</td>\n",
       "      <td>1.146584</td>\n",
       "    </tr>\n",
       "    <tr>\n",
       "      <th>2</th>\n",
       "      <td>1.0</td>\n",
       "      <td>0.742758</td>\n",
       "      <td>-0.029682</td>\n",
       "      <td>0.064751</td>\n",
       "      <td>0.065861</td>\n",
       "      <td>0.089636</td>\n",
       "      <td>-0.359625</td>\n",
       "      <td>4.267055</td>\n",
       "      <td>3.059911</td>\n",
       "      <td>4.778589</td>\n",
       "      <td>2.503316</td>\n",
       "      <td>1.682258</td>\n",
       "      <td>0.832699</td>\n",
       "    </tr>\n",
       "    <tr>\n",
       "      <th>3</th>\n",
       "      <td>1.0</td>\n",
       "      <td>0.578810</td>\n",
       "      <td>0.092361</td>\n",
       "      <td>-0.198499</td>\n",
       "      <td>-0.015073</td>\n",
       "      <td>0.200684</td>\n",
       "      <td>-0.232927</td>\n",
       "      <td>4.646758</td>\n",
       "      <td>2.479645</td>\n",
       "      <td>5.152368</td>\n",
       "      <td>2.402857</td>\n",
       "      <td>1.818941</td>\n",
       "      <td>0.810417</td>\n",
       "    </tr>\n",
       "    <tr>\n",
       "      <th>4</th>\n",
       "      <td>1.0</td>\n",
       "      <td>0.810320</td>\n",
       "      <td>-0.227920</td>\n",
       "      <td>-0.033022</td>\n",
       "      <td>0.062758</td>\n",
       "      <td>0.102051</td>\n",
       "      <td>-0.445138</td>\n",
       "      <td>4.350163</td>\n",
       "      <td>3.503677</td>\n",
       "      <td>4.915313</td>\n",
       "      <td>2.851151</td>\n",
       "      <td>1.576465</td>\n",
       "      <td>1.001127</td>\n",
       "    </tr>\n",
       "    <tr>\n",
       "      <th>...</th>\n",
       "      <td>...</td>\n",
       "      <td>...</td>\n",
       "      <td>...</td>\n",
       "      <td>...</td>\n",
       "      <td>...</td>\n",
       "      <td>...</td>\n",
       "      <td>...</td>\n",
       "      <td>...</td>\n",
       "      <td>...</td>\n",
       "      <td>...</td>\n",
       "      <td>...</td>\n",
       "      <td>...</td>\n",
       "      <td>...</td>\n",
       "    </tr>\n",
       "    <tr>\n",
       "      <th>859</th>\n",
       "      <td>46.0</td>\n",
       "      <td>0.705186</td>\n",
       "      <td>0.417872</td>\n",
       "      <td>1.283388</td>\n",
       "      <td>-0.101281</td>\n",
       "      <td>-0.006908</td>\n",
       "      <td>-0.252925</td>\n",
       "      <td>3.284774</td>\n",
       "      <td>5.370082</td>\n",
       "      <td>4.012125</td>\n",
       "      <td>1.494974</td>\n",
       "      <td>2.045627</td>\n",
       "      <td>1.474941</td>\n",
       "    </tr>\n",
       "    <tr>\n",
       "      <th>860</th>\n",
       "      <td>46.0</td>\n",
       "      <td>0.546467</td>\n",
       "      <td>0.552892</td>\n",
       "      <td>1.236854</td>\n",
       "      <td>-0.090232</td>\n",
       "      <td>0.009600</td>\n",
       "      <td>-0.242734</td>\n",
       "      <td>3.123523</td>\n",
       "      <td>5.114980</td>\n",
       "      <td>3.469226</td>\n",
       "      <td>1.452325</td>\n",
       "      <td>2.101214</td>\n",
       "      <td>1.514667</td>\n",
       "    </tr>\n",
       "    <tr>\n",
       "      <th>861</th>\n",
       "      <td>46.0</td>\n",
       "      <td>0.468091</td>\n",
       "      <td>0.667156</td>\n",
       "      <td>1.248859</td>\n",
       "      <td>-0.200968</td>\n",
       "      <td>-0.174246</td>\n",
       "      <td>-0.116602</td>\n",
       "      <td>3.281968</td>\n",
       "      <td>5.118347</td>\n",
       "      <td>3.858200</td>\n",
       "      <td>1.422056</td>\n",
       "      <td>2.030406</td>\n",
       "      <td>1.441745</td>\n",
       "    </tr>\n",
       "    <tr>\n",
       "      <th>862</th>\n",
       "      <td>46.0</td>\n",
       "      <td>0.717560</td>\n",
       "      <td>0.564407</td>\n",
       "      <td>1.258654</td>\n",
       "      <td>-0.101314</td>\n",
       "      <td>0.012781</td>\n",
       "      <td>-0.254750</td>\n",
       "      <td>3.040752</td>\n",
       "      <td>5.081103</td>\n",
       "      <td>3.740740</td>\n",
       "      <td>1.446703</td>\n",
       "      <td>2.018316</td>\n",
       "      <td>1.431768</td>\n",
       "    </tr>\n",
       "    <tr>\n",
       "      <th>863</th>\n",
       "      <td>46.0</td>\n",
       "      <td>0.472654</td>\n",
       "      <td>0.502299</td>\n",
       "      <td>1.015858</td>\n",
       "      <td>-0.131753</td>\n",
       "      <td>-0.120984</td>\n",
       "      <td>-0.137299</td>\n",
       "      <td>2.692983</td>\n",
       "      <td>3.929297</td>\n",
       "      <td>3.039848</td>\n",
       "      <td>1.244480</td>\n",
       "      <td>1.629621</td>\n",
       "      <td>1.240662</td>\n",
       "    </tr>\n",
       "  </tbody>\n",
       "</table>\n",
       "<p>864 rows × 13 columns</p>\n",
       "</div>"
      ],
      "text/plain": [
       "     name  mean_LA(x)  mean_LA(y)  mean_LA(z)  mean_GY(x)  mean_GY(y)  \\\n",
       "0     1.0    0.386382   -0.307456    0.086360    0.173614    0.094792   \n",
       "1     1.0    0.616286   -0.005281   -0.275717   -0.046517   -0.211134   \n",
       "2     1.0    0.742758   -0.029682    0.064751    0.065861    0.089636   \n",
       "3     1.0    0.578810    0.092361   -0.198499   -0.015073    0.200684   \n",
       "4     1.0    0.810320   -0.227920   -0.033022    0.062758    0.102051   \n",
       "..    ...         ...         ...         ...         ...         ...   \n",
       "859  46.0    0.705186    0.417872    1.283388   -0.101281   -0.006908   \n",
       "860  46.0    0.546467    0.552892    1.236854   -0.090232    0.009600   \n",
       "861  46.0    0.468091    0.667156    1.248859   -0.200968   -0.174246   \n",
       "862  46.0    0.717560    0.564407    1.258654   -0.101314    0.012781   \n",
       "863  46.0    0.472654    0.502299    1.015858   -0.131753   -0.120984   \n",
       "\n",
       "     mean_GY(z)  sd_LA(x)  sd_LA(y)  sd_LA(z)  sd_GY(x)  sd_GY(y)  sd_GY(z)  \n",
       "0      0.102852  1.087673  0.819187  1.965811  0.751560  1.078213  0.834807  \n",
       "1      0.203568  2.364446  2.792034  2.924015  1.323089  1.555531  1.146584  \n",
       "2     -0.359625  4.267055  3.059911  4.778589  2.503316  1.682258  0.832699  \n",
       "3     -0.232927  4.646758  2.479645  5.152368  2.402857  1.818941  0.810417  \n",
       "4     -0.445138  4.350163  3.503677  4.915313  2.851151  1.576465  1.001127  \n",
       "..          ...       ...       ...       ...       ...       ...       ...  \n",
       "859   -0.252925  3.284774  5.370082  4.012125  1.494974  2.045627  1.474941  \n",
       "860   -0.242734  3.123523  5.114980  3.469226  1.452325  2.101214  1.514667  \n",
       "861   -0.116602  3.281968  5.118347  3.858200  1.422056  2.030406  1.441745  \n",
       "862   -0.254750  3.040752  5.081103  3.740740  1.446703  2.018316  1.431768  \n",
       "863   -0.137299  2.692983  3.929297  3.039848  1.244480  1.629621  1.240662  \n",
       "\n",
       "[864 rows x 13 columns]"
      ]
     },
     "execution_count": 30,
     "metadata": {},
     "output_type": "execute_result"
    }
   ],
   "source": [
    "# filepath = \"merged_u1-50_w001_resampled.csv\"\n",
    "filepath_3 = \"D:/online dataset csv files preprocessing/MEAN_SD_FRAMED_RESAMPLED_merged_14u_w003_resampled.csv\"\n",
    "\n",
    "df_original_3 = pd.read_csv(filepath_3)\n",
    "df_original_3"
   ]
  },
  {
   "cell_type": "code",
   "execution_count": 31,
   "id": "d558d6cc",
   "metadata": {},
   "outputs": [],
   "source": [
    "X_3 = df_original_3.drop('name', axis=1)  # Features (all columns except the target)\n",
    "y_3 = df_original_3['name']  # Labels"
   ]
  },
  {
   "cell_type": "code",
   "execution_count": 32,
   "id": "c49503b5",
   "metadata": {},
   "outputs": [],
   "source": [
    "y_3 = y_3 -1"
   ]
  },
  {
   "cell_type": "code",
   "execution_count": 38,
   "id": "f9255a80",
   "metadata": {},
   "outputs": [
    {
     "data": {
      "text/plain": [
       "0    0.0\n",
       "1    0.0\n",
       "2    0.0\n",
       "3    0.0\n",
       "Name: name, dtype: float64"
      ]
     },
     "execution_count": 38,
     "metadata": {},
     "output_type": "execute_result"
    }
   ],
   "source": [
    "y_3[:4]"
   ]
  },
  {
   "cell_type": "code",
   "execution_count": 33,
   "id": "360d34a7",
   "metadata": {},
   "outputs": [
    {
     "data": {
      "text/plain": [
       "<xgboost.core.DMatrix at 0x193f90360b0>"
      ]
     },
     "execution_count": 33,
     "metadata": {},
     "output_type": "execute_result"
    }
   ],
   "source": [
    "dX_3 = xgb.DMatrix(X_3)\n",
    "dX_3"
   ]
  },
  {
   "cell_type": "code",
   "execution_count": 36,
   "id": "10de6d17",
   "metadata": {},
   "outputs": [
    {
     "name": "stdout",
     "output_type": "stream",
     "text": [
      "[36. 46. 42. 42.]\n"
     ]
    }
   ],
   "source": [
    "predictions_3 = model.predict(dX_3)\n",
    "print(predictions_3[:4])"
   ]
  },
  {
   "cell_type": "code",
   "execution_count": 37,
   "id": "a35ce40e",
   "metadata": {},
   "outputs": [
    {
     "data": {
      "text/plain": [
       "0.33796296296296297"
      ]
     },
     "execution_count": 37,
     "metadata": {},
     "output_type": "execute_result"
    }
   ],
   "source": [
    "accuracy_score(y_3, predictions_3)"
   ]
  },
  {
   "cell_type": "code",
   "execution_count": null,
   "id": "ef0adc07",
   "metadata": {},
   "outputs": [],
   "source": []
  }
 ],
 "metadata": {
  "kernelspec": {
   "display_name": "Python 3 (ipykernel)",
   "language": "python",
   "name": "python3"
  },
  "language_info": {
   "codemirror_mode": {
    "name": "ipython",
    "version": 3
   },
   "file_extension": ".py",
   "mimetype": "text/x-python",
   "name": "python",
   "nbconvert_exporter": "python",
   "pygments_lexer": "ipython3",
   "version": "3.10.9"
  }
 },
 "nbformat": 4,
 "nbformat_minor": 5
}
