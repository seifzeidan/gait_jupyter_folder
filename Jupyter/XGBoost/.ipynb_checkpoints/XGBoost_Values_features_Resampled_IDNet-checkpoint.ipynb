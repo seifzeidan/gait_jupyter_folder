{
 "cells": [
  {
   "cell_type": "code",
   "execution_count": null,
   "id": "f125c479",
   "metadata": {},
   "outputs": [],
   "source": [
    "import pandas as pd\n",
    "import numpy as np\n",
    "import os\n",
    "import math\n",
    "import matplotlib.pyplot as plt\n",
    "from sklearn.model_selection import train_test_split\n",
    "from sklearn.preprocessing import StandardScaler, LabelEncoder\n",
    "from sklearn.metrics import accuracy_score"
   ]
  },
  {
   "cell_type": "code",
   "execution_count": null,
   "id": "951f2718",
   "metadata": {},
   "outputs": [],
   "source": [
    "import xgboost as xgb\n",
    "from sklearn.model_selection import GridSearchCV\n"
   ]
  },
  {
   "cell_type": "code",
   "execution_count": null,
   "id": "46eeb8ca",
   "metadata": {},
   "outputs": [],
   "source": [
    "# filepath = \"merged_u1-50_w001_resampled.csv\"\n",
    "filepath = \"D:/online dataset csv files preprocessing/merged_u1-50_w001_resampled.csv\"\n",
    "\n",
    "df_original = pd.read_csv(filepath)"
   ]
  },
  {
   "cell_type": "code",
   "execution_count": null,
   "id": "0f249876",
   "metadata": {},
   "outputs": [],
   "source": [
    "df_original"
   ]
  },
  {
   "cell_type": "code",
   "execution_count": null,
   "id": "e805526d",
   "metadata": {},
   "outputs": [],
   "source": [
    "df_Xtime = df_original.copy()\n",
    "df_Xtime = df_Xtime.drop(['timestamp'], axis = 1).copy()\n",
    "df_Xtime.shape"
   ]
  },
  {
   "cell_type": "code",
   "execution_count": null,
   "id": "19966fea",
   "metadata": {},
   "outputs": [],
   "source": [
    "X = df_Xtime[['LAx', 'LAy', 'LAz','GYx', 'GYy', 'GYz']].copy()\n",
    "y = df_Xtime['name'].copy()"
   ]
  },
  {
   "cell_type": "code",
   "execution_count": null,
   "id": "98cbeb24",
   "metadata": {
    "scrolled": false
   },
   "outputs": [],
   "source": [
    "scaler = StandardScaler()\n",
    "X_transformed = X.copy()\n",
    "X_transformed = scaler.fit_transform(X_transformed)\n",
    "\n",
    "scaled_X = pd.DataFrame(data = X_transformed, columns = ['LAx', 'LAy', 'LAz','GYx', 'GYy', 'GYz'])\n",
    "scaled_X['label'] = y.values\n",
    "\n",
    "scaled_X"
   ]
  },
  {
   "cell_type": "code",
   "execution_count": null,
   "id": "3b3879e9",
   "metadata": {},
   "outputs": [],
   "source": [
    "import scipy.stats as stats\n",
    "\n",
    "Fs = 100\n",
    "frame_size = Fs*4\n",
    "hop_size = Fs*1"
   ]
  },
  {
   "cell_type": "code",
   "execution_count": null,
   "id": "dc28797c",
   "metadata": {},
   "outputs": [],
   "source": [
    "num_columns = frame_size*6\n",
    "new_df = pd.DataFrame(columns=range(num_columns))\n",
    "for i in range(0,num_columns):\n",
    "    if i in range(0,frame_size):\n",
    "        string = f\"LAx_{i+1}\"\n",
    "        new_df = new_df.rename(columns={i: string})\n",
    "        \n",
    "    if i in range(frame_size,frame_size*2):\n",
    "        string = f\"LAy_{i+1}\"\n",
    "        new_df = new_df.rename(columns={i: string}) \n",
    "       \n",
    "    if i in range(frame_size*2,frame_size*3):\n",
    "        string = f\"LAz_{i+1}\"\n",
    "        new_df = new_df.rename(columns={i: string}) \n",
    "       \n",
    "    if i in range(frame_size*3,frame_size*4):\n",
    "        string = f\"GYx_{i+1}\"\n",
    "        new_df = new_df.rename(columns={i: string})\n",
    "        \n",
    "    if i in range(frame_size*4,frame_size*5):\n",
    "        string = f\"GYy_{i+1}\"\n",
    "        new_df = new_df.rename(columns={i: string}) \n",
    "       \n",
    "    if i in range(frame_size*5,frame_size*6):\n",
    "        string = f\"GYz_{i+1}\"\n",
    "        new_df = new_df.rename(columns={i: string}) \n",
    "        "
   ]
  },
  {
   "cell_type": "code",
   "execution_count": null,
   "id": "acfdd677",
   "metadata": {
    "scrolled": false
   },
   "outputs": [],
   "source": [
    "new_df"
   ]
  },
  {
   "cell_type": "code",
   "execution_count": null,
   "id": "72978005",
   "metadata": {},
   "outputs": [],
   "source": [
    "new_df.shape"
   ]
  },
  {
   "cell_type": "code",
   "execution_count": null,
   "id": "b7b38560",
   "metadata": {},
   "outputs": [],
   "source": [
    "\n",
    "# def get_frames(scaled_X, frame_size, hop_size):\n",
    "#     label = []\n",
    "#     df = scaled_X.copy()\n",
    "    \n",
    "#     last_value = df['label'].iloc[-1]\n",
    "    \n",
    "#     for j in range (1,last_value+1):\n",
    "#         filtered_df = df[df['label'] == j]\n",
    "#         filtered_df = filtered_df.drop('label', axis = 1)\n",
    "#         for i in range(0, len(filtered_df) - frame_size, hop_size):\n",
    "            \n",
    "#             LAx = filtered_df['LAx'].values[i: i + frame_size]\n",
    "#             LAy = filtered_df['LAy'].values[i: i + frame_size]\n",
    "#             LAz = filtered_df['LAz'].values[i: i + frame_size]\n",
    "#             GYx = filtered_df['GYx'].values[i: i + frame_size]\n",
    "#             GYy = filtered_df['GYy'].values[i: i + frame_size]\n",
    "#             GYz = filtered_df['GYz'].values[i: i + frame_size]\n",
    "            \n",
    "#             if(len(LAx) != frame_size):\n",
    "#                 x=x+1\n",
    "#                 continue\n",
    "            \n",
    "#             label.append(j)\n",
    "           \n",
    "#             merged_array = np.concatenate((LAx, LAy, LAz, GYx, GYy , GYz))\n",
    "#             new_df.loc[len(new_df)] = merged_array"
   ]
  },
  {
   "cell_type": "code",
   "execution_count": null,
   "id": "81caac8d",
   "metadata": {},
   "outputs": [],
   "source": [
    "label = []\n",
    "def get_frames(scaled_X, frame_size, hop_size):\n",
    "    last_value = scaled_X['label'].iloc[-1]\n",
    "    for j in range(1, last_value + 1):\n",
    "        filtered_df = scaled_X[scaled_X['label'] == j].drop('label', axis=1)\n",
    "        for i in range(0, len(filtered_df) - frame_size, hop_size):\n",
    "            subarray = filtered_df.iloc[i: i + frame_size].values\n",
    "            if subarray.shape[0] != frame_size:\n",
    "                continue\n",
    "            label.append(j)\n",
    "            merged_array = subarray.ravel()\n",
    "            new_df.loc[len(new_df)] = merged_array    \n"
   ]
  },
  {
   "cell_type": "code",
   "execution_count": null,
   "id": "12d7fab7",
   "metadata": {
    "scrolled": true
   },
   "outputs": [],
   "source": [
    "get_frames(scaled_X,frame_size, hop_size)"
   ]
  },
  {
   "cell_type": "code",
   "execution_count": null,
   "id": "c25292db",
   "metadata": {
    "scrolled": true
   },
   "outputs": [],
   "source": [
    "new_df"
   ]
  },
  {
   "cell_type": "code",
   "execution_count": null,
   "id": "aff01850",
   "metadata": {},
   "outputs": [],
   "source": [
    "y = np.array(label)"
   ]
  },
  {
   "cell_type": "code",
   "execution_count": null,
   "id": "8b4d8165",
   "metadata": {},
   "outputs": [],
   "source": [
    "new_df_copy = new_df.copy()\n",
    "new_df_copy['name']= y\n",
    "# new_df_copy.to_csv('VALUES_AS_FEATURES_FRAMED_RESAMPLED_merged_u1-50_w001_resampled.csv', index = False)"
   ]
  },
  {
   "cell_type": "code",
   "execution_count": null,
   "id": "6291a71f",
   "metadata": {},
   "outputs": [],
   "source": [
    "\n",
    "y = y -1\n",
    "y"
   ]
  },
  {
   "cell_type": "code",
   "execution_count": null,
   "id": "c63e51fa",
   "metadata": {},
   "outputs": [],
   "source": [
    "X_train_val, X_test, y_train_val, y_test = train_test_split(new_df, y, test_size = 0.3, random_state = 0, stratify = y)\n",
    "\n",
    "X_train, X_validation, y_train, y_validation = train_test_split(X_train_val, y_train_val, test_size = 0.1, random_state = 0, stratify = y_train_val)\n",
    "X_train.shape, X_test.shape, X_validation.shape, y_train.shape, y_test.shape, y_validation.shape"
   ]
  },
  {
   "cell_type": "code",
   "execution_count": null,
   "id": "2f8d8b5d",
   "metadata": {},
   "outputs": [],
   "source": [
    "dtrain = xgb.DMatrix(X_train, label=y_train)\n",
    "dtest = xgb.DMatrix(X_test)\n",
    "dval = xgb.DMatrix(X_validation, label=y_validation)"
   ]
  },
  {
   "cell_type": "code",
   "execution_count": null,
   "id": "6ab8df61",
   "metadata": {},
   "outputs": [],
   "source": [
    "dtrain, dtest, dval"
   ]
  },
  {
   "cell_type": "code",
   "execution_count": null,
   "id": "754cb245",
   "metadata": {},
   "outputs": [],
   "source": [
    "params = {\n",
    "    'max_depth': 7,\n",
    "    'learning_rate': 0.3,\n",
    "    'objective': 'multi:softmax',\n",
    "    'num_class': 50\n",
    "}\n",
    "epochs = 25\n",
    "evals_result = {}  # Initialize an empty dictionary to store the evaluation results"
   ]
  },
  {
   "cell_type": "code",
   "execution_count": null,
   "id": "17d6770d",
   "metadata": {},
   "outputs": [],
   "source": [
    "# model = xgb.train(params, dtrain, epochs,  verbose_eval=1)"
   ]
  },
  {
   "cell_type": "code",
   "execution_count": null,
   "id": "e0f5cfda",
   "metadata": {
    "scrolled": true
   },
   "outputs": [],
   "source": [
    "model = xgb.train(params, dtrain, epochs, evals=[(dtrain, 'train'), (dval, 'valid')],\n",
    "                  evals_result=evals_result, verbose_eval=1)"
   ]
  },
  {
   "cell_type": "code",
   "execution_count": null,
   "id": "73cad87f",
   "metadata": {},
   "outputs": [],
   "source": [
    "predictions = model.predict(dtest)"
   ]
  },
  {
   "cell_type": "code",
   "execution_count": null,
   "id": "6a6fe10d",
   "metadata": {},
   "outputs": [],
   "source": [
    "print(predictions)"
   ]
  },
  {
   "cell_type": "code",
   "execution_count": null,
   "id": "faf2b6d8",
   "metadata": {},
   "outputs": [],
   "source": [
    "accuracy_score(y_test, predictions)"
   ]
  },
  {
   "cell_type": "code",
   "execution_count": null,
   "id": "bba2c40e",
   "metadata": {},
   "outputs": [],
   "source": [
    "# new_df_copy"
   ]
  },
  {
   "cell_type": "code",
   "execution_count": null,
   "id": "ae4be56a",
   "metadata": {},
   "outputs": [],
   "source": [
    "# new_df_copy.to_csv('VALUES_AS_FEATURES_FRAMED_RESAMPLED_merged_u1-50_w001_resampled.csv', index = False)"
   ]
  },
  {
   "cell_type": "code",
   "execution_count": null,
   "id": "3710730c",
   "metadata": {},
   "outputs": [],
   "source": [
    "# xgb_model = xgb.XGBClassifier()"
   ]
  },
  {
   "cell_type": "code",
   "execution_count": null,
   "id": "16992ac1",
   "metadata": {},
   "outputs": [],
   "source": [
    "# param_grid = {\n",
    "#     'max_depth': [3, 5, 7],\n",
    "#     'learning_rate': [0.1,0.2, 0.3],\n",
    "# #     'n_estimators': [100, 200, 300],\n",
    "#     'objective': ['multi:softmax'],\n",
    "#     'num_class': [50] \n",
    "# }\n"
   ]
  },
  {
   "cell_type": "code",
   "execution_count": null,
   "id": "362ca01f",
   "metadata": {},
   "outputs": [],
   "source": [
    "# grid_search = GridSearchCV(estimator=xgb_model, param_grid=param_grid, cv=5)\n",
    "# grid_search.fit(X_train, y_train)  # X and y are your training data\n"
   ]
  },
  {
   "cell_type": "code",
   "execution_count": null,
   "id": "403a95f9",
   "metadata": {},
   "outputs": [],
   "source": [
    "# best_params = grid_search.best_params_\n",
    "# best_model = grid_search.best_estimator_\n",
    "# best_score = grid_search.best_score_"
   ]
  },
  {
   "cell_type": "code",
   "execution_count": null,
   "id": "1b1c0c29",
   "metadata": {},
   "outputs": [],
   "source": [
    "# best_params"
   ]
  },
  {
   "cell_type": "code",
   "execution_count": null,
   "id": "f8a161ab",
   "metadata": {},
   "outputs": [],
   "source": [
    "# y_pred = best_model.predict(X_test)\n",
    "\n",
    "# # Evaluate the predictions\n",
    "# accuracy = accuracy_score(y_test, y_pred)\n",
    "# accuracy"
   ]
  },
  {
   "cell_type": "code",
   "execution_count": null,
   "id": "aae83110",
   "metadata": {},
   "outputs": [],
   "source": []
  },
  {
   "cell_type": "code",
   "execution_count": null,
   "id": "1b4538ba",
   "metadata": {},
   "outputs": [],
   "source": []
  }
 ],
 "metadata": {
  "kernelspec": {
   "display_name": "Python 3 (ipykernel)",
   "language": "python",
   "name": "python3"
  },
  "language_info": {
   "codemirror_mode": {
    "name": "ipython",
    "version": 3
   },
   "file_extension": ".py",
   "mimetype": "text/x-python",
   "name": "python",
   "nbconvert_exporter": "python",
   "pygments_lexer": "ipython3",
   "version": "3.10.9"
  }
 },
 "nbformat": 4,
 "nbformat_minor": 5
}
