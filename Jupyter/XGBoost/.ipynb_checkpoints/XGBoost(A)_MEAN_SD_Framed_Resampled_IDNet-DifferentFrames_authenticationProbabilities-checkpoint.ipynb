{
 "cells": [
  {
   "cell_type": "code",
   "execution_count": 1,
   "id": "f125c479",
   "metadata": {},
   "outputs": [],
   "source": [
    "import pandas as pd\n",
    "import numpy as np\n",
    "import os\n",
    "import math\n",
    "import matplotlib.pyplot as plt\n",
    "from sklearn.model_selection import train_test_split\n",
    "from sklearn.preprocessing import StandardScaler, LabelEncoder\n",
    "from sklearn.metrics import accuracy_score"
   ]
  },
  {
   "cell_type": "code",
   "execution_count": 2,
   "id": "951f2718",
   "metadata": {},
   "outputs": [],
   "source": [
    "import xgboost as xgb\n",
    "from sklearn.model_selection import GridSearchCV\n"
   ]
  },
  {
   "cell_type": "code",
   "execution_count": 3,
   "id": "46eeb8ca",
   "metadata": {},
   "outputs": [],
   "source": [
    "# filepath = \"merged_u1-50_w001_resampled.csv\"\n",
    "filepath = \"D:/online dataset csv files preprocessing/MEAN_SD_FRAMED_RESAMPLED_merged_u1-50_w001_resampled_differentFrames9_2.csv\"\n",
    "\n",
    "df_original = pd.read_csv(filepath)"
   ]
  },
  {
   "cell_type": "code",
   "execution_count": 4,
   "id": "5df5c0d0",
   "metadata": {},
   "outputs": [
    {
     "data": {
      "text/html": [
       "<div>\n",
       "<style scoped>\n",
       "    .dataframe tbody tr th:only-of-type {\n",
       "        vertical-align: middle;\n",
       "    }\n",
       "\n",
       "    .dataframe tbody tr th {\n",
       "        vertical-align: top;\n",
       "    }\n",
       "\n",
       "    .dataframe thead th {\n",
       "        text-align: right;\n",
       "    }\n",
       "</style>\n",
       "<table border=\"1\" class=\"dataframe\">\n",
       "  <thead>\n",
       "    <tr style=\"text-align: right;\">\n",
       "      <th></th>\n",
       "      <th>name</th>\n",
       "      <th>mean_LA(x)</th>\n",
       "      <th>mean_LA(y)</th>\n",
       "      <th>mean_LA(z)</th>\n",
       "      <th>mean_GY(x)</th>\n",
       "      <th>mean_GY(y)</th>\n",
       "      <th>mean_GY(z)</th>\n",
       "      <th>sd_LA(x)</th>\n",
       "      <th>sd_LA(y)</th>\n",
       "      <th>sd_LA(z)</th>\n",
       "      <th>sd_GY(x)</th>\n",
       "      <th>sd_GY(y)</th>\n",
       "      <th>sd_GY(z)</th>\n",
       "    </tr>\n",
       "  </thead>\n",
       "  <tbody>\n",
       "    <tr>\n",
       "      <th>0</th>\n",
       "      <td>1.0</td>\n",
       "      <td>-0.393514</td>\n",
       "      <td>-0.231500</td>\n",
       "      <td>0.259489</td>\n",
       "      <td>-0.136301</td>\n",
       "      <td>0.808596</td>\n",
       "      <td>0.365505</td>\n",
       "      <td>1.607389</td>\n",
       "      <td>2.060070</td>\n",
       "      <td>1.568203</td>\n",
       "      <td>0.718605</td>\n",
       "      <td>1.529494</td>\n",
       "      <td>0.896005</td>\n",
       "    </tr>\n",
       "    <tr>\n",
       "      <th>1</th>\n",
       "      <td>1.0</td>\n",
       "      <td>-0.205181</td>\n",
       "      <td>-0.095354</td>\n",
       "      <td>0.648272</td>\n",
       "      <td>-0.071586</td>\n",
       "      <td>0.571196</td>\n",
       "      <td>0.191575</td>\n",
       "      <td>2.171280</td>\n",
       "      <td>3.287738</td>\n",
       "      <td>3.263532</td>\n",
       "      <td>1.188947</td>\n",
       "      <td>1.934990</td>\n",
       "      <td>1.023624</td>\n",
       "    </tr>\n",
       "    <tr>\n",
       "      <th>2</th>\n",
       "      <td>1.0</td>\n",
       "      <td>0.200687</td>\n",
       "      <td>0.144119</td>\n",
       "      <td>0.598333</td>\n",
       "      <td>0.199495</td>\n",
       "      <td>0.328963</td>\n",
       "      <td>0.085658</td>\n",
       "      <td>2.768780</td>\n",
       "      <td>3.864657</td>\n",
       "      <td>4.327969</td>\n",
       "      <td>1.356173</td>\n",
       "      <td>2.328443</td>\n",
       "      <td>1.102517</td>\n",
       "    </tr>\n",
       "    <tr>\n",
       "      <th>3</th>\n",
       "      <td>1.0</td>\n",
       "      <td>0.977162</td>\n",
       "      <td>0.184893</td>\n",
       "      <td>0.420916</td>\n",
       "      <td>0.122411</td>\n",
       "      <td>0.074673</td>\n",
       "      <td>-0.052158</td>\n",
       "      <td>3.646011</td>\n",
       "      <td>3.797331</td>\n",
       "      <td>5.745886</td>\n",
       "      <td>1.701895</td>\n",
       "      <td>2.413996</td>\n",
       "      <td>0.913987</td>\n",
       "    </tr>\n",
       "    <tr>\n",
       "      <th>4</th>\n",
       "      <td>1.0</td>\n",
       "      <td>0.909982</td>\n",
       "      <td>-0.020074</td>\n",
       "      <td>0.289224</td>\n",
       "      <td>0.142197</td>\n",
       "      <td>0.195004</td>\n",
       "      <td>-0.011897</td>\n",
       "      <td>4.750163</td>\n",
       "      <td>3.410333</td>\n",
       "      <td>6.188731</td>\n",
       "      <td>1.714321</td>\n",
       "      <td>2.334115</td>\n",
       "      <td>0.861539</td>\n",
       "    </tr>\n",
       "    <tr>\n",
       "      <th>...</th>\n",
       "      <td>...</td>\n",
       "      <td>...</td>\n",
       "      <td>...</td>\n",
       "      <td>...</td>\n",
       "      <td>...</td>\n",
       "      <td>...</td>\n",
       "      <td>...</td>\n",
       "      <td>...</td>\n",
       "      <td>...</td>\n",
       "      <td>...</td>\n",
       "      <td>...</td>\n",
       "      <td>...</td>\n",
       "      <td>...</td>\n",
       "    </tr>\n",
       "    <tr>\n",
       "      <th>10137</th>\n",
       "      <td>50.0</td>\n",
       "      <td>-0.989119</td>\n",
       "      <td>-0.926201</td>\n",
       "      <td>1.691194</td>\n",
       "      <td>0.137947</td>\n",
       "      <td>0.080430</td>\n",
       "      <td>-0.058074</td>\n",
       "      <td>3.129826</td>\n",
       "      <td>4.017784</td>\n",
       "      <td>4.452476</td>\n",
       "      <td>1.645062</td>\n",
       "      <td>1.228332</td>\n",
       "      <td>0.779350</td>\n",
       "    </tr>\n",
       "    <tr>\n",
       "      <th>10138</th>\n",
       "      <td>50.0</td>\n",
       "      <td>-1.153985</td>\n",
       "      <td>-0.822312</td>\n",
       "      <td>1.754602</td>\n",
       "      <td>0.084342</td>\n",
       "      <td>0.007069</td>\n",
       "      <td>-0.122377</td>\n",
       "      <td>3.376924</td>\n",
       "      <td>4.376823</td>\n",
       "      <td>4.656196</td>\n",
       "      <td>1.696041</td>\n",
       "      <td>1.331929</td>\n",
       "      <td>0.824680</td>\n",
       "    </tr>\n",
       "    <tr>\n",
       "      <th>10139</th>\n",
       "      <td>50.0</td>\n",
       "      <td>-1.112609</td>\n",
       "      <td>-0.923574</td>\n",
       "      <td>1.790004</td>\n",
       "      <td>-0.037886</td>\n",
       "      <td>0.016173</td>\n",
       "      <td>-0.150160</td>\n",
       "      <td>3.509659</td>\n",
       "      <td>4.391247</td>\n",
       "      <td>4.704499</td>\n",
       "      <td>1.732431</td>\n",
       "      <td>1.365022</td>\n",
       "      <td>0.826021</td>\n",
       "    </tr>\n",
       "    <tr>\n",
       "      <th>10140</th>\n",
       "      <td>50.0</td>\n",
       "      <td>-0.981503</td>\n",
       "      <td>-0.953431</td>\n",
       "      <td>1.609741</td>\n",
       "      <td>-0.032794</td>\n",
       "      <td>-0.009065</td>\n",
       "      <td>-0.163652</td>\n",
       "      <td>3.525594</td>\n",
       "      <td>4.273273</td>\n",
       "      <td>4.589295</td>\n",
       "      <td>1.716987</td>\n",
       "      <td>1.358047</td>\n",
       "      <td>0.815734</td>\n",
       "    </tr>\n",
       "    <tr>\n",
       "      <th>10141</th>\n",
       "      <td>50.0</td>\n",
       "      <td>-0.724209</td>\n",
       "      <td>-0.905043</td>\n",
       "      <td>1.751427</td>\n",
       "      <td>-0.032222</td>\n",
       "      <td>0.015230</td>\n",
       "      <td>-0.142528</td>\n",
       "      <td>3.434122</td>\n",
       "      <td>4.055750</td>\n",
       "      <td>4.525051</td>\n",
       "      <td>1.732508</td>\n",
       "      <td>1.354905</td>\n",
       "      <td>0.821063</td>\n",
       "    </tr>\n",
       "  </tbody>\n",
       "</table>\n",
       "<p>10142 rows × 13 columns</p>\n",
       "</div>"
      ],
      "text/plain": [
       "       name  mean_LA(x)  mean_LA(y)  mean_LA(z)  mean_GY(x)  mean_GY(y)  \\\n",
       "0       1.0   -0.393514   -0.231500    0.259489   -0.136301    0.808596   \n",
       "1       1.0   -0.205181   -0.095354    0.648272   -0.071586    0.571196   \n",
       "2       1.0    0.200687    0.144119    0.598333    0.199495    0.328963   \n",
       "3       1.0    0.977162    0.184893    0.420916    0.122411    0.074673   \n",
       "4       1.0    0.909982   -0.020074    0.289224    0.142197    0.195004   \n",
       "...     ...         ...         ...         ...         ...         ...   \n",
       "10137  50.0   -0.989119   -0.926201    1.691194    0.137947    0.080430   \n",
       "10138  50.0   -1.153985   -0.822312    1.754602    0.084342    0.007069   \n",
       "10139  50.0   -1.112609   -0.923574    1.790004   -0.037886    0.016173   \n",
       "10140  50.0   -0.981503   -0.953431    1.609741   -0.032794   -0.009065   \n",
       "10141  50.0   -0.724209   -0.905043    1.751427   -0.032222    0.015230   \n",
       "\n",
       "       mean_GY(z)  sd_LA(x)  sd_LA(y)  sd_LA(z)  sd_GY(x)  sd_GY(y)  sd_GY(z)  \n",
       "0        0.365505  1.607389  2.060070  1.568203  0.718605  1.529494  0.896005  \n",
       "1        0.191575  2.171280  3.287738  3.263532  1.188947  1.934990  1.023624  \n",
       "2        0.085658  2.768780  3.864657  4.327969  1.356173  2.328443  1.102517  \n",
       "3       -0.052158  3.646011  3.797331  5.745886  1.701895  2.413996  0.913987  \n",
       "4       -0.011897  4.750163  3.410333  6.188731  1.714321  2.334115  0.861539  \n",
       "...           ...       ...       ...       ...       ...       ...       ...  \n",
       "10137   -0.058074  3.129826  4.017784  4.452476  1.645062  1.228332  0.779350  \n",
       "10138   -0.122377  3.376924  4.376823  4.656196  1.696041  1.331929  0.824680  \n",
       "10139   -0.150160  3.509659  4.391247  4.704499  1.732431  1.365022  0.826021  \n",
       "10140   -0.163652  3.525594  4.273273  4.589295  1.716987  1.358047  0.815734  \n",
       "10141   -0.142528  3.434122  4.055750  4.525051  1.732508  1.354905  0.821063  \n",
       "\n",
       "[10142 rows x 13 columns]"
      ]
     },
     "execution_count": 4,
     "metadata": {},
     "output_type": "execute_result"
    }
   ],
   "source": [
    "df_original"
   ]
  },
  {
   "cell_type": "code",
   "execution_count": 5,
   "id": "1c56c29c",
   "metadata": {},
   "outputs": [],
   "source": [
    "X = df_original.drop('name', axis=1)  # Features (all columns except the target)\n",
    "y = df_original['name']  # Labels"
   ]
  },
  {
   "cell_type": "code",
   "execution_count": 6,
   "id": "45290129",
   "metadata": {},
   "outputs": [],
   "source": [
    "y = y -1"
   ]
  },
  {
   "cell_type": "code",
   "execution_count": 7,
   "id": "c63e51fa",
   "metadata": {},
   "outputs": [
    {
     "data": {
      "text/plain": [
       "((6389, 12), (3043, 12), (710, 12), (6389,), (3043,), (710,))"
      ]
     },
     "execution_count": 7,
     "metadata": {},
     "output_type": "execute_result"
    }
   ],
   "source": [
    "X_train_val, X_test, y_train_val, y_test = train_test_split(X, y, test_size = 0.3, random_state = 0, stratify = y)\n",
    "\n",
    "X_train, X_validation, y_train, y_validation = train_test_split(X_train_val, y_train_val, test_size = 0.1, random_state = 0, stratify = y_train_val)\n",
    "X_train.shape, X_test.shape, X_validation.shape, y_train.shape, y_test.shape, y_validation.shape"
   ]
  },
  {
   "cell_type": "code",
   "execution_count": 8,
   "id": "2f8d8b5d",
   "metadata": {},
   "outputs": [],
   "source": [
    "dtrain = xgb.DMatrix(X_train, label=y_train)\n",
    "dtest = xgb.DMatrix(X_test)\n",
    "dval = xgb.DMatrix(X_validation, label=y_validation)"
   ]
  },
  {
   "cell_type": "code",
   "execution_count": 9,
   "id": "6ab8df61",
   "metadata": {},
   "outputs": [
    {
     "data": {
      "text/plain": [
       "(<xgboost.core.DMatrix at 0x2a0031a7dc0>,\n",
       " <xgboost.core.DMatrix at 0x2a0031a78e0>,\n",
       " <xgboost.core.DMatrix at 0x2a0031a7fa0>)"
      ]
     },
     "execution_count": 9,
     "metadata": {},
     "output_type": "execute_result"
    }
   ],
   "source": [
    "dtrain, dtest, dval"
   ]
  },
  {
   "cell_type": "code",
   "execution_count": 10,
   "id": "754cb245",
   "metadata": {},
   "outputs": [],
   "source": [
    "params = {\n",
    "    'max_depth': 7,\n",
    "    'learning_rate': 0.3,\n",
    "    'objective': 'multi:softmax',\n",
    "    'num_class': 50\n",
    "}\n",
    "epochs = 25\n",
    "evals_result = {}  # Initialize an empty dictionary to store the evaluation results"
   ]
  },
  {
   "cell_type": "code",
   "execution_count": 11,
   "id": "17d6770d",
   "metadata": {},
   "outputs": [],
   "source": [
    "# model = xgb.train(params, dtrain, epochs,  verbose_eval=1)"
   ]
  },
  {
   "cell_type": "code",
   "execution_count": 12,
   "id": "e0f5cfda",
   "metadata": {},
   "outputs": [
    {
     "name": "stdout",
     "output_type": "stream",
     "text": [
      "[0]\ttrain-mlogloss:0.69709\tvalid-mlogloss:0.94694\n",
      "[1]\ttrain-mlogloss:0.53251\tvalid-mlogloss:0.78606\n",
      "[2]\ttrain-mlogloss:0.42345\tvalid-mlogloss:0.67293\n",
      "[3]\ttrain-mlogloss:0.34330\tvalid-mlogloss:0.59533\n",
      "[4]\ttrain-mlogloss:0.28365\tvalid-mlogloss:0.53742\n",
      "[5]\ttrain-mlogloss:0.23844\tvalid-mlogloss:0.48779\n",
      "[6]\ttrain-mlogloss:0.20406\tvalid-mlogloss:0.45327\n",
      "[7]\ttrain-mlogloss:0.17673\tvalid-mlogloss:0.42923\n",
      "[8]\ttrain-mlogloss:0.15558\tvalid-mlogloss:0.40871\n",
      "[9]\ttrain-mlogloss:0.13839\tvalid-mlogloss:0.39287\n",
      "[10]\ttrain-mlogloss:0.12482\tvalid-mlogloss:0.38113\n",
      "[11]\ttrain-mlogloss:0.11392\tvalid-mlogloss:0.37311\n",
      "[12]\ttrain-mlogloss:0.10548\tvalid-mlogloss:0.36622\n",
      "[13]\ttrain-mlogloss:0.09861\tvalid-mlogloss:0.35983\n",
      "[14]\ttrain-mlogloss:0.09271\tvalid-mlogloss:0.35784\n",
      "[15]\ttrain-mlogloss:0.08783\tvalid-mlogloss:0.35631\n",
      "[16]\ttrain-mlogloss:0.08386\tvalid-mlogloss:0.35528\n",
      "[17]\ttrain-mlogloss:0.08055\tvalid-mlogloss:0.35515\n",
      "[18]\ttrain-mlogloss:0.07767\tvalid-mlogloss:0.35846\n",
      "[19]\ttrain-mlogloss:0.07512\tvalid-mlogloss:0.36032\n",
      "[20]\ttrain-mlogloss:0.07311\tvalid-mlogloss:0.36271\n",
      "[21]\ttrain-mlogloss:0.07129\tvalid-mlogloss:0.36490\n",
      "[22]\ttrain-mlogloss:0.06972\tvalid-mlogloss:0.36724\n",
      "[23]\ttrain-mlogloss:0.06834\tvalid-mlogloss:0.37010\n",
      "[24]\ttrain-mlogloss:0.06717\tvalid-mlogloss:0.37219\n"
     ]
    }
   ],
   "source": [
    "model = xgb.train(params, dtrain, epochs, evals=[(dtrain, 'train'), (dval, 'valid')],\n",
    "                  evals_result=evals_result, verbose_eval=1)"
   ]
  },
  {
   "cell_type": "code",
   "execution_count": 13,
   "id": "73cad87f",
   "metadata": {},
   "outputs": [],
   "source": [
    "predictions = model.predict(dtest)"
   ]
  },
  {
   "cell_type": "code",
   "execution_count": 14,
   "id": "6a6fe10d",
   "metadata": {},
   "outputs": [
    {
     "name": "stdout",
     "output_type": "stream",
     "text": [
      "[ 7. 17. 41. ... 17. 17. 40.]\n"
     ]
    }
   ],
   "source": [
    "print(predictions)"
   ]
  },
  {
   "cell_type": "code",
   "execution_count": 15,
   "id": "1e5aa112",
   "metadata": {},
   "outputs": [
    {
     "data": {
      "text/plain": [
       "0.8721656260269471"
      ]
     },
     "execution_count": 15,
     "metadata": {},
     "output_type": "execute_result"
    }
   ],
   "source": [
    "accuracy_score(y_test, predictions)"
   ]
  },
  {
   "cell_type": "code",
   "execution_count": 33,
   "id": "6f8f8f00",
   "metadata": {},
   "outputs": [
    {
     "data": {
      "text/plain": [
       "(3043, 50)"
      ]
     },
     "execution_count": 33,
     "metadata": {},
     "output_type": "execute_result"
    }
   ],
   "source": [
    "predictions_proba = model.predict(dtest, output_margin=True)\n",
    "predictions_proba.shape"
   ]
  },
  {
   "cell_type": "code",
   "execution_count": 84,
   "id": "d80ce609",
   "metadata": {},
   "outputs": [],
   "source": [
    "true_pred_prob = []\n",
    "false_pred_prob = []\n",
    "true_pred_sec_prob = []\n",
    "false_pred_sec_prob = []\n",
    "true_pred_diff_f_s = []\n",
    "false_pred_diff_f_s = []\n",
    "for i in range (0,predictions_proba.shape[0]):\n",
    "    probs_i = np.exp(predictions_proba[i]) / np.sum(np.exp(predictions_proba[i]))\n",
    "    pred_class = np.argmax(probs_i)\n",
    "    true_class = y_test.iloc[i]\n",
    "    pred = probs_i[pred_class]\n",
    "    probs_i[probs_i == pred] = np.min(probs_i) - 1\n",
    "    sec_pred = np.max(probs_i)\n",
    "    if(pred_class == true_class):#true_pred\n",
    "        true_pred_prob.append(pred)\n",
    "        true_pred_sec_prob.append(sec_pred)\n",
    "        true_pred_diff_f_s.append(pred-sec_pred)\n",
    "    else:\n",
    "        false_pred_prob.append(pred)\n",
    "        false_pred_sec_prob.append(sec_pred)\n",
    "        false_pred_diff_f_s.append(pred-sec_pred)\n",
    "    "
   ]
  },
  {
   "cell_type": "code",
   "execution_count": null,
   "id": "d826f929",
   "metadata": {
    "scrolled": true
   },
   "outputs": [],
   "source": [
    "true_pred_prob"
   ]
  },
  {
   "cell_type": "code",
   "execution_count": 91,
   "id": "d60fe952",
   "metadata": {},
   "outputs": [
    {
     "data": {
      "text/plain": [
       "(2377, 277, 106)"
      ]
     },
     "execution_count": 91,
     "metadata": {},
     "output_type": "execute_result"
    }
   ],
   "source": [
    "count_above = sum(x > 0.9 for x in true_pred_diff_f_s)\n",
    "count_below = sum(x < 0.9 for x in true_pred_diff_f_s)\n",
    "count_below_08 = sum(x < 0.5 for x in true_pred_diff_f_s)\n",
    "count_above, count_below, count_below_08"
   ]
  },
  {
   "cell_type": "code",
   "execution_count": 69,
   "id": "c5ea0b1c",
   "metadata": {},
   "outputs": [],
   "source": [
    "i=0"
   ]
  },
  {
   "cell_type": "code",
   "execution_count": 37,
   "id": "7ded2309",
   "metadata": {
    "scrolled": true
   },
   "outputs": [
    {
     "data": {
      "text/plain": [
       "array([-2.4321592, -2.4402213, -2.60938  , -1.9868714, -2.6111915,\n",
       "       -2.795205 , -2.3450747, -2.5298836, -2.6179543, -2.6114295,\n",
       "       -2.4012547, -1.9257164, -2.833685 , -2.6666188, -2.6211448,\n",
       "       -2.649162 , -2.6841457, 10.268061 , -2.7224278, -2.0078132,\n",
       "       -2.306379 , -1.944665 , -2.6474018, -2.5532348, -2.3248413,\n",
       "       -1.6969564, -1.5990981, -2.5824142, -2.2222316, -2.4259262,\n",
       "       -2.600035 , -2.518597 , -2.4821002, -2.5979736, -2.5237305,\n",
       "       -2.4499044, -2.5400465, -1.8177986, -1.4800217, -2.5524194,\n",
       "       -2.4854615, -2.4352283, -1.8507556, -2.5559235, -2.5916603,\n",
       "       -2.5822334, -2.3517876, -1.1793926, -2.677889 , -2.6245987],\n",
       "      dtype=float32)"
      ]
     },
     "execution_count": 37,
     "metadata": {},
     "output_type": "execute_result"
    }
   ],
   "source": [
    "predictions_proba[i]"
   ]
  },
  {
   "cell_type": "code",
   "execution_count": 43,
   "id": "07071ebd",
   "metadata": {},
   "outputs": [
    {
     "data": {
      "text/plain": [
       "17"
      ]
     },
     "execution_count": 43,
     "metadata": {},
     "output_type": "execute_result"
    }
   ],
   "source": [
    "np.argmax(predictions_proba[i])"
   ]
  },
  {
   "cell_type": "code",
   "execution_count": 50,
   "id": "d9e17087",
   "metadata": {},
   "outputs": [
    {
     "data": {
      "text/plain": [
       "17.0"
      ]
     },
     "execution_count": 50,
     "metadata": {},
     "output_type": "execute_result"
    }
   ],
   "source": [
    "y_test.iloc[i]"
   ]
  },
  {
   "cell_type": "code",
   "execution_count": 70,
   "id": "ba6d2a96",
   "metadata": {},
   "outputs": [
    {
     "name": "stdout",
     "output_type": "stream",
     "text": [
      "[9.24138567e-06 1.11637446e-05 1.91988893e-05 8.28702105e-06\n",
      " 9.40932478e-06 6.78841243e-05 1.02364138e-05 9.99322116e-01\n",
      " 9.34590662e-06 9.40708651e-06 9.14419616e-06 1.03357725e-05\n",
      " 7.53235508e-06 1.03536067e-05 1.27584899e-05 8.71438533e-06\n",
      " 8.74731722e-06 1.66968312e-05 8.41877772e-06 1.58739149e-05\n",
      " 9.29154794e-06 1.00065854e-05 9.07470439e-06 9.07710182e-06\n",
      " 1.29701830e-05 1.01938103e-05 8.19981597e-06 2.04495846e-05\n",
      " 1.45279137e-05 1.05743538e-05 1.59475730e-05 9.17175021e-06\n",
      " 1.07058722e-05 9.53452218e-06 1.02693339e-05 1.03120610e-05\n",
      " 1.08202967e-05 1.24403896e-05 1.36591507e-05 9.97890311e-06\n",
      " 1.44579217e-05 1.06442931e-05 3.18558814e-05 1.07970172e-05\n",
      " 1.95025586e-05 1.18920707e-05 1.96537694e-05 8.94000186e-06\n",
      " 8.80221523e-06 5.13692612e-05]\n"
     ]
    }
   ],
   "source": [
    "probs = np.exp(predictions_proba[i]) / np.sum(np.exp(predictions_proba[i]))\n",
    "print(probs)"
   ]
  },
  {
   "cell_type": "code",
   "execution_count": 77,
   "id": "60682754",
   "metadata": {
    "scrolled": true
   },
   "outputs": [
    {
     "data": {
      "text/plain": [
       "0.9993221"
      ]
     },
     "execution_count": 77,
     "metadata": {},
     "output_type": "execute_result"
    }
   ],
   "source": [
    "probs[7]"
   ]
  },
  {
   "cell_type": "code",
   "execution_count": 76,
   "id": "40c776e0",
   "metadata": {
    "scrolled": true
   },
   "outputs": [
    {
     "data": {
      "text/plain": [
       "7"
      ]
     },
     "execution_count": 76,
     "metadata": {},
     "output_type": "execute_result"
    }
   ],
   "source": [
    "np.argmax(probs)"
   ]
  },
  {
   "cell_type": "code",
   "execution_count": 73,
   "id": "33bf7cac",
   "metadata": {},
   "outputs": [
    {
     "data": {
      "text/plain": [
       "['0.00000924',\n",
       " '0.00001116',\n",
       " '0.00001920',\n",
       " '0.00000829',\n",
       " '0.00000941',\n",
       " '0.00006788',\n",
       " '0.00001024',\n",
       " '0.99932212',\n",
       " '0.00000935',\n",
       " '0.00000941',\n",
       " '0.00000914',\n",
       " '0.00001034',\n",
       " '0.00000753',\n",
       " '0.00001035',\n",
       " '0.00001276',\n",
       " '0.00000871',\n",
       " '0.00000875',\n",
       " '0.00001670',\n",
       " '0.00000842',\n",
       " '0.00001587',\n",
       " '0.00000929',\n",
       " '0.00001001',\n",
       " '0.00000907',\n",
       " '0.00000908',\n",
       " '0.00001297',\n",
       " '0.00001019',\n",
       " '0.00000820',\n",
       " '0.00002045',\n",
       " '0.00001453',\n",
       " '0.00001057',\n",
       " '0.00001595',\n",
       " '0.00000917',\n",
       " '0.00001071',\n",
       " '0.00000953',\n",
       " '0.00001027',\n",
       " '0.00001031',\n",
       " '0.00001082',\n",
       " '0.00001244',\n",
       " '0.00001366',\n",
       " '0.00000998',\n",
       " '0.00001446',\n",
       " '0.00001064',\n",
       " '0.00003186',\n",
       " '0.00001080',\n",
       " '0.00001950',\n",
       " '0.00001189',\n",
       " '0.00001965',\n",
       " '0.00000894',\n",
       " '0.00000880',\n",
       " '0.00005137']"
      ]
     },
     "execution_count": 73,
     "metadata": {},
     "output_type": "execute_result"
    }
   ],
   "source": [
    "formatted_values = [\"{:.8f}\".format(value) for value in probs]\n",
    "formatted_values"
   ]
  },
  {
   "cell_type": "code",
   "execution_count": null,
   "id": "dffe77bf",
   "metadata": {},
   "outputs": [],
   "source": []
  },
  {
   "cell_type": "code",
   "execution_count": null,
   "id": "ce5e051a",
   "metadata": {},
   "outputs": [],
   "source": []
  },
  {
   "cell_type": "code",
   "execution_count": null,
   "id": "3c2c6963",
   "metadata": {},
   "outputs": [],
   "source": []
  },
  {
   "cell_type": "code",
   "execution_count": null,
   "id": "c4263e19",
   "metadata": {},
   "outputs": [],
   "source": []
  },
  {
   "cell_type": "code",
   "execution_count": null,
   "id": "6012df23",
   "metadata": {},
   "outputs": [],
   "source": []
  },
  {
   "cell_type": "code",
   "execution_count": null,
   "id": "2ede07f4",
   "metadata": {},
   "outputs": [],
   "source": []
  },
  {
   "cell_type": "code",
   "execution_count": null,
   "id": "8f1e81fd",
   "metadata": {},
   "outputs": [],
   "source": []
  },
  {
   "cell_type": "code",
   "execution_count": null,
   "id": "bba2c40e",
   "metadata": {},
   "outputs": [],
   "source": []
  },
  {
   "cell_type": "code",
   "execution_count": 16,
   "id": "de036f42",
   "metadata": {},
   "outputs": [],
   "source": [
    "# xgb_model = xgb.XGBClassifier()"
   ]
  },
  {
   "cell_type": "code",
   "execution_count": 17,
   "id": "8f045bd0",
   "metadata": {},
   "outputs": [],
   "source": [
    "# param_grid = {\n",
    "#     'max_depth': [3, 5, 7],\n",
    "#     'learning_rate': [0.1,0.2, 0.3, 0.01, 0.001],\n",
    "#     'n_estimators': [100, 200, 300],\n",
    "#     'objective': ['multi:softmax'],\n",
    "#     'num_class': [50] \n",
    "# }\n"
   ]
  },
  {
   "cell_type": "code",
   "execution_count": 18,
   "id": "f3f89850",
   "metadata": {},
   "outputs": [],
   "source": [
    "# grid_search = GridSearchCV(estimator=xgb_model, param_grid=param_grid, cv=5)\n",
    "# grid_search.fit(X_train, y_train)  # X and y are your training data\n"
   ]
  },
  {
   "cell_type": "code",
   "execution_count": 19,
   "id": "21cd86e3",
   "metadata": {},
   "outputs": [],
   "source": [
    "# best_params = grid_search.best_params_\n",
    "# best_model = grid_search.best_estimator_\n",
    "# best_score = grid_search.best_score_"
   ]
  },
  {
   "cell_type": "code",
   "execution_count": 20,
   "id": "12e0259c",
   "metadata": {},
   "outputs": [],
   "source": [
    "# best_params"
   ]
  },
  {
   "cell_type": "code",
   "execution_count": 21,
   "id": "62723404",
   "metadata": {},
   "outputs": [],
   "source": [
    "# best_score"
   ]
  },
  {
   "cell_type": "code",
   "execution_count": 22,
   "id": "4f9fdf82",
   "metadata": {},
   "outputs": [],
   "source": [
    "# y_pred = best_model.predict(X_test)\n",
    "\n",
    "# # Evaluate the predictions\n",
    "# accuracy = accuracy_score(y_test, y_pred)\n",
    "# accuracy"
   ]
  },
  {
   "cell_type": "code",
   "execution_count": null,
   "id": "1c637f10",
   "metadata": {},
   "outputs": [],
   "source": []
  },
  {
   "cell_type": "code",
   "execution_count": 23,
   "id": "0e25e14b",
   "metadata": {},
   "outputs": [],
   "source": [
    "# xgb_model2 = xgb.XGBClassifier()"
   ]
  },
  {
   "cell_type": "code",
   "execution_count": 24,
   "id": "d3616d34",
   "metadata": {},
   "outputs": [],
   "source": [
    "# param_grid2 = {\n",
    "#     'max_depth': [7, 9, 11],\n",
    "#     'learning_rate': [ 0.3, 0.4, 0.5],\n",
    "#     'n_estimators': [ 300, 400, 500],\n",
    "#     'objective': ['multi:softmax'],\n",
    "#     'num_class': [50] \n",
    "# }"
   ]
  },
  {
   "cell_type": "code",
   "execution_count": 25,
   "id": "347975ee",
   "metadata": {},
   "outputs": [],
   "source": [
    "# grid_search2 = GridSearchCV(estimator=xgb_model2, param_grid=param_grid2, cv=5)\n",
    "# grid_search2.fit(X_train, y_train)  # X and y are your training data\n"
   ]
  },
  {
   "cell_type": "code",
   "execution_count": 26,
   "id": "6b5b77c2",
   "metadata": {},
   "outputs": [],
   "source": [
    "# best_params2 = grid_search2.best_params_\n",
    "# best_model2 = grid_search2.best_estimator_\n",
    "# best_score2 = grid_search2.best_score_"
   ]
  },
  {
   "cell_type": "code",
   "execution_count": 27,
   "id": "c5708a81",
   "metadata": {},
   "outputs": [],
   "source": [
    "# best_params2"
   ]
  },
  {
   "cell_type": "code",
   "execution_count": 28,
   "id": "a5dae84d",
   "metadata": {},
   "outputs": [],
   "source": [
    "# best_score2"
   ]
  },
  {
   "cell_type": "code",
   "execution_count": 29,
   "id": "57de309c",
   "metadata": {},
   "outputs": [],
   "source": [
    "# y_pred2 = best_model2.predict(X_test)\n",
    "\n",
    "# # Evaluate the predictions\n",
    "# accuracy2 = accuracy_score(y_test, y_pred2)\n",
    "# accuracy2"
   ]
  },
  {
   "cell_type": "code",
   "execution_count": null,
   "id": "cc3ab72c",
   "metadata": {},
   "outputs": [],
   "source": []
  }
 ],
 "metadata": {
  "kernelspec": {
   "display_name": "Python 3 (ipykernel)",
   "language": "python",
   "name": "python3"
  },
  "language_info": {
   "codemirror_mode": {
    "name": "ipython",
    "version": 3
   },
   "file_extension": ".py",
   "mimetype": "text/x-python",
   "name": "python",
   "nbconvert_exporter": "python",
   "pygments_lexer": "ipython3",
   "version": "3.10.9"
  }
 },
 "nbformat": 4,
 "nbformat_minor": 5
}
