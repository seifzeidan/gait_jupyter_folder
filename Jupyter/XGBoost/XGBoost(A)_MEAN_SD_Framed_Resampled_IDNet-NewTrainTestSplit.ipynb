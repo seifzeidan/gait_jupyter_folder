{
 "cells": [
  {
   "cell_type": "code",
   "execution_count": 1,
   "id": "f125c479",
   "metadata": {},
   "outputs": [],
   "source": [
    "import pandas as pd\n",
    "import numpy as np\n",
    "import os\n",
    "import math\n",
    "import matplotlib.pyplot as plt\n",
    "from sklearn.model_selection import train_test_split\n",
    "from sklearn.preprocessing import StandardScaler, LabelEncoder\n",
    "from sklearn.metrics import accuracy_score"
   ]
  },
  {
   "cell_type": "code",
   "execution_count": 2,
   "id": "951f2718",
   "metadata": {},
   "outputs": [],
   "source": [
    "import xgboost as xgb\n",
    "from sklearn.model_selection import GridSearchCV\n"
   ]
  },
  {
   "cell_type": "code",
   "execution_count": 3,
   "id": "46eeb8ca",
   "metadata": {},
   "outputs": [],
   "source": [
    "# filepath = \"merged_u1-50_w001_resampled.csv\"\n",
    "filepath_train = \"D:/online dataset csv files preprocessing/MEAN_SD_FRAMED_RESAMPLED_merged_u1-50_w001_resampled_differentFrames6_2_NewSplitManual_TRAIN.csv\"\n",
    "filepath_test = \"D:/online dataset csv files preprocessing/MEAN_SD_FRAMED_RESAMPLED_merged_u1-50_w001_resampled_differentFrames6_2_NewSplitManual_TEST.csv\"\n",
    "\n",
    "\n",
    "df_original_train = pd.read_csv(filepath_train)\n",
    "df_original_test = pd.read_csv(filepath_test)"
   ]
  },
  {
   "cell_type": "code",
   "execution_count": 4,
   "id": "5df5c0d0",
   "metadata": {},
   "outputs": [
    {
     "data": {
      "text/plain": [
       "((7059, 13), (2949, 13))"
      ]
     },
     "execution_count": 4,
     "metadata": {},
     "output_type": "execute_result"
    }
   ],
   "source": [
    "df_original_train.shape, df_original_test.shape"
   ]
  },
  {
   "cell_type": "code",
   "execution_count": 5,
   "id": "1c56c29c",
   "metadata": {},
   "outputs": [],
   "source": [
    "X_train_val = df_original_train.drop('name', axis=1).copy()  # Features (all columns except the target)\n",
    "y_train_val = df_original_train['name'].copy()  # Labels\n",
    "\n",
    "X_test = df_original_test.drop('name', axis=1).copy()  # Features (all columns except the target)\n",
    "y_test = df_original_test['name'].copy()  # Labels"
   ]
  },
  {
   "cell_type": "code",
   "execution_count": 6,
   "id": "45290129",
   "metadata": {},
   "outputs": [],
   "source": [
    "y_train_val = y_train_val -1\n",
    "y_test = y_test -1"
   ]
  },
  {
   "cell_type": "code",
   "execution_count": 7,
   "id": "377fb0c6",
   "metadata": {},
   "outputs": [
    {
     "data": {
      "text/plain": [
       "((6353, 12), (2949, 12), (706, 12), (6353,), (2949,), (706,))"
      ]
     },
     "execution_count": 7,
     "metadata": {},
     "output_type": "execute_result"
    }
   ],
   "source": [
    "X_train, X_val, y_train, y_val = train_test_split(X_train_val, y_train_val, test_size = 0.1, random_state = 0, stratify = y_train_val)\n",
    "X_train.shape, X_test.shape, X_val.shape, y_train.shape, y_test.shape, y_val.shape"
   ]
  },
  {
   "cell_type": "code",
   "execution_count": 8,
   "id": "c63e51fa",
   "metadata": {},
   "outputs": [],
   "source": [
    "# X_train_val, X_test, y_train_val, y_test = train_test_split(X, y, test_size = 0.3, random_state = 0, stratify = y)\n",
    "\n",
    "# X_train, X_validation, y_train, y_validation = train_test_split(X_train_val, y_train_val, test_size = 0.1, random_state = 0, stratify = y_train_val)\n",
    "# X_train.shape, X_test.shape, X_validation.shape, y_train.shape, y_test.shape, y_validation.shape"
   ]
  },
  {
   "cell_type": "code",
   "execution_count": 9,
   "id": "0d0710b2",
   "metadata": {},
   "outputs": [],
   "source": [
    "num_classes = len(np.unique(y_train))"
   ]
  },
  {
   "cell_type": "code",
   "execution_count": 10,
   "id": "2f8d8b5d",
   "metadata": {},
   "outputs": [],
   "source": [
    "dtrain = xgb.DMatrix(X_train, label=y_train)\n",
    "dtest = xgb.DMatrix(X_test)\n",
    "dval = xgb.DMatrix(X_val, label=y_val)"
   ]
  },
  {
   "cell_type": "code",
   "execution_count": 11,
   "id": "6ab8df61",
   "metadata": {},
   "outputs": [
    {
     "data": {
      "text/plain": [
       "(<xgboost.core.DMatrix at 0x2717023b4c0>,\n",
       " <xgboost.core.DMatrix at 0x2717023a770>,\n",
       " <xgboost.core.DMatrix at 0x2717023bd30>)"
      ]
     },
     "execution_count": 11,
     "metadata": {},
     "output_type": "execute_result"
    }
   ],
   "source": [
    "dtrain, dtest, dval"
   ]
  },
  {
   "cell_type": "code",
   "execution_count": 75,
   "id": "754cb245",
   "metadata": {},
   "outputs": [],
   "source": [
    "params = {\n",
    "    'max_depth': 7,\n",
    "    'learning_rate': 0.3,\n",
    "    'objective': 'multi:softmax',\n",
    "    'num_class': num_classes\n",
    "}\n",
    "epochs = 25\n",
    "evals_result = {}  # Initialize an empty dictionary to store the evaluation results"
   ]
  },
  {
   "cell_type": "code",
   "execution_count": 76,
   "id": "17d6770d",
   "metadata": {},
   "outputs": [],
   "source": [
    "model = xgb.train(params, dtrain, epochs,  verbose_eval=1)"
   ]
  },
  {
   "cell_type": "code",
   "execution_count": 77,
   "id": "e0f5cfda",
   "metadata": {},
   "outputs": [
    {
     "name": "stdout",
     "output_type": "stream",
     "text": [
      "[0]\ttrain-mlogloss:0.66475\tvalid-mlogloss:0.83132\n",
      "[1]\ttrain-mlogloss:0.50659\tvalid-mlogloss:0.70953\n",
      "[2]\ttrain-mlogloss:0.40238\tvalid-mlogloss:0.62727\n",
      "[3]\ttrain-mlogloss:0.32942\tvalid-mlogloss:0.56560\n",
      "[4]\ttrain-mlogloss:0.27580\tvalid-mlogloss:0.52221\n",
      "[5]\ttrain-mlogloss:0.23552\tvalid-mlogloss:0.48363\n",
      "[6]\ttrain-mlogloss:0.20439\tvalid-mlogloss:0.45560\n",
      "[7]\ttrain-mlogloss:0.18021\tvalid-mlogloss:0.43537\n",
      "[8]\ttrain-mlogloss:0.16120\tvalid-mlogloss:0.41606\n",
      "[9]\ttrain-mlogloss:0.14640\tvalid-mlogloss:0.40112\n",
      "[10]\ttrain-mlogloss:0.13445\tvalid-mlogloss:0.39123\n",
      "[11]\ttrain-mlogloss:0.12507\tvalid-mlogloss:0.38198\n",
      "[12]\ttrain-mlogloss:0.11752\tvalid-mlogloss:0.37569\n",
      "[13]\ttrain-mlogloss:0.11142\tvalid-mlogloss:0.37169\n",
      "[14]\ttrain-mlogloss:0.10648\tvalid-mlogloss:0.36903\n",
      "[15]\ttrain-mlogloss:0.10245\tvalid-mlogloss:0.36670\n",
      "[16]\ttrain-mlogloss:0.09924\tvalid-mlogloss:0.36547\n",
      "[17]\ttrain-mlogloss:0.09649\tvalid-mlogloss:0.36394\n",
      "[18]\ttrain-mlogloss:0.09426\tvalid-mlogloss:0.36338\n",
      "[19]\ttrain-mlogloss:0.09235\tvalid-mlogloss:0.36423\n",
      "[20]\ttrain-mlogloss:0.09068\tvalid-mlogloss:0.36689\n",
      "[21]\ttrain-mlogloss:0.08923\tvalid-mlogloss:0.36934\n",
      "[22]\ttrain-mlogloss:0.08802\tvalid-mlogloss:0.37242\n",
      "[23]\ttrain-mlogloss:0.08698\tvalid-mlogloss:0.37513\n",
      "[24]\ttrain-mlogloss:0.08607\tvalid-mlogloss:0.37600\n"
     ]
    }
   ],
   "source": [
    "model = xgb.train(params, dtrain, epochs, evals=[(dtrain, 'train'), (dval, 'valid')],\n",
    "                  evals_result=evals_result, verbose_eval=1)"
   ]
  },
  {
   "cell_type": "code",
   "execution_count": 78,
   "id": "73cad87f",
   "metadata": {},
   "outputs": [],
   "source": [
    "predictions = model.predict(dtest)"
   ]
  },
  {
   "cell_type": "code",
   "execution_count": 79,
   "id": "6a6fe10d",
   "metadata": {},
   "outputs": [
    {
     "name": "stdout",
     "output_type": "stream",
     "text": [
      "[23. 17. 17. ... 48. 10. 19.]\n"
     ]
    }
   ],
   "source": [
    "print(predictions)"
   ]
  },
  {
   "cell_type": "code",
   "execution_count": 80,
   "id": "1e5aa112",
   "metadata": {},
   "outputs": [
    {
     "data": {
      "text/plain": [
       "0.8501186842997627"
      ]
     },
     "execution_count": 80,
     "metadata": {},
     "output_type": "execute_result"
    }
   ],
   "source": [
    "accuracy_score(y_test, predictions)"
   ]
  },
  {
   "cell_type": "code",
   "execution_count": null,
   "id": "bba2c40e",
   "metadata": {},
   "outputs": [],
   "source": []
  },
  {
   "cell_type": "code",
   "execution_count": 18,
   "id": "de036f42",
   "metadata": {},
   "outputs": [],
   "source": [
    "xgb_model = xgb.XGBClassifier()"
   ]
  },
  {
   "cell_type": "code",
   "execution_count": 19,
   "id": "8f045bd0",
   "metadata": {},
   "outputs": [],
   "source": [
    "param_grid = {\n",
    "    'max_depth': [1, 3, 5 ],\n",
    "    'learning_rate': [0.1, 0.05, 0.01],\n",
    "    'objective': ['multi:softmax'],\n",
    "    'num_class': [num_classes] \n",
    "}\n"
   ]
  },
  {
   "cell_type": "code",
   "execution_count": 20,
   "id": "f3f89850",
   "metadata": {},
   "outputs": [
    {
     "data": {
      "text/html": [
       "<style>#sk-container-id-1 {color: black;background-color: white;}#sk-container-id-1 pre{padding: 0;}#sk-container-id-1 div.sk-toggleable {background-color: white;}#sk-container-id-1 label.sk-toggleable__label {cursor: pointer;display: block;width: 100%;margin-bottom: 0;padding: 0.3em;box-sizing: border-box;text-align: center;}#sk-container-id-1 label.sk-toggleable__label-arrow:before {content: \"▸\";float: left;margin-right: 0.25em;color: #696969;}#sk-container-id-1 label.sk-toggleable__label-arrow:hover:before {color: black;}#sk-container-id-1 div.sk-estimator:hover label.sk-toggleable__label-arrow:before {color: black;}#sk-container-id-1 div.sk-toggleable__content {max-height: 0;max-width: 0;overflow: hidden;text-align: left;background-color: #f0f8ff;}#sk-container-id-1 div.sk-toggleable__content pre {margin: 0.2em;color: black;border-radius: 0.25em;background-color: #f0f8ff;}#sk-container-id-1 input.sk-toggleable__control:checked~div.sk-toggleable__content {max-height: 200px;max-width: 100%;overflow: auto;}#sk-container-id-1 input.sk-toggleable__control:checked~label.sk-toggleable__label-arrow:before {content: \"▾\";}#sk-container-id-1 div.sk-estimator input.sk-toggleable__control:checked~label.sk-toggleable__label {background-color: #d4ebff;}#sk-container-id-1 div.sk-label input.sk-toggleable__control:checked~label.sk-toggleable__label {background-color: #d4ebff;}#sk-container-id-1 input.sk-hidden--visually {border: 0;clip: rect(1px 1px 1px 1px);clip: rect(1px, 1px, 1px, 1px);height: 1px;margin: -1px;overflow: hidden;padding: 0;position: absolute;width: 1px;}#sk-container-id-1 div.sk-estimator {font-family: monospace;background-color: #f0f8ff;border: 1px dotted black;border-radius: 0.25em;box-sizing: border-box;margin-bottom: 0.5em;}#sk-container-id-1 div.sk-estimator:hover {background-color: #d4ebff;}#sk-container-id-1 div.sk-parallel-item::after {content: \"\";width: 100%;border-bottom: 1px solid gray;flex-grow: 1;}#sk-container-id-1 div.sk-label:hover label.sk-toggleable__label {background-color: #d4ebff;}#sk-container-id-1 div.sk-serial::before {content: \"\";position: absolute;border-left: 1px solid gray;box-sizing: border-box;top: 0;bottom: 0;left: 50%;z-index: 0;}#sk-container-id-1 div.sk-serial {display: flex;flex-direction: column;align-items: center;background-color: white;padding-right: 0.2em;padding-left: 0.2em;position: relative;}#sk-container-id-1 div.sk-item {position: relative;z-index: 1;}#sk-container-id-1 div.sk-parallel {display: flex;align-items: stretch;justify-content: center;background-color: white;position: relative;}#sk-container-id-1 div.sk-item::before, #sk-container-id-1 div.sk-parallel-item::before {content: \"\";position: absolute;border-left: 1px solid gray;box-sizing: border-box;top: 0;bottom: 0;left: 50%;z-index: -1;}#sk-container-id-1 div.sk-parallel-item {display: flex;flex-direction: column;z-index: 1;position: relative;background-color: white;}#sk-container-id-1 div.sk-parallel-item:first-child::after {align-self: flex-end;width: 50%;}#sk-container-id-1 div.sk-parallel-item:last-child::after {align-self: flex-start;width: 50%;}#sk-container-id-1 div.sk-parallel-item:only-child::after {width: 0;}#sk-container-id-1 div.sk-dashed-wrapped {border: 1px dashed gray;margin: 0 0.4em 0.5em 0.4em;box-sizing: border-box;padding-bottom: 0.4em;background-color: white;}#sk-container-id-1 div.sk-label label {font-family: monospace;font-weight: bold;display: inline-block;line-height: 1.2em;}#sk-container-id-1 div.sk-label-container {text-align: center;}#sk-container-id-1 div.sk-container {/* jupyter's `normalize.less` sets `[hidden] { display: none; }` but bootstrap.min.css set `[hidden] { display: none !important; }` so we also need the `!important` here to be able to override the default hidden behavior on the sphinx rendered scikit-learn.org. See: https://github.com/scikit-learn/scikit-learn/issues/21755 */display: inline-block !important;position: relative;}#sk-container-id-1 div.sk-text-repr-fallback {display: none;}</style><div id=\"sk-container-id-1\" class=\"sk-top-container\"><div class=\"sk-text-repr-fallback\"><pre>GridSearchCV(cv=5,\n",
       "             estimator=XGBClassifier(base_score=None, booster=None,\n",
       "                                     callbacks=None, colsample_bylevel=None,\n",
       "                                     colsample_bynode=None,\n",
       "                                     colsample_bytree=None,\n",
       "                                     early_stopping_rounds=None,\n",
       "                                     enable_categorical=False, eval_metric=None,\n",
       "                                     feature_types=None, gamma=None,\n",
       "                                     gpu_id=None, grow_policy=None,\n",
       "                                     importance_type=None,\n",
       "                                     interaction_constraints=None,\n",
       "                                     learning_rate=None,...\n",
       "                                     max_cat_threshold=None,\n",
       "                                     max_cat_to_onehot=None,\n",
       "                                     max_delta_step=None, max_depth=None,\n",
       "                                     max_leaves=None, min_child_weight=None,\n",
       "                                     missing=nan, monotone_constraints=None,\n",
       "                                     n_estimators=100, n_jobs=None,\n",
       "                                     num_parallel_tree=None, predictor=None,\n",
       "                                     random_state=None, ...),\n",
       "             param_grid={&#x27;learning_rate&#x27;: [0.1, 0.05, 0.01],\n",
       "                         &#x27;max_depth&#x27;: [1, 3, 5], &#x27;num_class&#x27;: [50],\n",
       "                         &#x27;objective&#x27;: [&#x27;multi:softmax&#x27;]})</pre><b>In a Jupyter environment, please rerun this cell to show the HTML representation or trust the notebook. <br />On GitHub, the HTML representation is unable to render, please try loading this page with nbviewer.org.</b></div><div class=\"sk-container\" hidden><div class=\"sk-item sk-dashed-wrapped\"><div class=\"sk-label-container\"><div class=\"sk-label sk-toggleable\"><input class=\"sk-toggleable__control sk-hidden--visually\" id=\"sk-estimator-id-1\" type=\"checkbox\" ><label for=\"sk-estimator-id-1\" class=\"sk-toggleable__label sk-toggleable__label-arrow\">GridSearchCV</label><div class=\"sk-toggleable__content\"><pre>GridSearchCV(cv=5,\n",
       "             estimator=XGBClassifier(base_score=None, booster=None,\n",
       "                                     callbacks=None, colsample_bylevel=None,\n",
       "                                     colsample_bynode=None,\n",
       "                                     colsample_bytree=None,\n",
       "                                     early_stopping_rounds=None,\n",
       "                                     enable_categorical=False, eval_metric=None,\n",
       "                                     feature_types=None, gamma=None,\n",
       "                                     gpu_id=None, grow_policy=None,\n",
       "                                     importance_type=None,\n",
       "                                     interaction_constraints=None,\n",
       "                                     learning_rate=None,...\n",
       "                                     max_cat_threshold=None,\n",
       "                                     max_cat_to_onehot=None,\n",
       "                                     max_delta_step=None, max_depth=None,\n",
       "                                     max_leaves=None, min_child_weight=None,\n",
       "                                     missing=nan, monotone_constraints=None,\n",
       "                                     n_estimators=100, n_jobs=None,\n",
       "                                     num_parallel_tree=None, predictor=None,\n",
       "                                     random_state=None, ...),\n",
       "             param_grid={&#x27;learning_rate&#x27;: [0.1, 0.05, 0.01],\n",
       "                         &#x27;max_depth&#x27;: [1, 3, 5], &#x27;num_class&#x27;: [50],\n",
       "                         &#x27;objective&#x27;: [&#x27;multi:softmax&#x27;]})</pre></div></div></div><div class=\"sk-parallel\"><div class=\"sk-parallel-item\"><div class=\"sk-item\"><div class=\"sk-label-container\"><div class=\"sk-label sk-toggleable\"><input class=\"sk-toggleable__control sk-hidden--visually\" id=\"sk-estimator-id-2\" type=\"checkbox\" ><label for=\"sk-estimator-id-2\" class=\"sk-toggleable__label sk-toggleable__label-arrow\">estimator: XGBClassifier</label><div class=\"sk-toggleable__content\"><pre>XGBClassifier(base_score=None, booster=None, callbacks=None,\n",
       "              colsample_bylevel=None, colsample_bynode=None,\n",
       "              colsample_bytree=None, early_stopping_rounds=None,\n",
       "              enable_categorical=False, eval_metric=None, feature_types=None,\n",
       "              gamma=None, gpu_id=None, grow_policy=None, importance_type=None,\n",
       "              interaction_constraints=None, learning_rate=None, max_bin=None,\n",
       "              max_cat_threshold=None, max_cat_to_onehot=None,\n",
       "              max_delta_step=None, max_depth=None, max_leaves=None,\n",
       "              min_child_weight=None, missing=nan, monotone_constraints=None,\n",
       "              n_estimators=100, n_jobs=None, num_parallel_tree=None,\n",
       "              predictor=None, random_state=None, ...)</pre></div></div></div><div class=\"sk-serial\"><div class=\"sk-item\"><div class=\"sk-estimator sk-toggleable\"><input class=\"sk-toggleable__control sk-hidden--visually\" id=\"sk-estimator-id-3\" type=\"checkbox\" ><label for=\"sk-estimator-id-3\" class=\"sk-toggleable__label sk-toggleable__label-arrow\">XGBClassifier</label><div class=\"sk-toggleable__content\"><pre>XGBClassifier(base_score=None, booster=None, callbacks=None,\n",
       "              colsample_bylevel=None, colsample_bynode=None,\n",
       "              colsample_bytree=None, early_stopping_rounds=None,\n",
       "              enable_categorical=False, eval_metric=None, feature_types=None,\n",
       "              gamma=None, gpu_id=None, grow_policy=None, importance_type=None,\n",
       "              interaction_constraints=None, learning_rate=None, max_bin=None,\n",
       "              max_cat_threshold=None, max_cat_to_onehot=None,\n",
       "              max_delta_step=None, max_depth=None, max_leaves=None,\n",
       "              min_child_weight=None, missing=nan, monotone_constraints=None,\n",
       "              n_estimators=100, n_jobs=None, num_parallel_tree=None,\n",
       "              predictor=None, random_state=None, ...)</pre></div></div></div></div></div></div></div></div></div></div>"
      ],
      "text/plain": [
       "GridSearchCV(cv=5,\n",
       "             estimator=XGBClassifier(base_score=None, booster=None,\n",
       "                                     callbacks=None, colsample_bylevel=None,\n",
       "                                     colsample_bynode=None,\n",
       "                                     colsample_bytree=None,\n",
       "                                     early_stopping_rounds=None,\n",
       "                                     enable_categorical=False, eval_metric=None,\n",
       "                                     feature_types=None, gamma=None,\n",
       "                                     gpu_id=None, grow_policy=None,\n",
       "                                     importance_type=None,\n",
       "                                     interaction_constraints=None,\n",
       "                                     learning_rate=None,...\n",
       "                                     max_cat_threshold=None,\n",
       "                                     max_cat_to_onehot=None,\n",
       "                                     max_delta_step=None, max_depth=None,\n",
       "                                     max_leaves=None, min_child_weight=None,\n",
       "                                     missing=nan, monotone_constraints=None,\n",
       "                                     n_estimators=100, n_jobs=None,\n",
       "                                     num_parallel_tree=None, predictor=None,\n",
       "                                     random_state=None, ...),\n",
       "             param_grid={'learning_rate': [0.1, 0.05, 0.01],\n",
       "                         'max_depth': [1, 3, 5], 'num_class': [50],\n",
       "                         'objective': ['multi:softmax']})"
      ]
     },
     "execution_count": 20,
     "metadata": {},
     "output_type": "execute_result"
    }
   ],
   "source": [
    "grid_search = GridSearchCV(estimator=xgb_model, param_grid=param_grid, cv=5)\n",
    "grid_search.fit(X_train, y_train)  # X and y are your training data\n"
   ]
  },
  {
   "cell_type": "code",
   "execution_count": 21,
   "id": "21cd86e3",
   "metadata": {},
   "outputs": [],
   "source": [
    "best_params = grid_search.best_params_\n",
    "best_model = grid_search.best_estimator_\n",
    "best_score = grid_search.best_score_"
   ]
  },
  {
   "cell_type": "code",
   "execution_count": 22,
   "id": "12e0259c",
   "metadata": {},
   "outputs": [
    {
     "data": {
      "text/plain": [
       "{'learning_rate': 0.1,\n",
       " 'max_depth': 1,\n",
       " 'num_class': 50,\n",
       " 'objective': 'multi:softmax'}"
      ]
     },
     "execution_count": 22,
     "metadata": {},
     "output_type": "execute_result"
    }
   ],
   "source": [
    "best_params"
   ]
  },
  {
   "cell_type": "code",
   "execution_count": 23,
   "id": "62723404",
   "metadata": {},
   "outputs": [
    {
     "data": {
      "text/plain": [
       "0.8835198275274598"
      ]
     },
     "execution_count": 23,
     "metadata": {},
     "output_type": "execute_result"
    }
   ],
   "source": [
    "best_score"
   ]
  },
  {
   "cell_type": "code",
   "execution_count": 24,
   "id": "4f9fdf82",
   "metadata": {},
   "outputs": [
    {
     "data": {
      "text/plain": [
       "0.8531705662936588"
      ]
     },
     "execution_count": 24,
     "metadata": {},
     "output_type": "execute_result"
    }
   ],
   "source": [
    "y_pred = best_model.predict(X_test)\n",
    "\n",
    "# Evaluate the predictions\n",
    "accuracy = accuracy_score(y_test, y_pred)\n",
    "accuracy"
   ]
  },
  {
   "cell_type": "code",
   "execution_count": 25,
   "id": "1c637f10",
   "metadata": {},
   "outputs": [],
   "source": [
    "#2:24 0.2 , 3"
   ]
  },
  {
   "cell_type": "code",
   "execution_count": 26,
   "id": "0e25e14b",
   "metadata": {},
   "outputs": [],
   "source": [
    "# xgb_model2 = xgb.XGBClassifier()"
   ]
  },
  {
   "cell_type": "code",
   "execution_count": 27,
   "id": "d3616d34",
   "metadata": {},
   "outputs": [],
   "source": [
    "# param_grid2 = {\n",
    "#     'max_depth': [7, 9, 11],\n",
    "#     'learning_rate': [ 0.3, 0.4, 0.5],\n",
    "#     'n_estimators': [ 300, 400, 500],\n",
    "#     'objective': ['multi:softmax'],\n",
    "#     'num_class': [50] \n",
    "# }"
   ]
  },
  {
   "cell_type": "code",
   "execution_count": 28,
   "id": "347975ee",
   "metadata": {},
   "outputs": [],
   "source": [
    "# grid_search2 = GridSearchCV(estimator=xgb_model2, param_grid=param_grid2, cv=5)\n",
    "# grid_search2.fit(X_train, y_train)  # X and y are your training data\n"
   ]
  },
  {
   "cell_type": "code",
   "execution_count": 29,
   "id": "6b5b77c2",
   "metadata": {},
   "outputs": [],
   "source": [
    "# best_params2 = grid_search2.best_params_\n",
    "# best_model2 = grid_search2.best_estimator_\n",
    "# best_score2 = grid_search2.best_score_"
   ]
  },
  {
   "cell_type": "code",
   "execution_count": 30,
   "id": "c5708a81",
   "metadata": {},
   "outputs": [],
   "source": [
    "# best_params2"
   ]
  },
  {
   "cell_type": "code",
   "execution_count": 31,
   "id": "a5dae84d",
   "metadata": {},
   "outputs": [],
   "source": [
    "# best_score2"
   ]
  },
  {
   "cell_type": "code",
   "execution_count": 32,
   "id": "57de309c",
   "metadata": {},
   "outputs": [],
   "source": [
    "# y_pred2 = best_model2.predict(X_test)\n",
    "\n",
    "# # Evaluate the predictions\n",
    "# accuracy2 = accuracy_score(y_test, y_pred2)\n",
    "# accuracy2"
   ]
  },
  {
   "cell_type": "code",
   "execution_count": null,
   "id": "cc3ab72c",
   "metadata": {},
   "outputs": [],
   "source": []
  }
 ],
 "metadata": {
  "kernelspec": {
   "display_name": "Python 3 (ipykernel)",
   "language": "python",
   "name": "python3"
  },
  "language_info": {
   "codemirror_mode": {
    "name": "ipython",
    "version": 3
   },
   "file_extension": ".py",
   "mimetype": "text/x-python",
   "name": "python",
   "nbconvert_exporter": "python",
   "pygments_lexer": "ipython3",
   "version": "3.10.9"
  }
 },
 "nbformat": 4,
 "nbformat_minor": 5
}
