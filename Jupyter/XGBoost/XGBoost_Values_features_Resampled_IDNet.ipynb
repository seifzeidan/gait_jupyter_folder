{
 "cells": [
  {
   "cell_type": "code",
   "execution_count": 1,
   "id": "f125c479",
   "metadata": {},
   "outputs": [],
   "source": [
    "import pandas as pd\n",
    "import numpy as np\n",
    "import os\n",
    "import math\n",
    "import matplotlib.pyplot as plt\n",
    "from sklearn.model_selection import train_test_split\n",
    "from sklearn.preprocessing import StandardScaler, LabelEncoder\n",
    "from sklearn.metrics import accuracy_score"
   ]
  },
  {
   "cell_type": "code",
   "execution_count": 2,
   "id": "951f2718",
   "metadata": {},
   "outputs": [],
   "source": [
    "import xgboost as xgb\n",
    "from sklearn.model_selection import GridSearchCV\n"
   ]
  },
  {
   "cell_type": "code",
   "execution_count": 3,
   "id": "46eeb8ca",
   "metadata": {},
   "outputs": [],
   "source": [
    "# # filepath = \"merged_u1-50_w001_resampled.csv\"\n",
    "# filepath = \"D:/online dataset csv files preprocessing/merged_u1-50_w001_resampled.csv\"\n",
    "\n",
    "# df_original = pd.read_csv(filepath)"
   ]
  },
  {
   "cell_type": "code",
   "execution_count": 4,
   "id": "0f249876",
   "metadata": {},
   "outputs": [],
   "source": [
    "# df_original"
   ]
  },
  {
   "cell_type": "code",
   "execution_count": 5,
   "id": "e805526d",
   "metadata": {},
   "outputs": [],
   "source": [
    "# df_Xtime = df_original.copy()\n",
    "# df_Xtime = df_Xtime.drop(['timestamp'], axis = 1).copy()\n",
    "# df_Xtime.shape"
   ]
  },
  {
   "cell_type": "code",
   "execution_count": 6,
   "id": "19966fea",
   "metadata": {},
   "outputs": [],
   "source": [
    "# X = df_Xtime[['LAx', 'LAy', 'LAz','GYx', 'GYy', 'GYz']].copy()\n",
    "# y = df_Xtime['name'].copy()"
   ]
  },
  {
   "cell_type": "code",
   "execution_count": 7,
   "id": "98cbeb24",
   "metadata": {
    "scrolled": false
   },
   "outputs": [],
   "source": [
    "# scaler = StandardScaler()\n",
    "# X_transformed = X.copy()\n",
    "# X_transformed = scaler.fit_transform(X_transformed)\n",
    "\n",
    "# scaled_X = pd.DataFrame(data = X_transformed, columns = ['LAx', 'LAy', 'LAz','GYx', 'GYy', 'GYz'])\n",
    "# scaled_X['label'] = y.values\n",
    "\n",
    "# scaled_X"
   ]
  },
  {
   "cell_type": "code",
   "execution_count": 8,
   "id": "3b3879e9",
   "metadata": {},
   "outputs": [],
   "source": [
    "# import scipy.stats as stats\n",
    "\n",
    "# Fs = 100\n",
    "# frame_size = Fs*4\n",
    "# hop_size = Fs*1"
   ]
  },
  {
   "cell_type": "code",
   "execution_count": 9,
   "id": "dc28797c",
   "metadata": {},
   "outputs": [],
   "source": [
    "# num_columns = frame_size*6\n",
    "# new_df = pd.DataFrame(columns=range(num_columns))\n",
    "# for i in range(0,num_columns):\n",
    "#     if i in range(0,frame_size):\n",
    "#         string = f\"LAx_{i+1}\"\n",
    "#         new_df = new_df.rename(columns={i: string})\n",
    "        \n",
    "#     if i in range(frame_size,frame_size*2):\n",
    "#         string = f\"LAy_{i+1}\"\n",
    "#         new_df = new_df.rename(columns={i: string}) \n",
    "       \n",
    "#     if i in range(frame_size*2,frame_size*3):\n",
    "#         string = f\"LAz_{i+1}\"\n",
    "#         new_df = new_df.rename(columns={i: string}) \n",
    "       \n",
    "#     if i in range(frame_size*3,frame_size*4):\n",
    "#         string = f\"GYx_{i+1}\"\n",
    "#         new_df = new_df.rename(columns={i: string})\n",
    "        \n",
    "#     if i in range(frame_size*4,frame_size*5):\n",
    "#         string = f\"GYy_{i+1}\"\n",
    "#         new_df = new_df.rename(columns={i: string}) \n",
    "       \n",
    "#     if i in range(frame_size*5,frame_size*6):\n",
    "#         string = f\"GYz_{i+1}\"\n",
    "#         new_df = new_df.rename(columns={i: string}) \n",
    "        "
   ]
  },
  {
   "cell_type": "code",
   "execution_count": 10,
   "id": "acfdd677",
   "metadata": {
    "scrolled": false
   },
   "outputs": [],
   "source": [
    "# new_df"
   ]
  },
  {
   "cell_type": "code",
   "execution_count": 11,
   "id": "3978b6ae",
   "metadata": {},
   "outputs": [],
   "source": [
    "# new_df.shape"
   ]
  },
  {
   "cell_type": "code",
   "execution_count": 12,
   "id": "b7b38560",
   "metadata": {},
   "outputs": [],
   "source": [
    "\n",
    "# def get_frames(scaled_X, frame_size, hop_size):\n",
    "#     label = []\n",
    "#     df = scaled_X.copy()\n",
    "    \n",
    "#     last_value = df['label'].iloc[-1]\n",
    "    \n",
    "#     for j in range (1,last_value+1):\n",
    "#         filtered_df = df[df['label'] == j]\n",
    "#         filtered_df = filtered_df.drop('label', axis = 1)\n",
    "#         for i in range(0, len(filtered_df) - frame_size, hop_size):\n",
    "            \n",
    "#             LAx = filtered_df['LAx'].values[i: i + frame_size]\n",
    "#             LAy = filtered_df['LAy'].values[i: i + frame_size]\n",
    "#             LAz = filtered_df['LAz'].values[i: i + frame_size]\n",
    "#             GYx = filtered_df['GYx'].values[i: i + frame_size]\n",
    "#             GYy = filtered_df['GYy'].values[i: i + frame_size]\n",
    "#             GYz = filtered_df['GYz'].values[i: i + frame_size]\n",
    "            \n",
    "#             if(len(LAx) != frame_size):\n",
    "#                 x=x+1\n",
    "#                 continue\n",
    "            \n",
    "#             label.append(j)\n",
    "           \n",
    "#             merged_array = np.concatenate((LAx, LAy, LAz, GYx, GYy , GYz))\n",
    "#             new_df.loc[len(new_df)] = merged_array"
   ]
  },
  {
   "cell_type": "code",
   "execution_count": 13,
   "id": "c3faeb09",
   "metadata": {},
   "outputs": [],
   "source": [
    "# label = []\n",
    "# def get_frames(scaled_X, frame_size, hop_size):\n",
    "#     last_value = scaled_X['label'].iloc[-1]\n",
    "#     for j in range(1, last_value + 1):\n",
    "#         filtered_df = scaled_X[scaled_X['label'] == j].drop('label', axis=1)\n",
    "#         for i in range(0, len(filtered_df) - frame_size, hop_size):\n",
    "#             subarray = filtered_df.iloc[i: i + frame_size].values\n",
    "#             if subarray.shape[0] != frame_size:\n",
    "#                 continue\n",
    "#             label.append(j)\n",
    "#             merged_array = subarray.ravel()\n",
    "#             new_df.loc[len(new_df)] = merged_array    \n"
   ]
  },
  {
   "cell_type": "code",
   "execution_count": 14,
   "id": "12d7fab7",
   "metadata": {
    "scrolled": true
   },
   "outputs": [],
   "source": [
    "# get_frames(scaled_X,frame_size, hop_size)"
   ]
  },
  {
   "cell_type": "code",
   "execution_count": 15,
   "id": "c25292db",
   "metadata": {
    "scrolled": true
   },
   "outputs": [],
   "source": [
    "# new_df"
   ]
  },
  {
   "cell_type": "code",
   "execution_count": 16,
   "id": "aff01850",
   "metadata": {},
   "outputs": [],
   "source": [
    "# y = np.array(label)"
   ]
  },
  {
   "cell_type": "code",
   "execution_count": 17,
   "id": "8b4d8165",
   "metadata": {},
   "outputs": [],
   "source": [
    "# new_df_copy = new_df.copy()\n",
    "# new_df_copy['name']= y\n",
    "# # new_df_copy.to_csv('VALUES_AS_FEATURES_FRAMED_RESAMPLED_merged_u1-50_w001_resampled_4_1.csv', index = False)"
   ]
  },
  {
   "cell_type": "code",
   "execution_count": 18,
   "id": "4c661436",
   "metadata": {},
   "outputs": [],
   "source": [
    "# new_df_copy.to_csv('VALUES_AS_FEATURES_FRAMED_RESAMPLED_merged_u1-50_w001_resampled_4_1.csv', index = False)"
   ]
  },
  {
   "cell_type": "code",
   "execution_count": 48,
   "id": "41d55201",
   "metadata": {},
   "outputs": [],
   "source": [
    "new_df_name = pd.read_parquet(\"D:/online dataset csv files preprocessing/my_file_f32.parquet\")"
   ]
  },
  {
   "cell_type": "code",
   "execution_count": 49,
   "id": "b8074d38",
   "metadata": {},
   "outputs": [
    {
     "data": {
      "text/html": [
       "<div>\n",
       "<style scoped>\n",
       "    .dataframe tbody tr th:only-of-type {\n",
       "        vertical-align: middle;\n",
       "    }\n",
       "\n",
       "    .dataframe tbody tr th {\n",
       "        vertical-align: top;\n",
       "    }\n",
       "\n",
       "    .dataframe thead th {\n",
       "        text-align: right;\n",
       "    }\n",
       "</style>\n",
       "<table border=\"1\" class=\"dataframe\">\n",
       "  <thead>\n",
       "    <tr style=\"text-align: right;\">\n",
       "      <th></th>\n",
       "      <th>LAx_1</th>\n",
       "      <th>LAx_2</th>\n",
       "      <th>LAx_3</th>\n",
       "      <th>LAx_4</th>\n",
       "      <th>LAx_5</th>\n",
       "      <th>LAx_6</th>\n",
       "      <th>LAx_7</th>\n",
       "      <th>LAx_8</th>\n",
       "      <th>LAx_9</th>\n",
       "      <th>LAx_10</th>\n",
       "      <th>...</th>\n",
       "      <th>GYz_2392</th>\n",
       "      <th>GYz_2393</th>\n",
       "      <th>GYz_2394</th>\n",
       "      <th>GYz_2395</th>\n",
       "      <th>GYz_2396</th>\n",
       "      <th>GYz_2397</th>\n",
       "      <th>GYz_2398</th>\n",
       "      <th>GYz_2399</th>\n",
       "      <th>GYz_2400</th>\n",
       "      <th>name</th>\n",
       "    </tr>\n",
       "  </thead>\n",
       "  <tbody>\n",
       "    <tr>\n",
       "      <th>0</th>\n",
       "      <td>0.359745</td>\n",
       "      <td>-0.067021</td>\n",
       "      <td>-0.237446</td>\n",
       "      <td>0.105221</td>\n",
       "      <td>0.035341</td>\n",
       "      <td>0.175545</td>\n",
       "      <td>0.322625</td>\n",
       "      <td>-0.073783</td>\n",
       "      <td>-0.418039</td>\n",
       "      <td>0.133911</td>\n",
       "      <td>...</td>\n",
       "      <td>-0.181759</td>\n",
       "      <td>0.557376</td>\n",
       "      <td>1.413844</td>\n",
       "      <td>0.122310</td>\n",
       "      <td>-0.096276</td>\n",
       "      <td>0.176904</td>\n",
       "      <td>-0.115075</td>\n",
       "      <td>0.816219</td>\n",
       "      <td>1.397160</td>\n",
       "      <td>1.0</td>\n",
       "    </tr>\n",
       "    <tr>\n",
       "      <th>1</th>\n",
       "      <td>0.129007</td>\n",
       "      <td>-0.102501</td>\n",
       "      <td>-0.242298</td>\n",
       "      <td>-0.014642</td>\n",
       "      <td>0.159954</td>\n",
       "      <td>0.060075</td>\n",
       "      <td>0.117745</td>\n",
       "      <td>-0.114603</td>\n",
       "      <td>-0.218973</td>\n",
       "      <td>-0.105793</td>\n",
       "      <td>...</td>\n",
       "      <td>0.759650</td>\n",
       "      <td>-5.521030</td>\n",
       "      <td>2.263304</td>\n",
       "      <td>0.720506</td>\n",
       "      <td>3.158339</td>\n",
       "      <td>-0.863043</td>\n",
       "      <td>1.221913</td>\n",
       "      <td>-5.220052</td>\n",
       "      <td>2.226096</td>\n",
       "      <td>1.0</td>\n",
       "    </tr>\n",
       "    <tr>\n",
       "      <th>2</th>\n",
       "      <td>-0.160100</td>\n",
       "      <td>-0.128460</td>\n",
       "      <td>-0.094649</td>\n",
       "      <td>-0.709285</td>\n",
       "      <td>2.617701</td>\n",
       "      <td>1.937379</td>\n",
       "      <td>0.272762</td>\n",
       "      <td>-0.107602</td>\n",
       "      <td>-0.233834</td>\n",
       "      <td>-0.508970</td>\n",
       "      <td>...</td>\n",
       "      <td>-0.697478</td>\n",
       "      <td>0.342111</td>\n",
       "      <td>0.187116</td>\n",
       "      <td>-0.233903</td>\n",
       "      <td>0.080573</td>\n",
       "      <td>-0.391539</td>\n",
       "      <td>-0.678914</td>\n",
       "      <td>0.325550</td>\n",
       "      <td>0.184552</td>\n",
       "      <td>1.0</td>\n",
       "    </tr>\n",
       "    <tr>\n",
       "      <th>3</th>\n",
       "      <td>-0.157594</td>\n",
       "      <td>-0.036112</td>\n",
       "      <td>0.226604</td>\n",
       "      <td>-0.046289</td>\n",
       "      <td>0.157782</td>\n",
       "      <td>0.154390</td>\n",
       "      <td>-0.162862</td>\n",
       "      <td>-0.037490</td>\n",
       "      <td>0.227166</td>\n",
       "      <td>-0.028146</td>\n",
       "      <td>...</td>\n",
       "      <td>-1.113602</td>\n",
       "      <td>-0.725226</td>\n",
       "      <td>0.566927</td>\n",
       "      <td>-0.655554</td>\n",
       "      <td>0.157591</td>\n",
       "      <td>0.265782</td>\n",
       "      <td>-0.946480</td>\n",
       "      <td>-0.254885</td>\n",
       "      <td>0.377029</td>\n",
       "      <td>1.0</td>\n",
       "    </tr>\n",
       "    <tr>\n",
       "      <th>4</th>\n",
       "      <td>0.008214</td>\n",
       "      <td>-0.084986</td>\n",
       "      <td>0.250760</td>\n",
       "      <td>-0.043063</td>\n",
       "      <td>0.868519</td>\n",
       "      <td>1.421958</td>\n",
       "      <td>-0.090216</td>\n",
       "      <td>-0.116707</td>\n",
       "      <td>0.387180</td>\n",
       "      <td>-0.024345</td>\n",
       "      <td>...</td>\n",
       "      <td>-1.412399</td>\n",
       "      <td>-3.510529</td>\n",
       "      <td>0.438611</td>\n",
       "      <td>0.428812</td>\n",
       "      <td>0.449404</td>\n",
       "      <td>2.594782</td>\n",
       "      <td>-1.060007</td>\n",
       "      <td>-1.728217</td>\n",
       "      <td>0.720917</td>\n",
       "      <td>1.0</td>\n",
       "    </tr>\n",
       "    <tr>\n",
       "      <th>...</th>\n",
       "      <td>...</td>\n",
       "      <td>...</td>\n",
       "      <td>...</td>\n",
       "      <td>...</td>\n",
       "      <td>...</td>\n",
       "      <td>...</td>\n",
       "      <td>...</td>\n",
       "      <td>...</td>\n",
       "      <td>...</td>\n",
       "      <td>...</td>\n",
       "      <td>...</td>\n",
       "      <td>...</td>\n",
       "      <td>...</td>\n",
       "      <td>...</td>\n",
       "      <td>...</td>\n",
       "      <td>...</td>\n",
       "      <td>...</td>\n",
       "      <td>...</td>\n",
       "      <td>...</td>\n",
       "      <td>...</td>\n",
       "      <td>...</td>\n",
       "    </tr>\n",
       "    <tr>\n",
       "      <th>20367</th>\n",
       "      <td>-0.523675</td>\n",
       "      <td>0.141730</td>\n",
       "      <td>-1.433723</td>\n",
       "      <td>1.263180</td>\n",
       "      <td>0.597401</td>\n",
       "      <td>0.542427</td>\n",
       "      <td>-0.485988</td>\n",
       "      <td>-0.039930</td>\n",
       "      <td>-1.655996</td>\n",
       "      <td>1.177567</td>\n",
       "      <td>...</td>\n",
       "      <td>-0.130741</td>\n",
       "      <td>0.532658</td>\n",
       "      <td>-0.291650</td>\n",
       "      <td>-2.135524</td>\n",
       "      <td>0.497880</td>\n",
       "      <td>1.891922</td>\n",
       "      <td>0.176741</td>\n",
       "      <td>1.095427</td>\n",
       "      <td>0.016317</td>\n",
       "      <td>50.0</td>\n",
       "    </tr>\n",
       "    <tr>\n",
       "      <th>20368</th>\n",
       "      <td>0.086567</td>\n",
       "      <td>0.337732</td>\n",
       "      <td>0.426049</td>\n",
       "      <td>0.935801</td>\n",
       "      <td>0.894349</td>\n",
       "      <td>0.785318</td>\n",
       "      <td>0.456190</td>\n",
       "      <td>0.304269</td>\n",
       "      <td>0.797441</td>\n",
       "      <td>0.779648</td>\n",
       "      <td>...</td>\n",
       "      <td>-0.540718</td>\n",
       "      <td>0.414376</td>\n",
       "      <td>-0.036844</td>\n",
       "      <td>0.003945</td>\n",
       "      <td>-2.795911</td>\n",
       "      <td>-1.912031</td>\n",
       "      <td>-0.868700</td>\n",
       "      <td>0.099375</td>\n",
       "      <td>-0.601450</td>\n",
       "      <td>50.0</td>\n",
       "    </tr>\n",
       "    <tr>\n",
       "      <th>20369</th>\n",
       "      <td>-0.755596</td>\n",
       "      <td>0.220609</td>\n",
       "      <td>0.665203</td>\n",
       "      <td>1.243887</td>\n",
       "      <td>1.338215</td>\n",
       "      <td>0.223462</td>\n",
       "      <td>-0.770091</td>\n",
       "      <td>0.361635</td>\n",
       "      <td>0.307879</td>\n",
       "      <td>1.406672</td>\n",
       "      <td>...</td>\n",
       "      <td>1.790121</td>\n",
       "      <td>-0.927804</td>\n",
       "      <td>0.271123</td>\n",
       "      <td>-0.662827</td>\n",
       "      <td>0.179975</td>\n",
       "      <td>0.392286</td>\n",
       "      <td>1.975816</td>\n",
       "      <td>-0.788356</td>\n",
       "      <td>0.340782</td>\n",
       "      <td>50.0</td>\n",
       "    </tr>\n",
       "    <tr>\n",
       "      <th>20370</th>\n",
       "      <td>1.241822</td>\n",
       "      <td>1.009398</td>\n",
       "      <td>3.602575</td>\n",
       "      <td>1.518813</td>\n",
       "      <td>1.989384</td>\n",
       "      <td>0.382944</td>\n",
       "      <td>0.557656</td>\n",
       "      <td>-0.133151</td>\n",
       "      <td>3.307149</td>\n",
       "      <td>1.908291</td>\n",
       "      <td>...</td>\n",
       "      <td>0.106804</td>\n",
       "      <td>-1.512984</td>\n",
       "      <td>-0.278818</td>\n",
       "      <td>-0.804879</td>\n",
       "      <td>1.365548</td>\n",
       "      <td>1.925684</td>\n",
       "      <td>0.364848</td>\n",
       "      <td>-1.448241</td>\n",
       "      <td>-0.269652</td>\n",
       "      <td>50.0</td>\n",
       "    </tr>\n",
       "    <tr>\n",
       "      <th>20371</th>\n",
       "      <td>-1.773148</td>\n",
       "      <td>-0.056662</td>\n",
       "      <td>1.939752</td>\n",
       "      <td>0.534868</td>\n",
       "      <td>1.640765</td>\n",
       "      <td>0.423273</td>\n",
       "      <td>-1.877512</td>\n",
       "      <td>-1.060575</td>\n",
       "      <td>1.123816</td>\n",
       "      <td>0.632539</td>\n",
       "      <td>...</td>\n",
       "      <td>-0.908492</td>\n",
       "      <td>-1.585198</td>\n",
       "      <td>-0.471297</td>\n",
       "      <td>-1.435413</td>\n",
       "      <td>1.412159</td>\n",
       "      <td>2.214076</td>\n",
       "      <td>-0.711944</td>\n",
       "      <td>-1.529170</td>\n",
       "      <td>-0.351227</td>\n",
       "      <td>50.0</td>\n",
       "    </tr>\n",
       "  </tbody>\n",
       "</table>\n",
       "<p>20372 rows × 2401 columns</p>\n",
       "</div>"
      ],
      "text/plain": [
       "          LAx_1     LAx_2     LAx_3     LAx_4     LAx_5     LAx_6     LAx_7  \\\n",
       "0      0.359745 -0.067021 -0.237446  0.105221  0.035341  0.175545  0.322625   \n",
       "1      0.129007 -0.102501 -0.242298 -0.014642  0.159954  0.060075  0.117745   \n",
       "2     -0.160100 -0.128460 -0.094649 -0.709285  2.617701  1.937379  0.272762   \n",
       "3     -0.157594 -0.036112  0.226604 -0.046289  0.157782  0.154390 -0.162862   \n",
       "4      0.008214 -0.084986  0.250760 -0.043063  0.868519  1.421958 -0.090216   \n",
       "...         ...       ...       ...       ...       ...       ...       ...   \n",
       "20367 -0.523675  0.141730 -1.433723  1.263180  0.597401  0.542427 -0.485988   \n",
       "20368  0.086567  0.337732  0.426049  0.935801  0.894349  0.785318  0.456190   \n",
       "20369 -0.755596  0.220609  0.665203  1.243887  1.338215  0.223462 -0.770091   \n",
       "20370  1.241822  1.009398  3.602575  1.518813  1.989384  0.382944  0.557656   \n",
       "20371 -1.773148 -0.056662  1.939752  0.534868  1.640765  0.423273 -1.877512   \n",
       "\n",
       "          LAx_8     LAx_9    LAx_10  ...  GYz_2392  GYz_2393  GYz_2394  \\\n",
       "0     -0.073783 -0.418039  0.133911  ... -0.181759  0.557376  1.413844   \n",
       "1     -0.114603 -0.218973 -0.105793  ...  0.759650 -5.521030  2.263304   \n",
       "2     -0.107602 -0.233834 -0.508970  ... -0.697478  0.342111  0.187116   \n",
       "3     -0.037490  0.227166 -0.028146  ... -1.113602 -0.725226  0.566927   \n",
       "4     -0.116707  0.387180 -0.024345  ... -1.412399 -3.510529  0.438611   \n",
       "...         ...       ...       ...  ...       ...       ...       ...   \n",
       "20367 -0.039930 -1.655996  1.177567  ... -0.130741  0.532658 -0.291650   \n",
       "20368  0.304269  0.797441  0.779648  ... -0.540718  0.414376 -0.036844   \n",
       "20369  0.361635  0.307879  1.406672  ...  1.790121 -0.927804  0.271123   \n",
       "20370 -0.133151  3.307149  1.908291  ...  0.106804 -1.512984 -0.278818   \n",
       "20371 -1.060575  1.123816  0.632539  ... -0.908492 -1.585198 -0.471297   \n",
       "\n",
       "       GYz_2395  GYz_2396  GYz_2397  GYz_2398  GYz_2399  GYz_2400  name  \n",
       "0      0.122310 -0.096276  0.176904 -0.115075  0.816219  1.397160   1.0  \n",
       "1      0.720506  3.158339 -0.863043  1.221913 -5.220052  2.226096   1.0  \n",
       "2     -0.233903  0.080573 -0.391539 -0.678914  0.325550  0.184552   1.0  \n",
       "3     -0.655554  0.157591  0.265782 -0.946480 -0.254885  0.377029   1.0  \n",
       "4      0.428812  0.449404  2.594782 -1.060007 -1.728217  0.720917   1.0  \n",
       "...         ...       ...       ...       ...       ...       ...   ...  \n",
       "20367 -2.135524  0.497880  1.891922  0.176741  1.095427  0.016317  50.0  \n",
       "20368  0.003945 -2.795911 -1.912031 -0.868700  0.099375 -0.601450  50.0  \n",
       "20369 -0.662827  0.179975  0.392286  1.975816 -0.788356  0.340782  50.0  \n",
       "20370 -0.804879  1.365548  1.925684  0.364848 -1.448241 -0.269652  50.0  \n",
       "20371 -1.435413  1.412159  2.214076 -0.711944 -1.529170 -0.351227  50.0  \n",
       "\n",
       "[20372 rows x 2401 columns]"
      ]
     },
     "execution_count": 49,
     "metadata": {},
     "output_type": "execute_result"
    }
   ],
   "source": [
    "new_df_name"
   ]
  },
  {
   "cell_type": "code",
   "execution_count": 44,
   "id": "66f259ce",
   "metadata": {},
   "outputs": [
    {
     "data": {
      "text/plain": [
       "LAx_1       float64\n",
       "LAx_2       float64\n",
       "LAx_3       float64\n",
       "LAx_4       float64\n",
       "LAx_5       float64\n",
       "             ...   \n",
       "GYz_2396    float64\n",
       "GYz_2397    float64\n",
       "GYz_2398    float64\n",
       "GYz_2399    float64\n",
       "GYz_2400    float64\n",
       "Length: 2400, dtype: object"
      ]
     },
     "execution_count": 44,
     "metadata": {},
     "output_type": "execute_result"
    }
   ],
   "source": [
    "new_df.dtypes"
   ]
  },
  {
   "cell_type": "code",
   "execution_count": 45,
   "id": "81f94814",
   "metadata": {},
   "outputs": [],
   "source": [
    "new_df_f32 = new_df_name.astype('float32')"
   ]
  },
  {
   "cell_type": "code",
   "execution_count": 46,
   "id": "781a871c",
   "metadata": {},
   "outputs": [],
   "source": [
    "new_df_f32.to_parquet('my_file_f32.parquet')"
   ]
  },
  {
   "cell_type": "code",
   "execution_count": 50,
   "id": "fa9008ba",
   "metadata": {},
   "outputs": [],
   "source": [
    "new_df = new_df_name.drop('name', axis = 1).copy()\n",
    "y = new_df_name['name']"
   ]
  },
  {
   "cell_type": "code",
   "execution_count": 51,
   "id": "6291a71f",
   "metadata": {},
   "outputs": [
    {
     "data": {
      "text/plain": [
       "0         0.0\n",
       "1         0.0\n",
       "2         0.0\n",
       "3         0.0\n",
       "4         0.0\n",
       "         ... \n",
       "20367    49.0\n",
       "20368    49.0\n",
       "20369    49.0\n",
       "20370    49.0\n",
       "20371    49.0\n",
       "Name: name, Length: 20372, dtype: float32"
      ]
     },
     "execution_count": 51,
     "metadata": {},
     "output_type": "execute_result"
    }
   ],
   "source": [
    "\n",
    "y = y -1\n",
    "y"
   ]
  },
  {
   "cell_type": "code",
   "execution_count": 23,
   "id": "36ff36f3",
   "metadata": {},
   "outputs": [],
   "source": [
    "\n",
    "# y = y +1\n",
    "# y"
   ]
  },
  {
   "cell_type": "code",
   "execution_count": 52,
   "id": "c63e51fa",
   "metadata": {},
   "outputs": [
    {
     "data": {
      "text/plain": [
       "((12834, 2400), (6112, 2400), (1426, 2400), (12834,), (6112,), (1426,))"
      ]
     },
     "execution_count": 52,
     "metadata": {},
     "output_type": "execute_result"
    }
   ],
   "source": [
    "X_train_val, X_test, y_train_val, y_test = train_test_split(new_df, y, test_size = 0.3, random_state = 0, stratify = y)\n",
    "\n",
    "X_train, X_validation, y_train, y_validation = train_test_split(X_train_val, y_train_val, test_size = 0.1, random_state = 0, stratify = y_train_val)\n",
    "X_train.shape, X_test.shape, X_validation.shape, y_train.shape, y_test.shape, y_validation.shape"
   ]
  },
  {
   "cell_type": "code",
   "execution_count": 53,
   "id": "2f8d8b5d",
   "metadata": {},
   "outputs": [],
   "source": [
    "dtrain = xgb.DMatrix(X_train, label=y_train)\n",
    "dtest = xgb.DMatrix(X_test)\n",
    "dval = xgb.DMatrix(X_validation, label=y_validation)"
   ]
  },
  {
   "cell_type": "code",
   "execution_count": 54,
   "id": "6ab8df61",
   "metadata": {},
   "outputs": [
    {
     "data": {
      "text/plain": [
       "(<xgboost.core.DMatrix at 0x1a8369fad70>,\n",
       " <xgboost.core.DMatrix at 0x1a8369fb4f0>,\n",
       " <xgboost.core.DMatrix at 0x1a853ca6800>)"
      ]
     },
     "execution_count": 54,
     "metadata": {},
     "output_type": "execute_result"
    }
   ],
   "source": [
    "dtrain, dtest, dval"
   ]
  },
  {
   "cell_type": "code",
   "execution_count": 55,
   "id": "3f0383cb",
   "metadata": {},
   "outputs": [],
   "source": [
    "def accuracy_metric(preds, dmatrix):\n",
    "    labels = dmatrix.get_label()\n",
    "    preds = np.argmax(preds, axis=1)  # Convert probabilities to class labels\n",
    "    accuracy = (preds == labels).mean() * 100.0\n",
    "    return 'accuracy', accuracy\n"
   ]
  },
  {
   "cell_type": "code",
   "execution_count": null,
   "id": "754cb245",
   "metadata": {},
   "outputs": [],
   "source": [
    "params = {\n",
    "    'max_depth': 5,\n",
    "    'learning_rate': 0.3,\n",
    "    'objective': 'multi:softmax',\n",
    "    'num_class': 50,\n",
    "    'subsample': 0.8,\n",
    "    'alpha': 0.5,\n",
    "    \"gamma\": 0.1\n",
    "}\n",
    "epochs = 10\n",
    "evals_result = {}  # Initialize an empty dictionary to store the evaluation results"
   ]
  },
  {
   "cell_type": "code",
   "execution_count": null,
   "id": "17d6770d",
   "metadata": {},
   "outputs": [],
   "source": [
    "# model = xgb.train(params, dtrain, epochs,  verbose_eval=1)"
   ]
  },
  {
   "cell_type": "code",
   "execution_count": 1,
   "id": "e0f5cfda",
   "metadata": {},
   "outputs": [
    {
     "ename": "NameError",
     "evalue": "name 'xgb' is not defined",
     "output_type": "error",
     "traceback": [
      "\u001b[1;31m---------------------------------------------------------------------------\u001b[0m",
      "\u001b[1;31mNameError\u001b[0m                                 Traceback (most recent call last)",
      "Cell \u001b[1;32mIn[1], line 1\u001b[0m\n\u001b[1;32m----> 1\u001b[0m model \u001b[38;5;241m=\u001b[39m \u001b[43mxgb\u001b[49m\u001b[38;5;241m.\u001b[39mtrain(params, dtrain, epochs, evals\u001b[38;5;241m=\u001b[39m[(dtrain, \u001b[38;5;124m'\u001b[39m\u001b[38;5;124mtrain\u001b[39m\u001b[38;5;124m'\u001b[39m)],\n\u001b[0;32m      2\u001b[0m                   evals_result\u001b[38;5;241m=\u001b[39mevals_result, verbose_eval\u001b[38;5;241m=\u001b[39m\u001b[38;5;241m1\u001b[39m)\n",
      "\u001b[1;31mNameError\u001b[0m: name 'xgb' is not defined"
     ]
    }
   ],
   "source": [
    "model = xgb.train(params, dtrain, epochs, evals=[(dtrain, 'train'), (dval, 'valid')],\n",
    "                  evals_result=evals_result, verbose_eval=1, feval=accuracy_metric)"
   ]
  },
  {
   "cell_type": "code",
   "execution_count": null,
   "id": "73cad87f",
   "metadata": {},
   "outputs": [],
   "source": [
    "predictions = model.predict(dtest)"
   ]
  },
  {
   "cell_type": "code",
   "execution_count": 32,
   "id": "6a6fe10d",
   "metadata": {},
   "outputs": [
    {
     "name": "stdout",
     "output_type": "stream",
     "text": [
      "[46. 10. 33. ...  3. 27. 46.]\n"
     ]
    }
   ],
   "source": [
    "print(predictions)"
   ]
  },
  {
   "cell_type": "code",
   "execution_count": 33,
   "id": "faf2b6d8",
   "metadata": {},
   "outputs": [
    {
     "data": {
      "text/plain": [
       "0.5613547120418848"
      ]
     },
     "execution_count": 33,
     "metadata": {},
     "output_type": "execute_result"
    }
   ],
   "source": [
    "accuracy_score(y_test, predictions)"
   ]
  },
  {
   "cell_type": "code",
   "execution_count": 34,
   "id": "bba2c40e",
   "metadata": {},
   "outputs": [],
   "source": [
    "# new_df_copy"
   ]
  },
  {
   "cell_type": "code",
   "execution_count": 35,
   "id": "1afc115c",
   "metadata": {},
   "outputs": [],
   "source": [
    "# new_df_copy.to_csv('VALUES_AS_FEATURES_FRAMED_RESAMPLED_merged_u1-50_w001_resampled.csv', index = False)"
   ]
  },
  {
   "cell_type": "code",
   "execution_count": 36,
   "id": "3710730c",
   "metadata": {},
   "outputs": [],
   "source": [
    "# xgb_model = xgb.XGBClassifier()"
   ]
  },
  {
   "cell_type": "code",
   "execution_count": 37,
   "id": "16992ac1",
   "metadata": {},
   "outputs": [],
   "source": [
    "# param_grid = {\n",
    "#     'max_depth': [3, 5, 7],\n",
    "#     'learning_rate': [0.1,0.2, 0.3],\n",
    "# #     'n_estimators': [100, 200, 300],\n",
    "#     'objective': ['multi:softmax'],\n",
    "#     'num_class': [50] \n",
    "# }\n"
   ]
  },
  {
   "cell_type": "code",
   "execution_count": 38,
   "id": "362ca01f",
   "metadata": {},
   "outputs": [],
   "source": [
    "# grid_search = GridSearchCV(estimator=xgb_model, param_grid=param_grid, cv=5)\n",
    "# grid_search.fit(X_train, y_train)  # X and y are your training data\n"
   ]
  },
  {
   "cell_type": "code",
   "execution_count": 39,
   "id": "403a95f9",
   "metadata": {},
   "outputs": [],
   "source": [
    "# best_params = grid_search.best_params_\n",
    "# best_model = grid_search.best_estimator_\n",
    "# best_score = grid_search.best_score_"
   ]
  },
  {
   "cell_type": "code",
   "execution_count": 40,
   "id": "1b1c0c29",
   "metadata": {},
   "outputs": [],
   "source": [
    "# best_params"
   ]
  },
  {
   "cell_type": "code",
   "execution_count": 41,
   "id": "f8a161ab",
   "metadata": {},
   "outputs": [],
   "source": [
    "# y_pred = best_model.predict(X_test)\n",
    "\n",
    "# # Evaluate the predictions\n",
    "# accuracy = accuracy_score(y_test, y_pred)\n",
    "# accuracy"
   ]
  },
  {
   "cell_type": "code",
   "execution_count": null,
   "id": "aae83110",
   "metadata": {},
   "outputs": [],
   "source": []
  },
  {
   "cell_type": "code",
   "execution_count": null,
   "id": "1b4538ba",
   "metadata": {},
   "outputs": [],
   "source": []
  }
 ],
 "metadata": {
  "kernelspec": {
   "display_name": "Python 3 (ipykernel)",
   "language": "python",
   "name": "python3"
  },
  "language_info": {
   "codemirror_mode": {
    "name": "ipython",
    "version": 3
   },
   "file_extension": ".py",
   "mimetype": "text/x-python",
   "name": "python",
   "nbconvert_exporter": "python",
   "pygments_lexer": "ipython3",
   "version": "3.10.9"
  }
 },
 "nbformat": 4,
 "nbformat_minor": 5
}
