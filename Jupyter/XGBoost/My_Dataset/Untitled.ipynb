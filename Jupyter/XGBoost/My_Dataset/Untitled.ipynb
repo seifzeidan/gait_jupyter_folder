{
 "cells": [
  {
   "cell_type": "code",
   "execution_count": 1,
   "id": "a3e2cf1c",
   "metadata": {},
   "outputs": [],
   "source": [
    "import pandas as pd\n",
    "import numpy as np\n",
    "import os\n",
    "import math\n",
    "import matplotlib.pyplot as plt\n",
    "from sklearn.model_selection import train_test_split\n",
    "from sklearn.preprocessing import StandardScaler, LabelEncoder\n",
    "from sklearn.metrics import accuracy_score"
   ]
  },
  {
   "cell_type": "code",
   "execution_count": 49,
   "id": "deb28963",
   "metadata": {},
   "outputs": [],
   "source": [
    "import xgboost as xgb\n",
    "from sklearn.model_selection import GridSearchCV\n"
   ]
  },
  {
   "cell_type": "code",
   "execution_count": 2,
   "id": "5facb575",
   "metadata": {},
   "outputs": [],
   "source": [
    "df_train = pd.read_csv(\"D:/online dataset csv files preprocessing/MyDataset_sw_bp_same_train.csv\")\n",
    "df_test = pd.read_csv(\"D:/online dataset csv files preprocessing/MyDataset_sw_bp_same_test.csv\")"
   ]
  },
  {
   "cell_type": "code",
   "execution_count": 4,
   "id": "1ee0db97",
   "metadata": {},
   "outputs": [
    {
     "data": {
      "text/plain": [
       "((229190, 8), (98246, 8))"
      ]
     },
     "execution_count": 4,
     "metadata": {},
     "output_type": "execute_result"
    }
   ],
   "source": [
    "df_train.shape, df_test.shape"
   ]
  },
  {
   "cell_type": "code",
   "execution_count": 15,
   "id": "dd378ccd",
   "metadata": {},
   "outputs": [],
   "source": [
    "X_train= df_train[['LA(x)','LA(y)','LA(z)','GY(x)','GY(y)','GY(z)','label']].copy()\n",
    "# y_train = df_train['label'].copy()\n",
    "\n",
    "X_test= df_test[['LA(x)','LA(y)','LA(z)','GY(x)','GY(y)','GY(z)','label']].copy()\n",
    "# y_test = df_test['label'].copy()"
   ]
  },
  {
   "cell_type": "code",
   "execution_count": 16,
   "id": "335789a3",
   "metadata": {},
   "outputs": [
    {
     "data": {
      "text/html": [
       "<div>\n",
       "<style scoped>\n",
       "    .dataframe tbody tr th:only-of-type {\n",
       "        vertical-align: middle;\n",
       "    }\n",
       "\n",
       "    .dataframe tbody tr th {\n",
       "        vertical-align: top;\n",
       "    }\n",
       "\n",
       "    .dataframe thead th {\n",
       "        text-align: right;\n",
       "    }\n",
       "</style>\n",
       "<table border=\"1\" class=\"dataframe\">\n",
       "  <thead>\n",
       "    <tr style=\"text-align: right;\">\n",
       "      <th></th>\n",
       "      <th>LA(x)</th>\n",
       "      <th>LA(y)</th>\n",
       "      <th>LA(z)</th>\n",
       "      <th>GY(x)</th>\n",
       "      <th>GY(y)</th>\n",
       "      <th>GY(z)</th>\n",
       "      <th>label</th>\n",
       "    </tr>\n",
       "  </thead>\n",
       "  <tbody>\n",
       "    <tr>\n",
       "      <th>0</th>\n",
       "      <td>1.742467</td>\n",
       "      <td>-0.241556</td>\n",
       "      <td>8.041262</td>\n",
       "      <td>0.100790</td>\n",
       "      <td>-1.040349</td>\n",
       "      <td>-1.389296</td>\n",
       "      <td>0</td>\n",
       "    </tr>\n",
       "    <tr>\n",
       "      <th>1</th>\n",
       "      <td>1.963214</td>\n",
       "      <td>0.196158</td>\n",
       "      <td>7.817154</td>\n",
       "      <td>0.166456</td>\n",
       "      <td>-0.965826</td>\n",
       "      <td>-1.434804</td>\n",
       "      <td>0</td>\n",
       "    </tr>\n",
       "    <tr>\n",
       "      <th>2</th>\n",
       "      <td>2.273200</td>\n",
       "      <td>0.602439</td>\n",
       "      <td>7.468016</td>\n",
       "      <td>0.197915</td>\n",
       "      <td>-0.858622</td>\n",
       "      <td>-1.491307</td>\n",
       "      <td>0</td>\n",
       "    </tr>\n",
       "    <tr>\n",
       "      <th>3</th>\n",
       "      <td>2.736319</td>\n",
       "      <td>0.958790</td>\n",
       "      <td>6.743418</td>\n",
       "      <td>0.187530</td>\n",
       "      <td>-0.728206</td>\n",
       "      <td>-1.545367</td>\n",
       "      <td>0</td>\n",
       "    </tr>\n",
       "    <tr>\n",
       "      <th>4</th>\n",
       "      <td>2.913777</td>\n",
       "      <td>1.012366</td>\n",
       "      <td>5.666056</td>\n",
       "      <td>0.133776</td>\n",
       "      <td>-0.591071</td>\n",
       "      <td>-1.585683</td>\n",
       "      <td>0</td>\n",
       "    </tr>\n",
       "    <tr>\n",
       "      <th>...</th>\n",
       "      <td>...</td>\n",
       "      <td>...</td>\n",
       "      <td>...</td>\n",
       "      <td>...</td>\n",
       "      <td>...</td>\n",
       "      <td>...</td>\n",
       "      <td>...</td>\n",
       "    </tr>\n",
       "    <tr>\n",
       "      <th>98241</th>\n",
       "      <td>0.032646</td>\n",
       "      <td>0.028275</td>\n",
       "      <td>0.519662</td>\n",
       "      <td>0.135150</td>\n",
       "      <td>-0.022907</td>\n",
       "      <td>0.223494</td>\n",
       "      <td>30</td>\n",
       "    </tr>\n",
       "    <tr>\n",
       "      <th>98242</th>\n",
       "      <td>-0.478584</td>\n",
       "      <td>-0.296353</td>\n",
       "      <td>0.069982</td>\n",
       "      <td>0.152254</td>\n",
       "      <td>-0.098041</td>\n",
       "      <td>0.268391</td>\n",
       "      <td>30</td>\n",
       "    </tr>\n",
       "    <tr>\n",
       "      <th>98243</th>\n",
       "      <td>-0.897290</td>\n",
       "      <td>-0.563466</td>\n",
       "      <td>-0.287334</td>\n",
       "      <td>0.155308</td>\n",
       "      <td>-0.165234</td>\n",
       "      <td>0.318786</td>\n",
       "      <td>30</td>\n",
       "    </tr>\n",
       "    <tr>\n",
       "      <th>98244</th>\n",
       "      <td>-1.035197</td>\n",
       "      <td>-0.655348</td>\n",
       "      <td>-0.474507</td>\n",
       "      <td>0.145534</td>\n",
       "      <td>-0.212269</td>\n",
       "      <td>0.362156</td>\n",
       "      <td>30</td>\n",
       "    </tr>\n",
       "    <tr>\n",
       "      <th>98245</th>\n",
       "      <td>-0.902300</td>\n",
       "      <td>-0.544031</td>\n",
       "      <td>-0.451925</td>\n",
       "      <td>0.134234</td>\n",
       "      <td>-0.234260</td>\n",
       "      <td>0.385063</td>\n",
       "      <td>30</td>\n",
       "    </tr>\n",
       "  </tbody>\n",
       "</table>\n",
       "<p>98246 rows × 7 columns</p>\n",
       "</div>"
      ],
      "text/plain": [
       "          LA(x)     LA(y)     LA(z)     GY(x)     GY(y)     GY(z)  label\n",
       "0      1.742467 -0.241556  8.041262  0.100790 -1.040349 -1.389296      0\n",
       "1      1.963214  0.196158  7.817154  0.166456 -0.965826 -1.434804      0\n",
       "2      2.273200  0.602439  7.468016  0.197915 -0.858622 -1.491307      0\n",
       "3      2.736319  0.958790  6.743418  0.187530 -0.728206 -1.545367      0\n",
       "4      2.913777  1.012366  5.666056  0.133776 -0.591071 -1.585683      0\n",
       "...         ...       ...       ...       ...       ...       ...    ...\n",
       "98241  0.032646  0.028275  0.519662  0.135150 -0.022907  0.223494     30\n",
       "98242 -0.478584 -0.296353  0.069982  0.152254 -0.098041  0.268391     30\n",
       "98243 -0.897290 -0.563466 -0.287334  0.155308 -0.165234  0.318786     30\n",
       "98244 -1.035197 -0.655348 -0.474507  0.145534 -0.212269  0.362156     30\n",
       "98245 -0.902300 -0.544031 -0.451925  0.134234 -0.234260  0.385063     30\n",
       "\n",
       "[98246 rows x 7 columns]"
      ]
     },
     "execution_count": 16,
     "metadata": {},
     "output_type": "execute_result"
    }
   ],
   "source": [
    "X_test"
   ]
  },
  {
   "cell_type": "code",
   "execution_count": 25,
   "id": "16c9ce7d",
   "metadata": {},
   "outputs": [],
   "source": [
    "Fs = 200\n",
    "frame_size = Fs*3\n",
    "hop_size = Fs*1"
   ]
  },
  {
   "cell_type": "code",
   "execution_count": 33,
   "id": "e6e94834",
   "metadata": {},
   "outputs": [
    {
     "data": {
      "text/html": [
       "<div>\n",
       "<style scoped>\n",
       "    .dataframe tbody tr th:only-of-type {\n",
       "        vertical-align: middle;\n",
       "    }\n",
       "\n",
       "    .dataframe tbody tr th {\n",
       "        vertical-align: top;\n",
       "    }\n",
       "\n",
       "    .dataframe thead th {\n",
       "        text-align: right;\n",
       "    }\n",
       "</style>\n",
       "<table border=\"1\" class=\"dataframe\">\n",
       "  <thead>\n",
       "    <tr style=\"text-align: right;\">\n",
       "      <th></th>\n",
       "      <th>LAx_1</th>\n",
       "      <th>LAx_2</th>\n",
       "      <th>LAx_3</th>\n",
       "      <th>LAx_4</th>\n",
       "      <th>LAx_5</th>\n",
       "      <th>LAx_6</th>\n",
       "      <th>LAx_7</th>\n",
       "      <th>LAx_8</th>\n",
       "      <th>LAx_9</th>\n",
       "      <th>LAx_10</th>\n",
       "      <th>...</th>\n",
       "      <th>GYz_3591</th>\n",
       "      <th>GYz_3592</th>\n",
       "      <th>GYz_3593</th>\n",
       "      <th>GYz_3594</th>\n",
       "      <th>GYz_3595</th>\n",
       "      <th>GYz_3596</th>\n",
       "      <th>GYz_3597</th>\n",
       "      <th>GYz_3598</th>\n",
       "      <th>GYz_3599</th>\n",
       "      <th>GYz_3600</th>\n",
       "    </tr>\n",
       "  </thead>\n",
       "  <tbody>\n",
       "  </tbody>\n",
       "</table>\n",
       "<p>0 rows × 3600 columns</p>\n",
       "</div>"
      ],
      "text/plain": [
       "Empty DataFrame\n",
       "Columns: [LAx_1, LAx_2, LAx_3, LAx_4, LAx_5, LAx_6, LAx_7, LAx_8, LAx_9, LAx_10, LAx_11, LAx_12, LAx_13, LAx_14, LAx_15, LAx_16, LAx_17, LAx_18, LAx_19, LAx_20, LAx_21, LAx_22, LAx_23, LAx_24, LAx_25, LAx_26, LAx_27, LAx_28, LAx_29, LAx_30, LAx_31, LAx_32, LAx_33, LAx_34, LAx_35, LAx_36, LAx_37, LAx_38, LAx_39, LAx_40, LAx_41, LAx_42, LAx_43, LAx_44, LAx_45, LAx_46, LAx_47, LAx_48, LAx_49, LAx_50, LAx_51, LAx_52, LAx_53, LAx_54, LAx_55, LAx_56, LAx_57, LAx_58, LAx_59, LAx_60, LAx_61, LAx_62, LAx_63, LAx_64, LAx_65, LAx_66, LAx_67, LAx_68, LAx_69, LAx_70, LAx_71, LAx_72, LAx_73, LAx_74, LAx_75, LAx_76, LAx_77, LAx_78, LAx_79, LAx_80, LAx_81, LAx_82, LAx_83, LAx_84, LAx_85, LAx_86, LAx_87, LAx_88, LAx_89, LAx_90, LAx_91, LAx_92, LAx_93, LAx_94, LAx_95, LAx_96, LAx_97, LAx_98, LAx_99, LAx_100, ...]\n",
       "Index: []\n",
       "\n",
       "[0 rows x 3600 columns]"
      ]
     },
     "execution_count": 33,
     "metadata": {},
     "output_type": "execute_result"
    }
   ],
   "source": [
    "num_columns = frame_size*6\n",
    "new_df = pd.DataFrame(columns=range(num_columns))\n",
    "for i in range(0,num_columns):\n",
    "    if i in range(0,frame_size):\n",
    "        string = f\"LAx_{i+1}\"\n",
    "        new_df = new_df.rename(columns={i: string})\n",
    "        \n",
    "    if i in range(frame_size,frame_size*2):\n",
    "        string = f\"LAy_{i+1}\"\n",
    "        new_df = new_df.rename(columns={i: string}) \n",
    "       \n",
    "    if i in range(frame_size*2,frame_size*3):\n",
    "        string = f\"LAz_{i+1}\"\n",
    "        new_df = new_df.rename(columns={i: string}) \n",
    "       \n",
    "    if i in range(frame_size*3,frame_size*4):\n",
    "        string = f\"GYx_{i+1}\"\n",
    "        new_df = new_df.rename(columns={i: string})\n",
    "        \n",
    "    if i in range(frame_size*4,frame_size*5):\n",
    "        string = f\"GYy_{i+1}\"\n",
    "        new_df = new_df.rename(columns={i: string}) \n",
    "       \n",
    "    if i in range(frame_size*5,frame_size*6):\n",
    "        string = f\"GYz_{i+1}\"\n",
    "        new_df = new_df.rename(columns={i: string}) \n",
    "new_df        "
   ]
  },
  {
   "cell_type": "code",
   "execution_count": 71,
   "id": "aae54d35",
   "metadata": {},
   "outputs": [],
   "source": [
    "new_df_train = new_df.copy()\n",
    "new_df_test = new_df.copy()"
   ]
  },
  {
   "cell_type": "code",
   "execution_count": 77,
   "id": "773c4d91",
   "metadata": {},
   "outputs": [],
   "source": [
    "\n",
    "def get_frames(scaled_X, frame_size, hop_size, df):\n",
    "    last_value = scaled_X['label'].iloc[-1]\n",
    "    for j in range(1, last_value + 1):\n",
    "        filtered_df = scaled_X[scaled_X['label'] == j].drop('label', axis=1)\n",
    "        for i in range(0, len(filtered_df) - frame_size, hop_size):\n",
    "            subarray = filtered_df.iloc[i: i + frame_size].values\n",
    "            if subarray.shape[0] != frame_size:\n",
    "                continue\n",
    "            label.append(j)\n",
    "            merged_array = subarray.ravel()\n",
    "            df.loc[len(df)] = merged_array    \n",
    "    df['label'] = label"
   ]
  },
  {
   "cell_type": "code",
   "execution_count": 78,
   "id": "f15b2665",
   "metadata": {},
   "outputs": [],
   "source": [
    "label = []\n",
    "get_frames(X_train, frame_size, hop_size,new_df_train)"
   ]
  },
  {
   "cell_type": "code",
   "execution_count": 79,
   "id": "c46ccb3d",
   "metadata": {},
   "outputs": [
    {
     "data": {
      "text/plain": [
       "(1056, 3601)"
      ]
     },
     "execution_count": 79,
     "metadata": {},
     "output_type": "execute_result"
    }
   ],
   "source": [
    "new_df_train.shape"
   ]
  },
  {
   "cell_type": "code",
   "execution_count": 80,
   "id": "9112ae87",
   "metadata": {},
   "outputs": [],
   "source": [
    "label = []\n",
    "get_frames(X_test, frame_size, hop_size,new_df_test)"
   ]
  },
  {
   "cell_type": "code",
   "execution_count": 81,
   "id": "02f8742e",
   "metadata": {},
   "outputs": [
    {
     "data": {
      "text/plain": [
       "(408, 3601)"
      ]
     },
     "execution_count": 81,
     "metadata": {},
     "output_type": "execute_result"
    }
   ],
   "source": [
    "new_df_test.shape"
   ]
  },
  {
   "cell_type": "code",
   "execution_count": 82,
   "id": "609b75c7",
   "metadata": {},
   "outputs": [],
   "source": [
    "new_df_test = new_df_test.astype('float32')\n"
   ]
  },
  {
   "cell_type": "code",
   "execution_count": 83,
   "id": "b3fe35ab",
   "metadata": {},
   "outputs": [],
   "source": [
    "new_df_train = new_df_train.astype('float32')\n"
   ]
  },
  {
   "cell_type": "code",
   "execution_count": 84,
   "id": "c81be181",
   "metadata": {},
   "outputs": [],
   "source": [
    "df_train = new_df_train.sample(frac=1, random_state=0).reset_index(drop=True)"
   ]
  },
  {
   "cell_type": "code",
   "execution_count": 85,
   "id": "aea7c783",
   "metadata": {},
   "outputs": [],
   "source": [
    "df_test = new_df_test.sample(frac=1, random_state=0).reset_index(drop=True)"
   ]
  },
  {
   "cell_type": "code",
   "execution_count": 86,
   "id": "60e1dfd5",
   "metadata": {},
   "outputs": [
    {
     "data": {
      "text/html": [
       "<div>\n",
       "<style scoped>\n",
       "    .dataframe tbody tr th:only-of-type {\n",
       "        vertical-align: middle;\n",
       "    }\n",
       "\n",
       "    .dataframe tbody tr th {\n",
       "        vertical-align: top;\n",
       "    }\n",
       "\n",
       "    .dataframe thead th {\n",
       "        text-align: right;\n",
       "    }\n",
       "</style>\n",
       "<table border=\"1\" class=\"dataframe\">\n",
       "  <thead>\n",
       "    <tr style=\"text-align: right;\">\n",
       "      <th></th>\n",
       "      <th>LAx_1</th>\n",
       "      <th>LAx_2</th>\n",
       "      <th>LAx_3</th>\n",
       "      <th>LAx_4</th>\n",
       "      <th>LAx_5</th>\n",
       "      <th>LAx_6</th>\n",
       "      <th>LAx_7</th>\n",
       "      <th>LAx_8</th>\n",
       "      <th>LAx_9</th>\n",
       "      <th>LAx_10</th>\n",
       "      <th>...</th>\n",
       "      <th>GYz_3592</th>\n",
       "      <th>GYz_3593</th>\n",
       "      <th>GYz_3594</th>\n",
       "      <th>GYz_3595</th>\n",
       "      <th>GYz_3596</th>\n",
       "      <th>GYz_3597</th>\n",
       "      <th>GYz_3598</th>\n",
       "      <th>GYz_3599</th>\n",
       "      <th>GYz_3600</th>\n",
       "      <th>label</th>\n",
       "    </tr>\n",
       "  </thead>\n",
       "  <tbody>\n",
       "    <tr>\n",
       "      <th>0</th>\n",
       "      <td>1.696515</td>\n",
       "      <td>3.012438</td>\n",
       "      <td>3.908953</td>\n",
       "      <td>0.357091</td>\n",
       "      <td>0.144542</td>\n",
       "      <td>-0.410362</td>\n",
       "      <td>2.226851</td>\n",
       "      <td>2.992558</td>\n",
       "      <td>5.834365</td>\n",
       "      <td>0.466229</td>\n",
       "      <td>...</td>\n",
       "      <td>-0.366967</td>\n",
       "      <td>1.799403</td>\n",
       "      <td>-0.181803</td>\n",
       "      <td>-0.660756</td>\n",
       "      <td>-1.000393</td>\n",
       "      <td>1.853306</td>\n",
       "      <td>-0.346198</td>\n",
       "      <td>1.811315</td>\n",
       "      <td>-0.176306</td>\n",
       "      <td>20.0</td>\n",
       "    </tr>\n",
       "    <tr>\n",
       "      <th>1</th>\n",
       "      <td>-0.259373</td>\n",
       "      <td>-0.392220</td>\n",
       "      <td>0.318180</td>\n",
       "      <td>0.097480</td>\n",
       "      <td>0.096055</td>\n",
       "      <td>-0.040611</td>\n",
       "      <td>-0.259892</td>\n",
       "      <td>-0.392724</td>\n",
       "      <td>0.318264</td>\n",
       "      <td>0.097654</td>\n",
       "      <td>...</td>\n",
       "      <td>0.156148</td>\n",
       "      <td>0.004352</td>\n",
       "      <td>0.073378</td>\n",
       "      <td>-0.800133</td>\n",
       "      <td>0.091725</td>\n",
       "      <td>0.276177</td>\n",
       "      <td>0.161951</td>\n",
       "      <td>0.003436</td>\n",
       "      <td>0.083457</td>\n",
       "      <td>25.0</td>\n",
       "    </tr>\n",
       "    <tr>\n",
       "      <th>2</th>\n",
       "      <td>-0.003680</td>\n",
       "      <td>-0.069081</td>\n",
       "      <td>-0.139813</td>\n",
       "      <td>0.166863</td>\n",
       "      <td>0.142099</td>\n",
       "      <td>0.035111</td>\n",
       "      <td>0.188889</td>\n",
       "      <td>-0.193637</td>\n",
       "      <td>0.067443</td>\n",
       "      <td>0.167037</td>\n",
       "      <td>...</td>\n",
       "      <td>0.096004</td>\n",
       "      <td>-0.181726</td>\n",
       "      <td>0.358251</td>\n",
       "      <td>-0.257679</td>\n",
       "      <td>0.192050</td>\n",
       "      <td>0.070324</td>\n",
       "      <td>0.095945</td>\n",
       "      <td>-0.181708</td>\n",
       "      <td>0.358264</td>\n",
       "      <td>25.0</td>\n",
       "    </tr>\n",
       "    <tr>\n",
       "      <th>3</th>\n",
       "      <td>-0.546274</td>\n",
       "      <td>-0.502629</td>\n",
       "      <td>-0.172487</td>\n",
       "      <td>0.212346</td>\n",
       "      <td>0.259381</td>\n",
       "      <td>0.248691</td>\n",
       "      <td>-0.567287</td>\n",
       "      <td>-0.494932</td>\n",
       "      <td>-0.151527</td>\n",
       "      <td>0.214789</td>\n",
       "      <td>...</td>\n",
       "      <td>0.081421</td>\n",
       "      <td>-0.085239</td>\n",
       "      <td>-0.254240</td>\n",
       "      <td>-0.258561</td>\n",
       "      <td>-0.902648</td>\n",
       "      <td>-0.884156</td>\n",
       "      <td>0.057496</td>\n",
       "      <td>-0.089718</td>\n",
       "      <td>-0.237238</td>\n",
       "      <td>25.0</td>\n",
       "    </tr>\n",
       "    <tr>\n",
       "      <th>4</th>\n",
       "      <td>-1.219353</td>\n",
       "      <td>1.566666</td>\n",
       "      <td>1.074631</td>\n",
       "      <td>-0.211124</td>\n",
       "      <td>-1.011818</td>\n",
       "      <td>0.092925</td>\n",
       "      <td>-0.224944</td>\n",
       "      <td>2.416283</td>\n",
       "      <td>1.559083</td>\n",
       "      <td>-0.265490</td>\n",
       "      <td>...</td>\n",
       "      <td>0.558849</td>\n",
       "      <td>-0.646047</td>\n",
       "      <td>0.310998</td>\n",
       "      <td>-4.396692</td>\n",
       "      <td>-3.946408</td>\n",
       "      <td>6.285454</td>\n",
       "      <td>0.702093</td>\n",
       "      <td>-0.730344</td>\n",
       "      <td>0.349481</td>\n",
       "      <td>9.0</td>\n",
       "    </tr>\n",
       "    <tr>\n",
       "      <th>...</th>\n",
       "      <td>...</td>\n",
       "      <td>...</td>\n",
       "      <td>...</td>\n",
       "      <td>...</td>\n",
       "      <td>...</td>\n",
       "      <td>...</td>\n",
       "      <td>...</td>\n",
       "      <td>...</td>\n",
       "      <td>...</td>\n",
       "      <td>...</td>\n",
       "      <td>...</td>\n",
       "      <td>...</td>\n",
       "      <td>...</td>\n",
       "      <td>...</td>\n",
       "      <td>...</td>\n",
       "      <td>...</td>\n",
       "      <td>...</td>\n",
       "      <td>...</td>\n",
       "      <td>...</td>\n",
       "      <td>...</td>\n",
       "      <td>...</td>\n",
       "    </tr>\n",
       "    <tr>\n",
       "      <th>403</th>\n",
       "      <td>0.030779</td>\n",
       "      <td>-0.007852</td>\n",
       "      <td>-0.007960</td>\n",
       "      <td>-0.072641</td>\n",
       "      <td>0.044350</td>\n",
       "      <td>-0.122204</td>\n",
       "      <td>0.030735</td>\n",
       "      <td>-0.007847</td>\n",
       "      <td>-0.007933</td>\n",
       "      <td>-0.072643</td>\n",
       "      <td>...</td>\n",
       "      <td>-0.073740</td>\n",
       "      <td>0.049908</td>\n",
       "      <td>-0.133116</td>\n",
       "      <td>0.004527</td>\n",
       "      <td>-0.004694</td>\n",
       "      <td>0.008410</td>\n",
       "      <td>-0.073742</td>\n",
       "      <td>0.049917</td>\n",
       "      <td>-0.133134</td>\n",
       "      <td>25.0</td>\n",
       "    </tr>\n",
       "    <tr>\n",
       "      <th>404</th>\n",
       "      <td>6.818722</td>\n",
       "      <td>-1.207684</td>\n",
       "      <td>-2.348887</td>\n",
       "      <td>-0.744699</td>\n",
       "      <td>0.413925</td>\n",
       "      <td>-0.913751</td>\n",
       "      <td>6.996873</td>\n",
       "      <td>-1.394519</td>\n",
       "      <td>-2.695269</td>\n",
       "      <td>-0.813420</td>\n",
       "      <td>...</td>\n",
       "      <td>-0.164089</td>\n",
       "      <td>-5.193500</td>\n",
       "      <td>1.474738</td>\n",
       "      <td>4.400823</td>\n",
       "      <td>-2.282772</td>\n",
       "      <td>-7.165644</td>\n",
       "      <td>-0.255309</td>\n",
       "      <td>-4.809582</td>\n",
       "      <td>1.233962</td>\n",
       "      <td>16.0</td>\n",
       "    </tr>\n",
       "    <tr>\n",
       "      <th>405</th>\n",
       "      <td>-3.608145</td>\n",
       "      <td>-7.703201</td>\n",
       "      <td>5.550821</td>\n",
       "      <td>0.616192</td>\n",
       "      <td>-0.415987</td>\n",
       "      <td>0.226815</td>\n",
       "      <td>-4.400406</td>\n",
       "      <td>-8.268530</td>\n",
       "      <td>5.870539</td>\n",
       "      <td>0.653657</td>\n",
       "      <td>...</td>\n",
       "      <td>0.111327</td>\n",
       "      <td>3.168847</td>\n",
       "      <td>0.324894</td>\n",
       "      <td>2.312674</td>\n",
       "      <td>-1.297724</td>\n",
       "      <td>1.809722</td>\n",
       "      <td>0.154086</td>\n",
       "      <td>3.193280</td>\n",
       "      <td>0.291909</td>\n",
       "      <td>10.0</td>\n",
       "    </tr>\n",
       "    <tr>\n",
       "      <th>406</th>\n",
       "      <td>0.196936</td>\n",
       "      <td>1.617004</td>\n",
       "      <td>0.625740</td>\n",
       "      <td>-0.513799</td>\n",
       "      <td>0.175695</td>\n",
       "      <td>-0.301682</td>\n",
       "      <td>0.124363</td>\n",
       "      <td>1.558055</td>\n",
       "      <td>0.570479</td>\n",
       "      <td>-0.515021</td>\n",
       "      <td>...</td>\n",
       "      <td>0.744623</td>\n",
       "      <td>-0.478217</td>\n",
       "      <td>0.127209</td>\n",
       "      <td>1.658495</td>\n",
       "      <td>-0.559981</td>\n",
       "      <td>-2.004943</td>\n",
       "      <td>0.710721</td>\n",
       "      <td>-0.514257</td>\n",
       "      <td>0.141258</td>\n",
       "      <td>4.0</td>\n",
       "    </tr>\n",
       "    <tr>\n",
       "      <th>407</th>\n",
       "      <td>-0.613307</td>\n",
       "      <td>-0.677009</td>\n",
       "      <td>0.196290</td>\n",
       "      <td>0.462310</td>\n",
       "      <td>0.453427</td>\n",
       "      <td>-0.061314</td>\n",
       "      <td>-0.513747</td>\n",
       "      <td>-0.657128</td>\n",
       "      <td>0.144362</td>\n",
       "      <td>0.467604</td>\n",
       "      <td>...</td>\n",
       "      <td>-2.476757</td>\n",
       "      <td>0.385216</td>\n",
       "      <td>0.508683</td>\n",
       "      <td>-1.596675</td>\n",
       "      <td>-0.256860</td>\n",
       "      <td>-1.262732</td>\n",
       "      <td>-2.634126</td>\n",
       "      <td>0.442635</td>\n",
       "      <td>0.483944</td>\n",
       "      <td>15.0</td>\n",
       "    </tr>\n",
       "  </tbody>\n",
       "</table>\n",
       "<p>408 rows × 3601 columns</p>\n",
       "</div>"
      ],
      "text/plain": [
       "        LAx_1     LAx_2     LAx_3     LAx_4     LAx_5     LAx_6     LAx_7  \\\n",
       "0    1.696515  3.012438  3.908953  0.357091  0.144542 -0.410362  2.226851   \n",
       "1   -0.259373 -0.392220  0.318180  0.097480  0.096055 -0.040611 -0.259892   \n",
       "2   -0.003680 -0.069081 -0.139813  0.166863  0.142099  0.035111  0.188889   \n",
       "3   -0.546274 -0.502629 -0.172487  0.212346  0.259381  0.248691 -0.567287   \n",
       "4   -1.219353  1.566666  1.074631 -0.211124 -1.011818  0.092925 -0.224944   \n",
       "..        ...       ...       ...       ...       ...       ...       ...   \n",
       "403  0.030779 -0.007852 -0.007960 -0.072641  0.044350 -0.122204  0.030735   \n",
       "404  6.818722 -1.207684 -2.348887 -0.744699  0.413925 -0.913751  6.996873   \n",
       "405 -3.608145 -7.703201  5.550821  0.616192 -0.415987  0.226815 -4.400406   \n",
       "406  0.196936  1.617004  0.625740 -0.513799  0.175695 -0.301682  0.124363   \n",
       "407 -0.613307 -0.677009  0.196290  0.462310  0.453427 -0.061314 -0.513747   \n",
       "\n",
       "        LAx_8     LAx_9    LAx_10  ...  GYz_3592  GYz_3593  GYz_3594  \\\n",
       "0    2.992558  5.834365  0.466229  ... -0.366967  1.799403 -0.181803   \n",
       "1   -0.392724  0.318264  0.097654  ...  0.156148  0.004352  0.073378   \n",
       "2   -0.193637  0.067443  0.167037  ...  0.096004 -0.181726  0.358251   \n",
       "3   -0.494932 -0.151527  0.214789  ...  0.081421 -0.085239 -0.254240   \n",
       "4    2.416283  1.559083 -0.265490  ...  0.558849 -0.646047  0.310998   \n",
       "..        ...       ...       ...  ...       ...       ...       ...   \n",
       "403 -0.007847 -0.007933 -0.072643  ... -0.073740  0.049908 -0.133116   \n",
       "404 -1.394519 -2.695269 -0.813420  ... -0.164089 -5.193500  1.474738   \n",
       "405 -8.268530  5.870539  0.653657  ...  0.111327  3.168847  0.324894   \n",
       "406  1.558055  0.570479 -0.515021  ...  0.744623 -0.478217  0.127209   \n",
       "407 -0.657128  0.144362  0.467604  ... -2.476757  0.385216  0.508683   \n",
       "\n",
       "     GYz_3595  GYz_3596  GYz_3597  GYz_3598  GYz_3599  GYz_3600  label  \n",
       "0   -0.660756 -1.000393  1.853306 -0.346198  1.811315 -0.176306   20.0  \n",
       "1   -0.800133  0.091725  0.276177  0.161951  0.003436  0.083457   25.0  \n",
       "2   -0.257679  0.192050  0.070324  0.095945 -0.181708  0.358264   25.0  \n",
       "3   -0.258561 -0.902648 -0.884156  0.057496 -0.089718 -0.237238   25.0  \n",
       "4   -4.396692 -3.946408  6.285454  0.702093 -0.730344  0.349481    9.0  \n",
       "..        ...       ...       ...       ...       ...       ...    ...  \n",
       "403  0.004527 -0.004694  0.008410 -0.073742  0.049917 -0.133134   25.0  \n",
       "404  4.400823 -2.282772 -7.165644 -0.255309 -4.809582  1.233962   16.0  \n",
       "405  2.312674 -1.297724  1.809722  0.154086  3.193280  0.291909   10.0  \n",
       "406  1.658495 -0.559981 -2.004943  0.710721 -0.514257  0.141258    4.0  \n",
       "407 -1.596675 -0.256860 -1.262732 -2.634126  0.442635  0.483944   15.0  \n",
       "\n",
       "[408 rows x 3601 columns]"
      ]
     },
     "execution_count": 86,
     "metadata": {},
     "output_type": "execute_result"
    }
   ],
   "source": [
    "df_test"
   ]
  },
  {
   "cell_type": "code",
   "execution_count": 97,
   "id": "f1afee84",
   "metadata": {},
   "outputs": [],
   "source": [
    "X_train = df_train.drop(\"label\", axis=1)\n",
    "y_train = df_train['label']\n",
    "\n",
    "X_test = df_test.drop(\"label\", axis=1)\n",
    "y_test = df_test['label']\n"
   ]
  },
  {
   "cell_type": "code",
   "execution_count": 98,
   "id": "8a6b2bfb",
   "metadata": {},
   "outputs": [],
   "source": [
    "dtrain = xgb.DMatrix(X_train, label=y_train)\n",
    "dtest = xgb.DMatrix(X_test)\n"
   ]
  },
  {
   "cell_type": "code",
   "execution_count": 89,
   "id": "d2ac75f0",
   "metadata": {},
   "outputs": [],
   "source": [
    "def accuracy_metric(preds, dmatrix):\n",
    "    labels = dmatrix.get_label()\n",
    "    preds = np.argmax(preds, axis=1)  # Convert probabilities to class labels\n",
    "    accuracy = (preds == labels).mean() * 100.0\n",
    "    return 'accuracy', accuracy\n"
   ]
  },
  {
   "cell_type": "code",
   "execution_count": 111,
   "id": "25d02714",
   "metadata": {},
   "outputs": [],
   "source": [
    "params = {\n",
    "    'max_depth': 7,\n",
    "    'learning_rate': 0.3,\n",
    "    'objective': 'multi:softmax',\n",
    "    'num_class': 31,\n",
    "    'subsample': 0.8,\n",
    "    'alpha': 0.5,\n",
    "    \"gamma\": 0\n",
    "}\n",
    "epochs = 15\n",
    "evals_result = {}  # Initialize an empty dictionary to store the evaluation results"
   ]
  },
  {
   "cell_type": "code",
   "execution_count": 112,
   "id": "41012807",
   "metadata": {},
   "outputs": [
    {
     "name": "stdout",
     "output_type": "stream",
     "text": [
      "[0]\ttrain-mlogloss:2.55135\n",
      "[1]\ttrain-mlogloss:2.00453\n",
      "[2]\ttrain-mlogloss:1.59610\n",
      "[3]\ttrain-mlogloss:1.29390\n",
      "[4]\ttrain-mlogloss:1.06140\n",
      "[5]\ttrain-mlogloss:0.88254\n",
      "[6]\ttrain-mlogloss:0.74050\n",
      "[7]\ttrain-mlogloss:0.62662\n",
      "[8]\ttrain-mlogloss:0.53676\n",
      "[9]\ttrain-mlogloss:0.46279\n",
      "[10]\ttrain-mlogloss:0.40124\n",
      "[11]\ttrain-mlogloss:0.34981\n",
      "[12]\ttrain-mlogloss:0.30990\n",
      "[13]\ttrain-mlogloss:0.27477\n",
      "[14]\ttrain-mlogloss:0.24735\n"
     ]
    }
   ],
   "source": [
    "model = xgb.train(params, dtrain, epochs, evals=[(dtrain, 'train')],\n",
    "                  evals_result=evals_result, verbose_eval=1)"
   ]
  },
  {
   "cell_type": "code",
   "execution_count": 113,
   "id": "6db8e5b3",
   "metadata": {},
   "outputs": [],
   "source": [
    "predictions = model.predict(dtest)"
   ]
  },
  {
   "cell_type": "code",
   "execution_count": 114,
   "id": "b2eb597f",
   "metadata": {},
   "outputs": [
    {
     "data": {
      "text/plain": [
       "(408, 3600)"
      ]
     },
     "execution_count": 114,
     "metadata": {},
     "output_type": "execute_result"
    }
   ],
   "source": [
    "X_test.shape"
   ]
  },
  {
   "cell_type": "code",
   "execution_count": 115,
   "id": "3d995760",
   "metadata": {
    "scrolled": true
   },
   "outputs": [
    {
     "data": {
      "text/plain": [
       "(408,)"
      ]
     },
     "execution_count": 115,
     "metadata": {},
     "output_type": "execute_result"
    }
   ],
   "source": [
    "y_test.shape"
   ]
  },
  {
   "cell_type": "code",
   "execution_count": 116,
   "id": "7fd4ce4b",
   "metadata": {},
   "outputs": [
    {
     "data": {
      "text/plain": [
       "(408,)"
      ]
     },
     "execution_count": 116,
     "metadata": {},
     "output_type": "execute_result"
    }
   ],
   "source": [
    "predictions.shape\n"
   ]
  },
  {
   "cell_type": "code",
   "execution_count": 117,
   "id": "0e8b0ef0",
   "metadata": {
    "scrolled": false
   },
   "outputs": [
    {
     "data": {
      "text/plain": [
       "0.34068627450980393"
      ]
     },
     "execution_count": 117,
     "metadata": {},
     "output_type": "execute_result"
    }
   ],
   "source": [
    "accuracy_score(y_test, predictions)"
   ]
  },
  {
   "cell_type": "code",
   "execution_count": null,
   "id": "65d924b2",
   "metadata": {},
   "outputs": [],
   "source": []
  }
 ],
 "metadata": {
  "kernelspec": {
   "display_name": "Python 3 (ipykernel)",
   "language": "python",
   "name": "python3"
  },
  "language_info": {
   "codemirror_mode": {
    "name": "ipython",
    "version": 3
   },
   "file_extension": ".py",
   "mimetype": "text/x-python",
   "name": "python",
   "nbconvert_exporter": "python",
   "pygments_lexer": "ipython3",
   "version": "3.10.9"
  }
 },
 "nbformat": 4,
 "nbformat_minor": 5
}
