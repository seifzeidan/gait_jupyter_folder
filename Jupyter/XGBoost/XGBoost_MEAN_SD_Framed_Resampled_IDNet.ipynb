{
 "cells": [
  {
   "cell_type": "code",
   "execution_count": 1,
   "id": "f125c479",
   "metadata": {},
   "outputs": [],
   "source": [
    "import pandas as pd\n",
    "import numpy as np\n",
    "import os\n",
    "import math\n",
    "import matplotlib.pyplot as plt\n",
    "from sklearn.model_selection import train_test_split\n",
    "from sklearn.preprocessing import StandardScaler, LabelEncoder\n",
    "from sklearn.metrics import accuracy_score"
   ]
  },
  {
   "cell_type": "code",
   "execution_count": 2,
   "id": "951f2718",
   "metadata": {},
   "outputs": [],
   "source": [
    "import xgboost as xgb\n",
    "from sklearn.model_selection import GridSearchCV\n"
   ]
  },
  {
   "cell_type": "code",
   "execution_count": 3,
   "id": "46eeb8ca",
   "metadata": {},
   "outputs": [],
   "source": [
    "# filepath = \"merged_u1-50_w001_resampled.csv\"\n",
    "filepath = \"D:/online dataset csv files preprocessing/MEAN_SD_FRAMED_RESAMPLED_merged_u1-50_w001_resampled.csv\"\n",
    "\n",
    "df_original = pd.read_csv(filepath)"
   ]
  },
  {
   "cell_type": "code",
   "execution_count": 4,
   "id": "4708bc8c",
   "metadata": {},
   "outputs": [
    {
     "data": {
      "text/html": [
       "<div>\n",
       "<style scoped>\n",
       "    .dataframe tbody tr th:only-of-type {\n",
       "        vertical-align: middle;\n",
       "    }\n",
       "\n",
       "    .dataframe tbody tr th {\n",
       "        vertical-align: top;\n",
       "    }\n",
       "\n",
       "    .dataframe thead th {\n",
       "        text-align: right;\n",
       "    }\n",
       "</style>\n",
       "<table border=\"1\" class=\"dataframe\">\n",
       "  <thead>\n",
       "    <tr style=\"text-align: right;\">\n",
       "      <th></th>\n",
       "      <th>name</th>\n",
       "      <th>mean_LA(x)</th>\n",
       "      <th>mean_LA(y)</th>\n",
       "      <th>mean_LA(z)</th>\n",
       "      <th>mean_GY(x)</th>\n",
       "      <th>mean_GY(y)</th>\n",
       "      <th>mean_GY(z)</th>\n",
       "      <th>sd_LA(x)</th>\n",
       "      <th>sd_LA(y)</th>\n",
       "      <th>sd_LA(z)</th>\n",
       "      <th>sd_GY(x)</th>\n",
       "      <th>sd_GY(y)</th>\n",
       "      <th>sd_GY(z)</th>\n",
       "    </tr>\n",
       "  </thead>\n",
       "  <tbody>\n",
       "    <tr>\n",
       "      <th>0</th>\n",
       "      <td>1.0</td>\n",
       "      <td>-0.393514</td>\n",
       "      <td>-0.231500</td>\n",
       "      <td>0.259489</td>\n",
       "      <td>-0.136301</td>\n",
       "      <td>0.808596</td>\n",
       "      <td>0.365505</td>\n",
       "      <td>1.607389</td>\n",
       "      <td>2.060070</td>\n",
       "      <td>1.568203</td>\n",
       "      <td>0.718605</td>\n",
       "      <td>1.529494</td>\n",
       "      <td>0.896005</td>\n",
       "    </tr>\n",
       "    <tr>\n",
       "      <th>1</th>\n",
       "      <td>1.0</td>\n",
       "      <td>0.977162</td>\n",
       "      <td>0.184893</td>\n",
       "      <td>0.420916</td>\n",
       "      <td>0.122411</td>\n",
       "      <td>0.074673</td>\n",
       "      <td>-0.052158</td>\n",
       "      <td>3.646011</td>\n",
       "      <td>3.797331</td>\n",
       "      <td>5.745886</td>\n",
       "      <td>1.701895</td>\n",
       "      <td>2.413996</td>\n",
       "      <td>0.913987</td>\n",
       "    </tr>\n",
       "    <tr>\n",
       "      <th>2</th>\n",
       "      <td>1.0</td>\n",
       "      <td>0.868165</td>\n",
       "      <td>-0.320024</td>\n",
       "      <td>-0.093038</td>\n",
       "      <td>0.056006</td>\n",
       "      <td>0.094478</td>\n",
       "      <td>-0.247336</td>\n",
       "      <td>5.704045</td>\n",
       "      <td>3.265884</td>\n",
       "      <td>7.824760</td>\n",
       "      <td>2.248331</td>\n",
       "      <td>1.981881</td>\n",
       "      <td>0.899200</td>\n",
       "    </tr>\n",
       "    <tr>\n",
       "      <th>3</th>\n",
       "      <td>1.0</td>\n",
       "      <td>0.651436</td>\n",
       "      <td>-0.042524</td>\n",
       "      <td>0.129633</td>\n",
       "      <td>-0.075404</td>\n",
       "      <td>0.128380</td>\n",
       "      <td>-0.227428</td>\n",
       "      <td>5.328452</td>\n",
       "      <td>3.304334</td>\n",
       "      <td>7.017526</td>\n",
       "      <td>2.167866</td>\n",
       "      <td>1.981418</td>\n",
       "      <td>0.940454</td>\n",
       "    </tr>\n",
       "    <tr>\n",
       "      <th>4</th>\n",
       "      <td>1.0</td>\n",
       "      <td>1.084959</td>\n",
       "      <td>-0.319923</td>\n",
       "      <td>-0.195518</td>\n",
       "      <td>0.028891</td>\n",
       "      <td>0.026057</td>\n",
       "      <td>-0.323677</td>\n",
       "      <td>6.076534</td>\n",
       "      <td>3.319325</td>\n",
       "      <td>7.810847</td>\n",
       "      <td>2.432790</td>\n",
       "      <td>2.110462</td>\n",
       "      <td>1.009521</td>\n",
       "    </tr>\n",
       "    <tr>\n",
       "      <th>...</th>\n",
       "      <td>...</td>\n",
       "      <td>...</td>\n",
       "      <td>...</td>\n",
       "      <td>...</td>\n",
       "      <td>...</td>\n",
       "      <td>...</td>\n",
       "      <td>...</td>\n",
       "      <td>...</td>\n",
       "      <td>...</td>\n",
       "      <td>...</td>\n",
       "      <td>...</td>\n",
       "      <td>...</td>\n",
       "      <td>...</td>\n",
       "    </tr>\n",
       "    <tr>\n",
       "      <th>3386</th>\n",
       "      <td>50.0</td>\n",
       "      <td>-1.020807</td>\n",
       "      <td>-1.171016</td>\n",
       "      <td>1.729468</td>\n",
       "      <td>-0.003498</td>\n",
       "      <td>0.020327</td>\n",
       "      <td>-0.145425</td>\n",
       "      <td>3.422165</td>\n",
       "      <td>3.917514</td>\n",
       "      <td>4.235285</td>\n",
       "      <td>1.613613</td>\n",
       "      <td>1.298959</td>\n",
       "      <td>0.921226</td>\n",
       "    </tr>\n",
       "    <tr>\n",
       "      <th>3387</th>\n",
       "      <td>50.0</td>\n",
       "      <td>-1.184758</td>\n",
       "      <td>-1.406637</td>\n",
       "      <td>1.470867</td>\n",
       "      <td>0.128532</td>\n",
       "      <td>0.110669</td>\n",
       "      <td>-0.030852</td>\n",
       "      <td>3.626671</td>\n",
       "      <td>3.994308</td>\n",
       "      <td>4.448399</td>\n",
       "      <td>1.530076</td>\n",
       "      <td>1.284954</td>\n",
       "      <td>0.988766</td>\n",
       "    </tr>\n",
       "    <tr>\n",
       "      <th>3388</th>\n",
       "      <td>50.0</td>\n",
       "      <td>-0.831645</td>\n",
       "      <td>-0.959262</td>\n",
       "      <td>1.536584</td>\n",
       "      <td>-0.042937</td>\n",
       "      <td>-0.211504</td>\n",
       "      <td>-0.157940</td>\n",
       "      <td>3.738687</td>\n",
       "      <td>4.264228</td>\n",
       "      <td>4.597193</td>\n",
       "      <td>1.632034</td>\n",
       "      <td>1.387187</td>\n",
       "      <td>1.007491</td>\n",
       "    </tr>\n",
       "    <tr>\n",
       "      <th>3389</th>\n",
       "      <td>50.0</td>\n",
       "      <td>-0.732001</td>\n",
       "      <td>-0.887330</td>\n",
       "      <td>1.679462</td>\n",
       "      <td>0.130207</td>\n",
       "      <td>0.025768</td>\n",
       "      <td>-0.080390</td>\n",
       "      <td>3.218597</td>\n",
       "      <td>3.704232</td>\n",
       "      <td>4.181007</td>\n",
       "      <td>1.579482</td>\n",
       "      <td>1.185527</td>\n",
       "      <td>0.788691</td>\n",
       "    </tr>\n",
       "    <tr>\n",
       "      <th>3390</th>\n",
       "      <td>50.0</td>\n",
       "      <td>-1.112609</td>\n",
       "      <td>-0.923574</td>\n",
       "      <td>1.790004</td>\n",
       "      <td>-0.037886</td>\n",
       "      <td>0.016173</td>\n",
       "      <td>-0.150160</td>\n",
       "      <td>3.509659</td>\n",
       "      <td>4.391247</td>\n",
       "      <td>4.704499</td>\n",
       "      <td>1.732431</td>\n",
       "      <td>1.365022</td>\n",
       "      <td>0.826021</td>\n",
       "    </tr>\n",
       "  </tbody>\n",
       "</table>\n",
       "<p>3391 rows × 13 columns</p>\n",
       "</div>"
      ],
      "text/plain": [
       "      name  mean_LA(x)  mean_LA(y)  mean_LA(z)  mean_GY(x)  mean_GY(y)  \\\n",
       "0      1.0   -0.393514   -0.231500    0.259489   -0.136301    0.808596   \n",
       "1      1.0    0.977162    0.184893    0.420916    0.122411    0.074673   \n",
       "2      1.0    0.868165   -0.320024   -0.093038    0.056006    0.094478   \n",
       "3      1.0    0.651436   -0.042524    0.129633   -0.075404    0.128380   \n",
       "4      1.0    1.084959   -0.319923   -0.195518    0.028891    0.026057   \n",
       "...    ...         ...         ...         ...         ...         ...   \n",
       "3386  50.0   -1.020807   -1.171016    1.729468   -0.003498    0.020327   \n",
       "3387  50.0   -1.184758   -1.406637    1.470867    0.128532    0.110669   \n",
       "3388  50.0   -0.831645   -0.959262    1.536584   -0.042937   -0.211504   \n",
       "3389  50.0   -0.732001   -0.887330    1.679462    0.130207    0.025768   \n",
       "3390  50.0   -1.112609   -0.923574    1.790004   -0.037886    0.016173   \n",
       "\n",
       "      mean_GY(z)  sd_LA(x)  sd_LA(y)  sd_LA(z)  sd_GY(x)  sd_GY(y)  sd_GY(z)  \n",
       "0       0.365505  1.607389  2.060070  1.568203  0.718605  1.529494  0.896005  \n",
       "1      -0.052158  3.646011  3.797331  5.745886  1.701895  2.413996  0.913987  \n",
       "2      -0.247336  5.704045  3.265884  7.824760  2.248331  1.981881  0.899200  \n",
       "3      -0.227428  5.328452  3.304334  7.017526  2.167866  1.981418  0.940454  \n",
       "4      -0.323677  6.076534  3.319325  7.810847  2.432790  2.110462  1.009521  \n",
       "...          ...       ...       ...       ...       ...       ...       ...  \n",
       "3386   -0.145425  3.422165  3.917514  4.235285  1.613613  1.298959  0.921226  \n",
       "3387   -0.030852  3.626671  3.994308  4.448399  1.530076  1.284954  0.988766  \n",
       "3388   -0.157940  3.738687  4.264228  4.597193  1.632034  1.387187  1.007491  \n",
       "3389   -0.080390  3.218597  3.704232  4.181007  1.579482  1.185527  0.788691  \n",
       "3390   -0.150160  3.509659  4.391247  4.704499  1.732431  1.365022  0.826021  \n",
       "\n",
       "[3391 rows x 13 columns]"
      ]
     },
     "execution_count": 4,
     "metadata": {},
     "output_type": "execute_result"
    }
   ],
   "source": [
    "df_original"
   ]
  },
  {
   "cell_type": "code",
   "execution_count": 6,
   "id": "57852ef6",
   "metadata": {},
   "outputs": [],
   "source": [
    "X = df_original.drop('name', axis=1)  # Features (all columns except the target)\n",
    "y = df_original['name']  # Labels"
   ]
  },
  {
   "cell_type": "code",
   "execution_count": 15,
   "id": "569e6069",
   "metadata": {},
   "outputs": [],
   "source": [
    "y = y -1"
   ]
  },
  {
   "cell_type": "code",
   "execution_count": 17,
   "id": "c63e51fa",
   "metadata": {},
   "outputs": [
    {
     "data": {
      "text/plain": [
       "((2135, 12), (1018, 12), (238, 12), (2135,), (1018,), (238,))"
      ]
     },
     "execution_count": 17,
     "metadata": {},
     "output_type": "execute_result"
    }
   ],
   "source": [
    "X_train_val, X_test, y_train_val, y_test = train_test_split(X, y, test_size = 0.3, random_state = 0, stratify = y)\n",
    "\n",
    "X_train, X_validation, y_train, y_validation = train_test_split(X_train_val, y_train_val, test_size = 0.1, random_state = 0, stratify = y_train_val)\n",
    "X_train.shape, X_test.shape, X_validation.shape, y_train.shape, y_test.shape, y_validation.shape"
   ]
  },
  {
   "cell_type": "code",
   "execution_count": 18,
   "id": "2f8d8b5d",
   "metadata": {},
   "outputs": [],
   "source": [
    "dtrain = xgb.DMatrix(X_train, label=y_train)\n",
    "dtest = xgb.DMatrix(X_test)\n",
    "dval = xgb.DMatrix(X_validation, label=y_validation)"
   ]
  },
  {
   "cell_type": "code",
   "execution_count": 19,
   "id": "6ab8df61",
   "metadata": {},
   "outputs": [
    {
     "data": {
      "text/plain": [
       "(<xgboost.core.DMatrix at 0x1f70129fac0>,\n",
       " <xgboost.core.DMatrix at 0x1f700119870>,\n",
       " <xgboost.core.DMatrix at 0x1f700134a60>)"
      ]
     },
     "execution_count": 19,
     "metadata": {},
     "output_type": "execute_result"
    }
   ],
   "source": [
    "dtrain, dtest, dval"
   ]
  },
  {
   "cell_type": "code",
   "execution_count": 20,
   "id": "754cb245",
   "metadata": {},
   "outputs": [],
   "source": [
    "# params = {\n",
    "#     'max_depth': 5,\n",
    "#     'learning_rate': 0.2,\n",
    "#     'objective': 'multi:softmax',\n",
    "#     'num_class': 50\n",
    "# }\n",
    "# epochs = 15\n",
    "# evals_result = {}  # Initialize an empty dictionary to store the evaluation results"
   ]
  },
  {
   "cell_type": "code",
   "execution_count": 21,
   "id": "17d6770d",
   "metadata": {},
   "outputs": [],
   "source": [
    "# model = xgb.train(params, dtrain, epochs,  verbose_eval=1)"
   ]
  },
  {
   "cell_type": "code",
   "execution_count": 22,
   "id": "e0f5cfda",
   "metadata": {},
   "outputs": [
    {
     "name": "stdout",
     "output_type": "stream",
     "text": [
      "[0]\ttrain-mlogloss:1.80153\tvalid-mlogloss:1.98160\n",
      "[1]\ttrain-mlogloss:1.41049\tvalid-mlogloss:1.65315\n",
      "[2]\ttrain-mlogloss:1.15241\tvalid-mlogloss:1.42495\n",
      "[3]\ttrain-mlogloss:0.96367\tvalid-mlogloss:1.26187\n",
      "[4]\ttrain-mlogloss:0.81776\tvalid-mlogloss:1.13610\n",
      "[5]\ttrain-mlogloss:0.69995\tvalid-mlogloss:1.03778\n",
      "[6]\ttrain-mlogloss:0.60431\tvalid-mlogloss:0.95968\n",
      "[7]\ttrain-mlogloss:0.52688\tvalid-mlogloss:0.89026\n",
      "[8]\ttrain-mlogloss:0.46119\tvalid-mlogloss:0.83645\n",
      "[9]\ttrain-mlogloss:0.40620\tvalid-mlogloss:0.79090\n",
      "[10]\ttrain-mlogloss:0.36013\tvalid-mlogloss:0.75359\n",
      "[11]\ttrain-mlogloss:0.32100\tvalid-mlogloss:0.71938\n",
      "[12]\ttrain-mlogloss:0.28799\tvalid-mlogloss:0.69038\n",
      "[13]\ttrain-mlogloss:0.25970\tvalid-mlogloss:0.66493\n",
      "[14]\ttrain-mlogloss:0.23534\tvalid-mlogloss:0.64416\n"
     ]
    }
   ],
   "source": [
    "# model = xgb.train(params, dtrain, epochs, evals=[(dtrain, 'train'), (dval, 'valid')],\n",
    "#                   evals_result=evals_result, verbose_eval=1)"
   ]
  },
  {
   "cell_type": "code",
   "execution_count": 23,
   "id": "73cad87f",
   "metadata": {},
   "outputs": [],
   "source": [
    "# predictions = model.predict(dtest)"
   ]
  },
  {
   "cell_type": "code",
   "execution_count": 24,
   "id": "6a6fe10d",
   "metadata": {},
   "outputs": [
    {
     "name": "stdout",
     "output_type": "stream",
     "text": [
      "[40. 18. 40. ... 13. 11. 17.]\n"
     ]
    }
   ],
   "source": [
    "# print(predictions)"
   ]
  },
  {
   "cell_type": "code",
   "execution_count": 25,
   "id": "1e5aa112",
   "metadata": {},
   "outputs": [
    {
     "data": {
      "text/plain": [
       "0.8359528487229863"
      ]
     },
     "execution_count": 25,
     "metadata": {},
     "output_type": "execute_result"
    }
   ],
   "source": [
    "# accuracy_score(y_test, predictions)"
   ]
  },
  {
   "cell_type": "code",
   "execution_count": null,
   "id": "bba2c40e",
   "metadata": {},
   "outputs": [],
   "source": []
  },
  {
   "cell_type": "code",
   "execution_count": 26,
   "id": "67429ffd",
   "metadata": {},
   "outputs": [],
   "source": [
    "xgb_model = xgb.XGBClassifier()"
   ]
  },
  {
   "cell_type": "code",
   "execution_count": 32,
   "id": "95291205",
   "metadata": {},
   "outputs": [],
   "source": [
    "param_grid = {\n",
    "    'max_depth': [3, 5, 7],\n",
    "    'learning_rate': [0.1,0.2, 0.3, 0.01, 0.001],\n",
    "    'n_estimators': [100, 200, 300],\n",
    "    'objective': ['multi:softmax'],\n",
    "    'num_class': [50] \n",
    "}\n"
   ]
  },
  {
   "cell_type": "code",
   "execution_count": null,
   "id": "25716bca",
   "metadata": {},
   "outputs": [],
   "source": [
    "grid_search = GridSearchCV(estimator=xgb_model, param_grid=param_grid, cv=5)\n",
    "grid_search.fit(X_train, y_train)  # X and y are your training data\n"
   ]
  },
  {
   "cell_type": "code",
   "execution_count": null,
   "id": "c758bc5b",
   "metadata": {},
   "outputs": [],
   "source": [
    "best_params = grid_search.best_params_\n",
    "best_model = grid_search.best_estimator_\n",
    "best_score = grid_search.best_score_"
   ]
  },
  {
   "cell_type": "code",
   "execution_count": null,
   "id": "4d24f1a8",
   "metadata": {},
   "outputs": [],
   "source": [
    "best_params"
   ]
  },
  {
   "cell_type": "code",
   "execution_count": null,
   "id": "6ded5185",
   "metadata": {},
   "outputs": [],
   "source": []
  }
 ],
 "metadata": {
  "kernelspec": {
   "display_name": "Python 3 (ipykernel)",
   "language": "python",
   "name": "python3"
  },
  "language_info": {
   "codemirror_mode": {
    "name": "ipython",
    "version": 3
   },
   "file_extension": ".py",
   "mimetype": "text/x-python",
   "name": "python",
   "nbconvert_exporter": "python",
   "pygments_lexer": "ipython3",
   "version": "3.10.9"
  }
 },
 "nbformat": 4,
 "nbformat_minor": 5
}
