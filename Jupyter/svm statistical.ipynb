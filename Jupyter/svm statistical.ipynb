{
 "cells": [
  {
   "cell_type": "code",
   "execution_count": 1,
   "id": "73c0f550",
   "metadata": {},
   "outputs": [],
   "source": [
    "import numpy as np\n",
    "import pandas as pd\n",
    "import matplotlib.pyplot as plt\n",
    "from sklearn import svm\n",
    "from sklearn.model_selection import train_test_split\n",
    "import seaborn as sns # for plotting.\n",
    "import os\n",
    "\n",
    "from sklearn.preprocessing import LabelEncoder"
   ]
  },
  {
   "cell_type": "code",
   "execution_count": 38,
   "id": "7c69f056",
   "metadata": {},
   "outputs": [
    {
     "data": {
      "text/plain": [
       "name           object\n",
       "mean_LA(x)    float64\n",
       "mean_LA(y)    float64\n",
       "mean_LA(z)    float64\n",
       "mean_GY(x)    float64\n",
       "mean_GY(y)    float64\n",
       "mean_GY(z)    float64\n",
       "sd_LA(x)      float64\n",
       "sd_LA(y)      float64\n",
       "sd_LA(z)      float64\n",
       "sd_GY(x)      float64\n",
       "sd_GY(y)      float64\n",
       "sd_GY(z)      float64\n",
       "dtype: object"
      ]
     },
     "execution_count": 38,
     "metadata": {},
     "output_type": "execute_result"
    }
   ],
   "source": [
    "statisticalDf=pd.read_csv('newStatistical.csv')\n",
    "statisticalDf.dtypes"
   ]
  },
  {
   "cell_type": "code",
   "execution_count": 40,
   "id": "55d6a78d",
   "metadata": {},
   "outputs": [],
   "source": [
    "label_column = 'name'\n",
    "label_encoder = LabelEncoder()\n",
    "statisticalDf[label_column] = label_encoder.fit_transform(statisticalDf[label_column])"
   ]
  },
  {
   "cell_type": "code",
   "execution_count": 41,
   "id": "b910205c",
   "metadata": {},
   "outputs": [
    {
     "data": {
      "text/plain": [
       "name            int32\n",
       "mean_LA(x)    float64\n",
       "mean_LA(y)    float64\n",
       "mean_LA(z)    float64\n",
       "mean_GY(x)    float64\n",
       "mean_GY(y)    float64\n",
       "mean_GY(z)    float64\n",
       "sd_LA(x)      float64\n",
       "sd_LA(y)      float64\n",
       "sd_LA(z)      float64\n",
       "sd_GY(x)      float64\n",
       "sd_GY(y)      float64\n",
       "sd_GY(z)      float64\n",
       "dtype: object"
      ]
     },
     "execution_count": 41,
     "metadata": {},
     "output_type": "execute_result"
    }
   ],
   "source": [
    "statisticalDf.dtypes"
   ]
  },
  {
   "cell_type": "code",
   "execution_count": 5,
   "id": "0f7caeec",
   "metadata": {},
   "outputs": [],
   "source": [
    "all_ds=statisticalDf.copy()"
   ]
  },
  {
   "cell_type": "code",
   "execution_count": 6,
   "id": "baf9bb9f",
   "metadata": {},
   "outputs": [
    {
     "name": "stdout",
     "output_type": "stream",
     "text": [
      "(19, 13)\n",
      "(13, 13)\n"
     ]
    }
   ],
   "source": [
    "# Split the data into 60% train and 40% test (later will divide the test to test and validate.)\n",
    "train_dataset, temp_test_dataset =  train_test_split(all_ds, test_size=0.4)\n",
    "\n",
    "print( train_dataset.shape )\n",
    "print( temp_test_dataset.shape )"
   ]
  },
  {
   "cell_type": "code",
   "execution_count": 7,
   "id": "875bfa61",
   "metadata": {},
   "outputs": [
    {
     "name": "stdout",
     "output_type": "stream",
     "text": [
      "(6, 13)\n",
      "(7, 13)\n"
     ]
    }
   ],
   "source": [
    "# Split the test_dataset dataframe to 50% test and 50% validation. [this will divide the dataset into 60% train, 20% validate, and 20% test]\n",
    "test_dataset, valid_dataset =  train_test_split(temp_test_dataset, test_size=0.5)\n",
    "print( test_dataset.shape )\n",
    "print( valid_dataset.shape )"
   ]
  },
  {
   "cell_type": "code",
   "execution_count": 8,
   "id": "94967491",
   "metadata": {},
   "outputs": [],
   "source": [
    "train_labels = train_dataset.pop('name')\n",
    "test_labels = test_dataset.pop('name')\n",
    "valid_labels = valid_dataset.pop('name')"
   ]
  },
  {
   "cell_type": "code",
   "execution_count": 21,
   "id": "fd409932",
   "metadata": {},
   "outputs": [],
   "source": [
    "train_labels = train_labels.reset_index(drop=True)"
   ]
  },
  {
   "cell_type": "code",
   "execution_count": 22,
   "id": "fd7035aa",
   "metadata": {},
   "outputs": [],
   "source": [
    "test_labels = test_labels.reset_index(drop=True)\n"
   ]
  },
  {
   "cell_type": "code",
   "execution_count": 23,
   "id": "29b726f2",
   "metadata": {},
   "outputs": [
    {
     "data": {
      "text/plain": [
       "0    19\n",
       "1    14\n",
       "2    29\n",
       "3    25\n",
       "4     6\n",
       "5     4\n",
       "Name: name, dtype: int32"
      ]
     },
     "execution_count": 23,
     "metadata": {},
     "output_type": "execute_result"
    }
   ],
   "source": [
    "test_labels"
   ]
  },
  {
   "cell_type": "code",
   "execution_count": 24,
   "id": "b8c5fdf3",
   "metadata": {},
   "outputs": [],
   "source": [
    "valid_labels = valid_labels.reset_index(drop=True)"
   ]
  },
  {
   "cell_type": "code",
   "execution_count": 26,
   "id": "0ae5cdaa",
   "metadata": {},
   "outputs": [
    {
     "data": {
      "text/plain": [
       "0    21\n",
       "1    27\n",
       "2     2\n",
       "3    28\n",
       "4    24\n",
       "5     8\n",
       "6    20\n",
       "Name: name, dtype: int32"
      ]
     },
     "execution_count": 26,
     "metadata": {},
     "output_type": "execute_result"
    }
   ],
   "source": [
    "valid_labels"
   ]
  },
  {
   "cell_type": "code",
   "execution_count": 28,
   "id": "b60502cd",
   "metadata": {},
   "outputs": [],
   "source": [
    "train_dataset = train_dataset.reset_index(drop=True)\n",
    "test_dataset = test_dataset.reset_index(drop=True)\n",
    "valid_dataset = valid_dataset.reset_index(drop=True)"
   ]
  },
  {
   "cell_type": "code",
   "execution_count": 29,
   "id": "22b2c4b5",
   "metadata": {},
   "outputs": [
    {
     "data": {
      "text/html": [
       "<div>\n",
       "<style scoped>\n",
       "    .dataframe tbody tr th:only-of-type {\n",
       "        vertical-align: middle;\n",
       "    }\n",
       "\n",
       "    .dataframe tbody tr th {\n",
       "        vertical-align: top;\n",
       "    }\n",
       "\n",
       "    .dataframe thead th {\n",
       "        text-align: right;\n",
       "    }\n",
       "</style>\n",
       "<table border=\"1\" class=\"dataframe\">\n",
       "  <thead>\n",
       "    <tr style=\"text-align: right;\">\n",
       "      <th></th>\n",
       "      <th>mean_LA(x)</th>\n",
       "      <th>mean_LA(y)</th>\n",
       "      <th>mean_LA(z)</th>\n",
       "      <th>mean_GY(x)</th>\n",
       "      <th>mean_GY(y)</th>\n",
       "      <th>mean_GY(z)</th>\n",
       "      <th>sd_LA(x)</th>\n",
       "      <th>sd_LA(y)</th>\n",
       "      <th>sd_LA(z)</th>\n",
       "      <th>sd_GY(x)</th>\n",
       "      <th>sd_GY(y)</th>\n",
       "      <th>sd_GY(z)</th>\n",
       "    </tr>\n",
       "  </thead>\n",
       "  <tbody>\n",
       "    <tr>\n",
       "      <th>0</th>\n",
       "      <td>0.328296</td>\n",
       "      <td>-0.648805</td>\n",
       "      <td>0.703658</td>\n",
       "      <td>0.181158</td>\n",
       "      <td>-0.401560</td>\n",
       "      <td>-0.199473</td>\n",
       "      <td>4.361346</td>\n",
       "      <td>2.928663</td>\n",
       "      <td>4.544553</td>\n",
       "      <td>1.204835</td>\n",
       "      <td>1.722194</td>\n",
       "      <td>0.996614</td>\n",
       "    </tr>\n",
       "    <tr>\n",
       "      <th>1</th>\n",
       "      <td>0.238569</td>\n",
       "      <td>-0.188584</td>\n",
       "      <td>0.522236</td>\n",
       "      <td>-0.014429</td>\n",
       "      <td>-0.415608</td>\n",
       "      <td>-0.127227</td>\n",
       "      <td>1.840254</td>\n",
       "      <td>1.965744</td>\n",
       "      <td>1.754135</td>\n",
       "      <td>0.623276</td>\n",
       "      <td>1.262022</td>\n",
       "      <td>0.786566</td>\n",
       "    </tr>\n",
       "    <tr>\n",
       "      <th>2</th>\n",
       "      <td>0.400480</td>\n",
       "      <td>-0.583705</td>\n",
       "      <td>-0.565326</td>\n",
       "      <td>0.145026</td>\n",
       "      <td>-0.508438</td>\n",
       "      <td>0.105409</td>\n",
       "      <td>4.004121</td>\n",
       "      <td>3.902011</td>\n",
       "      <td>4.666506</td>\n",
       "      <td>1.306076</td>\n",
       "      <td>1.446163</td>\n",
       "      <td>1.081577</td>\n",
       "    </tr>\n",
       "    <tr>\n",
       "      <th>3</th>\n",
       "      <td>0.302428</td>\n",
       "      <td>-0.454693</td>\n",
       "      <td>0.876858</td>\n",
       "      <td>-0.002075</td>\n",
       "      <td>0.048715</td>\n",
       "      <td>-0.186628</td>\n",
       "      <td>3.387821</td>\n",
       "      <td>2.740689</td>\n",
       "      <td>3.690213</td>\n",
       "      <td>1.031524</td>\n",
       "      <td>1.844206</td>\n",
       "      <td>0.845006</td>\n",
       "    </tr>\n",
       "    <tr>\n",
       "      <th>4</th>\n",
       "      <td>-0.137318</td>\n",
       "      <td>-0.694075</td>\n",
       "      <td>0.561552</td>\n",
       "      <td>0.390665</td>\n",
       "      <td>-0.256937</td>\n",
       "      <td>0.107823</td>\n",
       "      <td>2.062976</td>\n",
       "      <td>1.781961</td>\n",
       "      <td>1.514323</td>\n",
       "      <td>0.817931</td>\n",
       "      <td>0.756671</td>\n",
       "      <td>0.748877</td>\n",
       "    </tr>\n",
       "    <tr>\n",
       "      <th>5</th>\n",
       "      <td>0.089535</td>\n",
       "      <td>-0.634762</td>\n",
       "      <td>0.430735</td>\n",
       "      <td>0.048057</td>\n",
       "      <td>0.103959</td>\n",
       "      <td>-0.103987</td>\n",
       "      <td>5.008167</td>\n",
       "      <td>3.237824</td>\n",
       "      <td>3.852864</td>\n",
       "      <td>1.072739</td>\n",
       "      <td>1.567254</td>\n",
       "      <td>1.001543</td>\n",
       "    </tr>\n",
       "    <tr>\n",
       "      <th>6</th>\n",
       "      <td>0.141473</td>\n",
       "      <td>0.058188</td>\n",
       "      <td>0.351559</td>\n",
       "      <td>-0.017778</td>\n",
       "      <td>-0.101517</td>\n",
       "      <td>-0.075924</td>\n",
       "      <td>1.361534</td>\n",
       "      <td>1.601349</td>\n",
       "      <td>1.418464</td>\n",
       "      <td>0.522863</td>\n",
       "      <td>1.076395</td>\n",
       "      <td>0.622166</td>\n",
       "    </tr>\n",
       "    <tr>\n",
       "      <th>7</th>\n",
       "      <td>0.100317</td>\n",
       "      <td>-0.638231</td>\n",
       "      <td>0.779516</td>\n",
       "      <td>0.069368</td>\n",
       "      <td>-0.301781</td>\n",
       "      <td>-0.206177</td>\n",
       "      <td>3.932625</td>\n",
       "      <td>3.129562</td>\n",
       "      <td>3.822440</td>\n",
       "      <td>1.119848</td>\n",
       "      <td>1.312378</td>\n",
       "      <td>1.110598</td>\n",
       "    </tr>\n",
       "    <tr>\n",
       "      <th>8</th>\n",
       "      <td>0.131254</td>\n",
       "      <td>-0.207766</td>\n",
       "      <td>0.489331</td>\n",
       "      <td>0.236496</td>\n",
       "      <td>-0.268571</td>\n",
       "      <td>-0.108303</td>\n",
       "      <td>1.822300</td>\n",
       "      <td>1.820857</td>\n",
       "      <td>1.867853</td>\n",
       "      <td>0.744089</td>\n",
       "      <td>1.219914</td>\n",
       "      <td>0.872819</td>\n",
       "    </tr>\n",
       "    <tr>\n",
       "      <th>9</th>\n",
       "      <td>0.161885</td>\n",
       "      <td>-0.225731</td>\n",
       "      <td>0.552650</td>\n",
       "      <td>0.176507</td>\n",
       "      <td>-0.308907</td>\n",
       "      <td>-0.157284</td>\n",
       "      <td>2.380718</td>\n",
       "      <td>2.357542</td>\n",
       "      <td>2.020036</td>\n",
       "      <td>0.785773</td>\n",
       "      <td>1.180408</td>\n",
       "      <td>0.798752</td>\n",
       "    </tr>\n",
       "    <tr>\n",
       "      <th>10</th>\n",
       "      <td>0.211522</td>\n",
       "      <td>0.046809</td>\n",
       "      <td>0.433300</td>\n",
       "      <td>-0.059075</td>\n",
       "      <td>-0.145953</td>\n",
       "      <td>-0.056760</td>\n",
       "      <td>1.297909</td>\n",
       "      <td>2.690857</td>\n",
       "      <td>1.885415</td>\n",
       "      <td>1.078312</td>\n",
       "      <td>1.057560</td>\n",
       "      <td>0.529188</td>\n",
       "    </tr>\n",
       "    <tr>\n",
       "      <th>11</th>\n",
       "      <td>0.416585</td>\n",
       "      <td>-0.374331</td>\n",
       "      <td>0.574468</td>\n",
       "      <td>0.035432</td>\n",
       "      <td>-0.212118</td>\n",
       "      <td>-0.171672</td>\n",
       "      <td>2.324888</td>\n",
       "      <td>2.903903</td>\n",
       "      <td>2.792157</td>\n",
       "      <td>1.015387</td>\n",
       "      <td>1.339296</td>\n",
       "      <td>0.652131</td>\n",
       "    </tr>\n",
       "    <tr>\n",
       "      <th>12</th>\n",
       "      <td>0.195304</td>\n",
       "      <td>-0.263071</td>\n",
       "      <td>-0.280091</td>\n",
       "      <td>0.008021</td>\n",
       "      <td>0.181732</td>\n",
       "      <td>0.051776</td>\n",
       "      <td>2.462941</td>\n",
       "      <td>2.312879</td>\n",
       "      <td>3.417976</td>\n",
       "      <td>1.111976</td>\n",
       "      <td>1.285494</td>\n",
       "      <td>0.471341</td>\n",
       "    </tr>\n",
       "    <tr>\n",
       "      <th>13</th>\n",
       "      <td>0.106776</td>\n",
       "      <td>-0.202852</td>\n",
       "      <td>0.336103</td>\n",
       "      <td>0.009316</td>\n",
       "      <td>-0.033247</td>\n",
       "      <td>-0.143054</td>\n",
       "      <td>2.578147</td>\n",
       "      <td>2.058264</td>\n",
       "      <td>2.348121</td>\n",
       "      <td>0.684904</td>\n",
       "      <td>1.412197</td>\n",
       "      <td>0.915625</td>\n",
       "    </tr>\n",
       "    <tr>\n",
       "      <th>14</th>\n",
       "      <td>0.360441</td>\n",
       "      <td>-0.303924</td>\n",
       "      <td>0.248520</td>\n",
       "      <td>0.083990</td>\n",
       "      <td>-0.246797</td>\n",
       "      <td>-0.453403</td>\n",
       "      <td>0.992247</td>\n",
       "      <td>1.241876</td>\n",
       "      <td>1.735606</td>\n",
       "      <td>0.417064</td>\n",
       "      <td>0.545656</td>\n",
       "      <td>0.751754</td>\n",
       "    </tr>\n",
       "    <tr>\n",
       "      <th>15</th>\n",
       "      <td>0.259229</td>\n",
       "      <td>-0.118446</td>\n",
       "      <td>-0.035600</td>\n",
       "      <td>0.044112</td>\n",
       "      <td>0.082508</td>\n",
       "      <td>0.011077</td>\n",
       "      <td>1.552187</td>\n",
       "      <td>1.667120</td>\n",
       "      <td>1.584883</td>\n",
       "      <td>0.594896</td>\n",
       "      <td>0.878433</td>\n",
       "      <td>0.399375</td>\n",
       "    </tr>\n",
       "    <tr>\n",
       "      <th>16</th>\n",
       "      <td>0.067320</td>\n",
       "      <td>0.044154</td>\n",
       "      <td>-0.036998</td>\n",
       "      <td>-0.154872</td>\n",
       "      <td>-0.402652</td>\n",
       "      <td>-0.099489</td>\n",
       "      <td>1.943302</td>\n",
       "      <td>1.865142</td>\n",
       "      <td>2.011893</td>\n",
       "      <td>0.827980</td>\n",
       "      <td>1.165255</td>\n",
       "      <td>0.621540</td>\n",
       "    </tr>\n",
       "    <tr>\n",
       "      <th>17</th>\n",
       "      <td>0.207348</td>\n",
       "      <td>-0.123532</td>\n",
       "      <td>0.306170</td>\n",
       "      <td>-0.000423</td>\n",
       "      <td>-0.048408</td>\n",
       "      <td>-0.187653</td>\n",
       "      <td>2.168070</td>\n",
       "      <td>2.152995</td>\n",
       "      <td>2.122849</td>\n",
       "      <td>0.694279</td>\n",
       "      <td>1.073700</td>\n",
       "      <td>0.763617</td>\n",
       "    </tr>\n",
       "    <tr>\n",
       "      <th>18</th>\n",
       "      <td>0.021361</td>\n",
       "      <td>-0.492503</td>\n",
       "      <td>0.570440</td>\n",
       "      <td>0.071714</td>\n",
       "      <td>-0.301920</td>\n",
       "      <td>-0.190636</td>\n",
       "      <td>3.124307</td>\n",
       "      <td>2.209691</td>\n",
       "      <td>3.624159</td>\n",
       "      <td>1.053957</td>\n",
       "      <td>1.482005</td>\n",
       "      <td>0.926813</td>\n",
       "    </tr>\n",
       "  </tbody>\n",
       "</table>\n",
       "</div>"
      ],
      "text/plain": [
       "    mean_LA(x)  mean_LA(y)  mean_LA(z)  mean_GY(x)  mean_GY(y)  mean_GY(z)  \\\n",
       "0     0.328296   -0.648805    0.703658    0.181158   -0.401560   -0.199473   \n",
       "1     0.238569   -0.188584    0.522236   -0.014429   -0.415608   -0.127227   \n",
       "2     0.400480   -0.583705   -0.565326    0.145026   -0.508438    0.105409   \n",
       "3     0.302428   -0.454693    0.876858   -0.002075    0.048715   -0.186628   \n",
       "4    -0.137318   -0.694075    0.561552    0.390665   -0.256937    0.107823   \n",
       "5     0.089535   -0.634762    0.430735    0.048057    0.103959   -0.103987   \n",
       "6     0.141473    0.058188    0.351559   -0.017778   -0.101517   -0.075924   \n",
       "7     0.100317   -0.638231    0.779516    0.069368   -0.301781   -0.206177   \n",
       "8     0.131254   -0.207766    0.489331    0.236496   -0.268571   -0.108303   \n",
       "9     0.161885   -0.225731    0.552650    0.176507   -0.308907   -0.157284   \n",
       "10    0.211522    0.046809    0.433300   -0.059075   -0.145953   -0.056760   \n",
       "11    0.416585   -0.374331    0.574468    0.035432   -0.212118   -0.171672   \n",
       "12    0.195304   -0.263071   -0.280091    0.008021    0.181732    0.051776   \n",
       "13    0.106776   -0.202852    0.336103    0.009316   -0.033247   -0.143054   \n",
       "14    0.360441   -0.303924    0.248520    0.083990   -0.246797   -0.453403   \n",
       "15    0.259229   -0.118446   -0.035600    0.044112    0.082508    0.011077   \n",
       "16    0.067320    0.044154   -0.036998   -0.154872   -0.402652   -0.099489   \n",
       "17    0.207348   -0.123532    0.306170   -0.000423   -0.048408   -0.187653   \n",
       "18    0.021361   -0.492503    0.570440    0.071714   -0.301920   -0.190636   \n",
       "\n",
       "    sd_LA(x)  sd_LA(y)  sd_LA(z)  sd_GY(x)  sd_GY(y)  sd_GY(z)  \n",
       "0   4.361346  2.928663  4.544553  1.204835  1.722194  0.996614  \n",
       "1   1.840254  1.965744  1.754135  0.623276  1.262022  0.786566  \n",
       "2   4.004121  3.902011  4.666506  1.306076  1.446163  1.081577  \n",
       "3   3.387821  2.740689  3.690213  1.031524  1.844206  0.845006  \n",
       "4   2.062976  1.781961  1.514323  0.817931  0.756671  0.748877  \n",
       "5   5.008167  3.237824  3.852864  1.072739  1.567254  1.001543  \n",
       "6   1.361534  1.601349  1.418464  0.522863  1.076395  0.622166  \n",
       "7   3.932625  3.129562  3.822440  1.119848  1.312378  1.110598  \n",
       "8   1.822300  1.820857  1.867853  0.744089  1.219914  0.872819  \n",
       "9   2.380718  2.357542  2.020036  0.785773  1.180408  0.798752  \n",
       "10  1.297909  2.690857  1.885415  1.078312  1.057560  0.529188  \n",
       "11  2.324888  2.903903  2.792157  1.015387  1.339296  0.652131  \n",
       "12  2.462941  2.312879  3.417976  1.111976  1.285494  0.471341  \n",
       "13  2.578147  2.058264  2.348121  0.684904  1.412197  0.915625  \n",
       "14  0.992247  1.241876  1.735606  0.417064  0.545656  0.751754  \n",
       "15  1.552187  1.667120  1.584883  0.594896  0.878433  0.399375  \n",
       "16  1.943302  1.865142  2.011893  0.827980  1.165255  0.621540  \n",
       "17  2.168070  2.152995  2.122849  0.694279  1.073700  0.763617  \n",
       "18  3.124307  2.209691  3.624159  1.053957  1.482005  0.926813  "
      ]
     },
     "execution_count": 29,
     "metadata": {},
     "output_type": "execute_result"
    }
   ],
   "source": [
    "train_dataset"
   ]
  },
  {
   "cell_type": "code",
   "execution_count": null,
   "id": "0e86dc07",
   "metadata": {},
   "outputs": [],
   "source": [
    "print(\"Display NA values in each columns: \")\n",
    "all_ds.isna().sum(axis=0)"
   ]
  },
  {
   "cell_type": "code",
   "execution_count": null,
   "id": "c706f7ea",
   "metadata": {},
   "outputs": [],
   "source": [
    "# Statistics on the train dataset to make sure it is in a good shape. (you may display the same stat for test and validate)\n",
    "train_stats = train_dataset.describe()\n",
    "train_stats = train_stats.transpose()\n",
    "train_stats"
   ]
  },
  {
   "cell_type": "code",
   "execution_count": null,
   "id": "20b27dc3",
   "metadata": {},
   "outputs": [],
   "source": [
    "# Plot the relationship between each two variables to spot anything incorrect.\n",
    "train_stats = train_dataset.describe()\n",
    "sns.pairplot(train_stats[train_stats.columns], diag_kind=\"kde\") # or diag_kind='reg'"
   ]
  },
  {
   "cell_type": "code",
   "execution_count": null,
   "id": "c542a9d9",
   "metadata": {},
   "outputs": [],
   "source": [
    "train_dataset"
   ]
  },
  {
   "cell_type": "code",
   "execution_count": 34,
   "id": "9f2076b8",
   "metadata": {},
   "outputs": [],
   "source": [
    "normed_train_data=train_dataset.copy()\n",
    "normed_test_data= test_dataset.copy()\n",
    "normed_valid_dataset=valid_dataset.copy()\n",
    "\n",
    "\n",
    "#Create a svm Classifier\n",
    "model = svm.SVC(C = 5, # reg paramater\n",
    "                kernel='poly', #kernel{‘linear’, ‘poly’, ‘rbf’, ‘sigmoid’, ‘precomputed’}, default=’rbf’\n",
    "               ) # Linear Kernel\n",
    "\n",
    "#Train the model using the training sets\n",
    "model.fit(normed_train_data, train_labels)\n",
    "\n",
    "#Predict the response for test dataset\n",
    "y_pred = model.predict(normed_test_data)"
   ]
  },
  {
   "cell_type": "code",
   "execution_count": 35,
   "id": "38b9f779",
   "metadata": {},
   "outputs": [
    {
     "name": "stdout",
     "output_type": "stream",
     "text": [
      "predicted values: \n"
     ]
    },
    {
     "data": {
      "text/plain": [
       "array([10,  0, 11, 11,  3, 10])"
      ]
     },
     "execution_count": 35,
     "metadata": {},
     "output_type": "execute_result"
    }
   ],
   "source": [
    "example_batch = normed_test_data[:10]\n",
    "example_result = model.predict(example_batch)\n",
    "print('predicted values: ')\n",
    "example_result"
   ]
  },
  {
   "cell_type": "code",
   "execution_count": 36,
   "id": "2faad012",
   "metadata": {},
   "outputs": [
    {
     "name": "stdout",
     "output_type": "stream",
     "text": [
      "Accuracy: 1.0\n"
     ]
    }
   ],
   "source": [
    "from sklearn import metrics\n",
    "y_pred = model.predict(normed_train_data)\n",
    "print(\"Accuracy:\",metrics.accuracy_score(train_labels, y_pred))"
   ]
  },
  {
   "cell_type": "code",
   "execution_count": 37,
   "id": "f9919768",
   "metadata": {},
   "outputs": [
    {
     "name": "stdout",
     "output_type": "stream",
     "text": [
      "Accuracy: 0.0\n"
     ]
    }
   ],
   "source": [
    "y_pred = model.predict(normed_valid_dataset)\n",
    "print(\"Accuracy:\",metrics.accuracy_score(valid_labels, y_pred))"
   ]
  },
  {
   "cell_type": "code",
   "execution_count": null,
   "id": "16a58573",
   "metadata": {},
   "outputs": [],
   "source": []
  }
 ],
 "metadata": {
  "kernelspec": {
   "display_name": "Python 3 (ipykernel)",
   "language": "python",
   "name": "python3"
  },
  "language_info": {
   "codemirror_mode": {
    "name": "ipython",
    "version": 3
   },
   "file_extension": ".py",
   "mimetype": "text/x-python",
   "name": "python",
   "nbconvert_exporter": "python",
   "pygments_lexer": "ipython3",
   "version": "3.10.9"
  }
 },
 "nbformat": 4,
 "nbformat_minor": 5
}
