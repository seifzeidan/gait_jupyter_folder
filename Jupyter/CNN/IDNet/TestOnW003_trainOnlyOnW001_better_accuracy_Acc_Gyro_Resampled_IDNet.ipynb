{
 "cells": [
  {
   "cell_type": "code",
   "execution_count": 1,
   "id": "44faa98a",
   "metadata": {},
   "outputs": [
    {
     "name": "stdout",
     "output_type": "stream",
     "text": [
      "2.12.0\n"
     ]
    }
   ],
   "source": [
    "import tensorflow as tf\n",
    "from tensorflow.keras import Sequential\n",
    "from tensorflow.keras.layers import Flatten, Dense, Dropout, BatchNormalization\n",
    "from tensorflow.keras.layers import Conv2D, MaxPooling2D\n",
    "from tensorflow.keras.optimizers import Adam\n",
    "print(tf.__version__)"
   ]
  },
  {
   "cell_type": "code",
   "execution_count": 2,
   "id": "1c3f367f",
   "metadata": {},
   "outputs": [],
   "source": [
    "import pandas as pd\n",
    "import numpy as np\n",
    "import os\n",
    "import math\n",
    "import matplotlib.pyplot as plt\n",
    "from sklearn.model_selection import train_test_split\n",
    "from sklearn.preprocessing import StandardScaler, LabelEncoder"
   ]
  },
  {
   "cell_type": "code",
   "execution_count": 3,
   "id": "9e899298",
   "metadata": {},
   "outputs": [],
   "source": [
    "# filepath = \"merged_u1-50_w001_resampled.csv\"\n",
    "filepath = \"D:/online dataset csv files preprocessing/merged_u1-50_w001_resampled.csv\"\n",
    "\n",
    "df_original = pd.read_csv(filepath)"
   ]
  },
  {
   "cell_type": "code",
   "execution_count": 4,
   "id": "bcd5954e",
   "metadata": {},
   "outputs": [
    {
     "data": {
      "text/html": [
       "<div>\n",
       "<style scoped>\n",
       "    .dataframe tbody tr th:only-of-type {\n",
       "        vertical-align: middle;\n",
       "    }\n",
       "\n",
       "    .dataframe tbody tr th {\n",
       "        vertical-align: top;\n",
       "    }\n",
       "\n",
       "    .dataframe thead th {\n",
       "        text-align: right;\n",
       "    }\n",
       "</style>\n",
       "<table border=\"1\" class=\"dataframe\">\n",
       "  <thead>\n",
       "    <tr style=\"text-align: right;\">\n",
       "      <th></th>\n",
       "      <th>timestamp</th>\n",
       "      <th>LAx</th>\n",
       "      <th>LAy</th>\n",
       "      <th>LAz</th>\n",
       "      <th>GYx</th>\n",
       "      <th>GYy</th>\n",
       "      <th>GYz</th>\n",
       "      <th>name</th>\n",
       "    </tr>\n",
       "  </thead>\n",
       "  <tbody>\n",
       "    <tr>\n",
       "      <th>0</th>\n",
       "      <td>924313410000000</td>\n",
       "      <td>1.242813</td>\n",
       "      <td>-0.160181</td>\n",
       "      <td>-0.900440</td>\n",
       "      <td>0.194931</td>\n",
       "      <td>-0.004242</td>\n",
       "      <td>0.163818</td>\n",
       "      <td>1</td>\n",
       "    </tr>\n",
       "    <tr>\n",
       "      <th>1</th>\n",
       "      <td>924313420000000</td>\n",
       "      <td>1.117246</td>\n",
       "      <td>-0.187921</td>\n",
       "      <td>-1.529893</td>\n",
       "      <td>0.236458</td>\n",
       "      <td>0.076378</td>\n",
       "      <td>0.133293</td>\n",
       "      <td>1</td>\n",
       "    </tr>\n",
       "    <tr>\n",
       "      <th>2</th>\n",
       "      <td>924313430000000</td>\n",
       "      <td>0.912846</td>\n",
       "      <td>-0.192566</td>\n",
       "      <td>-1.570929</td>\n",
       "      <td>0.226074</td>\n",
       "      <td>0.012253</td>\n",
       "      <td>0.108246</td>\n",
       "      <td>1</td>\n",
       "    </tr>\n",
       "    <tr>\n",
       "      <th>3</th>\n",
       "      <td>924313440000000</td>\n",
       "      <td>0.874858</td>\n",
       "      <td>-0.227208</td>\n",
       "      <td>-1.453511</td>\n",
       "      <td>0.139336</td>\n",
       "      <td>-0.050667</td>\n",
       "      <td>0.085030</td>\n",
       "      <td>1</td>\n",
       "    </tr>\n",
       "    <tr>\n",
       "      <th>4</th>\n",
       "      <td>924313450000000</td>\n",
       "      <td>0.834022</td>\n",
       "      <td>-0.282976</td>\n",
       "      <td>-1.292671</td>\n",
       "      <td>-0.013374</td>\n",
       "      <td>-0.109314</td>\n",
       "      <td>0.078308</td>\n",
       "      <td>1</td>\n",
       "    </tr>\n",
       "    <tr>\n",
       "      <th>...</th>\n",
       "      <td>...</td>\n",
       "      <td>...</td>\n",
       "      <td>...</td>\n",
       "      <td>...</td>\n",
       "      <td>...</td>\n",
       "      <td>...</td>\n",
       "      <td>...</td>\n",
       "      <td>...</td>\n",
       "    </tr>\n",
       "    <tr>\n",
       "      <th>2055043</th>\n",
       "      <td>1368327120000000</td>\n",
       "      <td>-9.502644</td>\n",
       "      <td>-7.178468</td>\n",
       "      <td>4.246279</td>\n",
       "      <td>-2.834417</td>\n",
       "      <td>-0.120428</td>\n",
       "      <td>-0.987857</td>\n",
       "      <td>50</td>\n",
       "    </tr>\n",
       "    <tr>\n",
       "      <th>2055044</th>\n",
       "      <td>1368327130000000</td>\n",
       "      <td>-9.443804</td>\n",
       "      <td>-7.698220</td>\n",
       "      <td>3.059675</td>\n",
       "      <td>-2.638940</td>\n",
       "      <td>0.561997</td>\n",
       "      <td>-0.947715</td>\n",
       "      <td>50</td>\n",
       "    </tr>\n",
       "    <tr>\n",
       "      <th>2055045</th>\n",
       "      <td>1368327140000000</td>\n",
       "      <td>-8.345459</td>\n",
       "      <td>-6.805815</td>\n",
       "      <td>1.853457</td>\n",
       "      <td>-2.483606</td>\n",
       "      <td>1.225222</td>\n",
       "      <td>-0.954696</td>\n",
       "      <td>50</td>\n",
       "    </tr>\n",
       "    <tr>\n",
       "      <th>2055046</th>\n",
       "      <td>1368327150000000</td>\n",
       "      <td>-7.580540</td>\n",
       "      <td>-5.629017</td>\n",
       "      <td>1.559257</td>\n",
       "      <td>-2.429500</td>\n",
       "      <td>1.769765</td>\n",
       "      <td>-1.003565</td>\n",
       "      <td>50</td>\n",
       "    </tr>\n",
       "    <tr>\n",
       "      <th>2055047</th>\n",
       "      <td>1368327160000000</td>\n",
       "      <td>-6.952915</td>\n",
       "      <td>-4.589512</td>\n",
       "      <td>1.755390</td>\n",
       "      <td>-2.426010</td>\n",
       "      <td>2.099633</td>\n",
       "      <td>-0.980876</td>\n",
       "      <td>50</td>\n",
       "    </tr>\n",
       "  </tbody>\n",
       "</table>\n",
       "<p>2055048 rows × 8 columns</p>\n",
       "</div>"
      ],
      "text/plain": [
       "                timestamp       LAx       LAy       LAz       GYx       GYy  \\\n",
       "0         924313410000000  1.242813 -0.160181 -0.900440  0.194931 -0.004242   \n",
       "1         924313420000000  1.117246 -0.187921 -1.529893  0.236458  0.076378   \n",
       "2         924313430000000  0.912846 -0.192566 -1.570929  0.226074  0.012253   \n",
       "3         924313440000000  0.874858 -0.227208 -1.453511  0.139336 -0.050667   \n",
       "4         924313450000000  0.834022 -0.282976 -1.292671 -0.013374 -0.109314   \n",
       "...                   ...       ...       ...       ...       ...       ...   \n",
       "2055043  1368327120000000 -9.502644 -7.178468  4.246279 -2.834417 -0.120428   \n",
       "2055044  1368327130000000 -9.443804 -7.698220  3.059675 -2.638940  0.561997   \n",
       "2055045  1368327140000000 -8.345459 -6.805815  1.853457 -2.483606  1.225222   \n",
       "2055046  1368327150000000 -7.580540 -5.629017  1.559257 -2.429500  1.769765   \n",
       "2055047  1368327160000000 -6.952915 -4.589512  1.755390 -2.426010  2.099633   \n",
       "\n",
       "              GYz  name  \n",
       "0        0.163818     1  \n",
       "1        0.133293     1  \n",
       "2        0.108246     1  \n",
       "3        0.085030     1  \n",
       "4        0.078308     1  \n",
       "...           ...   ...  \n",
       "2055043 -0.987857    50  \n",
       "2055044 -0.947715    50  \n",
       "2055045 -0.954696    50  \n",
       "2055046 -1.003565    50  \n",
       "2055047 -0.980876    50  \n",
       "\n",
       "[2055048 rows x 8 columns]"
      ]
     },
     "execution_count": 4,
     "metadata": {},
     "output_type": "execute_result"
    }
   ],
   "source": [
    "df_original"
   ]
  },
  {
   "cell_type": "code",
   "execution_count": 5,
   "id": "44374d55",
   "metadata": {},
   "outputs": [
    {
     "data": {
      "text/plain": [
       "timestamp    0\n",
       "LAx          0\n",
       "LAy          0\n",
       "LAz          0\n",
       "GYx          0\n",
       "GYy          0\n",
       "GYz          0\n",
       "name         0\n",
       "dtype: int64"
      ]
     },
     "execution_count": 5,
     "metadata": {},
     "output_type": "execute_result"
    }
   ],
   "source": [
    "df_original.isnull().sum()"
   ]
  },
  {
   "cell_type": "code",
   "execution_count": 6,
   "id": "eda07b86",
   "metadata": {},
   "outputs": [
    {
     "name": "stdout",
     "output_type": "stream",
     "text": [
      "<class 'pandas.core.frame.DataFrame'>\n",
      "RangeIndex: 2055048 entries, 0 to 2055047\n",
      "Data columns (total 8 columns):\n",
      " #   Column     Dtype  \n",
      "---  ------     -----  \n",
      " 0   timestamp  int64  \n",
      " 1   LAx        float64\n",
      " 2   LAy        float64\n",
      " 3   LAz        float64\n",
      " 4   GYx        float64\n",
      " 5   GYy        float64\n",
      " 6   GYz        float64\n",
      " 7   name       int64  \n",
      "dtypes: float64(6), int64(2)\n",
      "memory usage: 125.4 MB\n"
     ]
    }
   ],
   "source": [
    "df_original.info()"
   ]
  },
  {
   "cell_type": "code",
   "execution_count": 7,
   "id": "54b2a1e4",
   "metadata": {},
   "outputs": [
    {
     "data": {
      "text/plain": [
       "18    82714\n",
       "47    65984\n",
       "29    60052\n",
       "8     60036\n",
       "6     60005\n",
       "9     59986\n",
       "13    59984\n",
       "41    59984\n",
       "39    59958\n",
       "3     59958\n",
       "37    55050\n",
       "32    52339\n",
       "12    51686\n",
       "2     48001\n",
       "7     47947\n",
       "11    47946\n",
       "34    47824\n",
       "49    47614\n",
       "42    41946\n",
       "19    41946\n",
       "40    41946\n",
       "35    41945\n",
       "33    41945\n",
       "27    41535\n",
       "30    40959\n",
       "24    35980\n",
       "16    35974\n",
       "20    35948\n",
       "28    35947\n",
       "31    35947\n",
       "4     35946\n",
       "23    34545\n",
       "38    32186\n",
       "44    31414\n",
       "43    30100\n",
       "17    29997\n",
       "48    29990\n",
       "50    29988\n",
       "14    29950\n",
       "46    29945\n",
       "10    28892\n",
       "1     26790\n",
       "45    26022\n",
       "25    25926\n",
       "5     25792\n",
       "22    25598\n",
       "36    25173\n",
       "26    23949\n",
       "15    17985\n",
       "21    15774\n",
       "Name: name, dtype: int64"
      ]
     },
     "execution_count": 7,
     "metadata": {},
     "output_type": "execute_result"
    }
   ],
   "source": [
    "df_original['name'].value_counts()"
   ]
  },
  {
   "cell_type": "code",
   "execution_count": 8,
   "id": "bdac5aae",
   "metadata": {},
   "outputs": [
    {
     "data": {
      "text/plain": [
       "(2055048, 7)"
      ]
     },
     "execution_count": 8,
     "metadata": {},
     "output_type": "execute_result"
    }
   ],
   "source": [
    "df_Xtime = df_original.copy()\n",
    "df_Xtime = df_Xtime.drop(['timestamp'], axis = 1).copy()\n",
    "df_Xtime.shape"
   ]
  },
  {
   "cell_type": "code",
   "execution_count": 9,
   "id": "10931f68",
   "metadata": {},
   "outputs": [],
   "source": [
    "X = df_Xtime[['LAx', 'LAy', 'LAz','GYx', 'GYy', 'GYz']].copy()\n",
    "y = df_Xtime['name'].copy()"
   ]
  },
  {
   "cell_type": "code",
   "execution_count": 10,
   "id": "a22de21d",
   "metadata": {},
   "outputs": [
    {
     "data": {
      "text/html": [
       "<div>\n",
       "<style scoped>\n",
       "    .dataframe tbody tr th:only-of-type {\n",
       "        vertical-align: middle;\n",
       "    }\n",
       "\n",
       "    .dataframe tbody tr th {\n",
       "        vertical-align: top;\n",
       "    }\n",
       "\n",
       "    .dataframe thead th {\n",
       "        text-align: right;\n",
       "    }\n",
       "</style>\n",
       "<table border=\"1\" class=\"dataframe\">\n",
       "  <thead>\n",
       "    <tr style=\"text-align: right;\">\n",
       "      <th></th>\n",
       "      <th>LAx</th>\n",
       "      <th>LAy</th>\n",
       "      <th>LAz</th>\n",
       "      <th>GYx</th>\n",
       "      <th>GYy</th>\n",
       "      <th>GYz</th>\n",
       "      <th>label</th>\n",
       "    </tr>\n",
       "  </thead>\n",
       "  <tbody>\n",
       "    <tr>\n",
       "      <th>0</th>\n",
       "      <td>0.359745</td>\n",
       "      <td>-0.067021</td>\n",
       "      <td>-0.237446</td>\n",
       "      <td>0.105221</td>\n",
       "      <td>0.035341</td>\n",
       "      <td>0.175545</td>\n",
       "      <td>1</td>\n",
       "    </tr>\n",
       "    <tr>\n",
       "      <th>1</th>\n",
       "      <td>0.322625</td>\n",
       "      <td>-0.073783</td>\n",
       "      <td>-0.418039</td>\n",
       "      <td>0.133911</td>\n",
       "      <td>0.092852</td>\n",
       "      <td>0.143484</td>\n",
       "      <td>1</td>\n",
       "    </tr>\n",
       "    <tr>\n",
       "      <th>2</th>\n",
       "      <td>0.262201</td>\n",
       "      <td>-0.074915</td>\n",
       "      <td>-0.429812</td>\n",
       "      <td>0.126737</td>\n",
       "      <td>0.047108</td>\n",
       "      <td>0.117177</td>\n",
       "      <td>1</td>\n",
       "    </tr>\n",
       "    <tr>\n",
       "      <th>3</th>\n",
       "      <td>0.250972</td>\n",
       "      <td>-0.083358</td>\n",
       "      <td>-0.396125</td>\n",
       "      <td>0.066811</td>\n",
       "      <td>0.002223</td>\n",
       "      <td>0.092793</td>\n",
       "      <td>1</td>\n",
       "    </tr>\n",
       "    <tr>\n",
       "      <th>4</th>\n",
       "      <td>0.238900</td>\n",
       "      <td>-0.096951</td>\n",
       "      <td>-0.349979</td>\n",
       "      <td>-0.038693</td>\n",
       "      <td>-0.039614</td>\n",
       "      <td>0.085733</td>\n",
       "      <td>1</td>\n",
       "    </tr>\n",
       "    <tr>\n",
       "      <th>...</th>\n",
       "      <td>...</td>\n",
       "      <td>...</td>\n",
       "      <td>...</td>\n",
       "      <td>...</td>\n",
       "      <td>...</td>\n",
       "      <td>...</td>\n",
       "      <td>...</td>\n",
       "    </tr>\n",
       "    <tr>\n",
       "      <th>2055043</th>\n",
       "      <td>-2.816791</td>\n",
       "      <td>-1.777656</td>\n",
       "      <td>1.239172</td>\n",
       "      <td>-1.987696</td>\n",
       "      <td>-0.047543</td>\n",
       "      <td>-1.034070</td>\n",
       "      <td>50</td>\n",
       "    </tr>\n",
       "    <tr>\n",
       "      <th>2055044</th>\n",
       "      <td>-2.799397</td>\n",
       "      <td>-1.904341</td>\n",
       "      <td>0.898730</td>\n",
       "      <td>-1.852644</td>\n",
       "      <td>0.439278</td>\n",
       "      <td>-0.991908</td>\n",
       "      <td>50</td>\n",
       "    </tr>\n",
       "    <tr>\n",
       "      <th>2055045</th>\n",
       "      <td>-2.474708</td>\n",
       "      <td>-1.686826</td>\n",
       "      <td>0.552660</td>\n",
       "      <td>-1.745327</td>\n",
       "      <td>0.912402</td>\n",
       "      <td>-0.999240</td>\n",
       "      <td>50</td>\n",
       "    </tr>\n",
       "    <tr>\n",
       "      <th>2055046</th>\n",
       "      <td>-2.248585</td>\n",
       "      <td>-1.399994</td>\n",
       "      <td>0.468253</td>\n",
       "      <td>-1.707947</td>\n",
       "      <td>1.300863</td>\n",
       "      <td>-1.050568</td>\n",
       "      <td>50</td>\n",
       "    </tr>\n",
       "    <tr>\n",
       "      <th>2055047</th>\n",
       "      <td>-2.063049</td>\n",
       "      <td>-1.146625</td>\n",
       "      <td>0.524524</td>\n",
       "      <td>-1.705535</td>\n",
       "      <td>1.536180</td>\n",
       "      <td>-1.026737</td>\n",
       "      <td>50</td>\n",
       "    </tr>\n",
       "  </tbody>\n",
       "</table>\n",
       "<p>2055048 rows × 7 columns</p>\n",
       "</div>"
      ],
      "text/plain": [
       "              LAx       LAy       LAz       GYx       GYy       GYz  label\n",
       "0        0.359745 -0.067021 -0.237446  0.105221  0.035341  0.175545      1\n",
       "1        0.322625 -0.073783 -0.418039  0.133911  0.092852  0.143484      1\n",
       "2        0.262201 -0.074915 -0.429812  0.126737  0.047108  0.117177      1\n",
       "3        0.250972 -0.083358 -0.396125  0.066811  0.002223  0.092793      1\n",
       "4        0.238900 -0.096951 -0.349979 -0.038693 -0.039614  0.085733      1\n",
       "...           ...       ...       ...       ...       ...       ...    ...\n",
       "2055043 -2.816791 -1.777656  1.239172 -1.987696 -0.047543 -1.034070     50\n",
       "2055044 -2.799397 -1.904341  0.898730 -1.852644  0.439278 -0.991908     50\n",
       "2055045 -2.474708 -1.686826  0.552660 -1.745327  0.912402 -0.999240     50\n",
       "2055046 -2.248585 -1.399994  0.468253 -1.707947  1.300863 -1.050568     50\n",
       "2055047 -2.063049 -1.146625  0.524524 -1.705535  1.536180 -1.026737     50\n",
       "\n",
       "[2055048 rows x 7 columns]"
      ]
     },
     "execution_count": 10,
     "metadata": {},
     "output_type": "execute_result"
    }
   ],
   "source": [
    "scaler = StandardScaler()\n",
    "X_transformed = X.copy()\n",
    "X_transformed = scaler.fit_transform(X_transformed)\n",
    "\n",
    "scaled_X = pd.DataFrame(data = X_transformed, columns = ['LAx', 'LAy', 'LAz','GYx', 'GYy', 'GYz'])\n",
    "scaled_X['label'] = y.values\n",
    "\n",
    "scaled_X"
   ]
  },
  {
   "cell_type": "code",
   "execution_count": 11,
   "id": "019df13a",
   "metadata": {},
   "outputs": [],
   "source": [
    "import scipy.stats as stats\n",
    "\n",
    "Fs = 100\n",
    "frame_size = Fs*6 \n",
    "hop_size = Fs*6"
   ]
  },
  {
   "cell_type": "code",
   "execution_count": 12,
   "id": "4cb22659",
   "metadata": {},
   "outputs": [],
   "source": [
    "def get_frames(df, frame_size, hop_size):\n",
    "    N_FEATURES = 6\n",
    "\n",
    "    frames = []\n",
    "    labels = []\n",
    "    \n",
    "    last_value = df['label'].iloc[-1]\n",
    "    for j in range (0,last_value+1): \n",
    "        filtered_df = df[df['label'] == j]\n",
    "        filtered_df = filtered_df.drop('label', axis = 1)\n",
    "        for i in range(0, len(filtered_df) - frame_size, hop_size):\n",
    "            LAx = filtered_df['LAx'].values[i: i + frame_size]\n",
    "            LAy = filtered_df['LAy'].values[i: i + frame_size]\n",
    "            LAz = filtered_df['LAz'].values[i: i + frame_size]\n",
    "            GYx = filtered_df['GYx'].values[i: i + frame_size]\n",
    "            GYy = filtered_df['GYy'].values[i: i + frame_size]\n",
    "            GYz = filtered_df['GYz'].values[i: i + frame_size]\n",
    "            \n",
    "\n",
    "            label = j\n",
    "\n",
    "            frames.append([LAx, LAy, LAz, GYx, GYy , GYz])\n",
    "            labels.append(label)\n",
    "\n",
    "    frames = np.asarray(frames).reshape(-1, frame_size, N_FEATURES)\n",
    "    labels = np.asarray(labels)\n",
    "    \n",
    "    return frames, labels"
   ]
  },
  {
   "cell_type": "code",
   "execution_count": 13,
   "id": "2f413414",
   "metadata": {},
   "outputs": [
    {
     "data": {
      "text/plain": [
       "((3391, 600, 6), (3391,))"
      ]
     },
     "execution_count": 13,
     "metadata": {},
     "output_type": "execute_result"
    }
   ],
   "source": [
    "X, y = get_frames(scaled_X,frame_size, hop_size)\n",
    "X.shape, y.shape"
   ]
  },
  {
   "cell_type": "code",
   "execution_count": 14,
   "id": "108951c0",
   "metadata": {},
   "outputs": [
    {
     "data": {
      "text/plain": [
       "((2135, 600, 6), (1018, 600, 6), (238, 600, 6))"
      ]
     },
     "execution_count": 14,
     "metadata": {},
     "output_type": "execute_result"
    }
   ],
   "source": [
    "X_train_val, X_test, y_train_val, y_test = train_test_split(X, y, test_size = 0.3, random_state = 0, stratify = y)\n",
    "\n",
    "X_train, X_validation, y_train, y_validation = train_test_split(X_train_val, y_train_val, test_size = 0.1, random_state = 0, stratify = y_train_val)\n",
    "X_train.shape, X_test.shape, X_validation.shape"
   ]
  },
  {
   "cell_type": "code",
   "execution_count": 15,
   "id": "6a5c082c",
   "metadata": {},
   "outputs": [
    {
     "data": {
      "text/plain": [
       "((600, 6), (600, 6))"
      ]
     },
     "execution_count": 15,
     "metadata": {},
     "output_type": "execute_result"
    }
   ],
   "source": [
    "X_train[0].shape, X_test[0].shape"
   ]
  },
  {
   "cell_type": "code",
   "execution_count": 16,
   "id": "fbd0e7be",
   "metadata": {},
   "outputs": [
    {
     "data": {
      "text/plain": [
       "((600, 6, 1), (600, 6, 1), (600, 6, 1))"
      ]
     },
     "execution_count": 16,
     "metadata": {},
     "output_type": "execute_result"
    }
   ],
   "source": [
    "train_shape_0 = X_train.shape[0]\n",
    "test_shape_0 = X_test.shape[0]\n",
    "\n",
    "train_shape_1 = X_train.shape[1]\n",
    "test_shape_1 = X_test.shape[1]\n",
    "\n",
    "validation_shape_0 = X_validation.shape[0]\n",
    "validation_shape_1 = X_validation.shape[1]\n",
    "\n",
    "\n",
    "X_train = X_train.reshape(train_shape_0, train_shape_1, 6, 1)\n",
    "X_test = X_test.reshape(test_shape_0, test_shape_1, 6, 1)\n",
    "X_validation = X_validation.reshape(validation_shape_0, validation_shape_1, 6, 1)\n",
    "\n",
    "\n",
    "\n",
    "X_train[0].shape, X_test[0].shape, X_validation[0].shape"
   ]
  },
  {
   "cell_type": "code",
   "execution_count": 17,
   "id": "51c0e384",
   "metadata": {},
   "outputs": [
    {
     "data": {
      "text/plain": [
       "50"
      ]
     },
     "execution_count": 17,
     "metadata": {},
     "output_type": "execute_result"
    }
   ],
   "source": [
    "num = df_original['name'].iloc[-1]\n",
    "num "
   ]
  },
  {
   "cell_type": "code",
   "execution_count": 18,
   "id": "3cf0350d",
   "metadata": {},
   "outputs": [],
   "source": [
    "# Subtract 1 from each label in y_train\n",
    "y_train = np.array(y_train) - 1\n",
    "y_test = np.array(y_test) - 1\n",
    "y_validation = np.array(y_validation) - 1"
   ]
  },
  {
   "cell_type": "code",
   "execution_count": 19,
   "id": "d1ef3d9f",
   "metadata": {},
   "outputs": [],
   "source": [
    "model = Sequential()\n",
    "model.add(Conv2D(16, (2, 2), activation = 'relu', input_shape = X_train[0].shape))\n",
    "model.add(Dropout(0.1))\n",
    "\n",
    "model.add(Conv2D(32, (2, 2), activation='relu'))\n",
    "model.add(Dropout(0.2))\n",
    "\n",
    "model.add(Flatten())\n",
    "\n",
    "model.add(Dense(64, activation = 'relu'))\n",
    "model.add(Dropout(0.5))\n",
    "\n",
    "model.add(Dense(num, activation='softmax'))"
   ]
  },
  {
   "cell_type": "code",
   "execution_count": 20,
   "id": "d0bd6810",
   "metadata": {},
   "outputs": [
    {
     "name": "stdout",
     "output_type": "stream",
     "text": [
      "Model: \"sequential\"\n",
      "___________________________________________________________________________\n",
      " Layer (type)                    Output Shape                  Param #     \n",
      "===========================================================================\n",
      " conv2d (Conv2D)                 (None, 599, 5, 16)            80          \n",
      "                                                                           \n",
      " dropout (Dropout)               (None, 599, 5, 16)            0           \n",
      "                                                                           \n",
      " conv2d_1 (Conv2D)               (None, 598, 4, 32)            2080        \n",
      "                                                                           \n",
      " dropout_1 (Dropout)             (None, 598, 4, 32)            0           \n",
      "                                                                           \n",
      " flatten (Flatten)               (None, 76544)                 0           \n",
      "                                                                           \n",
      " dense (Dense)                   (None, 64)                    4898880     \n",
      "                                                                           \n",
      " dropout_2 (Dropout)             (None, 64)                    0           \n",
      "                                                                           \n",
      " dense_1 (Dense)                 (None, 50)                    3250        \n",
      "                                                                           \n",
      "===========================================================================\n",
      "Total params: 4,904,290\n",
      "Trainable params: 4,904,290\n",
      "Non-trainable params: 0\n",
      "___________________________________________________________________________\n"
     ]
    }
   ],
   "source": [
    "model.summary(line_length = 75)"
   ]
  },
  {
   "cell_type": "code",
   "execution_count": 21,
   "id": "d4bd648e",
   "metadata": {},
   "outputs": [],
   "source": [
    "model.compile(optimizer=Adam(learning_rate = 0.001), loss=tf.keras.losses.SparseCategoricalCrossentropy(), metrics = ['accuracy'])"
   ]
  },
  {
   "cell_type": "code",
   "execution_count": 22,
   "id": "48a91cb0",
   "metadata": {},
   "outputs": [],
   "source": [
    "early_stopping = tf.keras.callbacks.EarlyStopping(\n",
    "    monitor = 'val_loss',\n",
    "    mode = 'auto',\n",
    "    min_delta = 0,\n",
    "    patience = 2,\n",
    "    verbose = 0,\n",
    "    restore_best_weights = True\n",
    ")"
   ]
  },
  {
   "cell_type": "code",
   "execution_count": 23,
   "id": "319eff8f",
   "metadata": {
    "scrolled": true
   },
   "outputs": [
    {
     "name": "stdout",
     "output_type": "stream",
     "text": [
      "Epoch 1/30\n",
      "67/67 [==============================] - 8s 112ms/step - loss: 3.9574 - accuracy: 0.0403 - val_loss: 3.7754 - val_accuracy: 0.1050\n",
      "Epoch 2/30\n",
      "67/67 [==============================] - 7s 103ms/step - loss: 3.7650 - accuracy: 0.0628 - val_loss: 3.5586 - val_accuracy: 0.1134\n",
      "Epoch 3/30\n",
      "67/67 [==============================] - 7s 103ms/step - loss: 3.6301 - accuracy: 0.0862 - val_loss: 3.4287 - val_accuracy: 0.1345\n",
      "Epoch 4/30\n",
      "67/67 [==============================] - 8s 116ms/step - loss: 3.4525 - accuracy: 0.1021 - val_loss: 3.2385 - val_accuracy: 0.1807\n",
      "Epoch 5/30\n",
      "67/67 [==============================] - 9s 141ms/step - loss: 3.1847 - accuracy: 0.1452 - val_loss: 2.9164 - val_accuracy: 0.2731\n",
      "Epoch 6/30\n",
      "67/67 [==============================] - 8s 121ms/step - loss: 2.9701 - accuracy: 0.1850 - val_loss: 2.4612 - val_accuracy: 0.3866\n",
      "Epoch 7/30\n",
      "67/67 [==============================] - 8s 119ms/step - loss: 2.6605 - accuracy: 0.2407 - val_loss: 2.1502 - val_accuracy: 0.4958\n",
      "Epoch 8/30\n",
      "67/67 [==============================] - 7s 102ms/step - loss: 2.4787 - accuracy: 0.2731 - val_loss: 1.9197 - val_accuracy: 0.5546\n",
      "Epoch 9/30\n",
      "67/67 [==============================] - 7s 103ms/step - loss: 2.2103 - accuracy: 0.3480 - val_loss: 1.6310 - val_accuracy: 0.6092\n",
      "Epoch 10/30\n",
      "67/67 [==============================] - 7s 102ms/step - loss: 2.0341 - accuracy: 0.3719 - val_loss: 1.4081 - val_accuracy: 0.6050\n",
      "Epoch 11/30\n",
      "67/67 [==============================] - 7s 100ms/step - loss: 1.8658 - accuracy: 0.4159 - val_loss: 1.2103 - val_accuracy: 0.6681\n",
      "Epoch 12/30\n",
      "67/67 [==============================] - 7s 101ms/step - loss: 1.7626 - accuracy: 0.4407 - val_loss: 1.1346 - val_accuracy: 0.6765\n",
      "Epoch 13/30\n",
      "67/67 [==============================] - 7s 102ms/step - loss: 1.6422 - accuracy: 0.4773 - val_loss: 1.0312 - val_accuracy: 0.7185\n",
      "Epoch 14/30\n",
      "67/67 [==============================] - 7s 102ms/step - loss: 1.5779 - accuracy: 0.4913 - val_loss: 0.8737 - val_accuracy: 0.7353\n",
      "Epoch 15/30\n",
      "67/67 [==============================] - 7s 104ms/step - loss: 1.5052 - accuracy: 0.5119 - val_loss: 0.8564 - val_accuracy: 0.7311\n",
      "Epoch 16/30\n",
      "67/67 [==============================] - 7s 102ms/step - loss: 1.4566 - accuracy: 0.5185 - val_loss: 0.8364 - val_accuracy: 0.7605\n",
      "Epoch 17/30\n",
      "67/67 [==============================] - 7s 106ms/step - loss: 1.4317 - accuracy: 0.5152 - val_loss: 0.8578 - val_accuracy: 0.7479\n",
      "Epoch 18/30\n",
      "67/67 [==============================] - 7s 105ms/step - loss: 1.3608 - accuracy: 0.5452 - val_loss: 0.8378 - val_accuracy: 0.7731\n"
     ]
    }
   ],
   "source": [
    "history = model.fit(X_train, y_train, epochs = 30,callbacks = [early_stopping], \n",
    "                    validation_data= (X_validation, y_validation), verbose=1)"
   ]
  },
  {
   "cell_type": "code",
   "execution_count": 41,
   "id": "2f0f7151",
   "metadata": {},
   "outputs": [
    {
     "name": "stdout",
     "output_type": "stream",
     "text": [
      "32/32 [==============================] - 0s 12ms/step - loss: 0.9825 - accuracy: 0.7279\n",
      "Test loss:  0.9825. Test accuracy:  72.79%\n"
     ]
    }
   ],
   "source": [
    "test_loss, test_accuracy = model.evaluate(X_test, y_test)\n",
    "print('Test loss: {0: .4f}. Test accuracy: {1: .2f}%'.format(test_loss, test_accuracy*100))"
   ]
  },
  {
   "cell_type": "markdown",
   "id": "55bb337c",
   "metadata": {},
   "source": [
    "# Test on W003 only train W001"
   ]
  },
  {
   "cell_type": "code",
   "execution_count": 25,
   "id": "8194dc62",
   "metadata": {},
   "outputs": [
    {
     "data": {
      "text/html": [
       "<div>\n",
       "<style scoped>\n",
       "    .dataframe tbody tr th:only-of-type {\n",
       "        vertical-align: middle;\n",
       "    }\n",
       "\n",
       "    .dataframe tbody tr th {\n",
       "        vertical-align: top;\n",
       "    }\n",
       "\n",
       "    .dataframe thead th {\n",
       "        text-align: right;\n",
       "    }\n",
       "</style>\n",
       "<table border=\"1\" class=\"dataframe\">\n",
       "  <thead>\n",
       "    <tr style=\"text-align: right;\">\n",
       "      <th></th>\n",
       "      <th>timestamp</th>\n",
       "      <th>LAx</th>\n",
       "      <th>LAy</th>\n",
       "      <th>LAz</th>\n",
       "      <th>GYx</th>\n",
       "      <th>GYy</th>\n",
       "      <th>GYz</th>\n",
       "      <th>name</th>\n",
       "    </tr>\n",
       "  </thead>\n",
       "  <tbody>\n",
       "    <tr>\n",
       "      <th>0</th>\n",
       "      <td>923709910000000</td>\n",
       "      <td>1.897600</td>\n",
       "      <td>-0.948629</td>\n",
       "      <td>0.806025</td>\n",
       "      <td>-0.913564</td>\n",
       "      <td>-0.310084</td>\n",
       "      <td>-0.732483</td>\n",
       "      <td>1</td>\n",
       "    </tr>\n",
       "    <tr>\n",
       "      <th>1</th>\n",
       "      <td>923709920000000</td>\n",
       "      <td>1.822922</td>\n",
       "      <td>-0.512797</td>\n",
       "      <td>0.658468</td>\n",
       "      <td>-0.688972</td>\n",
       "      <td>-0.554016</td>\n",
       "      <td>-0.731674</td>\n",
       "      <td>1</td>\n",
       "    </tr>\n",
       "    <tr>\n",
       "      <th>2</th>\n",
       "      <td>923709930000000</td>\n",
       "      <td>1.571234</td>\n",
       "      <td>0.178020</td>\n",
       "      <td>-0.381536</td>\n",
       "      <td>-0.285202</td>\n",
       "      <td>-0.868012</td>\n",
       "      <td>-0.680359</td>\n",
       "      <td>1</td>\n",
       "    </tr>\n",
       "    <tr>\n",
       "      <th>3</th>\n",
       "      <td>923709940000000</td>\n",
       "      <td>1.347669</td>\n",
       "      <td>0.698209</td>\n",
       "      <td>-1.856026</td>\n",
       "      <td>0.160721</td>\n",
       "      <td>-1.098297</td>\n",
       "      <td>-0.580788</td>\n",
       "      <td>1</td>\n",
       "    </tr>\n",
       "    <tr>\n",
       "      <th>4</th>\n",
       "      <td>923709950000000</td>\n",
       "      <td>1.484009</td>\n",
       "      <td>0.825438</td>\n",
       "      <td>-3.034368</td>\n",
       "      <td>0.557777</td>\n",
       "      <td>-1.373177</td>\n",
       "      <td>-0.456787</td>\n",
       "      <td>1</td>\n",
       "    </tr>\n",
       "    <tr>\n",
       "      <th>...</th>\n",
       "      <td>...</td>\n",
       "      <td>...</td>\n",
       "      <td>...</td>\n",
       "      <td>...</td>\n",
       "      <td>...</td>\n",
       "      <td>...</td>\n",
       "      <td>...</td>\n",
       "      <td>...</td>\n",
       "    </tr>\n",
       "    <tr>\n",
       "      <th>522631</th>\n",
       "      <td>341510670000000</td>\n",
       "      <td>-0.620103</td>\n",
       "      <td>-0.362797</td>\n",
       "      <td>-0.729507</td>\n",
       "      <td>-0.252296</td>\n",
       "      <td>-1.060326</td>\n",
       "      <td>0.087654</td>\n",
       "      <td>46</td>\n",
       "    </tr>\n",
       "    <tr>\n",
       "      <th>522632</th>\n",
       "      <td>341510680000000</td>\n",
       "      <td>-0.670146</td>\n",
       "      <td>-0.440084</td>\n",
       "      <td>-0.736829</td>\n",
       "      <td>-0.247093</td>\n",
       "      <td>-1.092079</td>\n",
       "      <td>0.098557</td>\n",
       "      <td>46</td>\n",
       "    </tr>\n",
       "    <tr>\n",
       "      <th>522633</th>\n",
       "      <td>341510690000000</td>\n",
       "      <td>-0.770983</td>\n",
       "      <td>-0.401897</td>\n",
       "      <td>-0.680590</td>\n",
       "      <td>-0.236572</td>\n",
       "      <td>-1.106628</td>\n",
       "      <td>0.115730</td>\n",
       "      <td>46</td>\n",
       "    </tr>\n",
       "    <tr>\n",
       "      <th>522634</th>\n",
       "      <td>341510700000000</td>\n",
       "      <td>-0.890548</td>\n",
       "      <td>-0.338852</td>\n",
       "      <td>-0.699221</td>\n",
       "      <td>-0.220085</td>\n",
       "      <td>-1.100670</td>\n",
       "      <td>0.133514</td>\n",
       "      <td>46</td>\n",
       "    </tr>\n",
       "    <tr>\n",
       "      <th>522635</th>\n",
       "      <td>341510710000000</td>\n",
       "      <td>-1.047220</td>\n",
       "      <td>-0.314173</td>\n",
       "      <td>-0.796266</td>\n",
       "      <td>-0.208298</td>\n",
       "      <td>-1.078903</td>\n",
       "      <td>0.147453</td>\n",
       "      <td>46</td>\n",
       "    </tr>\n",
       "  </tbody>\n",
       "</table>\n",
       "<p>522636 rows × 8 columns</p>\n",
       "</div>"
      ],
      "text/plain": [
       "              timestamp       LAx       LAy       LAz       GYx       GYy  \\\n",
       "0       923709910000000  1.897600 -0.948629  0.806025 -0.913564 -0.310084   \n",
       "1       923709920000000  1.822922 -0.512797  0.658468 -0.688972 -0.554016   \n",
       "2       923709930000000  1.571234  0.178020 -0.381536 -0.285202 -0.868012   \n",
       "3       923709940000000  1.347669  0.698209 -1.856026  0.160721 -1.098297   \n",
       "4       923709950000000  1.484009  0.825438 -3.034368  0.557777 -1.373177   \n",
       "...                 ...       ...       ...       ...       ...       ...   \n",
       "522631  341510670000000 -0.620103 -0.362797 -0.729507 -0.252296 -1.060326   \n",
       "522632  341510680000000 -0.670146 -0.440084 -0.736829 -0.247093 -1.092079   \n",
       "522633  341510690000000 -0.770983 -0.401897 -0.680590 -0.236572 -1.106628   \n",
       "522634  341510700000000 -0.890548 -0.338852 -0.699221 -0.220085 -1.100670   \n",
       "522635  341510710000000 -1.047220 -0.314173 -0.796266 -0.208298 -1.078903   \n",
       "\n",
       "             GYz  name  \n",
       "0      -0.732483     1  \n",
       "1      -0.731674     1  \n",
       "2      -0.680359     1  \n",
       "3      -0.580788     1  \n",
       "4      -0.456787     1  \n",
       "...          ...   ...  \n",
       "522631  0.087654    46  \n",
       "522632  0.098557    46  \n",
       "522633  0.115730    46  \n",
       "522634  0.133514    46  \n",
       "522635  0.147453    46  \n",
       "\n",
       "[522636 rows x 8 columns]"
      ]
     },
     "execution_count": 25,
     "metadata": {},
     "output_type": "execute_result"
    }
   ],
   "source": [
    "# filepath = \"merged_u1-50_w001_resampled.csv\"\n",
    "filepath_3 = \"D:/online dataset csv files preprocessing/merged_14u_w003_resampled.csv\"\n",
    "\n",
    "df_original_3 = pd.read_csv(filepath_3)\n",
    "df_original_3"
   ]
  },
  {
   "cell_type": "code",
   "execution_count": 26,
   "id": "7e4bf9f2",
   "metadata": {},
   "outputs": [
    {
     "data": {
      "text/plain": [
       "(522636, 7)"
      ]
     },
     "execution_count": 26,
     "metadata": {},
     "output_type": "execute_result"
    }
   ],
   "source": [
    "df_Xtime_3 = df_original_3.copy()\n",
    "df_Xtime_3 = df_Xtime_3.drop(['timestamp'], axis = 1).copy()\n",
    "df_Xtime_3.shape"
   ]
  },
  {
   "cell_type": "code",
   "execution_count": 27,
   "id": "7450b792",
   "metadata": {},
   "outputs": [],
   "source": [
    "X_3 = df_Xtime_3[['LAx', 'LAy', 'LAz','GYx', 'GYy', 'GYz']].copy()\n",
    "y_3 = df_Xtime_3['name'].copy()"
   ]
  },
  {
   "cell_type": "code",
   "execution_count": 28,
   "id": "976d23f2",
   "metadata": {},
   "outputs": [
    {
     "data": {
      "text/html": [
       "<div>\n",
       "<style scoped>\n",
       "    .dataframe tbody tr th:only-of-type {\n",
       "        vertical-align: middle;\n",
       "    }\n",
       "\n",
       "    .dataframe tbody tr th {\n",
       "        vertical-align: top;\n",
       "    }\n",
       "\n",
       "    .dataframe thead th {\n",
       "        text-align: right;\n",
       "    }\n",
       "</style>\n",
       "<table border=\"1\" class=\"dataframe\">\n",
       "  <thead>\n",
       "    <tr style=\"text-align: right;\">\n",
       "      <th></th>\n",
       "      <th>LAx</th>\n",
       "      <th>LAy</th>\n",
       "      <th>LAz</th>\n",
       "      <th>GYx</th>\n",
       "      <th>GYy</th>\n",
       "      <th>GYz</th>\n",
       "      <th>label</th>\n",
       "    </tr>\n",
       "  </thead>\n",
       "  <tbody>\n",
       "    <tr>\n",
       "      <th>0</th>\n",
       "      <td>0.617858</td>\n",
       "      <td>-0.278392</td>\n",
       "      <td>0.122873</td>\n",
       "      <td>-0.539603</td>\n",
       "      <td>-0.202006</td>\n",
       "      <td>-0.632854</td>\n",
       "      <td>1</td>\n",
       "    </tr>\n",
       "    <tr>\n",
       "      <th>1</th>\n",
       "      <td>0.594677</td>\n",
       "      <td>-0.178000</td>\n",
       "      <td>0.082692</td>\n",
       "      <td>-0.404722</td>\n",
       "      <td>-0.364584</td>\n",
       "      <td>-0.632063</td>\n",
       "      <td>1</td>\n",
       "    </tr>\n",
       "    <tr>\n",
       "      <th>2</th>\n",
       "      <td>0.516551</td>\n",
       "      <td>-0.018873</td>\n",
       "      <td>-0.200509</td>\n",
       "      <td>-0.162233</td>\n",
       "      <td>-0.573859</td>\n",
       "      <td>-0.581893</td>\n",
       "      <td>1</td>\n",
       "    </tr>\n",
       "    <tr>\n",
       "      <th>3</th>\n",
       "      <td>0.447155</td>\n",
       "      <td>0.100951</td>\n",
       "      <td>-0.602023</td>\n",
       "      <td>0.105571</td>\n",
       "      <td>-0.727341</td>\n",
       "      <td>-0.484544</td>\n",
       "      <td>1</td>\n",
       "    </tr>\n",
       "    <tr>\n",
       "      <th>4</th>\n",
       "      <td>0.489476</td>\n",
       "      <td>0.130257</td>\n",
       "      <td>-0.922893</td>\n",
       "      <td>0.344028</td>\n",
       "      <td>-0.910546</td>\n",
       "      <td>-0.363310</td>\n",
       "      <td>1</td>\n",
       "    </tr>\n",
       "    <tr>\n",
       "      <th>...</th>\n",
       "      <td>...</td>\n",
       "      <td>...</td>\n",
       "      <td>...</td>\n",
       "      <td>...</td>\n",
       "      <td>...</td>\n",
       "      <td>...</td>\n",
       "      <td>...</td>\n",
       "    </tr>\n",
       "    <tr>\n",
       "      <th>522631</th>\n",
       "      <td>-0.163656</td>\n",
       "      <td>-0.143448</td>\n",
       "      <td>-0.295264</td>\n",
       "      <td>-0.142471</td>\n",
       "      <td>-0.702034</td>\n",
       "      <td>0.168981</td>\n",
       "      <td>46</td>\n",
       "    </tr>\n",
       "    <tr>\n",
       "      <th>522632</th>\n",
       "      <td>-0.179190</td>\n",
       "      <td>-0.161251</td>\n",
       "      <td>-0.297257</td>\n",
       "      <td>-0.139346</td>\n",
       "      <td>-0.723197</td>\n",
       "      <td>0.179640</td>\n",
       "      <td>46</td>\n",
       "    </tr>\n",
       "    <tr>\n",
       "      <th>522633</th>\n",
       "      <td>-0.210491</td>\n",
       "      <td>-0.152454</td>\n",
       "      <td>-0.281943</td>\n",
       "      <td>-0.133028</td>\n",
       "      <td>-0.732894</td>\n",
       "      <td>0.196430</td>\n",
       "      <td>46</td>\n",
       "    </tr>\n",
       "    <tr>\n",
       "      <th>522634</th>\n",
       "      <td>-0.247605</td>\n",
       "      <td>-0.137932</td>\n",
       "      <td>-0.287016</td>\n",
       "      <td>-0.123126</td>\n",
       "      <td>-0.728923</td>\n",
       "      <td>0.213818</td>\n",
       "      <td>46</td>\n",
       "    </tr>\n",
       "    <tr>\n",
       "      <th>522635</th>\n",
       "      <td>-0.296237</td>\n",
       "      <td>-0.132247</td>\n",
       "      <td>-0.313442</td>\n",
       "      <td>-0.116047</td>\n",
       "      <td>-0.714416</td>\n",
       "      <td>0.227445</td>\n",
       "      <td>46</td>\n",
       "    </tr>\n",
       "  </tbody>\n",
       "</table>\n",
       "<p>522636 rows × 7 columns</p>\n",
       "</div>"
      ],
      "text/plain": [
       "             LAx       LAy       LAz       GYx       GYy       GYz  label\n",
       "0       0.617858 -0.278392  0.122873 -0.539603 -0.202006 -0.632854      1\n",
       "1       0.594677 -0.178000  0.082692 -0.404722 -0.364584 -0.632063      1\n",
       "2       0.516551 -0.018873 -0.200509 -0.162233 -0.573859 -0.581893      1\n",
       "3       0.447155  0.100951 -0.602023  0.105571 -0.727341 -0.484544      1\n",
       "4       0.489476  0.130257 -0.922893  0.344028 -0.910546 -0.363310      1\n",
       "...          ...       ...       ...       ...       ...       ...    ...\n",
       "522631 -0.163656 -0.143448 -0.295264 -0.142471 -0.702034  0.168981     46\n",
       "522632 -0.179190 -0.161251 -0.297257 -0.139346 -0.723197  0.179640     46\n",
       "522633 -0.210491 -0.152454 -0.281943 -0.133028 -0.732894  0.196430     46\n",
       "522634 -0.247605 -0.137932 -0.287016 -0.123126 -0.728923  0.213818     46\n",
       "522635 -0.296237 -0.132247 -0.313442 -0.116047 -0.714416  0.227445     46\n",
       "\n",
       "[522636 rows x 7 columns]"
      ]
     },
     "execution_count": 28,
     "metadata": {},
     "output_type": "execute_result"
    }
   ],
   "source": [
    "scaler = StandardScaler()\n",
    "X_transformed_3 = X_3.copy()\n",
    "X_transformed_3 = scaler.fit_transform(X_transformed_3)\n",
    "\n",
    "scaled_X_3 = pd.DataFrame(data = X_transformed_3, columns = ['LAx', 'LAy', 'LAz','GYx', 'GYy', 'GYz'])\n",
    "scaled_X_3['label'] = y_3.values\n",
    "\n",
    "scaled_X_3"
   ]
  },
  {
   "cell_type": "code",
   "execution_count": 29,
   "id": "c94cee90",
   "metadata": {},
   "outputs": [],
   "source": [
    "import scipy.stats as stats\n",
    "\n",
    "Fs = 100\n",
    "frame_size = Fs*6 \n",
    "hop_size = Fs*6"
   ]
  },
  {
   "cell_type": "code",
   "execution_count": 30,
   "id": "d1244bd8",
   "metadata": {},
   "outputs": [
    {
     "data": {
      "text/plain": [
       "((864, 600, 6), (864,))"
      ]
     },
     "execution_count": 30,
     "metadata": {},
     "output_type": "execute_result"
    }
   ],
   "source": [
    "X_3, y_3 = get_frames(scaled_X_3,frame_size, hop_size)\n",
    "X_3.shape, y_3.shape"
   ]
  },
  {
   "cell_type": "code",
   "execution_count": 31,
   "id": "86a4b422",
   "metadata": {},
   "outputs": [],
   "source": [
    "y_3 = np.array(y_3) -1"
   ]
  },
  {
   "cell_type": "code",
   "execution_count": 32,
   "id": "4fc83967",
   "metadata": {},
   "outputs": [
    {
     "data": {
      "text/plain": [
       "((864, 600, 6), (864,))"
      ]
     },
     "execution_count": 32,
     "metadata": {},
     "output_type": "execute_result"
    }
   ],
   "source": [
    "X_3.shape, y_3.shape"
   ]
  },
  {
   "cell_type": "code",
   "execution_count": 37,
   "id": "dffab944",
   "metadata": {},
   "outputs": [
    {
     "data": {
      "text/plain": [
       "(864, 600, 6, 1)"
      ]
     },
     "execution_count": 37,
     "metadata": {},
     "output_type": "execute_result"
    }
   ],
   "source": [
    "X_3_shape_0 = X_3.shape[0]\n",
    "X_3_shape_1 = X_3.shape[1]\n",
    "\n",
    "X_3_reshaped = X_3.reshape(X_3_shape_0, X_3_shape_1, 6, 1)\n",
    "\n",
    "X_3_reshaped.shape"
   ]
  },
  {
   "cell_type": "code",
   "execution_count": 38,
   "id": "4c1dcae9",
   "metadata": {},
   "outputs": [
    {
     "data": {
      "text/plain": [
       "array([0, 0, 0, 0])"
      ]
     },
     "execution_count": 38,
     "metadata": {},
     "output_type": "execute_result"
    }
   ],
   "source": [
    "y_3[:4]"
   ]
  },
  {
   "cell_type": "code",
   "execution_count": 40,
   "id": "e049d9ec",
   "metadata": {},
   "outputs": [
    {
     "name": "stdout",
     "output_type": "stream",
     "text": [
      "27/27 [==============================] - 0s 12ms/step - loss: 6.1585 - accuracy: 0.1759\n",
      "Test loss:  6.1585. Test accuracy:  17.59%\n"
     ]
    }
   ],
   "source": [
    "test_loss, test_accuracy = model.evaluate(X_3_reshaped, y_3)\n",
    "print('Test loss: {0: .4f}. Test accuracy: {1: .2f}%'.format(test_loss, test_accuracy*100))"
   ]
  },
  {
   "cell_type": "code",
   "execution_count": null,
   "id": "04fbe488",
   "metadata": {},
   "outputs": [],
   "source": []
  },
  {
   "cell_type": "code",
   "execution_count": null,
   "id": "9a8c8fb2",
   "metadata": {},
   "outputs": [],
   "source": []
  },
  {
   "cell_type": "code",
   "execution_count": 42,
   "id": "0d821bcb",
   "metadata": {},
   "outputs": [
    {
     "name": "stdout",
     "output_type": "stream",
     "text": [
      "32/32 [==============================] - 0s 13ms/step - loss: 0.9825 - accuracy: 0.7279\n",
      "Test loss:  0.9825. Test accuracy:  72.79%\n"
     ]
    }
   ],
   "source": [
    "# test_loss, test_accuracy = model.evaluate(X_test, y_test)\n",
    "# print('Test loss: {0: .4f}. Test accuracy: {1: .2f}%'.format(test_loss, test_accuracy*100))"
   ]
  },
  {
   "cell_type": "code",
   "execution_count": 43,
   "id": "2d28a218",
   "metadata": {},
   "outputs": [
    {
     "name": "stdout",
     "output_type": "stream",
     "text": [
      "32/32 [==============================] - 0s 12ms/step\n"
     ]
    },
    {
     "data": {
      "text/plain": [
       "(1018, 50)"
      ]
     },
     "execution_count": 43,
     "metadata": {},
     "output_type": "execute_result"
    }
   ],
   "source": [
    "# predictions = model.predict(X_test)\n",
    "# predictions.shape"
   ]
  },
  {
   "cell_type": "code",
   "execution_count": 44,
   "id": "9b2c8bed",
   "metadata": {},
   "outputs": [
    {
     "data": {
      "text/plain": [
       "(1018, 600, 6, 1)"
      ]
     },
     "execution_count": 44,
     "metadata": {},
     "output_type": "execute_result"
    }
   ],
   "source": [
    "# X_test.shape"
   ]
  },
  {
   "cell_type": "code",
   "execution_count": 59,
   "id": "9939dd34",
   "metadata": {},
   "outputs": [
    {
     "data": {
      "text/plain": [
       "40"
      ]
     },
     "execution_count": 59,
     "metadata": {},
     "output_type": "execute_result"
    }
   ],
   "source": [
    "# first_prediciton = predictions[0]\n",
    "# first_prediciton[40]\n",
    "# np.argmax(predictions[0])"
   ]
  },
  {
   "cell_type": "code",
   "execution_count": 60,
   "id": "ae9d8418",
   "metadata": {},
   "outputs": [
    {
     "data": {
      "text/plain": [
       "21"
      ]
     },
     "execution_count": 60,
     "metadata": {},
     "output_type": "execute_result"
    }
   ],
   "source": [
    "# sorted_indices = np.argsort(predictions[0])\n",
    "# second_highest_prob_index = sorted_indices[-2]\n",
    "# second_highest_prob_index"
   ]
  },
  {
   "cell_type": "code",
   "execution_count": 62,
   "id": "72cc502f",
   "metadata": {},
   "outputs": [
    {
     "data": {
      "text/plain": [
       "0.0017214552"
      ]
     },
     "execution_count": 62,
     "metadata": {},
     "output_type": "execute_result"
    }
   ],
   "source": [
    "# first_prediciton = predictions[0]\n",
    "# first_prediciton[21]"
   ]
  },
  {
   "cell_type": "code",
   "execution_count": null,
   "id": "0fcde5da",
   "metadata": {},
   "outputs": [],
   "source": []
  }
 ],
 "metadata": {
  "kernelspec": {
   "display_name": "Python 3 (ipykernel)",
   "language": "python",
   "name": "python3"
  },
  "language_info": {
   "codemirror_mode": {
    "name": "ipython",
    "version": 3
   },
   "file_extension": ".py",
   "mimetype": "text/x-python",
   "name": "python",
   "nbconvert_exporter": "python",
   "pygments_lexer": "ipython3",
   "version": "3.10.9"
  }
 },
 "nbformat": 4,
 "nbformat_minor": 5
}
