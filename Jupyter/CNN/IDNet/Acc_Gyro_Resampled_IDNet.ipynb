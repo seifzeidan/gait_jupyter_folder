{
 "cells": [
  {
   "cell_type": "code",
   "execution_count": 1,
   "id": "44faa98a",
   "metadata": {},
   "outputs": [
    {
     "name": "stdout",
     "output_type": "stream",
     "text": [
      "2.12.0\n"
     ]
    }
   ],
   "source": [
    "import tensorflow as tf\n",
    "from tensorflow.keras import Sequential\n",
    "from tensorflow.keras.layers import Flatten, Dense, Dropout, BatchNormalization\n",
    "from tensorflow.keras.layers import Conv2D, MaxPooling2D\n",
    "from tensorflow.keras.optimizers import Adam\n",
    "print(tf.__version__)"
   ]
  },
  {
   "cell_type": "code",
   "execution_count": 2,
   "id": "1c3f367f",
   "metadata": {},
   "outputs": [],
   "source": [
    "import pandas as pd\n",
    "import numpy as np\n",
    "import os\n",
    "import math\n",
    "import matplotlib.pyplot as plt\n",
    "from sklearn.model_selection import train_test_split\n",
    "from sklearn.preprocessing import StandardScaler, LabelEncoder"
   ]
  },
  {
   "cell_type": "code",
   "execution_count": 3,
   "id": "9e899298",
   "metadata": {},
   "outputs": [],
   "source": [
    "filepath = \"merged_u1-50_w001_resampled.csv\"\n",
    "df_original = pd.read_csv(filepath)"
   ]
  },
  {
   "cell_type": "code",
   "execution_count": 4,
   "id": "bcd5954e",
   "metadata": {},
   "outputs": [
    {
     "data": {
      "text/html": [
       "<div>\n",
       "<style scoped>\n",
       "    .dataframe tbody tr th:only-of-type {\n",
       "        vertical-align: middle;\n",
       "    }\n",
       "\n",
       "    .dataframe tbody tr th {\n",
       "        vertical-align: top;\n",
       "    }\n",
       "\n",
       "    .dataframe thead th {\n",
       "        text-align: right;\n",
       "    }\n",
       "</style>\n",
       "<table border=\"1\" class=\"dataframe\">\n",
       "  <thead>\n",
       "    <tr style=\"text-align: right;\">\n",
       "      <th></th>\n",
       "      <th>timestamp</th>\n",
       "      <th>LAx</th>\n",
       "      <th>LAy</th>\n",
       "      <th>LAz</th>\n",
       "      <th>GYx</th>\n",
       "      <th>GYy</th>\n",
       "      <th>GYz</th>\n",
       "      <th>name</th>\n",
       "    </tr>\n",
       "  </thead>\n",
       "  <tbody>\n",
       "    <tr>\n",
       "      <th>0</th>\n",
       "      <td>924313410000000</td>\n",
       "      <td>1.242813</td>\n",
       "      <td>-0.160181</td>\n",
       "      <td>-0.900440</td>\n",
       "      <td>0.194931</td>\n",
       "      <td>-0.004242</td>\n",
       "      <td>0.163818</td>\n",
       "      <td>1</td>\n",
       "    </tr>\n",
       "    <tr>\n",
       "      <th>1</th>\n",
       "      <td>924313420000000</td>\n",
       "      <td>1.117246</td>\n",
       "      <td>-0.187921</td>\n",
       "      <td>-1.529893</td>\n",
       "      <td>0.236458</td>\n",
       "      <td>0.076378</td>\n",
       "      <td>0.133293</td>\n",
       "      <td>1</td>\n",
       "    </tr>\n",
       "    <tr>\n",
       "      <th>2</th>\n",
       "      <td>924313430000000</td>\n",
       "      <td>0.912846</td>\n",
       "      <td>-0.192566</td>\n",
       "      <td>-1.570929</td>\n",
       "      <td>0.226074</td>\n",
       "      <td>0.012253</td>\n",
       "      <td>0.108246</td>\n",
       "      <td>1</td>\n",
       "    </tr>\n",
       "    <tr>\n",
       "      <th>3</th>\n",
       "      <td>924313440000000</td>\n",
       "      <td>0.874858</td>\n",
       "      <td>-0.227208</td>\n",
       "      <td>-1.453511</td>\n",
       "      <td>0.139336</td>\n",
       "      <td>-0.050667</td>\n",
       "      <td>0.085030</td>\n",
       "      <td>1</td>\n",
       "    </tr>\n",
       "    <tr>\n",
       "      <th>4</th>\n",
       "      <td>924313450000000</td>\n",
       "      <td>0.834022</td>\n",
       "      <td>-0.282976</td>\n",
       "      <td>-1.292671</td>\n",
       "      <td>-0.013374</td>\n",
       "      <td>-0.109314</td>\n",
       "      <td>0.078308</td>\n",
       "      <td>1</td>\n",
       "    </tr>\n",
       "    <tr>\n",
       "      <th>...</th>\n",
       "      <td>...</td>\n",
       "      <td>...</td>\n",
       "      <td>...</td>\n",
       "      <td>...</td>\n",
       "      <td>...</td>\n",
       "      <td>...</td>\n",
       "      <td>...</td>\n",
       "      <td>...</td>\n",
       "    </tr>\n",
       "    <tr>\n",
       "      <th>2055043</th>\n",
       "      <td>1368327120000000</td>\n",
       "      <td>-9.502644</td>\n",
       "      <td>-7.178468</td>\n",
       "      <td>4.246279</td>\n",
       "      <td>-2.834417</td>\n",
       "      <td>-0.120428</td>\n",
       "      <td>-0.987857</td>\n",
       "      <td>50</td>\n",
       "    </tr>\n",
       "    <tr>\n",
       "      <th>2055044</th>\n",
       "      <td>1368327130000000</td>\n",
       "      <td>-9.443804</td>\n",
       "      <td>-7.698220</td>\n",
       "      <td>3.059675</td>\n",
       "      <td>-2.638940</td>\n",
       "      <td>0.561997</td>\n",
       "      <td>-0.947715</td>\n",
       "      <td>50</td>\n",
       "    </tr>\n",
       "    <tr>\n",
       "      <th>2055045</th>\n",
       "      <td>1368327140000000</td>\n",
       "      <td>-8.345459</td>\n",
       "      <td>-6.805815</td>\n",
       "      <td>1.853457</td>\n",
       "      <td>-2.483606</td>\n",
       "      <td>1.225222</td>\n",
       "      <td>-0.954696</td>\n",
       "      <td>50</td>\n",
       "    </tr>\n",
       "    <tr>\n",
       "      <th>2055046</th>\n",
       "      <td>1368327150000000</td>\n",
       "      <td>-7.580540</td>\n",
       "      <td>-5.629017</td>\n",
       "      <td>1.559257</td>\n",
       "      <td>-2.429500</td>\n",
       "      <td>1.769765</td>\n",
       "      <td>-1.003565</td>\n",
       "      <td>50</td>\n",
       "    </tr>\n",
       "    <tr>\n",
       "      <th>2055047</th>\n",
       "      <td>1368327160000000</td>\n",
       "      <td>-6.952915</td>\n",
       "      <td>-4.589512</td>\n",
       "      <td>1.755390</td>\n",
       "      <td>-2.426010</td>\n",
       "      <td>2.099633</td>\n",
       "      <td>-0.980876</td>\n",
       "      <td>50</td>\n",
       "    </tr>\n",
       "  </tbody>\n",
       "</table>\n",
       "<p>2055048 rows × 8 columns</p>\n",
       "</div>"
      ],
      "text/plain": [
       "                timestamp       LAx       LAy       LAz       GYx       GYy  \\\n",
       "0         924313410000000  1.242813 -0.160181 -0.900440  0.194931 -0.004242   \n",
       "1         924313420000000  1.117246 -0.187921 -1.529893  0.236458  0.076378   \n",
       "2         924313430000000  0.912846 -0.192566 -1.570929  0.226074  0.012253   \n",
       "3         924313440000000  0.874858 -0.227208 -1.453511  0.139336 -0.050667   \n",
       "4         924313450000000  0.834022 -0.282976 -1.292671 -0.013374 -0.109314   \n",
       "...                   ...       ...       ...       ...       ...       ...   \n",
       "2055043  1368327120000000 -9.502644 -7.178468  4.246279 -2.834417 -0.120428   \n",
       "2055044  1368327130000000 -9.443804 -7.698220  3.059675 -2.638940  0.561997   \n",
       "2055045  1368327140000000 -8.345459 -6.805815  1.853457 -2.483606  1.225222   \n",
       "2055046  1368327150000000 -7.580540 -5.629017  1.559257 -2.429500  1.769765   \n",
       "2055047  1368327160000000 -6.952915 -4.589512  1.755390 -2.426010  2.099633   \n",
       "\n",
       "              GYz  name  \n",
       "0        0.163818     1  \n",
       "1        0.133293     1  \n",
       "2        0.108246     1  \n",
       "3        0.085030     1  \n",
       "4        0.078308     1  \n",
       "...           ...   ...  \n",
       "2055043 -0.987857    50  \n",
       "2055044 -0.947715    50  \n",
       "2055045 -0.954696    50  \n",
       "2055046 -1.003565    50  \n",
       "2055047 -0.980876    50  \n",
       "\n",
       "[2055048 rows x 8 columns]"
      ]
     },
     "execution_count": 4,
     "metadata": {},
     "output_type": "execute_result"
    }
   ],
   "source": [
    "df_original"
   ]
  },
  {
   "cell_type": "code",
   "execution_count": 5,
   "id": "44374d55",
   "metadata": {},
   "outputs": [
    {
     "data": {
      "text/plain": [
       "timestamp    0\n",
       "LAx          0\n",
       "LAy          0\n",
       "LAz          0\n",
       "GYx          0\n",
       "GYy          0\n",
       "GYz          0\n",
       "name         0\n",
       "dtype: int64"
      ]
     },
     "execution_count": 5,
     "metadata": {},
     "output_type": "execute_result"
    }
   ],
   "source": [
    "df_original.isnull().sum()"
   ]
  },
  {
   "cell_type": "code",
   "execution_count": 7,
   "id": "eda07b86",
   "metadata": {},
   "outputs": [
    {
     "name": "stdout",
     "output_type": "stream",
     "text": [
      "<class 'pandas.core.frame.DataFrame'>\n",
      "RangeIndex: 2055048 entries, 0 to 2055047\n",
      "Data columns (total 8 columns):\n",
      " #   Column     Dtype  \n",
      "---  ------     -----  \n",
      " 0   timestamp  int64  \n",
      " 1   LAx        float64\n",
      " 2   LAy        float64\n",
      " 3   LAz        float64\n",
      " 4   GYx        float64\n",
      " 5   GYy        float64\n",
      " 6   GYz        float64\n",
      " 7   name       int64  \n",
      "dtypes: float64(6), int64(2)\n",
      "memory usage: 125.4 MB\n"
     ]
    }
   ],
   "source": [
    "df_original.info()"
   ]
  },
  {
   "cell_type": "code",
   "execution_count": 8,
   "id": "54b2a1e4",
   "metadata": {},
   "outputs": [
    {
     "data": {
      "text/plain": [
       "18    82714\n",
       "47    65984\n",
       "29    60052\n",
       "8     60036\n",
       "6     60005\n",
       "9     59986\n",
       "13    59984\n",
       "41    59984\n",
       "39    59958\n",
       "3     59958\n",
       "37    55050\n",
       "32    52339\n",
       "12    51686\n",
       "2     48001\n",
       "7     47947\n",
       "11    47946\n",
       "34    47824\n",
       "49    47614\n",
       "42    41946\n",
       "19    41946\n",
       "40    41946\n",
       "35    41945\n",
       "33    41945\n",
       "27    41535\n",
       "30    40959\n",
       "24    35980\n",
       "16    35974\n",
       "20    35948\n",
       "28    35947\n",
       "31    35947\n",
       "4     35946\n",
       "23    34545\n",
       "38    32186\n",
       "44    31414\n",
       "43    30100\n",
       "17    29997\n",
       "48    29990\n",
       "50    29988\n",
       "14    29950\n",
       "46    29945\n",
       "10    28892\n",
       "1     26790\n",
       "45    26022\n",
       "25    25926\n",
       "5     25792\n",
       "22    25598\n",
       "36    25173\n",
       "26    23949\n",
       "15    17985\n",
       "21    15774\n",
       "Name: name, dtype: int64"
      ]
     },
     "execution_count": 8,
     "metadata": {},
     "output_type": "execute_result"
    }
   ],
   "source": [
    "df_original['name'].value_counts()"
   ]
  },
  {
   "cell_type": "code",
   "execution_count": 9,
   "id": "bdac5aae",
   "metadata": {},
   "outputs": [
    {
     "data": {
      "text/plain": [
       "(2055048, 7)"
      ]
     },
     "execution_count": 9,
     "metadata": {},
     "output_type": "execute_result"
    }
   ],
   "source": [
    "df_Xtime = df_original.copy()\n",
    "df_Xtime = df_Xtime.drop(['timestamp'], axis = 1).copy()\n",
    "df_Xtime.shape"
   ]
  },
  {
   "cell_type": "code",
   "execution_count": 11,
   "id": "10931f68",
   "metadata": {},
   "outputs": [],
   "source": [
    "X = df_Xtime[['LAx', 'LAy', 'LAz','GYx', 'GYy', 'GYz']].copy()\n",
    "y = df_Xtime['name'].copy()"
   ]
  },
  {
   "cell_type": "code",
   "execution_count": 14,
   "id": "a22de21d",
   "metadata": {},
   "outputs": [
    {
     "data": {
      "text/html": [
       "<div>\n",
       "<style scoped>\n",
       "    .dataframe tbody tr th:only-of-type {\n",
       "        vertical-align: middle;\n",
       "    }\n",
       "\n",
       "    .dataframe tbody tr th {\n",
       "        vertical-align: top;\n",
       "    }\n",
       "\n",
       "    .dataframe thead th {\n",
       "        text-align: right;\n",
       "    }\n",
       "</style>\n",
       "<table border=\"1\" class=\"dataframe\">\n",
       "  <thead>\n",
       "    <tr style=\"text-align: right;\">\n",
       "      <th></th>\n",
       "      <th>LAx</th>\n",
       "      <th>LAy</th>\n",
       "      <th>LAz</th>\n",
       "      <th>GYx</th>\n",
       "      <th>GYy</th>\n",
       "      <th>GYz</th>\n",
       "      <th>label</th>\n",
       "    </tr>\n",
       "  </thead>\n",
       "  <tbody>\n",
       "    <tr>\n",
       "      <th>0</th>\n",
       "      <td>0.359745</td>\n",
       "      <td>-0.067021</td>\n",
       "      <td>-0.237446</td>\n",
       "      <td>0.105221</td>\n",
       "      <td>0.035341</td>\n",
       "      <td>0.175545</td>\n",
       "      <td>1</td>\n",
       "    </tr>\n",
       "    <tr>\n",
       "      <th>1</th>\n",
       "      <td>0.322625</td>\n",
       "      <td>-0.073783</td>\n",
       "      <td>-0.418039</td>\n",
       "      <td>0.133911</td>\n",
       "      <td>0.092852</td>\n",
       "      <td>0.143484</td>\n",
       "      <td>1</td>\n",
       "    </tr>\n",
       "    <tr>\n",
       "      <th>2</th>\n",
       "      <td>0.262201</td>\n",
       "      <td>-0.074915</td>\n",
       "      <td>-0.429812</td>\n",
       "      <td>0.126737</td>\n",
       "      <td>0.047108</td>\n",
       "      <td>0.117177</td>\n",
       "      <td>1</td>\n",
       "    </tr>\n",
       "    <tr>\n",
       "      <th>3</th>\n",
       "      <td>0.250972</td>\n",
       "      <td>-0.083358</td>\n",
       "      <td>-0.396125</td>\n",
       "      <td>0.066811</td>\n",
       "      <td>0.002223</td>\n",
       "      <td>0.092793</td>\n",
       "      <td>1</td>\n",
       "    </tr>\n",
       "    <tr>\n",
       "      <th>4</th>\n",
       "      <td>0.238900</td>\n",
       "      <td>-0.096951</td>\n",
       "      <td>-0.349979</td>\n",
       "      <td>-0.038693</td>\n",
       "      <td>-0.039614</td>\n",
       "      <td>0.085733</td>\n",
       "      <td>1</td>\n",
       "    </tr>\n",
       "    <tr>\n",
       "      <th>...</th>\n",
       "      <td>...</td>\n",
       "      <td>...</td>\n",
       "      <td>...</td>\n",
       "      <td>...</td>\n",
       "      <td>...</td>\n",
       "      <td>...</td>\n",
       "      <td>...</td>\n",
       "    </tr>\n",
       "    <tr>\n",
       "      <th>2055043</th>\n",
       "      <td>-2.816791</td>\n",
       "      <td>-1.777656</td>\n",
       "      <td>1.239172</td>\n",
       "      <td>-1.987696</td>\n",
       "      <td>-0.047543</td>\n",
       "      <td>-1.034070</td>\n",
       "      <td>50</td>\n",
       "    </tr>\n",
       "    <tr>\n",
       "      <th>2055044</th>\n",
       "      <td>-2.799397</td>\n",
       "      <td>-1.904341</td>\n",
       "      <td>0.898730</td>\n",
       "      <td>-1.852644</td>\n",
       "      <td>0.439278</td>\n",
       "      <td>-0.991908</td>\n",
       "      <td>50</td>\n",
       "    </tr>\n",
       "    <tr>\n",
       "      <th>2055045</th>\n",
       "      <td>-2.474708</td>\n",
       "      <td>-1.686826</td>\n",
       "      <td>0.552660</td>\n",
       "      <td>-1.745327</td>\n",
       "      <td>0.912402</td>\n",
       "      <td>-0.999240</td>\n",
       "      <td>50</td>\n",
       "    </tr>\n",
       "    <tr>\n",
       "      <th>2055046</th>\n",
       "      <td>-2.248585</td>\n",
       "      <td>-1.399994</td>\n",
       "      <td>0.468253</td>\n",
       "      <td>-1.707947</td>\n",
       "      <td>1.300863</td>\n",
       "      <td>-1.050568</td>\n",
       "      <td>50</td>\n",
       "    </tr>\n",
       "    <tr>\n",
       "      <th>2055047</th>\n",
       "      <td>-2.063049</td>\n",
       "      <td>-1.146625</td>\n",
       "      <td>0.524524</td>\n",
       "      <td>-1.705535</td>\n",
       "      <td>1.536180</td>\n",
       "      <td>-1.026737</td>\n",
       "      <td>50</td>\n",
       "    </tr>\n",
       "  </tbody>\n",
       "</table>\n",
       "<p>2055048 rows × 7 columns</p>\n",
       "</div>"
      ],
      "text/plain": [
       "              LAx       LAy       LAz       GYx       GYy       GYz  label\n",
       "0        0.359745 -0.067021 -0.237446  0.105221  0.035341  0.175545      1\n",
       "1        0.322625 -0.073783 -0.418039  0.133911  0.092852  0.143484      1\n",
       "2        0.262201 -0.074915 -0.429812  0.126737  0.047108  0.117177      1\n",
       "3        0.250972 -0.083358 -0.396125  0.066811  0.002223  0.092793      1\n",
       "4        0.238900 -0.096951 -0.349979 -0.038693 -0.039614  0.085733      1\n",
       "...           ...       ...       ...       ...       ...       ...    ...\n",
       "2055043 -2.816791 -1.777656  1.239172 -1.987696 -0.047543 -1.034070     50\n",
       "2055044 -2.799397 -1.904341  0.898730 -1.852644  0.439278 -0.991908     50\n",
       "2055045 -2.474708 -1.686826  0.552660 -1.745327  0.912402 -0.999240     50\n",
       "2055046 -2.248585 -1.399994  0.468253 -1.707947  1.300863 -1.050568     50\n",
       "2055047 -2.063049 -1.146625  0.524524 -1.705535  1.536180 -1.026737     50\n",
       "\n",
       "[2055048 rows x 7 columns]"
      ]
     },
     "execution_count": 14,
     "metadata": {},
     "output_type": "execute_result"
    }
   ],
   "source": [
    "scaler = StandardScaler()\n",
    "X_transformed = X.copy()\n",
    "X_transformed = scaler.fit_transform(X_transformed)\n",
    "\n",
    "scaled_X = pd.DataFrame(data = X_transformed, columns = ['LAx', 'LAy', 'LAz','GYx', 'GYy', 'GYz'])\n",
    "scaled_X['label'] = y.values\n",
    "\n",
    "scaled_X"
   ]
  },
  {
   "cell_type": "code",
   "execution_count": 15,
   "id": "019df13a",
   "metadata": {},
   "outputs": [],
   "source": [
    "import scipy.stats as stats\n",
    "\n",
    "Fs = 100\n",
    "frame_size = Fs*6 \n",
    "hop_size = Fs*6"
   ]
  },
  {
   "cell_type": "code",
   "execution_count": 17,
   "id": "4cb22659",
   "metadata": {},
   "outputs": [],
   "source": [
    "def get_frames(df, frame_size, hop_size):\n",
    "    N_FEATURES = 6\n",
    "\n",
    "    frames = []\n",
    "    labels = []\n",
    "    \n",
    "    last_value = df['label'].iloc[-1]\n",
    "    for j in range (0,last_value+1): \n",
    "        filtered_df = df[df['label'] == j]\n",
    "        filtered_df = filtered_df.drop('label', axis = 1)\n",
    "        for i in range(0, len(filtered_df) - frame_size, hop_size):\n",
    "            LAx = filtered_df['LAx'].values[i: i + frame_size]\n",
    "            LAy = filtered_df['LAy'].values[i: i + frame_size]\n",
    "            LAz = filtered_df['LAz'].values[i: i + frame_size]\n",
    "            GYx = filtered_df['GYx'].values[i: i + frame_size]\n",
    "            GYy = filtered_df['GYy'].values[i: i + frame_size]\n",
    "            GYz = filtered_df['GYz'].values[i: i + frame_size]\n",
    "            \n",
    "\n",
    "            label = j\n",
    "\n",
    "            frames.append([LAx, LAy, LAz, GYx, GYy , GYz])\n",
    "            labels.append(label)\n",
    "\n",
    "    frames = np.asarray(frames).reshape(-1, frame_size, N_FEATURES)\n",
    "    labels = np.asarray(labels)\n",
    "    \n",
    "    return frames, labels"
   ]
  },
  {
   "cell_type": "code",
   "execution_count": 18,
   "id": "2f413414",
   "metadata": {},
   "outputs": [
    {
     "data": {
      "text/plain": [
       "((3391, 600, 6), (3391,))"
      ]
     },
     "execution_count": 18,
     "metadata": {},
     "output_type": "execute_result"
    }
   ],
   "source": [
    "X, y = get_frames(scaled_X,frame_size, hop_size)\n",
    "X.shape, y.shape"
   ]
  },
  {
   "cell_type": "code",
   "execution_count": 46,
   "id": "108951c0",
   "metadata": {},
   "outputs": [
    {
     "data": {
      "text/plain": [
       "((2135, 600, 6), (1018, 600, 6), (238, 600, 6))"
      ]
     },
     "execution_count": 46,
     "metadata": {},
     "output_type": "execute_result"
    }
   ],
   "source": [
    "X_train_val, X_test, y_train_val, y_test = train_test_split(X, y, test_size = 0.3, random_state = 0, stratify = y)\n",
    "\n",
    "X_train, X_validation, y_train, y_validation = train_test_split(X_train_val, y_train_val, test_size = 0.1, random_state = 0, stratify = y_train_val)\n",
    "X_train.shape, X_test.shape, X_validation.shape"
   ]
  },
  {
   "cell_type": "code",
   "execution_count": 20,
   "id": "6a5c082c",
   "metadata": {},
   "outputs": [
    {
     "data": {
      "text/plain": [
       "((600, 6), (600, 6))"
      ]
     },
     "execution_count": 20,
     "metadata": {},
     "output_type": "execute_result"
    }
   ],
   "source": [
    "X_train[0].shape, X_test[0].shape"
   ]
  },
  {
   "cell_type": "code",
   "execution_count": 47,
   "id": "fbd0e7be",
   "metadata": {},
   "outputs": [
    {
     "data": {
      "text/plain": [
       "((600, 6, 1), (600, 6, 1), (600, 6, 1))"
      ]
     },
     "execution_count": 47,
     "metadata": {},
     "output_type": "execute_result"
    }
   ],
   "source": [
    "train_shape_0 = X_train.shape[0]\n",
    "test_shape_0 = X_test.shape[0]\n",
    "\n",
    "train_shape_1 = X_train.shape[1]\n",
    "test_shape_1 = X_test.shape[1]\n",
    "\n",
    "validation_shape_0 = X_validation.shape[0]\n",
    "validation_shape_1 = X_validation.shape[1]\n",
    "\n",
    "\n",
    "X_train = X_train.reshape(train_shape_0, train_shape_1, 6, 1)\n",
    "X_test = X_test.reshape(test_shape_0, test_shape_1, 6, 1)\n",
    "X_validation = X_validation.reshape(validation_shape_0, validation_shape_1, 6, 1)\n",
    "\n",
    "\n",
    "\n",
    "X_train[0].shape, X_test[0].shape, X_validation[0].shape"
   ]
  },
  {
   "cell_type": "code",
   "execution_count": 38,
   "id": "51c0e384",
   "metadata": {},
   "outputs": [
    {
     "data": {
      "text/plain": [
       "50"
      ]
     },
     "execution_count": 38,
     "metadata": {},
     "output_type": "execute_result"
    }
   ],
   "source": [
    "num = df_original['name'].iloc[-1]\n",
    "num "
   ]
  },
  {
   "cell_type": "code",
   "execution_count": 48,
   "id": "3cf0350d",
   "metadata": {},
   "outputs": [],
   "source": [
    "# Subtract 1 from each label in y_train\n",
    "y_train = np.array(y_train) - 1\n",
    "y_test = np.array(y_test) - 1\n",
    "y_validation = np.array(y_validation) - 1"
   ]
  },
  {
   "cell_type": "code",
   "execution_count": 65,
   "id": "d1ef3d9f",
   "metadata": {},
   "outputs": [],
   "source": [
    "model = Sequential()\n",
    "model.add(Conv2D(16, (2, 2), activation = 'relu', input_shape = X_train[0].shape))\n",
    "model.add(Dropout(0.1))\n",
    "\n",
    "model.add(Conv2D(32, (2, 2), activation='relu'))\n",
    "model.add(Dropout(0.2))\n",
    "\n",
    "model.add(Flatten())\n",
    "\n",
    "model.add(Dense(64, activation = 'relu'))\n",
    "model.add(Dropout(0.5))\n",
    "\n",
    "model.add(Dense(num, activation='softmax'))"
   ]
  },
  {
   "cell_type": "code",
   "execution_count": 66,
   "id": "d0bd6810",
   "metadata": {},
   "outputs": [
    {
     "name": "stdout",
     "output_type": "stream",
     "text": [
      "Model: \"sequential_7\"\n",
      "___________________________________________________________________________\n",
      " Layer (type)                    Output Shape                  Param #     \n",
      "===========================================================================\n",
      " conv2d_14 (Conv2D)              (None, 599, 5, 16)            80          \n",
      "                                                                           \n",
      " dropout_21 (Dropout)            (None, 599, 5, 16)            0           \n",
      "                                                                           \n",
      " conv2d_15 (Conv2D)              (None, 598, 4, 32)            2080        \n",
      "                                                                           \n",
      " dropout_22 (Dropout)            (None, 598, 4, 32)            0           \n",
      "                                                                           \n",
      " flatten_7 (Flatten)             (None, 76544)                 0           \n",
      "                                                                           \n",
      " dense_14 (Dense)                (None, 64)                    4898880     \n",
      "                                                                           \n",
      " dropout_23 (Dropout)            (None, 64)                    0           \n",
      "                                                                           \n",
      " dense_15 (Dense)                (None, 50)                    3250        \n",
      "                                                                           \n",
      "===========================================================================\n",
      "Total params: 4,904,290\n",
      "Trainable params: 4,904,290\n",
      "Non-trainable params: 0\n",
      "___________________________________________________________________________\n"
     ]
    }
   ],
   "source": [
    "model.summary(line_length = 75)"
   ]
  },
  {
   "cell_type": "code",
   "execution_count": 67,
   "id": "d4bd648e",
   "metadata": {},
   "outputs": [],
   "source": [
    "model.compile(optimizer=Adam(learning_rate = 0.001), loss=tf.keras.losses.SparseCategoricalCrossentropy(), metrics = ['accuracy'])"
   ]
  },
  {
   "cell_type": "code",
   "execution_count": 68,
   "id": "48a91cb0",
   "metadata": {},
   "outputs": [],
   "source": [
    "early_stopping = tf.keras.callbacks.EarlyStopping(\n",
    "    monitor = 'val_loss',\n",
    "    mode = 'auto',\n",
    "    min_delta = 0,\n",
    "    patience = 2,\n",
    "    verbose = 0,\n",
    "    restore_best_weights = True\n",
    ")"
   ]
  },
  {
   "cell_type": "code",
   "execution_count": 69,
   "id": "319eff8f",
   "metadata": {
    "scrolled": true
   },
   "outputs": [
    {
     "name": "stdout",
     "output_type": "stream",
     "text": [
      "Epoch 1/30\n",
      "67/67 [==============================] - 8s 107ms/step - loss: 4.0101 - accuracy: 0.0454 - val_loss: 3.8510 - val_accuracy: 0.0798\n",
      "Epoch 2/30\n",
      "67/67 [==============================] - 7s 108ms/step - loss: 3.8254 - accuracy: 0.0567 - val_loss: 3.6571 - val_accuracy: 0.0966\n",
      "Epoch 3/30\n",
      "67/67 [==============================] - 7s 107ms/step - loss: 3.6813 - accuracy: 0.0754 - val_loss: 3.3767 - val_accuracy: 0.2101\n",
      "Epoch 4/30\n",
      "67/67 [==============================] - 7s 106ms/step - loss: 3.3512 - accuracy: 0.1274 - val_loss: 2.9518 - val_accuracy: 0.3067\n",
      "Epoch 5/30\n",
      "67/67 [==============================] - 7s 110ms/step - loss: 3.0907 - accuracy: 0.1607 - val_loss: 2.4887 - val_accuracy: 0.3739\n",
      "Epoch 6/30\n",
      "67/67 [==============================] - 8s 112ms/step - loss: 2.7273 - accuracy: 0.2314 - val_loss: 2.1425 - val_accuracy: 0.4790\n",
      "Epoch 7/30\n",
      "67/67 [==============================] - 7s 107ms/step - loss: 2.3715 - accuracy: 0.2988 - val_loss: 1.7130 - val_accuracy: 0.5588\n",
      "Epoch 8/30\n",
      "67/67 [==============================] - 7s 110ms/step - loss: 2.1285 - accuracy: 0.3452 - val_loss: 1.5501 - val_accuracy: 0.5966\n",
      "Epoch 9/30\n",
      "67/67 [==============================] - 8s 113ms/step - loss: 1.9648 - accuracy: 0.3742 - val_loss: 1.1779 - val_accuracy: 0.6933\n",
      "Epoch 10/30\n",
      "67/67 [==============================] - 7s 109ms/step - loss: 1.8319 - accuracy: 0.4290 - val_loss: 1.1273 - val_accuracy: 0.6807\n",
      "Epoch 11/30\n",
      "67/67 [==============================] - 7s 106ms/step - loss: 1.6788 - accuracy: 0.4468 - val_loss: 1.0039 - val_accuracy: 0.7227\n",
      "Epoch 12/30\n",
      "67/67 [==============================] - 7s 103ms/step - loss: 1.5908 - accuracy: 0.4773 - val_loss: 0.9277 - val_accuracy: 0.7269\n",
      "Epoch 13/30\n",
      "67/67 [==============================] - 8s 119ms/step - loss: 1.5061 - accuracy: 0.4941 - val_loss: 0.7732 - val_accuracy: 0.7773\n",
      "Epoch 14/30\n",
      "67/67 [==============================] - 9s 133ms/step - loss: 1.4601 - accuracy: 0.5077 - val_loss: 0.7309 - val_accuracy: 0.8109\n",
      "Epoch 15/30\n",
      "67/67 [==============================] - 9s 132ms/step - loss: 1.3755 - accuracy: 0.5190 - val_loss: 0.6904 - val_accuracy: 0.7983\n",
      "Epoch 16/30\n",
      "67/67 [==============================] - 10s 155ms/step - loss: 1.3158 - accuracy: 0.5447 - val_loss: 0.6739 - val_accuracy: 0.8151\n",
      "Epoch 17/30\n",
      "67/67 [==============================] - 11s 166ms/step - loss: 1.3137 - accuracy: 0.5349 - val_loss: 0.6271 - val_accuracy: 0.8025\n",
      "Epoch 18/30\n",
      "67/67 [==============================] - 15s 227ms/step - loss: 1.2488 - accuracy: 0.5602 - val_loss: 0.6639 - val_accuracy: 0.8025\n",
      "Epoch 19/30\n",
      "67/67 [==============================] - 14s 207ms/step - loss: 1.1985 - accuracy: 0.5803 - val_loss: 0.5990 - val_accuracy: 0.8067\n",
      "Epoch 20/30\n",
      "67/67 [==============================] - 17s 250ms/step - loss: 1.1382 - accuracy: 0.5864 - val_loss: 0.5926 - val_accuracy: 0.7941\n",
      "Epoch 21/30\n",
      "67/67 [==============================] - 15s 225ms/step - loss: 1.1513 - accuracy: 0.5953 - val_loss: 0.6075 - val_accuracy: 0.7941\n",
      "Epoch 22/30\n",
      "67/67 [==============================] - 14s 210ms/step - loss: 1.0989 - accuracy: 0.6052 - val_loss: 0.5773 - val_accuracy: 0.8025\n",
      "Epoch 23/30\n",
      "67/67 [==============================] - 14s 210ms/step - loss: 1.0799 - accuracy: 0.6000 - val_loss: 0.6141 - val_accuracy: 0.7983\n",
      "Epoch 24/30\n",
      "67/67 [==============================] - 14s 215ms/step - loss: 1.0624 - accuracy: 0.6098 - val_loss: 0.5906 - val_accuracy: 0.8067\n"
     ]
    }
   ],
   "source": [
    "history = model.fit(X_train, y_train, epochs = 30,callbacks = [early_stopping], \n",
    "                    validation_data= (X_validation, y_validation), verbose=1)"
   ]
  },
  {
   "cell_type": "code",
   "execution_count": 70,
   "id": "2f0f7151",
   "metadata": {},
   "outputs": [
    {
     "name": "stdout",
     "output_type": "stream",
     "text": [
      "32/32 [==============================] - 1s 37ms/step - loss: 0.6971 - accuracy: 0.7741\n",
      "Test loss:  0.6971. Test accuracy:  77.41%\n"
     ]
    }
   ],
   "source": [
    "test_loss, test_accuracy = model.evaluate(X_test, y_test)\n",
    "print('Test loss: {0: .4f}. Test accuracy: {1: .2f}%'.format(test_loss, test_accuracy*100))"
   ]
  },
  {
   "cell_type": "code",
   "execution_count": null,
   "id": "f0958382",
   "metadata": {},
   "outputs": [],
   "source": []
  }
 ],
 "metadata": {
  "kernelspec": {
   "display_name": "Python 3 (ipykernel)",
   "language": "python",
   "name": "python3"
  },
  "language_info": {
   "codemirror_mode": {
    "name": "ipython",
    "version": 3
   },
   "file_extension": ".py",
   "mimetype": "text/x-python",
   "name": "python",
   "nbconvert_exporter": "python",
   "pygments_lexer": "ipython3",
   "version": "3.10.9"
  }
 },
 "nbformat": 4,
 "nbformat_minor": 5
}
